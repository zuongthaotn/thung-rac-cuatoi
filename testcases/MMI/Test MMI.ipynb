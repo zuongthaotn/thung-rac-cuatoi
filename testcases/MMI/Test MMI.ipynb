{
 "cells": [
  {
   "cell_type": "code",
   "execution_count": 14,
   "metadata": {},
   "outputs": [],
   "source": [
    "import os\n",
    "import sys\n",
    "import pandas as pd\n",
    "import numpy as np\n",
    "import matplotlib.pyplot as plt\n",
    "\n",
    "METHOD_MODULE_PATH = os.path.abspath('../..')\n",
    "sys.path.insert(1, METHOD_MODULE_PATH)\n",
    "import method.algofuncs as _af"
   ]
  },
  {
   "cell_type": "code",
   "execution_count": 15,
   "metadata": {},
   "outputs": [],
   "source": [
    "DATA_PATH = os.path.abspath('../../vn-stock-data/VNX/')\n",
    "ticker_data = _af.get_pricing_by_path(DATA_PATH + '/' + 'KOS.csv')"
   ]
  },
  {
   "cell_type": "code",
   "execution_count": 16,
   "metadata": {},
   "outputs": [
    {
     "name": "stdout",
     "output_type": "stream",
     "text": [
      "[28.5  28.1  28.2  28.5  28.8  28.6  28.   27.4  27.2  27.2  26.9  27.3\n",
      " 27.2  27.5  28.1  27.9  28.4  28.   27.3  28.1  27.6  27.4  28.2  27.8\n",
      " 27.6  28.3  27.4  27.1  27.2  27.   27.8  28.3  27.8  27.1  27.5  28.2\n",
      " 28.3  28.5  27.7  27.8  28.5  28.8  28.4  28.1  28.6  29.   28.7  28.4\n",
      " 28.2  28.6  29.3  28.8  28.3  28.8  29.3  29.   28.5  28.4  28.6  29.\n",
      " 28.7  28.8  29.1  29.5  29.6  28.9  29.1  29.   29.3  28.5  28.6  28.9\n",
      " 28.8  28.6  29.   29.8  30.2  29.6  30.2  30.8  31.7  31.4  30.7  30.4\n",
      " 30.1  30.8  31.4  31.7  32.   32.7  32.   32.2  32.7  33.3  33.   32.5\n",
      " 32.9  33.65 33.3  32.6  32.9  33.2  33.5  33.9  33.1  32.4  32.   32.5\n",
      " 33.   32.4  31.4  30.8  31.3  32.   31.6  30.5  30.9  30.1  30.3  29.9\n",
      " 30.5  31.   31.2  30.3  29.7  30.1  30.2  29.5  29.8  30.   29.7  30.\n",
      " 30.3  30.   30.2  30.6  30.8  30.6  30.9  30.5  30.6  30.7  30.9  30.3\n",
      " 30.5  30.8  30.4  30.7  30.5  30.8  31.   31.3  31.3  31.5  31.9  31.6\n",
      " 31.7  31.2  30.8  30.5  30.5  30.9  31.4  31.6  32.1  32.   32.6  32.3\n",
      " 32.5  33.   32.6  33.   33.3  33.7  33.6  33.5  33.8  33.9  34.4  34.8\n",
      " 34.5  33.8  33.   32.05 32.2  32.55 32.3  31.45 31.65 30.6  30.7  29.2\n",
      " 28.9  27.75 29.6  30.2  30.2  30.4  30.3  30.3 ]\n"
     ]
    }
   ],
   "source": [
    "if type(ticker_data) is pd.core.frame.DataFrame:\n",
    "    data = np.array(ticker_data[\"Close\"].copy().tail(200))\n",
    "    reversed_price = data[::-1]\n",
    "    print(data)"
   ]
  },
  {
   "cell_type": "code",
   "execution_count": 17,
   "metadata": {},
   "outputs": [
    {
     "name": "stdout",
     "output_type": "stream",
     "text": [
      "[ 0.          0.          0.          0.          0.          0.\n",
      "  0.          0.          0.          0.          0.          0.\n",
      "  0.          0.          0.          0.          0.          0.\n",
      "  0.          0.          0.          0.          0.          0.\n",
      "  0.          0.          0.          0.          0.          0.\n",
      "  0.          0.          0.          0.          0.          0.\n",
      "  0.          0.          0.          0.          0.          0.\n",
      "  0.          0.          0.          0.          0.          0.\n",
      "  0.          0.          0.          0.          0.          0.\n",
      "  0.          0.          0.          0.          0.          0.\n",
      "  0.          0.          0.          0.          0.          0.\n",
      "  0.          0.          0.          0.          0.          0.\n",
      "  0.          0.          0.          0.          0.          0.\n",
      "  0.          0.          0.          0.          0.          0.\n",
      "  0.          0.          0.          0.          0.          0.\n",
      "  0.          0.          0.          0.          0.          0.\n",
      "  0.          0.          0.         57.57575758 56.56565657 57.57575758\n",
      " 58.58585859 60.60606061 60.60606061 59.5959596  57.57575758 56.56565657\n",
      " 57.57575758 57.57575758 57.57575758 57.57575758 57.57575758 56.56565657\n",
      " 56.56565657 56.56565657 55.55555556 55.55555556 55.55555556 55.55555556\n",
      " 51.51515152 52.52525253 52.52525253 51.51515152 50.50505051 49.49494949\n",
      " 50.50505051 51.51515152 51.51515152 51.51515152 52.52525253 52.52525253\n",
      " 51.51515152 52.52525253 52.52525253 53.53535354 54.54545455 54.54545455\n",
      " 52.52525253 53.53535354 53.53535354 53.53535354 51.51515152 52.52525253\n",
      " 52.52525253 52.52525253 54.54545455 53.53535354 54.54545455 54.54545455\n",
      " 54.54545455 54.54545455 55.55555556 56.56565657 56.56565657 56.56565657\n",
      " 54.54545455 55.55555556 55.55555556 50.50505051 51.51515152 51.51515152\n",
      " 52.52525253 53.53535354 53.53535354 54.54545455 53.53535354 54.54545455\n",
      " 51.51515152 52.52525253 53.53535354 52.52525253 50.50505051 51.51515152\n",
      " 51.51515152 51.51515152 49.49494949 50.50505051 51.51515152 49.49494949\n",
      " 50.50505051 49.49494949 48.48484848 47.47474747 47.47474747 47.47474747\n",
      " 47.47474747 46.46464646 46.46464646 47.47474747 48.48484848 47.47474747\n",
      " 46.46464646 47.47474747 49.49494949 48.48484848 47.47474747 48.48484848\n",
      " 48.48484848 49.49494949]\n"
     ]
    }
   ],
   "source": [
    "    print(_af.MMI(data))"
   ]
  },
  {
   "cell_type": "code",
   "execution_count": 18,
   "metadata": {},
   "outputs": [
    {
     "data": {
      "text/plain": [
       "[<matplotlib.lines.Line2D at 0xc704928>]"
      ]
     },
     "execution_count": 18,
     "metadata": {},
     "output_type": "execute_result"
    },
    {
     "data": {
      "image/png": "[encoded data removed]",
      "text/plain": [
       "<Figure size 432x288 with 1 Axes>"
      ]
     },
     "metadata": {
      "needs_background": "light"
     },
     "output_type": "display_data"
    }
   ],
   "source": [
    "    plt.plot(_af.MMI(data), label='MMI by Week')"
   ]
  },
  {
   "cell_type": "code",
   "execution_count": null,
   "metadata": {},
   "outputs": [],
   "source": []
  }
 ],
 "metadata": {
  "kernelspec": {
   "display_name": "Python 3",
   "language": "python",
   "name": "python3"
  },
  "language_info": {
   "codemirror_mode": {
    "name": "ipython",
    "version": 3
   },
   "file_extension": ".py",
   "mimetype": "text/x-python",
   "name": "python",
   "nbconvert_exporter": "python",
   "pygments_lexer": "ipython3",
   "version": "3.8.3"
  }
 },
 "nbformat": 4,
 "nbformat_minor": 4
}
