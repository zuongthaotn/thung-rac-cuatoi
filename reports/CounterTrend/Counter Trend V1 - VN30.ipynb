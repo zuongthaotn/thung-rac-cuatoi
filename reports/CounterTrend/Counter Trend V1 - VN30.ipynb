{
 "cells": [
  {
   "cell_type": "code",
   "execution_count": 5,
   "metadata": {},
   "outputs": [],
   "source": [
    "import warnings\n",
    "warnings.filterwarnings('ignore')\n",
    "\n",
    "import os\n",
    "import sys\n",
    "import numpy as np\n",
    "\n",
    "BACKTESTING_MODULE_PATH = os.path.abspath('../../backtest')\n",
    "sys.path.insert(1, BACKTESTING_MODULE_PATH)\n",
    "from backtesting.backtesting import Backtest, Strategy\n",
    "\n",
    "METHOD_MODULE_PATH = os.path.abspath('../..')\n",
    "sys.path.insert(1, METHOD_MODULE_PATH)\n",
    "import method.Ticker as Ticker\n",
    "import method.SaleRules as _sr\n",
    "import method.algofuncs as _af\n",
    "path = os.getcwd()"
   ]
  },
  {
   "cell_type": "code",
   "execution_count": 6,
   "metadata": {},
   "outputs": [],
   "source": [
    "DATA_PATH = os.path.abspath('../../vn-stock-data/VNX/')\n",
    "vn30_ticker = _af.getListVN30()\n",
    "for ticker_id in vn30_ticker:\n",
    "    ticker_data = _af.get_pricing_by_path(DATA_PATH + '/' + ticker_id+'.csv', '2020-01-01')\n",
    "    if Ticker.isCounterTrendV1(ticker_data):\n",
    "        print(ticker_id)"
   ]
  },
  {
   "cell_type": "code",
   "execution_count": null,
   "metadata": {},
   "outputs": [],
   "source": []
  }
 ],
 "metadata": {
  "kernelspec": {
   "display_name": "Python 3",
   "language": "python",
   "name": "python3"
  },
  "language_info": {
   "codemirror_mode": {
    "name": "ipython",
    "version": 3
   },
   "file_extension": ".py",
   "mimetype": "text/x-python",
   "name": "python",
   "nbconvert_exporter": "python",
   "pygments_lexer": "ipython3",
   "version": "3.8.3"
  }
 },
 "nbformat": 4,
 "nbformat_minor": 4
}
