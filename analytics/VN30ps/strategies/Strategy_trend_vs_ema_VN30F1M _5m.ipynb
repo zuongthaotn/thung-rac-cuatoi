{
 "cells": [
  {
   "cell_type": "markdown",
   "metadata": {
    "id": "Njcjm3QWbnnY"
   },
   "source": [
    "## Import Library"
   ]
  },
  {
   "cell_type": "code",
   "execution_count": 1,
   "metadata": {
    "id": "yte7IRHhbpzT"
   },
   "outputs": [],
   "source": [
    "import warnings\n",
    "warnings.filterwarnings('ignore')\n",
    "import numpy as np\n",
    "import pandas as pd\n",
    "import pandas_ta as ta"
   ]
  },
  {
   "cell_type": "markdown",
   "metadata": {
    "id": "sPXCB164cSPi"
   },
   "source": [
    "## Load Price Data"
   ]
  },
  {
   "cell_type": "code",
   "execution_count": 2,
   "metadata": {
    "id": "797AwYtGiB-V"
   },
   "outputs": [],
   "source": [
    "import os\n",
    "from pathlib import Path\n",
    "notebook_path = os.getcwd()\n",
    "algo_dir = Path(notebook_path).parent.parent\n",
    "csv_file = str(algo_dir) + '/vn-stock-data/VN30ps/VN30F1M_5minutes.csv'\n",
    "is_file = os.path.isfile(csv_file)\n",
    "if is_file:\n",
    "    dataset = pd.read_csv(csv_file, index_col='Date', parse_dates=True)\n",
    "else:\n",
    "    dataset = pd.read_csv(\"https://raw.githubusercontent.com/zuongthaotn/vn-stock-data/main/VN30ps/VN30F1M_5minutes.csv\", index_col='Date', parse_dates=True)"
   ]
  },
  {
   "cell_type": "code",
   "execution_count": 3,
   "metadata": {
    "id": "cjMu1xiFcRai"
   },
   "outputs": [],
   "source": [
    "FAST_EMA_LENGTH = 5\n",
    "LOW_EMA_LENGTH = 20\n",
    "data = dataset.copy()\n",
    "data[\"ema_f\"] = ta.ema(data[\"Close\"], length=FAST_EMA_LENGTH)\n",
    "data[\"ema_f_shift\"] = data[\"ema_f\"].shift(1)\n",
    "data[\"ema_l\"] = ta.ema(data[\"Close\"], length=LOW_EMA_LENGTH)\n",
    "data[\"ema_l_shift\"] = data[\"ema_l\"].shift(1)\n",
    "data[\"ma_line\"] = data[\"Close\"].rolling(20).mean()\n",
    "data['above_ma'] = data.apply(lambda r: 1 if r['Close'] > r['ma_line'] else 0, axis=1)\n",
    "data['below_ma'] = data.apply(lambda r: 1 if r['Close'] < r['ma_line'] else 0, axis=1)\n",
    "data['total_above_ma'] = data['above_ma'].rolling(150).sum()\n",
    "data['total_below_ma'] = data['below_ma'].rolling(150).sum()\n",
    "data['trend'] = data.apply(lambda r: 'switch' if r['total_above_ma'] == r['total_below_ma'] else ('up' if r['total_above_ma'] > r['total_below_ma'] else 'down'), axis=1)"
   ]
  },
  {
   "cell_type": "markdown",
   "metadata": {},
   "source": [
    "## Strategy"
   ]
  },
  {
   "cell_type": "code",
   "execution_count": 4,
   "metadata": {},
   "outputs": [],
   "source": [
    "def trade_simulation(prepared_data):\n",
    "    _trades = pd.DataFrame(columns=(\"EntryTime\", \"EntryPrice\", \"ExitTime\", \"ExitPrice\", \"Type\", \"Profit\"))\n",
    "    has_open_deal = False\n",
    "    type_open_deal = ''\n",
    "    # Stoploss at 20 pips\n",
    "    sl_step = 2\n",
    "    # Takeprofit at 60 pips(R/R = 1/3)\n",
    "    tp_step = 6\n",
    "    for i, row in prepared_data.iterrows():\n",
    "        if 915 < 100*row.name.hour + row.name.minute < 1420:\n",
    "            if has_open_deal:\n",
    "                if type_open_deal == 'short':\n",
    "                    # Stoploss\n",
    "                    if row['High'] > entry_price + sl_step:\n",
    "                        profit = -2\n",
    "                        exit_price = entry_price + sl_step\n",
    "                        exit_time = row.name\n",
    "                        _trades.loc[len(_trades)] = [entry_time, entry_price, exit_time, exit_price, \"Short\", profit]\n",
    "                        has_open_deal = False\n",
    "                        type_open_deal = ''\n",
    "                    else:\n",
    "                        # Takeprofit\n",
    "                        if row['Low'] < entry_price - tp_step:\n",
    "                            profit = 6\n",
    "                            exit_price = entry_price - tp_step\n",
    "                            exit_time = row.name\n",
    "                            _trades.loc[len(_trades)] = [entry_time, entry_price, exit_time, exit_price, \"Short\", profit]\n",
    "                            has_open_deal = False\n",
    "                            type_open_deal = ''\n",
    "                elif type_open_deal == 'long':\n",
    "                    # Stoploss\n",
    "                    if row['Low'] < entry_price - sl_step:\n",
    "                        profit = -2\n",
    "                        exit_price = entry_price - sl_step\n",
    "                        exit_time = row.name\n",
    "                        _trades.loc[len(_trades)] = [entry_time, entry_price, exit_time, exit_price, \"Long\", profit]\n",
    "                        has_open_deal = False\n",
    "                        type_open_deal = ''\n",
    "                    else:\n",
    "                        # Takeprofit\n",
    "                        if row['High'] > entry_price + tp_step:\n",
    "                            profit = 6\n",
    "                            exit_price = entry_price + tp_step\n",
    "                            exit_time = row.name\n",
    "                            _trades.loc[len(_trades)] = [entry_time, entry_price, exit_time, exit_price, \"Long\", profit]\n",
    "                            has_open_deal = False\n",
    "                            type_open_deal = ''\n",
    "                        #\n",
    "            if not has_open_deal:\n",
    "                if row['signal'] == 'short':\n",
    "                    # Open short deal\n",
    "                    entry_price = row['Close']\n",
    "                    entry_time = row.name\n",
    "                    has_open_deal = True\n",
    "                    type_open_deal = 'short'\n",
    "                elif row['signal'] == 'long':\n",
    "                    # Open short deal\n",
    "                    entry_price = row['Close']\n",
    "                    entry_time = row.name\n",
    "                    has_open_deal = True\n",
    "                    type_open_deal = 'long'\n",
    "        else:\n",
    "            if 100*row.name.hour + row.name.minute == 1425:\n",
    "                if has_open_deal:\n",
    "                    # close open deal at 2:25PM (dataframe)\n",
    "                    if type_open_deal == 'short':\n",
    "                        profit = entry_price - row['Close']\n",
    "                        if profit < -2:\n",
    "                            profit = -2\n",
    "                        exit_price = row['Close']\n",
    "                        exit_time = row.name\n",
    "                        has_open_deal = False\n",
    "                        type_open_deal = ''\n",
    "                        _trades.loc[len(_trades)] = [entry_time, entry_price, exit_time, exit_price, \"Short\", profit]\n",
    "                    elif type_open_deal == 'long':\n",
    "                        profit = row['Close'] - entry_price\n",
    "                        if profit < -2:\n",
    "                            profit = -2\n",
    "                        exit_price = row['Close']\n",
    "                        exit_time = row.name\n",
    "                        has_open_deal = False\n",
    "                        type_open_deal = ''\n",
    "                        _trades.loc[len(_trades)] = [entry_time, entry_price, exit_time, exit_price, \"Long\", profit]\n",
    "    return _trades"
   ]
  },
  {
   "cell_type": "code",
   "execution_count": 5,
   "metadata": {},
   "outputs": [],
   "source": [
    "def cal_signal_01(row):\n",
    "    signal = ''\n",
    "    if row['trend'] == 'up' and row['ema_f_shift'] < row['ema_l_shift'] and row['ema_f'] > row['ema_l']:\n",
    "        signal = 'long'\n",
    "    elif row['trend'] == 'down' and row['ema_f_shift'] > row['ema_l_shift'] and row['ema_f'] < row['ema_l']:\n",
    "        signal = 'short'\n",
    "    return signal\n",
    "data['signal'] = data.apply(lambda r: cal_signal_01(r), axis=1)"
   ]
  },
  {
   "cell_type": "code",
   "execution_count": 6,
   "metadata": {},
   "outputs": [
    {
     "data": {
      "text/html": [
       "<div>\n",
       "<style scoped>\n",
       "    .dataframe tbody tr th:only-of-type {\n",
       "        vertical-align: middle;\n",
       "    }\n",
       "\n",
       "    .dataframe tbody tr th {\n",
       "        vertical-align: top;\n",
       "    }\n",
       "\n",
       "    .dataframe thead th {\n",
       "        text-align: right;\n",
       "    }\n",
       "</style>\n",
       "<table border=\"1\" class=\"dataframe\">\n",
       "  <thead>\n",
       "    <tr style=\"text-align: right;\">\n",
       "      <th></th>\n",
       "      <th>Open</th>\n",
       "      <th>High</th>\n",
       "      <th>Low</th>\n",
       "      <th>Close</th>\n",
       "      <th>Volume</th>\n",
       "      <th>ema_f</th>\n",
       "      <th>ema_f_shift</th>\n",
       "      <th>ema_l</th>\n",
       "      <th>ema_l_shift</th>\n",
       "      <th>ma_line</th>\n",
       "      <th>above_ma</th>\n",
       "      <th>below_ma</th>\n",
       "      <th>total_above_ma</th>\n",
       "      <th>total_below_ma</th>\n",
       "      <th>trend</th>\n",
       "      <th>signal</th>\n",
       "    </tr>\n",
       "    <tr>\n",
       "      <th>Date</th>\n",
       "      <th></th>\n",
       "      <th></th>\n",
       "      <th></th>\n",
       "      <th></th>\n",
       "      <th></th>\n",
       "      <th></th>\n",
       "      <th></th>\n",
       "      <th></th>\n",
       "      <th></th>\n",
       "      <th></th>\n",
       "      <th></th>\n",
       "      <th></th>\n",
       "      <th></th>\n",
       "      <th></th>\n",
       "      <th></th>\n",
       "      <th></th>\n",
       "    </tr>\n",
       "  </thead>\n",
       "  <tbody>\n",
       "    <tr>\n",
       "      <th>2018-08-13 10:40:00</th>\n",
       "      <td>944.9</td>\n",
       "      <td>945.0</td>\n",
       "      <td>943.7</td>\n",
       "      <td>943.7</td>\n",
       "      <td>936</td>\n",
       "      <td>944.198319</td>\n",
       "      <td>944.447479</td>\n",
       "      <td>944.319762</td>\n",
       "      <td>944.385000</td>\n",
       "      <td>944.415</td>\n",
       "      <td>0</td>\n",
       "      <td>1</td>\n",
       "      <td>NaN</td>\n",
       "      <td>NaN</td>\n",
       "      <td>down</td>\n",
       "      <td>short</td>\n",
       "    </tr>\n",
       "    <tr>\n",
       "      <th>2018-08-14 10:40:00</th>\n",
       "      <td>953.4</td>\n",
       "      <td>953.7</td>\n",
       "      <td>952.6</td>\n",
       "      <td>952.9</td>\n",
       "      <td>2550</td>\n",
       "      <td>954.366846</td>\n",
       "      <td>955.100268</td>\n",
       "      <td>954.747418</td>\n",
       "      <td>954.941883</td>\n",
       "      <td>955.690</td>\n",
       "      <td>0</td>\n",
       "      <td>1</td>\n",
       "      <td>NaN</td>\n",
       "      <td>NaN</td>\n",
       "      <td>down</td>\n",
       "      <td>short</td>\n",
       "    </tr>\n",
       "    <tr>\n",
       "      <th>2018-08-15 10:50:00</th>\n",
       "      <td>959.6</td>\n",
       "      <td>959.6</td>\n",
       "      <td>957.5</td>\n",
       "      <td>958.0</td>\n",
       "      <td>3980</td>\n",
       "      <td>959.769269</td>\n",
       "      <td>960.653904</td>\n",
       "      <td>960.130532</td>\n",
       "      <td>960.354798</td>\n",
       "      <td>960.385</td>\n",
       "      <td>0</td>\n",
       "      <td>1</td>\n",
       "      <td>NaN</td>\n",
       "      <td>NaN</td>\n",
       "      <td>down</td>\n",
       "      <td>short</td>\n",
       "    </tr>\n",
       "    <tr>\n",
       "      <th>2018-08-15 14:05:00</th>\n",
       "      <td>957.8</td>\n",
       "      <td>957.8</td>\n",
       "      <td>956.0</td>\n",
       "      <td>956.2</td>\n",
       "      <td>2322</td>\n",
       "      <td>957.384640</td>\n",
       "      <td>957.976960</td>\n",
       "      <td>957.497697</td>\n",
       "      <td>957.634297</td>\n",
       "      <td>957.045</td>\n",
       "      <td>0</td>\n",
       "      <td>1</td>\n",
       "      <td>NaN</td>\n",
       "      <td>NaN</td>\n",
       "      <td>down</td>\n",
       "      <td>short</td>\n",
       "    </tr>\n",
       "    <tr>\n",
       "      <th>2018-08-17 10:45:00</th>\n",
       "      <td>949.7</td>\n",
       "      <td>950.6</td>\n",
       "      <td>948.6</td>\n",
       "      <td>950.3</td>\n",
       "      <td>1984</td>\n",
       "      <td>950.745237</td>\n",
       "      <td>950.967856</td>\n",
       "      <td>950.757626</td>\n",
       "      <td>950.805797</td>\n",
       "      <td>952.105</td>\n",
       "      <td>0</td>\n",
       "      <td>1</td>\n",
       "      <td>71.0</td>\n",
       "      <td>79.0</td>\n",
       "      <td>down</td>\n",
       "      <td>short</td>\n",
       "    </tr>\n",
       "    <tr>\n",
       "      <th>...</th>\n",
       "      <td>...</td>\n",
       "      <td>...</td>\n",
       "      <td>...</td>\n",
       "      <td>...</td>\n",
       "      <td>...</td>\n",
       "      <td>...</td>\n",
       "      <td>...</td>\n",
       "      <td>...</td>\n",
       "      <td>...</td>\n",
       "      <td>...</td>\n",
       "      <td>...</td>\n",
       "      <td>...</td>\n",
       "      <td>...</td>\n",
       "      <td>...</td>\n",
       "      <td>...</td>\n",
       "      <td>...</td>\n",
       "    </tr>\n",
       "    <tr>\n",
       "      <th>2024-06-25 13:55:00</th>\n",
       "      <td>1289.7</td>\n",
       "      <td>1289.8</td>\n",
       "      <td>1287.1</td>\n",
       "      <td>1287.9</td>\n",
       "      <td>4672</td>\n",
       "      <td>1289.534852</td>\n",
       "      <td>1290.352279</td>\n",
       "      <td>1289.592649</td>\n",
       "      <td>1289.770822</td>\n",
       "      <td>1289.080</td>\n",
       "      <td>0</td>\n",
       "      <td>1</td>\n",
       "      <td>43.0</td>\n",
       "      <td>107.0</td>\n",
       "      <td>down</td>\n",
       "      <td>short</td>\n",
       "    </tr>\n",
       "    <tr>\n",
       "      <th>2024-06-26 10:05:00</th>\n",
       "      <td>1288.9</td>\n",
       "      <td>1289.0</td>\n",
       "      <td>1288.0</td>\n",
       "      <td>1288.3</td>\n",
       "      <td>4135</td>\n",
       "      <td>1289.266968</td>\n",
       "      <td>1289.750452</td>\n",
       "      <td>1289.331357</td>\n",
       "      <td>1289.439921</td>\n",
       "      <td>1288.715</td>\n",
       "      <td>0</td>\n",
       "      <td>1</td>\n",
       "      <td>53.0</td>\n",
       "      <td>97.0</td>\n",
       "      <td>down</td>\n",
       "      <td>short</td>\n",
       "    </tr>\n",
       "    <tr>\n",
       "      <th>2024-06-27 09:30:00</th>\n",
       "      <td>1284.4</td>\n",
       "      <td>1284.4</td>\n",
       "      <td>1282.2</td>\n",
       "      <td>1282.8</td>\n",
       "      <td>5752</td>\n",
       "      <td>1284.432196</td>\n",
       "      <td>1285.248295</td>\n",
       "      <td>1284.809807</td>\n",
       "      <td>1285.021366</td>\n",
       "      <td>1284.960</td>\n",
       "      <td>0</td>\n",
       "      <td>1</td>\n",
       "      <td>50.0</td>\n",
       "      <td>100.0</td>\n",
       "      <td>down</td>\n",
       "      <td>short</td>\n",
       "    </tr>\n",
       "    <tr>\n",
       "      <th>2024-06-27 10:30:00</th>\n",
       "      <td>1283.7</td>\n",
       "      <td>1284.2</td>\n",
       "      <td>1283.1</td>\n",
       "      <td>1283.4</td>\n",
       "      <td>2577</td>\n",
       "      <td>1284.138441</td>\n",
       "      <td>1284.507662</td>\n",
       "      <td>1284.390251</td>\n",
       "      <td>1284.494488</td>\n",
       "      <td>1284.600</td>\n",
       "      <td>0</td>\n",
       "      <td>1</td>\n",
       "      <td>52.0</td>\n",
       "      <td>98.0</td>\n",
       "      <td>down</td>\n",
       "      <td>short</td>\n",
       "    </tr>\n",
       "    <tr>\n",
       "      <th>2024-06-28 14:20:00</th>\n",
       "      <td>1285.6</td>\n",
       "      <td>1286.2</td>\n",
       "      <td>1276.6</td>\n",
       "      <td>1276.9</td>\n",
       "      <td>20368</td>\n",
       "      <td>1283.005464</td>\n",
       "      <td>1286.058195</td>\n",
       "      <td>1285.118866</td>\n",
       "      <td>1285.984009</td>\n",
       "      <td>1285.375</td>\n",
       "      <td>0</td>\n",
       "      <td>1</td>\n",
       "      <td>65.0</td>\n",
       "      <td>85.0</td>\n",
       "      <td>down</td>\n",
       "      <td>short</td>\n",
       "    </tr>\n",
       "  </tbody>\n",
       "</table>\n",
       "<p>1825 rows × 16 columns</p>\n",
       "</div>"
      ],
      "text/plain": [
       "                       Open    High     Low   Close  Volume        ema_f  \\\n",
       "Date                                                                       \n",
       "2018-08-13 10:40:00   944.9   945.0   943.7   943.7     936   944.198319   \n",
       "2018-08-14 10:40:00   953.4   953.7   952.6   952.9    2550   954.366846   \n",
       "2018-08-15 10:50:00   959.6   959.6   957.5   958.0    3980   959.769269   \n",
       "2018-08-15 14:05:00   957.8   957.8   956.0   956.2    2322   957.384640   \n",
       "2018-08-17 10:45:00   949.7   950.6   948.6   950.3    1984   950.745237   \n",
       "...                     ...     ...     ...     ...     ...          ...   \n",
       "2024-06-25 13:55:00  1289.7  1289.8  1287.1  1287.9    4672  1289.534852   \n",
       "2024-06-26 10:05:00  1288.9  1289.0  1288.0  1288.3    4135  1289.266968   \n",
       "2024-06-27 09:30:00  1284.4  1284.4  1282.2  1282.8    5752  1284.432196   \n",
       "2024-06-27 10:30:00  1283.7  1284.2  1283.1  1283.4    2577  1284.138441   \n",
       "2024-06-28 14:20:00  1285.6  1286.2  1276.6  1276.9   20368  1283.005464   \n",
       "\n",
       "                     ema_f_shift        ema_l  ema_l_shift   ma_line  \\\n",
       "Date                                                                   \n",
       "2018-08-13 10:40:00   944.447479   944.319762   944.385000   944.415   \n",
       "2018-08-14 10:40:00   955.100268   954.747418   954.941883   955.690   \n",
       "2018-08-15 10:50:00   960.653904   960.130532   960.354798   960.385   \n",
       "2018-08-15 14:05:00   957.976960   957.497697   957.634297   957.045   \n",
       "2018-08-17 10:45:00   950.967856   950.757626   950.805797   952.105   \n",
       "...                          ...          ...          ...       ...   \n",
       "2024-06-25 13:55:00  1290.352279  1289.592649  1289.770822  1289.080   \n",
       "2024-06-26 10:05:00  1289.750452  1289.331357  1289.439921  1288.715   \n",
       "2024-06-27 09:30:00  1285.248295  1284.809807  1285.021366  1284.960   \n",
       "2024-06-27 10:30:00  1284.507662  1284.390251  1284.494488  1284.600   \n",
       "2024-06-28 14:20:00  1286.058195  1285.118866  1285.984009  1285.375   \n",
       "\n",
       "                     above_ma  below_ma  total_above_ma  total_below_ma trend  \\\n",
       "Date                                                                            \n",
       "2018-08-13 10:40:00         0         1             NaN             NaN  down   \n",
       "2018-08-14 10:40:00         0         1             NaN             NaN  down   \n",
       "2018-08-15 10:50:00         0         1             NaN             NaN  down   \n",
       "2018-08-15 14:05:00         0         1             NaN             NaN  down   \n",
       "2018-08-17 10:45:00         0         1            71.0            79.0  down   \n",
       "...                       ...       ...             ...             ...   ...   \n",
       "2024-06-25 13:55:00         0         1            43.0           107.0  down   \n",
       "2024-06-26 10:05:00         0         1            53.0            97.0  down   \n",
       "2024-06-27 09:30:00         0         1            50.0           100.0  down   \n",
       "2024-06-27 10:30:00         0         1            52.0            98.0  down   \n",
       "2024-06-28 14:20:00         0         1            65.0            85.0  down   \n",
       "\n",
       "                    signal  \n",
       "Date                        \n",
       "2018-08-13 10:40:00  short  \n",
       "2018-08-14 10:40:00  short  \n",
       "2018-08-15 10:50:00  short  \n",
       "2018-08-15 14:05:00  short  \n",
       "2018-08-17 10:45:00  short  \n",
       "...                    ...  \n",
       "2024-06-25 13:55:00  short  \n",
       "2024-06-26 10:05:00  short  \n",
       "2024-06-27 09:30:00  short  \n",
       "2024-06-27 10:30:00  short  \n",
       "2024-06-28 14:20:00  short  \n",
       "\n",
       "[1825 rows x 16 columns]"
      ]
     },
     "execution_count": 6,
     "metadata": {},
     "output_type": "execute_result"
    }
   ],
   "source": [
    "data[data.signal != '']"
   ]
  },
  {
   "cell_type": "code",
   "execution_count": 7,
   "metadata": {},
   "outputs": [],
   "source": [
    "trade02_result = trade_simulation(data)"
   ]
  },
  {
   "cell_type": "code",
   "execution_count": 8,
   "metadata": {},
   "outputs": [
    {
     "data": {
      "text/plain": [
       "252.90000000000066"
      ]
     },
     "execution_count": 8,
     "metadata": {},
     "output_type": "execute_result"
    }
   ],
   "source": [
    "trade02_result.Profit.sum()"
   ]
  },
  {
   "cell_type": "code",
   "execution_count": 9,
   "metadata": {},
   "outputs": [
    {
     "data": {
      "text/html": [
       "<div>\n",
       "<style scoped>\n",
       "    .dataframe tbody tr th:only-of-type {\n",
       "        vertical-align: middle;\n",
       "    }\n",
       "\n",
       "    .dataframe tbody tr th {\n",
       "        vertical-align: top;\n",
       "    }\n",
       "\n",
       "    .dataframe thead th {\n",
       "        text-align: right;\n",
       "    }\n",
       "</style>\n",
       "<table border=\"1\" class=\"dataframe\">\n",
       "  <thead>\n",
       "    <tr style=\"text-align: right;\">\n",
       "      <th></th>\n",
       "      <th>EntryTime</th>\n",
       "      <th>EntryPrice</th>\n",
       "      <th>ExitTime</th>\n",
       "      <th>ExitPrice</th>\n",
       "      <th>Type</th>\n",
       "      <th>Profit</th>\n",
       "    </tr>\n",
       "  </thead>\n",
       "  <tbody>\n",
       "    <tr>\n",
       "      <th>0</th>\n",
       "      <td>2018-08-13 10:40:00</td>\n",
       "      <td>943.7</td>\n",
       "      <td>2018-08-13 11:10:00</td>\n",
       "      <td>945.7</td>\n",
       "      <td>Short</td>\n",
       "      <td>-2.0</td>\n",
       "    </tr>\n",
       "    <tr>\n",
       "      <th>1</th>\n",
       "      <td>2018-08-14 10:40:00</td>\n",
       "      <td>952.9</td>\n",
       "      <td>2018-08-14 11:25:00</td>\n",
       "      <td>954.9</td>\n",
       "      <td>Short</td>\n",
       "      <td>-2.0</td>\n",
       "    </tr>\n",
       "    <tr>\n",
       "      <th>2</th>\n",
       "      <td>2018-08-15 10:50:00</td>\n",
       "      <td>958.0</td>\n",
       "      <td>2018-08-15 14:15:00</td>\n",
       "      <td>952.0</td>\n",
       "      <td>Short</td>\n",
       "      <td>6.0</td>\n",
       "    </tr>\n",
       "    <tr>\n",
       "      <th>3</th>\n",
       "      <td>2018-08-17 10:45:00</td>\n",
       "      <td>950.3</td>\n",
       "      <td>2018-08-17 11:05:00</td>\n",
       "      <td>952.3</td>\n",
       "      <td>Short</td>\n",
       "      <td>-2.0</td>\n",
       "    </tr>\n",
       "    <tr>\n",
       "      <th>4</th>\n",
       "      <td>2018-08-17 13:30:00</td>\n",
       "      <td>950.3</td>\n",
       "      <td>2018-08-17 14:25:00</td>\n",
       "      <td>947.0</td>\n",
       "      <td>Short</td>\n",
       "      <td>3.3</td>\n",
       "    </tr>\n",
       "    <tr>\n",
       "      <th>...</th>\n",
       "      <td>...</td>\n",
       "      <td>...</td>\n",
       "      <td>...</td>\n",
       "      <td>...</td>\n",
       "      <td>...</td>\n",
       "      <td>...</td>\n",
       "    </tr>\n",
       "    <tr>\n",
       "      <th>1302</th>\n",
       "      <td>2024-06-21 13:15:00</td>\n",
       "      <td>1316.8</td>\n",
       "      <td>2024-06-21 13:40:00</td>\n",
       "      <td>1318.8</td>\n",
       "      <td>Short</td>\n",
       "      <td>-2.0</td>\n",
       "    </tr>\n",
       "    <tr>\n",
       "      <th>1303</th>\n",
       "      <td>2024-06-25 13:55:00</td>\n",
       "      <td>1287.9</td>\n",
       "      <td>2024-06-25 14:00:00</td>\n",
       "      <td>1289.9</td>\n",
       "      <td>Short</td>\n",
       "      <td>-2.0</td>\n",
       "    </tr>\n",
       "    <tr>\n",
       "      <th>1304</th>\n",
       "      <td>2024-06-26 10:05:00</td>\n",
       "      <td>1288.3</td>\n",
       "      <td>2024-06-26 10:55:00</td>\n",
       "      <td>1282.3</td>\n",
       "      <td>Short</td>\n",
       "      <td>6.0</td>\n",
       "    </tr>\n",
       "    <tr>\n",
       "      <th>1305</th>\n",
       "      <td>2024-06-27 09:30:00</td>\n",
       "      <td>1282.8</td>\n",
       "      <td>2024-06-27 10:05:00</td>\n",
       "      <td>1284.8</td>\n",
       "      <td>Short</td>\n",
       "      <td>-2.0</td>\n",
       "    </tr>\n",
       "    <tr>\n",
       "      <th>1306</th>\n",
       "      <td>2024-06-27 10:30:00</td>\n",
       "      <td>1283.4</td>\n",
       "      <td>2024-06-27 13:15:00</td>\n",
       "      <td>1285.4</td>\n",
       "      <td>Short</td>\n",
       "      <td>-2.0</td>\n",
       "    </tr>\n",
       "  </tbody>\n",
       "</table>\n",
       "<p>1307 rows × 6 columns</p>\n",
       "</div>"
      ],
      "text/plain": [
       "               EntryTime  EntryPrice            ExitTime  ExitPrice   Type  \\\n",
       "0    2018-08-13 10:40:00       943.7 2018-08-13 11:10:00      945.7  Short   \n",
       "1    2018-08-14 10:40:00       952.9 2018-08-14 11:25:00      954.9  Short   \n",
       "2    2018-08-15 10:50:00       958.0 2018-08-15 14:15:00      952.0  Short   \n",
       "3    2018-08-17 10:45:00       950.3 2018-08-17 11:05:00      952.3  Short   \n",
       "4    2018-08-17 13:30:00       950.3 2018-08-17 14:25:00      947.0  Short   \n",
       "...                  ...         ...                 ...        ...    ...   \n",
       "1302 2024-06-21 13:15:00      1316.8 2024-06-21 13:40:00     1318.8  Short   \n",
       "1303 2024-06-25 13:55:00      1287.9 2024-06-25 14:00:00     1289.9  Short   \n",
       "1304 2024-06-26 10:05:00      1288.3 2024-06-26 10:55:00     1282.3  Short   \n",
       "1305 2024-06-27 09:30:00      1282.8 2024-06-27 10:05:00     1284.8  Short   \n",
       "1306 2024-06-27 10:30:00      1283.4 2024-06-27 13:15:00     1285.4  Short   \n",
       "\n",
       "      Profit  \n",
       "0       -2.0  \n",
       "1       -2.0  \n",
       "2        6.0  \n",
       "3       -2.0  \n",
       "4        3.3  \n",
       "...      ...  \n",
       "1302    -2.0  \n",
       "1303    -2.0  \n",
       "1304     6.0  \n",
       "1305    -2.0  \n",
       "1306    -2.0  \n",
       "\n",
       "[1307 rows x 6 columns]"
      ]
     },
     "execution_count": 9,
     "metadata": {},
     "output_type": "execute_result"
    }
   ],
   "source": [
    "trade02_result"
   ]
  },
  {
   "cell_type": "code",
   "execution_count": 10,
   "metadata": {},
   "outputs": [
    {
     "data": {
      "text/plain": [
       "0.3287143956889915"
      ]
     },
     "execution_count": 10,
     "metadata": {},
     "output_type": "execute_result"
    }
   ],
   "source": [
    "# win rate\n",
    "len(trade02_result[trade02_result.Profit > 0]) / (len(trade02_result[trade02_result.Profit < 0]) + len(trade02_result[trade02_result.Profit > 0]))"
   ]
  },
  {
   "cell_type": "code",
   "execution_count": 11,
   "metadata": {},
   "outputs": [
    {
     "data": {
      "text/plain": [
       "-7.400000000000091"
      ]
     },
     "execution_count": 11,
     "metadata": {},
     "output_type": "execute_result"
    }
   ],
   "source": [
    "this_month = trade02_result[(trade02_result.EntryTime > '2024-06-01 00:00:00') & (trade02_result.EntryTime < '2024-06-30 15:00:00')]\n",
    "this_month.Profit.sum()"
   ]
  },
  {
   "cell_type": "code",
   "execution_count": 12,
   "metadata": {},
   "outputs": [
    {
     "data": {
      "text/plain": [
       "11.900000000000091"
      ]
     },
     "execution_count": 12,
     "metadata": {},
     "output_type": "execute_result"
    }
   ],
   "source": [
    "this_year = trade02_result[(trade02_result.EntryTime > '2024-01-01 00:00:00') & (trade02_result.EntryTime < '2024-06-30 15:00:00')]\n",
    "this_year.Profit.sum()"
   ]
  },
  {
   "cell_type": "code",
   "execution_count": 13,
   "metadata": {},
   "outputs": [
    {
     "data": {
      "text/plain": [
       "11.599999999999909"
      ]
     },
     "execution_count": 13,
     "metadata": {},
     "output_type": "execute_result"
    }
   ],
   "source": [
    "trade02_result.Profit.max()"
   ]
  },
  {
   "cell_type": "code",
   "execution_count": 14,
   "metadata": {},
   "outputs": [
    {
     "data": {
      "text/plain": [
       "-2.0"
      ]
     },
     "execution_count": 14,
     "metadata": {},
     "output_type": "execute_result"
    }
   ],
   "source": [
    "trade02_result.Profit.min()"
   ]
  },
  {
   "cell_type": "code",
   "execution_count": 15,
   "metadata": {},
   "outputs": [
    {
     "data": {
      "text/plain": [
       "0.19349655700076562"
      ]
     },
     "execution_count": 15,
     "metadata": {},
     "output_type": "execute_result"
    }
   ],
   "source": [
    "trade02_result.Profit.mean()"
   ]
  },
  {
   "cell_type": "code",
   "execution_count": 18,
   "metadata": {},
   "outputs": [
    {
     "data": {
      "text/plain": [
       "-1.300000000000182"
      ]
     },
     "execution_count": 18,
     "metadata": {},
     "output_type": "execute_result"
    }
   ],
   "source": [
    "from datetime import date\n",
    "from datetime import timedelta\n",
    "from datetime import datetime\n",
    "last_expire_date = date.today() - timedelta(days=90)\n",
    "last_expire_date = last_expire_date.strftime(\"%Y-%m-%d 00:00:00\")\n",
    "_last_3months = trade02_result[trade02_result.EntryTime > last_expire_date]\n",
    "_last_3months.Profit.sum()"
   ]
  },
  {
   "cell_type": "code",
   "execution_count": null,
   "metadata": {},
   "outputs": [],
   "source": []
  }
 ],
 "metadata": {
  "colab": {
   "provenance": [
    {
     "file_id": "18pUnIuHY_OtOIianWy2sxcplyNdjKkI8",
     "timestamp": 1705312236172
    }
   ]
  },
  "kernelspec": {
   "display_name": "Python 3 (ipykernel)",
   "language": "python",
   "name": "python3"
  },
  "language_info": {
   "codemirror_mode": {
    "name": "ipython",
    "version": 3
   },
   "file_extension": ".py",
   "mimetype": "text/x-python",
   "name": "python",
   "nbconvert_exporter": "python",
   "pygments_lexer": "ipython3",
   "version": "3.10.12"
  }
 },
 "nbformat": 4,
 "nbformat_minor": 4
}
