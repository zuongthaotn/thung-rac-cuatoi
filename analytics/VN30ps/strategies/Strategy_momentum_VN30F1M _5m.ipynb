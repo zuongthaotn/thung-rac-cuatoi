{
 "cells": [
  {
   "cell_type": "markdown",
   "metadata": {
    "id": "Njcjm3QWbnnY"
   },
   "source": [
    "## Import Library"
   ]
  },
  {
   "cell_type": "code",
   "execution_count": 2,
   "metadata": {
    "id": "yte7IRHhbpzT"
   },
   "outputs": [],
   "source": [
    "import numpy as np\n",
    "import pandas as pd\n",
    "import warnings\n",
    "warnings.filterwarnings('ignore')"
   ]
  },
  {
   "cell_type": "markdown",
   "metadata": {
    "id": "sPXCB164cSPi"
   },
   "source": [
    "## Load Price Data"
   ]
  },
  {
   "cell_type": "code",
   "execution_count": 3,
   "metadata": {
    "id": "797AwYtGiB-V"
   },
   "outputs": [],
   "source": [
    "import os\n",
    "from pathlib import Path\n",
    "notebook_path = os.getcwd()\n",
    "algo_dir = Path(notebook_path).parent.parent\n",
    "csv_file = str(algo_dir) + '/vn-stock-data/VN30ps/VN30F1M_5minutes.csv'\n",
    "is_file = os.path.isfile(csv_file)\n",
    "if is_file:\n",
    "    raw_data = pd.read_csv(csv_file, index_col='Date', parse_dates=True)\n",
    "else:\n",
    "    raw_data = pd.read_csv(\"https://raw.githubusercontent.com/zuongthaotn/vn-stock-data/main/VN30ps/VN30F1M_5minutes.csv\", index_col='Date', parse_dates=True)\n",
    "raw_data.tail(10)\n",
    "ticker_data = raw_data[[\"Open\", \"Close\", \"Low\", \"High\", \"Volume\"]]\n",
    "ticker_data.columns = [\"open\", \"close\", \"low\", \"high\", \"volume\"]"
   ]
  },
  {
   "cell_type": "code",
   "execution_count": 4,
   "metadata": {
    "id": "cjMu1xiFcRai"
   },
   "outputs": [],
   "source": [
    "#@title Raw Price\n",
    "def cal_first_close(tick):\n",
    "  if not tick.empty:\n",
    "    return tick[0]\n",
    "\n",
    "\n",
    "def cal_high(tick):\n",
    "  tick = tick[100*tick.index.hour+tick.index.minute > 925]\n",
    "  tick = tick[100*tick.index.hour+tick.index.minute < 1355]\n",
    "  return tick.max()\n",
    "\n",
    "\n",
    "def cal_low(tick):\n",
    "  tick = tick[100*tick.index.hour+tick.index.minute > 925]\n",
    "  tick = tick[100*tick.index.hour+tick.index.minute < 1355]\n",
    "  return tick.min()\n",
    "\n",
    "\n",
    "def cal_price(tick):\n",
    "  tick = tick[100*tick.index.hour+tick.index.minute == 1355]\n",
    "  if not tick.empty:\n",
    "    return tick[0]\n",
    "\n",
    "def cal_close(tick):\n",
    "  tick = tick[100*tick.index.hour+tick.index.minute == 1425]\n",
    "  if not tick.empty:\n",
    "    return tick[0]\n",
    "\n",
    "price = ticker_data\n",
    "price['first_close'] = price.close\n",
    "price['price'] = price.close\n",
    "price = price.resample(\"D\").agg({\n",
    "    'first_close': cal_first_close,\n",
    "    'high':cal_high,\n",
    "    'low': cal_low,\n",
    "    'price': cal_price,\n",
    "    'close': cal_close\n",
    "    })\n",
    "raw = price.dropna()"
   ]
  },
  {
   "cell_type": "code",
   "execution_count": 5,
   "metadata": {
    "colab": {
     "base_uri": "https://localhost:8080/",
     "height": 394
    },
    "executionInfo": {
     "elapsed": 16,
     "status": "ok",
     "timestamp": 1705332319347,
     "user": {
      "displayName": "Damda Thao",
      "userId": "14361998917494708026"
     },
     "user_tz": -420
    },
    "id": "7mqBIFb6ZlQt",
    "outputId": "e9bd1e09-26e6-4989-b31a-c490b130f974"
   },
   "outputs": [],
   "source": [
    "price = raw.copy()\n",
    "price['percent'] = 100 * (price.price - price.close.shift(1)) / price.close.shift(1)\n",
    "price['returns'] = (price.price - price.first_close) / (price.high - price.low)\n",
    "price['return'] = 1000 * (price.close - price.price) / price.price"
   ]
  },
  {
   "cell_type": "code",
   "execution_count": 6,
   "metadata": {
    "id": "7A-2DRDweEn_"
   },
   "outputs": [],
   "source": [
    "price['percent_group'] = pd.qcut(price.percent, 30)\n",
    "price['returns_group'] = pd.qcut(price.returns, 30)\n",
    "price['momentum'] = price.percent + price.returns"
   ]
  },
  {
   "cell_type": "markdown",
   "metadata": {},
   "source": [
    "## Strategy"
   ]
  },
  {
   "cell_type": "code",
   "execution_count": 7,
   "metadata": {},
   "outputs": [],
   "source": [
    "def trade_simulation(prepared_data):\n",
    "    _trades = pd.DataFrame(columns=(\"EntryTime\", \"EntryPrice\", \"ExitTime\", \"ExitPrice\", \"Type\", \"Profit\"))\n",
    "    has_open_deal = False\n",
    "    type_open_deal = ''\n",
    "    # Stoploss at 20 pips\n",
    "    sl_step = 3\n",
    "    # Takeprofit at 60 pips(R/R = 1/3)\n",
    "    tp_step = 6\n",
    "    for i, row in prepared_data.iterrows():\n",
    "        if 100*row.name.hour + row.name.minute == 1355:\n",
    "            if row['signal'] == 'short':\n",
    "                # Open short deal\n",
    "                entry_price = row['Close']\n",
    "                entry_time = row.name\n",
    "                has_open_deal = True\n",
    "                type_open_deal = 'short'\n",
    "            elif row['signal'] == 'long':\n",
    "                # Open short deal\n",
    "                entry_price = row['Close']\n",
    "                entry_time = row.name\n",
    "                has_open_deal = True\n",
    "                type_open_deal = 'long'\n",
    "        else:\n",
    "            if 1400 < 100*row.name.hour + row.name.minute < 1425:\n",
    "                if has_open_deal:\n",
    "                    if type_open_deal == 'short':\n",
    "                        # Stoploss\n",
    "                        if row['High'] > entry_price + sl_step:\n",
    "                            profit = -sl_step\n",
    "                            exit_price = entry_price + sl_step\n",
    "                            exit_time = row.name\n",
    "                            _trades.loc[len(_trades)] = [entry_time, entry_price, exit_time, exit_price, \"Short\", profit]\n",
    "                            has_open_deal = False\n",
    "                            type_open_deal = ''\n",
    "                        # else:\n",
    "                        #     # Takeprofit\n",
    "                        #     if row['Low'] < entry_price - tp_step:\n",
    "                        #         profit = 6\n",
    "                        #         exit_price = entry_price - tp_step\n",
    "                        #         exit_time = row.name\n",
    "                        #         _trades.loc[len(_trades)] = [entry_time, entry_price, exit_time, exit_price, \"Short\", profit]\n",
    "                        #         has_open_deal = False\n",
    "                        #         type_open_deal = ''\n",
    "                    elif type_open_deal == 'long':\n",
    "                        # Stoploss\n",
    "                        if row['Low'] < entry_price - sl_step:\n",
    "                            profit = -sl_step\n",
    "                            exit_price = entry_price - sl_step\n",
    "                            exit_time = row.name\n",
    "                            _trades.loc[len(_trades)] = [entry_time, entry_price, exit_time, exit_price, \"Long\", profit]\n",
    "                            has_open_deal = False\n",
    "                            type_open_deal = ''\n",
    "                        # else:\n",
    "                        #     # Takeprofit\n",
    "                        #     if row['High'] > entry_price + tp_step:\n",
    "                        #         profit = 6\n",
    "                        #         exit_price = entry_price + tp_step\n",
    "                        #         exit_time = row.name\n",
    "                        #         _trades.loc[len(_trades)] = [entry_time, entry_price, exit_time, exit_price, \"Long\", profit]\n",
    "                        #         has_open_deal = False\n",
    "                        #         type_open_deal = ''\n",
    "                            #\n",
    "            elif 100*row.name.hour + row.name.minute == 1425:\n",
    "                if has_open_deal:\n",
    "                    # close open deal at 2:25PM (dataframe)\n",
    "                    if type_open_deal == 'short':\n",
    "                        profit = entry_price - row['Close']\n",
    "                        if profit < -sl_step:\n",
    "                            profit = -sl_step\n",
    "                        exit_price = row['Close']\n",
    "                        exit_time = row.name\n",
    "                        has_open_deal = False\n",
    "                        type_open_deal = ''\n",
    "                        _trades.loc[len(_trades)] = [entry_time, entry_price, exit_time, exit_price, \"Short\", profit]\n",
    "                    elif type_open_deal == 'long':\n",
    "                        profit = row['Close'] - entry_price\n",
    "                        if profit < -sl_step:\n",
    "                            profit = -sl_step\n",
    "                        exit_price = row['Close']\n",
    "                        exit_time = row.name\n",
    "                        has_open_deal = False\n",
    "                        type_open_deal = ''\n",
    "                        _trades.loc[len(_trades)] = [entry_time, entry_price, exit_time, exit_price, \"Long\", profit]\n",
    "    return _trades"
   ]
  },
  {
   "cell_type": "code",
   "execution_count": 8,
   "metadata": {},
   "outputs": [],
   "source": [
    "data3 = price.copy()\n",
    "def cal_signal_01(row):\n",
    "    signal = ''\n",
    "    if row['percent'] > .26 and row['returns'] > .39:\n",
    "        signal = 'long'\n",
    "    elif row['percent'] < -.18 and row['returns'] < -.39:\n",
    "        signal = 'short'\n",
    "    return signal\n",
    "data3['signal'] = data3.apply(lambda r: cal_signal_01(r), axis=1)\n",
    "data4 = raw_data.copy()\n",
    "data4 = data4.assign(time_d=pd.PeriodIndex(data4.index, freq='1D').to_timestamp())\n",
    "data4 = pd.merge(data4, data3, left_on=\"time_d\", right_index=True, how=\"left\")"
   ]
  },
  {
   "cell_type": "code",
   "execution_count": 9,
   "metadata": {},
   "outputs": [],
   "source": [
    "trade02_result = trade_simulation(data4)"
   ]
  },
  {
   "cell_type": "code",
   "execution_count": 10,
   "metadata": {},
   "outputs": [
    {
     "data": {
      "text/plain": [
       "1165.4999999999986"
      ]
     },
     "execution_count": 10,
     "metadata": {},
     "output_type": "execute_result"
    }
   ],
   "source": [
    "trade02_result.Profit.sum()"
   ]
  },
  {
   "cell_type": "code",
   "execution_count": 11,
   "metadata": {},
   "outputs": [
    {
     "data": {
      "text/html": [
       "<div>\n",
       "<style scoped>\n",
       "    .dataframe tbody tr th:only-of-type {\n",
       "        vertical-align: middle;\n",
       "    }\n",
       "\n",
       "    .dataframe tbody tr th {\n",
       "        vertical-align: top;\n",
       "    }\n",
       "\n",
       "    .dataframe thead th {\n",
       "        text-align: right;\n",
       "    }\n",
       "</style>\n",
       "<table border=\"1\" class=\"dataframe\">\n",
       "  <thead>\n",
       "    <tr style=\"text-align: right;\">\n",
       "      <th></th>\n",
       "      <th>EntryTime</th>\n",
       "      <th>EntryPrice</th>\n",
       "      <th>ExitTime</th>\n",
       "      <th>ExitPrice</th>\n",
       "      <th>Type</th>\n",
       "      <th>Profit</th>\n",
       "    </tr>\n",
       "  </thead>\n",
       "  <tbody>\n",
       "    <tr>\n",
       "      <th>0</th>\n",
       "      <td>2018-08-14 13:55:00</td>\n",
       "      <td>959.5</td>\n",
       "      <td>2018-08-14 14:25:00</td>\n",
       "      <td>960.1</td>\n",
       "      <td>Long</td>\n",
       "      <td>0.6</td>\n",
       "    </tr>\n",
       "    <tr>\n",
       "      <th>1</th>\n",
       "      <td>2018-08-21 13:55:00</td>\n",
       "      <td>950.1</td>\n",
       "      <td>2018-08-21 14:25:00</td>\n",
       "      <td>954.7</td>\n",
       "      <td>Long</td>\n",
       "      <td>4.6</td>\n",
       "    </tr>\n",
       "    <tr>\n",
       "      <th>2</th>\n",
       "      <td>2018-08-23 13:55:00</td>\n",
       "      <td>962.6</td>\n",
       "      <td>2018-08-23 14:25:00</td>\n",
       "      <td>961.0</td>\n",
       "      <td>Long</td>\n",
       "      <td>-1.6</td>\n",
       "    </tr>\n",
       "    <tr>\n",
       "      <th>3</th>\n",
       "      <td>2018-08-27 13:55:00</td>\n",
       "      <td>963.7</td>\n",
       "      <td>2018-08-27 14:25:00</td>\n",
       "      <td>963.0</td>\n",
       "      <td>Long</td>\n",
       "      <td>-0.7</td>\n",
       "    </tr>\n",
       "    <tr>\n",
       "      <th>4</th>\n",
       "      <td>2018-08-29 13:55:00</td>\n",
       "      <td>962.3</td>\n",
       "      <td>2018-08-29 14:25:00</td>\n",
       "      <td>963.9</td>\n",
       "      <td>Short</td>\n",
       "      <td>-1.6</td>\n",
       "    </tr>\n",
       "    <tr>\n",
       "      <th>...</th>\n",
       "      <td>...</td>\n",
       "      <td>...</td>\n",
       "      <td>...</td>\n",
       "      <td>...</td>\n",
       "      <td>...</td>\n",
       "      <td>...</td>\n",
       "    </tr>\n",
       "    <tr>\n",
       "      <th>705</th>\n",
       "      <td>2024-06-21 13:55:00</td>\n",
       "      <td>1316.8</td>\n",
       "      <td>2024-06-21 14:10:00</td>\n",
       "      <td>1319.8</td>\n",
       "      <td>Short</td>\n",
       "      <td>-3.0</td>\n",
       "    </tr>\n",
       "    <tr>\n",
       "      <th>706</th>\n",
       "      <td>2024-06-24 13:55:00</td>\n",
       "      <td>1296.8</td>\n",
       "      <td>2024-06-24 14:25:00</td>\n",
       "      <td>1287.1</td>\n",
       "      <td>Short</td>\n",
       "      <td>9.7</td>\n",
       "    </tr>\n",
       "    <tr>\n",
       "      <th>707</th>\n",
       "      <td>2024-06-28 13:55:00</td>\n",
       "      <td>1283.9</td>\n",
       "      <td>2024-06-28 14:10:00</td>\n",
       "      <td>1286.9</td>\n",
       "      <td>Short</td>\n",
       "      <td>-3.0</td>\n",
       "    </tr>\n",
       "    <tr>\n",
       "      <th>708</th>\n",
       "      <td>2024-07-02 13:55:00</td>\n",
       "      <td>1297.1</td>\n",
       "      <td>2024-07-02 14:10:00</td>\n",
       "      <td>1294.1</td>\n",
       "      <td>Long</td>\n",
       "      <td>-3.0</td>\n",
       "    </tr>\n",
       "    <tr>\n",
       "      <th>709</th>\n",
       "      <td>2024-07-03 13:55:00</td>\n",
       "      <td>1305.1</td>\n",
       "      <td>2024-07-03 14:25:00</td>\n",
       "      <td>1305.5</td>\n",
       "      <td>Long</td>\n",
       "      <td>0.4</td>\n",
       "    </tr>\n",
       "  </tbody>\n",
       "</table>\n",
       "<p>710 rows × 6 columns</p>\n",
       "</div>"
      ],
      "text/plain": [
       "              EntryTime  EntryPrice            ExitTime  ExitPrice   Type  \\\n",
       "0   2018-08-14 13:55:00       959.5 2018-08-14 14:25:00      960.1   Long   \n",
       "1   2018-08-21 13:55:00       950.1 2018-08-21 14:25:00      954.7   Long   \n",
       "2   2018-08-23 13:55:00       962.6 2018-08-23 14:25:00      961.0   Long   \n",
       "3   2018-08-27 13:55:00       963.7 2018-08-27 14:25:00      963.0   Long   \n",
       "4   2018-08-29 13:55:00       962.3 2018-08-29 14:25:00      963.9  Short   \n",
       "..                  ...         ...                 ...        ...    ...   \n",
       "705 2024-06-21 13:55:00      1316.8 2024-06-21 14:10:00     1319.8  Short   \n",
       "706 2024-06-24 13:55:00      1296.8 2024-06-24 14:25:00     1287.1  Short   \n",
       "707 2024-06-28 13:55:00      1283.9 2024-06-28 14:10:00     1286.9  Short   \n",
       "708 2024-07-02 13:55:00      1297.1 2024-07-02 14:10:00     1294.1   Long   \n",
       "709 2024-07-03 13:55:00      1305.1 2024-07-03 14:25:00     1305.5   Long   \n",
       "\n",
       "     Profit  \n",
       "0       0.6  \n",
       "1       4.6  \n",
       "2      -1.6  \n",
       "3      -0.7  \n",
       "4      -1.6  \n",
       "..      ...  \n",
       "705    -3.0  \n",
       "706     9.7  \n",
       "707    -3.0  \n",
       "708    -3.0  \n",
       "709     0.4  \n",
       "\n",
       "[710 rows x 6 columns]"
      ]
     },
     "execution_count": 11,
     "metadata": {},
     "output_type": "execute_result"
    }
   ],
   "source": [
    "trade02_result"
   ]
  },
  {
   "cell_type": "code",
   "execution_count": 12,
   "metadata": {},
   "outputs": [
    {
     "data": {
      "text/plain": [
       "213.0"
      ]
     },
     "execution_count": 12,
     "metadata": {},
     "output_type": "execute_result"
    }
   ],
   "source": [
    "trading_fee = len(trade02_result) * 0.3\n",
    "trading_fee"
   ]
  },
  {
   "cell_type": "code",
   "execution_count": 13,
   "metadata": {},
   "outputs": [
    {
     "data": {
      "text/plain": [
       "0.5014245014245015"
      ]
     },
     "execution_count": 13,
     "metadata": {},
     "output_type": "execute_result"
    }
   ],
   "source": [
    "# win rate\n",
    "len(trade02_result[trade02_result.Profit > 0]) / (len(trade02_result[trade02_result.Profit < 0]) + len(trade02_result[trade02_result.Profit > 0]))"
   ]
  },
  {
   "cell_type": "code",
   "execution_count": 14,
   "metadata": {},
   "outputs": [
    {
     "data": {
      "text/plain": [
       "12.100000000000136"
      ]
     },
     "execution_count": 14,
     "metadata": {},
     "output_type": "execute_result"
    }
   ],
   "source": [
    "this_month = trade02_result[(trade02_result.EntryTime > '2024-06-01 00:00:00') & (trade02_result.EntryTime < '2024-06-30 15:00:00')]\n",
    "this_month.Profit.sum()"
   ]
  },
  {
   "cell_type": "code",
   "execution_count": 15,
   "metadata": {},
   "outputs": [
    {
     "data": {
      "text/plain": [
       "87.70000000000073"
      ]
     },
     "execution_count": 15,
     "metadata": {},
     "output_type": "execute_result"
    }
   ],
   "source": [
    "this_year = trade02_result[(trade02_result.EntryTime > '2024-01-01 00:00:00') & (trade02_result.EntryTime < '2024-06-30 15:00:00')]\n",
    "this_year.Profit.sum()"
   ]
  },
  {
   "cell_type": "code",
   "execution_count": 16,
   "metadata": {},
   "outputs": [
    {
     "data": {
      "text/plain": [
       "39.09999999999991"
      ]
     },
     "execution_count": 16,
     "metadata": {},
     "output_type": "execute_result"
    }
   ],
   "source": [
    "trade02_result.Profit.max()"
   ]
  },
  {
   "cell_type": "code",
   "execution_count": 17,
   "metadata": {},
   "outputs": [
    {
     "data": {
      "text/plain": [
       "-3.0"
      ]
     },
     "execution_count": 17,
     "metadata": {},
     "output_type": "execute_result"
    }
   ],
   "source": [
    "trade02_result.Profit.min()"
   ]
  },
  {
   "cell_type": "code",
   "execution_count": 18,
   "metadata": {},
   "outputs": [
    {
     "data": {
      "text/plain": [
       "1.641549295774646"
      ]
     },
     "execution_count": 18,
     "metadata": {},
     "output_type": "execute_result"
    }
   ],
   "source": [
    "trade02_result.Profit.mean()"
   ]
  },
  {
   "cell_type": "markdown",
   "metadata": {
    "id": "9PK1bNQWJY81"
   },
   "source": [
    "## Long"
   ]
  },
  {
   "cell_type": "code",
   "execution_count": 19,
   "metadata": {},
   "outputs": [
    {
     "data": {
      "text/html": [
       "<div>\n",
       "<style scoped>\n",
       "    .dataframe tbody tr th:only-of-type {\n",
       "        vertical-align: middle;\n",
       "    }\n",
       "\n",
       "    .dataframe tbody tr th {\n",
       "        vertical-align: top;\n",
       "    }\n",
       "\n",
       "    .dataframe thead th {\n",
       "        text-align: right;\n",
       "    }\n",
       "</style>\n",
       "<table border=\"1\" class=\"dataframe\">\n",
       "  <thead>\n",
       "    <tr style=\"text-align: right;\">\n",
       "      <th></th>\n",
       "      <th>first_close</th>\n",
       "      <th>high</th>\n",
       "      <th>low</th>\n",
       "      <th>price</th>\n",
       "      <th>close</th>\n",
       "      <th>percent</th>\n",
       "      <th>returns</th>\n",
       "      <th>return</th>\n",
       "      <th>percent_group</th>\n",
       "      <th>returns_group</th>\n",
       "      <th>momentum</th>\n",
       "    </tr>\n",
       "    <tr>\n",
       "      <th>Date</th>\n",
       "      <th></th>\n",
       "      <th></th>\n",
       "      <th></th>\n",
       "      <th></th>\n",
       "      <th></th>\n",
       "      <th></th>\n",
       "      <th></th>\n",
       "      <th></th>\n",
       "      <th></th>\n",
       "      <th></th>\n",
       "      <th></th>\n",
       "    </tr>\n",
       "  </thead>\n",
       "  <tbody>\n",
       "    <tr>\n",
       "      <th>2018-08-14</th>\n",
       "      <td>954.9</td>\n",
       "      <td>958.6</td>\n",
       "      <td>952.1</td>\n",
       "      <td>959.5</td>\n",
       "      <td>960.1</td>\n",
       "      <td>0.565978</td>\n",
       "      <td>0.707692</td>\n",
       "      <td>0.625326</td>\n",
       "      <td>(0.472, 0.585]</td>\n",
       "      <td>(0.707, 0.782]</td>\n",
       "      <td>1.273671</td>\n",
       "    </tr>\n",
       "    <tr>\n",
       "      <th>2018-08-21</th>\n",
       "      <td>944.5</td>\n",
       "      <td>950.8</td>\n",
       "      <td>944.5</td>\n",
       "      <td>950.1</td>\n",
       "      <td>954.7</td>\n",
       "      <td>0.571610</td>\n",
       "      <td>0.888889</td>\n",
       "      <td>4.841596</td>\n",
       "      <td>(0.472, 0.585]</td>\n",
       "      <td>(0.871, 0.933]</td>\n",
       "      <td>1.460499</td>\n",
       "    </tr>\n",
       "    <tr>\n",
       "      <th>2018-08-23</th>\n",
       "      <td>957.0</td>\n",
       "      <td>959.9</td>\n",
       "      <td>955.8</td>\n",
       "      <td>962.6</td>\n",
       "      <td>961.0</td>\n",
       "      <td>0.785258</td>\n",
       "      <td>1.365854</td>\n",
       "      <td>-1.662165</td>\n",
       "      <td>(0.761, 0.907]</td>\n",
       "      <td>(1.068, 1.636]</td>\n",
       "      <td>2.151112</td>\n",
       "    </tr>\n",
       "    <tr>\n",
       "      <th>2018-08-27</th>\n",
       "      <td>961.5</td>\n",
       "      <td>965.2</td>\n",
       "      <td>961.5</td>\n",
       "      <td>963.7</td>\n",
       "      <td>963.0</td>\n",
       "      <td>0.500574</td>\n",
       "      <td>0.594595</td>\n",
       "      <td>-0.726367</td>\n",
       "      <td>(0.472, 0.585]</td>\n",
       "      <td>(0.556, 0.644]</td>\n",
       "      <td>1.095168</td>\n",
       "    </tr>\n",
       "    <tr>\n",
       "      <th>2018-09-07</th>\n",
       "      <td>934.6</td>\n",
       "      <td>942.6</td>\n",
       "      <td>930.5</td>\n",
       "      <td>941.3</td>\n",
       "      <td>944.8</td>\n",
       "      <td>0.630746</td>\n",
       "      <td>0.553719</td>\n",
       "      <td>3.718262</td>\n",
       "      <td>(0.585, 0.668]</td>\n",
       "      <td>(0.476, 0.556]</td>\n",
       "      <td>1.184465</td>\n",
       "    </tr>\n",
       "    <tr>\n",
       "      <th>...</th>\n",
       "      <td>...</td>\n",
       "      <td>...</td>\n",
       "      <td>...</td>\n",
       "      <td>...</td>\n",
       "      <td>...</td>\n",
       "      <td>...</td>\n",
       "      <td>...</td>\n",
       "      <td>...</td>\n",
       "      <td>...</td>\n",
       "      <td>...</td>\n",
       "      <td>...</td>\n",
       "    </tr>\n",
       "    <tr>\n",
       "      <th>2024-06-03</th>\n",
       "      <td>1281.4</td>\n",
       "      <td>1298.4</td>\n",
       "      <td>1281.4</td>\n",
       "      <td>1296.6</td>\n",
       "      <td>1293.7</td>\n",
       "      <td>2.231333</td>\n",
       "      <td>0.894118</td>\n",
       "      <td>-2.236619</td>\n",
       "      <td>(2.219, 7.145]</td>\n",
       "      <td>(0.871, 0.933]</td>\n",
       "      <td>3.125451</td>\n",
       "    </tr>\n",
       "    <tr>\n",
       "      <th>2024-06-12</th>\n",
       "      <td>1303.1</td>\n",
       "      <td>1312.9</td>\n",
       "      <td>1302.5</td>\n",
       "      <td>1313.9</td>\n",
       "      <td>1328.4</td>\n",
       "      <td>0.435713</td>\n",
       "      <td>1.038462</td>\n",
       "      <td>11.035847</td>\n",
       "      <td>(0.393, 0.472]</td>\n",
       "      <td>(0.933, 1.068]</td>\n",
       "      <td>1.474175</td>\n",
       "    </tr>\n",
       "    <tr>\n",
       "      <th>2024-06-18</th>\n",
       "      <td>1311.9</td>\n",
       "      <td>1319.7</td>\n",
       "      <td>1311.4</td>\n",
       "      <td>1321.4</td>\n",
       "      <td>1309.5</td>\n",
       "      <td>0.877930</td>\n",
       "      <td>1.144578</td>\n",
       "      <td>-9.005600</td>\n",
       "      <td>(0.761, 0.907]</td>\n",
       "      <td>(1.068, 1.636]</td>\n",
       "      <td>2.022508</td>\n",
       "    </tr>\n",
       "    <tr>\n",
       "      <th>2024-07-02</th>\n",
       "      <td>1286.6</td>\n",
       "      <td>1299.0</td>\n",
       "      <td>1284.6</td>\n",
       "      <td>1297.1</td>\n",
       "      <td>1296.6</td>\n",
       "      <td>0.957347</td>\n",
       "      <td>0.729167</td>\n",
       "      <td>-0.385475</td>\n",
       "      <td>(0.907, 1.044]</td>\n",
       "      <td>(0.707, 0.782]</td>\n",
       "      <td>1.686514</td>\n",
       "    </tr>\n",
       "    <tr>\n",
       "      <th>2024-07-03</th>\n",
       "      <td>1296.5</td>\n",
       "      <td>1306.5</td>\n",
       "      <td>1294.5</td>\n",
       "      <td>1305.1</td>\n",
       "      <td>1305.5</td>\n",
       "      <td>0.655561</td>\n",
       "      <td>0.716667</td>\n",
       "      <td>0.306490</td>\n",
       "      <td>(0.585, 0.668]</td>\n",
       "      <td>(0.707, 0.782]</td>\n",
       "      <td>1.372227</td>\n",
       "    </tr>\n",
       "  </tbody>\n",
       "</table>\n",
       "<p>364 rows × 11 columns</p>\n",
       "</div>"
      ],
      "text/plain": [
       "            first_close    high     low   price   close   percent   returns  \\\n",
       "Date                                                                          \n",
       "2018-08-14        954.9   958.6   952.1   959.5   960.1  0.565978  0.707692   \n",
       "2018-08-21        944.5   950.8   944.5   950.1   954.7  0.571610  0.888889   \n",
       "2018-08-23        957.0   959.9   955.8   962.6   961.0  0.785258  1.365854   \n",
       "2018-08-27        961.5   965.2   961.5   963.7   963.0  0.500574  0.594595   \n",
       "2018-09-07        934.6   942.6   930.5   941.3   944.8  0.630746  0.553719   \n",
       "...                 ...     ...     ...     ...     ...       ...       ...   \n",
       "2024-06-03       1281.4  1298.4  1281.4  1296.6  1293.7  2.231333  0.894118   \n",
       "2024-06-12       1303.1  1312.9  1302.5  1313.9  1328.4  0.435713  1.038462   \n",
       "2024-06-18       1311.9  1319.7  1311.4  1321.4  1309.5  0.877930  1.144578   \n",
       "2024-07-02       1286.6  1299.0  1284.6  1297.1  1296.6  0.957347  0.729167   \n",
       "2024-07-03       1296.5  1306.5  1294.5  1305.1  1305.5  0.655561  0.716667   \n",
       "\n",
       "               return   percent_group   returns_group  momentum  \n",
       "Date                                                             \n",
       "2018-08-14   0.625326  (0.472, 0.585]  (0.707, 0.782]  1.273671  \n",
       "2018-08-21   4.841596  (0.472, 0.585]  (0.871, 0.933]  1.460499  \n",
       "2018-08-23  -1.662165  (0.761, 0.907]  (1.068, 1.636]  2.151112  \n",
       "2018-08-27  -0.726367  (0.472, 0.585]  (0.556, 0.644]  1.095168  \n",
       "2018-09-07   3.718262  (0.585, 0.668]  (0.476, 0.556]  1.184465  \n",
       "...               ...             ...             ...       ...  \n",
       "2024-06-03  -2.236619  (2.219, 7.145]  (0.871, 0.933]  3.125451  \n",
       "2024-06-12  11.035847  (0.393, 0.472]  (0.933, 1.068]  1.474175  \n",
       "2024-06-18  -9.005600  (0.761, 0.907]  (1.068, 1.636]  2.022508  \n",
       "2024-07-02  -0.385475  (0.907, 1.044]  (0.707, 0.782]  1.686514  \n",
       "2024-07-03   0.306490  (0.585, 0.668]  (0.707, 0.782]  1.372227  \n",
       "\n",
       "[364 rows x 11 columns]"
      ]
     },
     "execution_count": 19,
     "metadata": {},
     "output_type": "execute_result"
    }
   ],
   "source": [
    "Long = price[price.percent > .26]\n",
    "Long = Long[Long.returns > .39]\n",
    "Long"
   ]
  },
  {
   "cell_type": "code",
   "execution_count": 20,
   "metadata": {},
   "outputs": [
    {
     "data": {
      "text/plain": [
       "459.33014500646885"
      ]
     },
     "execution_count": 20,
     "metadata": {},
     "output_type": "execute_result"
    }
   ],
   "source": [
    "Long['return'].sum()"
   ]
  },
  {
   "cell_type": "markdown",
   "metadata": {
    "id": "zZjH_sVkM-uN"
   },
   "source": [
    "## Short"
   ]
  },
  {
   "cell_type": "code",
   "execution_count": 21,
   "metadata": {
    "id": "sD1WCP5BJznN"
   },
   "outputs": [],
   "source": [
    "Short = price[price.percent < -.18]\n",
    "Short = Short[Short.returns < -.39]"
   ]
  },
  {
   "cell_type": "code",
   "execution_count": 22,
   "metadata": {
    "colab": {
     "base_uri": "https://localhost:8080/",
     "height": 206
    },
    "executionInfo": {
     "elapsed": 586,
     "status": "ok",
     "timestamp": 1705333741087,
     "user": {
      "displayName": "Damda Thao",
      "userId": "14361998917494708026"
     },
     "user_tz": -420
    },
    "id": "g2qdphvuz7_U",
    "outputId": "29297a70-3311-430b-e1fc-d7ae17a499bf"
   },
   "outputs": [
    {
     "data": {
      "text/html": [
       "<div>\n",
       "<style scoped>\n",
       "    .dataframe tbody tr th:only-of-type {\n",
       "        vertical-align: middle;\n",
       "    }\n",
       "\n",
       "    .dataframe tbody tr th {\n",
       "        vertical-align: top;\n",
       "    }\n",
       "\n",
       "    .dataframe thead th {\n",
       "        text-align: right;\n",
       "    }\n",
       "</style>\n",
       "<table border=\"1\" class=\"dataframe\">\n",
       "  <thead>\n",
       "    <tr style=\"text-align: right;\">\n",
       "      <th></th>\n",
       "      <th>first_close</th>\n",
       "      <th>high</th>\n",
       "      <th>low</th>\n",
       "      <th>price</th>\n",
       "      <th>close</th>\n",
       "      <th>percent</th>\n",
       "      <th>returns</th>\n",
       "      <th>return</th>\n",
       "      <th>percent_group</th>\n",
       "      <th>returns_group</th>\n",
       "      <th>momentum</th>\n",
       "    </tr>\n",
       "    <tr>\n",
       "      <th>Date</th>\n",
       "      <th></th>\n",
       "      <th></th>\n",
       "      <th></th>\n",
       "      <th></th>\n",
       "      <th></th>\n",
       "      <th></th>\n",
       "      <th></th>\n",
       "      <th></th>\n",
       "      <th></th>\n",
       "      <th></th>\n",
       "      <th></th>\n",
       "    </tr>\n",
       "  </thead>\n",
       "  <tbody>\n",
       "    <tr>\n",
       "      <th>2018-08-29</th>\n",
       "      <td>965.7</td>\n",
       "      <td>965.9</td>\n",
       "      <td>963.2</td>\n",
       "      <td>962.3</td>\n",
       "      <td>963.9</td>\n",
       "      <td>-0.372709</td>\n",
       "      <td>-1.259259</td>\n",
       "      <td>1.662683</td>\n",
       "      <td>(-0.469, -0.373]</td>\n",
       "      <td>(-2.006, -1.044]</td>\n",
       "      <td>-1.631969</td>\n",
       "    </tr>\n",
       "    <tr>\n",
       "      <th>2018-09-05</th>\n",
       "      <td>952.7</td>\n",
       "      <td>954.4</td>\n",
       "      <td>945.6</td>\n",
       "      <td>947.4</td>\n",
       "      <td>942.5</td>\n",
       "      <td>-1.003135</td>\n",
       "      <td>-0.602273</td>\n",
       "      <td>-5.172050</td>\n",
       "      <td>(-1.096, -0.879]</td>\n",
       "      <td>(-0.665, -0.595]</td>\n",
       "      <td>-1.605408</td>\n",
       "    </tr>\n",
       "    <tr>\n",
       "      <th>2018-09-06</th>\n",
       "      <td>945.0</td>\n",
       "      <td>945.8</td>\n",
       "      <td>936.6</td>\n",
       "      <td>935.6</td>\n",
       "      <td>935.4</td>\n",
       "      <td>-0.732095</td>\n",
       "      <td>-1.021739</td>\n",
       "      <td>-0.213767</td>\n",
       "      <td>(-0.879, -0.717]</td>\n",
       "      <td>(-1.044, -0.914]</td>\n",
       "      <td>-1.753835</td>\n",
       "    </tr>\n",
       "    <tr>\n",
       "      <th>2018-09-10</th>\n",
       "      <td>943.5</td>\n",
       "      <td>944.8</td>\n",
       "      <td>936.3</td>\n",
       "      <td>936.1</td>\n",
       "      <td>938.0</td>\n",
       "      <td>-0.920830</td>\n",
       "      <td>-0.870588</td>\n",
       "      <td>2.029698</td>\n",
       "      <td>(-1.096, -0.879]</td>\n",
       "      <td>(-0.914, -0.798]</td>\n",
       "      <td>-1.791418</td>\n",
       "    </tr>\n",
       "    <tr>\n",
       "      <th>2018-10-05</th>\n",
       "      <td>990.4</td>\n",
       "      <td>990.8</td>\n",
       "      <td>985.3</td>\n",
       "      <td>987.1</td>\n",
       "      <td>982.7</td>\n",
       "      <td>-0.182020</td>\n",
       "      <td>-0.600000</td>\n",
       "      <td>-4.457502</td>\n",
       "      <td>(-0.209, -0.149]</td>\n",
       "      <td>(-0.665, -0.595]</td>\n",
       "      <td>-0.782020</td>\n",
       "    </tr>\n",
       "    <tr>\n",
       "      <th>...</th>\n",
       "      <td>...</td>\n",
       "      <td>...</td>\n",
       "      <td>...</td>\n",
       "      <td>...</td>\n",
       "      <td>...</td>\n",
       "      <td>...</td>\n",
       "      <td>...</td>\n",
       "      <td>...</td>\n",
       "      <td>...</td>\n",
       "      <td>...</td>\n",
       "      <td>...</td>\n",
       "    </tr>\n",
       "    <tr>\n",
       "      <th>2024-06-14</th>\n",
       "      <td>1332.1</td>\n",
       "      <td>1335.9</td>\n",
       "      <td>1329.8</td>\n",
       "      <td>1329.7</td>\n",
       "      <td>1326.6</td>\n",
       "      <td>-0.575744</td>\n",
       "      <td>-0.393443</td>\n",
       "      <td>-2.331353</td>\n",
       "      <td>(-0.717, -0.572]</td>\n",
       "      <td>(-0.406, -0.34]</td>\n",
       "      <td>-0.969187</td>\n",
       "    </tr>\n",
       "    <tr>\n",
       "      <th>2024-06-17</th>\n",
       "      <td>1313.9</td>\n",
       "      <td>1314.4</td>\n",
       "      <td>1306.4</td>\n",
       "      <td>1309.7</td>\n",
       "      <td>1309.9</td>\n",
       "      <td>-1.273933</td>\n",
       "      <td>-0.525000</td>\n",
       "      <td>0.152707</td>\n",
       "      <td>(-1.477, -1.096]</td>\n",
       "      <td>(-0.595, -0.521]</td>\n",
       "      <td>-1.798933</td>\n",
       "    </tr>\n",
       "    <tr>\n",
       "      <th>2024-06-21</th>\n",
       "      <td>1321.2</td>\n",
       "      <td>1321.7</td>\n",
       "      <td>1314.5</td>\n",
       "      <td>1316.8</td>\n",
       "      <td>1317.5</td>\n",
       "      <td>-0.513750</td>\n",
       "      <td>-0.611111</td>\n",
       "      <td>0.531592</td>\n",
       "      <td>(-0.572, -0.469]</td>\n",
       "      <td>(-0.665, -0.595]</td>\n",
       "      <td>-1.124861</td>\n",
       "    </tr>\n",
       "    <tr>\n",
       "      <th>2024-06-24</th>\n",
       "      <td>1314.9</td>\n",
       "      <td>1317.3</td>\n",
       "      <td>1290.4</td>\n",
       "      <td>1296.8</td>\n",
       "      <td>1287.1</td>\n",
       "      <td>-1.571157</td>\n",
       "      <td>-0.672862</td>\n",
       "      <td>-7.479951</td>\n",
       "      <td>(-2.486, -1.477]</td>\n",
       "      <td>(-0.721, -0.665]</td>\n",
       "      <td>-2.244020</td>\n",
       "    </tr>\n",
       "    <tr>\n",
       "      <th>2024-06-28</th>\n",
       "      <td>1292.0</td>\n",
       "      <td>1291.2</td>\n",
       "      <td>1281.2</td>\n",
       "      <td>1283.9</td>\n",
       "      <td>1277.9</td>\n",
       "      <td>-0.457435</td>\n",
       "      <td>-0.810000</td>\n",
       "      <td>-4.673261</td>\n",
       "      <td>(-0.469, -0.373]</td>\n",
       "      <td>(-0.914, -0.798]</td>\n",
       "      <td>-1.267435</td>\n",
       "    </tr>\n",
       "  </tbody>\n",
       "</table>\n",
       "<p>346 rows × 11 columns</p>\n",
       "</div>"
      ],
      "text/plain": [
       "            first_close    high     low   price   close   percent   returns  \\\n",
       "Date                                                                          \n",
       "2018-08-29        965.7   965.9   963.2   962.3   963.9 -0.372709 -1.259259   \n",
       "2018-09-05        952.7   954.4   945.6   947.4   942.5 -1.003135 -0.602273   \n",
       "2018-09-06        945.0   945.8   936.6   935.6   935.4 -0.732095 -1.021739   \n",
       "2018-09-10        943.5   944.8   936.3   936.1   938.0 -0.920830 -0.870588   \n",
       "2018-10-05        990.4   990.8   985.3   987.1   982.7 -0.182020 -0.600000   \n",
       "...                 ...     ...     ...     ...     ...       ...       ...   \n",
       "2024-06-14       1332.1  1335.9  1329.8  1329.7  1326.6 -0.575744 -0.393443   \n",
       "2024-06-17       1313.9  1314.4  1306.4  1309.7  1309.9 -1.273933 -0.525000   \n",
       "2024-06-21       1321.2  1321.7  1314.5  1316.8  1317.5 -0.513750 -0.611111   \n",
       "2024-06-24       1314.9  1317.3  1290.4  1296.8  1287.1 -1.571157 -0.672862   \n",
       "2024-06-28       1292.0  1291.2  1281.2  1283.9  1277.9 -0.457435 -0.810000   \n",
       "\n",
       "              return     percent_group     returns_group  momentum  \n",
       "Date                                                                \n",
       "2018-08-29  1.662683  (-0.469, -0.373]  (-2.006, -1.044] -1.631969  \n",
       "2018-09-05 -5.172050  (-1.096, -0.879]  (-0.665, -0.595] -1.605408  \n",
       "2018-09-06 -0.213767  (-0.879, -0.717]  (-1.044, -0.914] -1.753835  \n",
       "2018-09-10  2.029698  (-1.096, -0.879]  (-0.914, -0.798] -1.791418  \n",
       "2018-10-05 -4.457502  (-0.209, -0.149]  (-0.665, -0.595] -0.782020  \n",
       "...              ...               ...               ...       ...  \n",
       "2024-06-14 -2.331353  (-0.717, -0.572]   (-0.406, -0.34] -0.969187  \n",
       "2024-06-17  0.152707  (-1.477, -1.096]  (-0.595, -0.521] -1.798933  \n",
       "2024-06-21  0.531592  (-0.572, -0.469]  (-0.665, -0.595] -1.124861  \n",
       "2024-06-24 -7.479951  (-2.486, -1.477]  (-0.721, -0.665] -2.244020  \n",
       "2024-06-28 -4.673261  (-0.469, -0.373]  (-0.914, -0.798] -1.267435  \n",
       "\n",
       "[346 rows x 11 columns]"
      ]
     },
     "execution_count": 22,
     "metadata": {},
     "output_type": "execute_result"
    }
   ],
   "source": [
    "Short"
   ]
  },
  {
   "cell_type": "code",
   "execution_count": 23,
   "metadata": {},
   "outputs": [
    {
     "data": {
      "text/plain": [
       "596.8668025859007"
      ]
     },
     "execution_count": 23,
     "metadata": {},
     "output_type": "execute_result"
    }
   ],
   "source": [
    "abs(Short['return'].sum())"
   ]
  },
  {
   "cell_type": "code",
   "execution_count": null,
   "metadata": {},
   "outputs": [],
   "source": []
  }
 ],
 "metadata": {
  "colab": {
   "provenance": [
    {
     "file_id": "18pUnIuHY_OtOIianWy2sxcplyNdjKkI8",
     "timestamp": 1705312236172
    }
   ]
  },
  "kernelspec": {
   "display_name": "Python 3 (ipykernel)",
   "language": "python",
   "name": "python3"
  },
  "language_info": {
   "codemirror_mode": {
    "name": "ipython",
    "version": 3
   },
   "file_extension": ".py",
   "mimetype": "text/x-python",
   "name": "python",
   "nbconvert_exporter": "python",
   "pygments_lexer": "ipython3",
   "version": "3.11.4"
  }
 },
 "nbformat": 4,
 "nbformat_minor": 4
}
