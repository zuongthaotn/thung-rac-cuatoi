{
 "cells": [
  {
   "cell_type": "markdown",
   "id": "00977017-9399-4dc8-a8e4-83696651962b",
   "metadata": {},
   "source": [
    "## 5 minute bar - chart pattern - ananylics"
   ]
  },
  {
   "cell_type": "code",
   "execution_count": 1,
   "id": "33ff909e-aebd-4594-88c2-ac6be40684a7",
   "metadata": {},
   "outputs": [],
   "source": [
    "import warnings\n",
    "warnings.filterwarnings('ignore')\n",
    "\n",
    "import time\n",
    "from datetime import date, datetime\n",
    "from datetime import timedelta\n",
    "from dateutil.relativedelta import relativedelta\n",
    "\n",
    "import matplotlib.pyplot as plt\n",
    "import pandas as pd\n",
    "import pandas_ta as ta\n",
    "import numpy as np"
   ]
  },
  {
   "cell_type": "code",
   "execution_count": 2,
   "id": "d8b66512-8149-46fe-9e58-a464f800b411",
   "metadata": {},
   "outputs": [],
   "source": [
    "import os\n",
    "from pathlib import Path\n",
    "notebook_path = os.getcwd()\n",
    "algo_dir = Path(notebook_path).parent.parent\n",
    "csv_file = str(algo_dir) + '/vn-stock-data/VN30ps/VN30F1M_5minutes.csv'\n",
    "is_file = os.path.isfile(csv_file)\n",
    "if is_file:\n",
    "    dataset = pd.read_csv(csv_file, index_col='Date', parse_dates=True)\n",
    "else:\n",
    "    dataset = pd.read_csv(\"https://raw.githubusercontent.com/zuongthaotn/vn-stock-data/main/VN30ps/VN30F1M_5minutes.csv\", index_col='Date', parse_dates=True)"
   ]
  },
  {
   "cell_type": "markdown",
   "id": "bf0f1f40-38fa-4989-9468-33c43a633bf9",
   "metadata": {},
   "source": [
    "## Date 2024-07-06 Analytics"
   ]
  },
  {
   "cell_type": "code",
   "execution_count": null,
   "id": "975dbda4-8b0b-4602-8099-5c547d0f4a5f",
   "metadata": {},
   "outputs": [],
   "source": []
  },
  {
   "cell_type": "markdown",
   "id": "1ce65d3b-1eec-4b7f-9ee8-71eae437a6e9",
   "metadata": {},
   "source": [
    "## Date 2024-07-06 Analytics"
   ]
  },
  {
   "cell_type": "code",
   "execution_count": 3,
   "id": "90c19aff-1425-4de9-af14-5b243cf0940b",
   "metadata": {},
   "outputs": [],
   "source": [
    "data = dataset.copy()\n",
    "data['lower_shadow'] = data.apply(\n",
    "        lambda r: min(r['Open'], r['Close']) - r['Low'], axis=1)\n",
    "data['upper_shadow'] = data.apply(\n",
    "        lambda r: r['High'] - max(r['Open'], r['Close']), axis=1)\n",
    "data['body'] = data.apply(\n",
    "        lambda r: abs(r['Close'] - r['Open']), axis=1)\n",
    "data[\"ema_f\"] = ta.ema(data[\"Close\"], length=5)\n",
    "data[\"ema_l\"] = ta.ema(data[\"Close\"], length=26)\n",
    "data[\"entry_price\"] = data[\"Open\"].shift(-1)\n",
    "_1_d_df = data.copy()\n",
    "_1_d_df = _1_d_df[100 * _1_d_df.index.hour + _1_d_df.index.minute < 1430]\n",
    "_1_d_df = data[['Close']].resample(\"D\").agg({\n",
    "        'Close': 'last'\n",
    "    }).rename(columns={'Close': 'exit_price'})\n",
    "_1_d_df.dropna(inplace=True)\n",
    "data = data.assign(time_d=pd.PeriodIndex(data.index, freq='1D').to_timestamp())\n",
    "data = pd.merge(data, _1_d_df, left_on=\"time_d\", right_index=True, how=\"left\")\n",
    "data['long_return'] = data.apply(\n",
    "        lambda r: r['exit_price'] - r['entry_price'], axis=1)\n",
    "data['short_return'] = data.apply(\n",
    "        lambda r: r['entry_price'] - r['exit_price'], axis=1)\n",
    "data['color'] = data.apply(\n",
    "        lambda r: 'doji' if r['Open'] == r['Close'] else ('xanh' if r['Open'] < r['Close'] else 'do' ), axis=1)"
   ]
  },
  {
   "cell_type": "code",
   "execution_count": 4,
   "id": "b4c166d2-920f-4fe2-a07b-f73e75a68680",
   "metadata": {},
   "outputs": [
    {
     "data": {
      "text/html": [
       "<div>\n",
       "<style scoped>\n",
       "    .dataframe tbody tr th:only-of-type {\n",
       "        vertical-align: middle;\n",
       "    }\n",
       "\n",
       "    .dataframe tbody tr th {\n",
       "        vertical-align: top;\n",
       "    }\n",
       "\n",
       "    .dataframe thead th {\n",
       "        text-align: right;\n",
       "    }\n",
       "</style>\n",
       "<table border=\"1\" class=\"dataframe\">\n",
       "  <thead>\n",
       "    <tr style=\"text-align: right;\">\n",
       "      <th></th>\n",
       "      <th>Open</th>\n",
       "      <th>High</th>\n",
       "      <th>Low</th>\n",
       "      <th>Close</th>\n",
       "      <th>Volume</th>\n",
       "      <th>lower_shadow</th>\n",
       "      <th>upper_shadow</th>\n",
       "      <th>body</th>\n",
       "      <th>ema_f</th>\n",
       "      <th>ema_l</th>\n",
       "      <th>entry_price</th>\n",
       "      <th>time_d</th>\n",
       "      <th>exit_price</th>\n",
       "      <th>long_return</th>\n",
       "      <th>short_return</th>\n",
       "      <th>color</th>\n",
       "    </tr>\n",
       "    <tr>\n",
       "      <th>Date</th>\n",
       "      <th></th>\n",
       "      <th></th>\n",
       "      <th></th>\n",
       "      <th></th>\n",
       "      <th></th>\n",
       "      <th></th>\n",
       "      <th></th>\n",
       "      <th></th>\n",
       "      <th></th>\n",
       "      <th></th>\n",
       "      <th></th>\n",
       "      <th></th>\n",
       "      <th></th>\n",
       "      <th></th>\n",
       "      <th></th>\n",
       "      <th></th>\n",
       "    </tr>\n",
       "  </thead>\n",
       "  <tbody>\n",
       "    <tr>\n",
       "      <th>2018-08-13 09:00:00</th>\n",
       "      <td>943.5</td>\n",
       "      <td>943.6</td>\n",
       "      <td>942.9</td>\n",
       "      <td>943.1</td>\n",
       "      <td>1812</td>\n",
       "      <td>0.2</td>\n",
       "      <td>0.1</td>\n",
       "      <td>0.4</td>\n",
       "      <td>NaN</td>\n",
       "      <td>NaN</td>\n",
       "      <td>943.1</td>\n",
       "      <td>2018-08-13</td>\n",
       "      <td>954.2</td>\n",
       "      <td>11.1</td>\n",
       "      <td>-11.1</td>\n",
       "      <td>do</td>\n",
       "    </tr>\n",
       "    <tr>\n",
       "      <th>2018-08-13 09:05:00</th>\n",
       "      <td>943.1</td>\n",
       "      <td>943.5</td>\n",
       "      <td>942.9</td>\n",
       "      <td>943.3</td>\n",
       "      <td>1323</td>\n",
       "      <td>0.2</td>\n",
       "      <td>0.2</td>\n",
       "      <td>0.2</td>\n",
       "      <td>NaN</td>\n",
       "      <td>NaN</td>\n",
       "      <td>943.2</td>\n",
       "      <td>2018-08-13</td>\n",
       "      <td>954.2</td>\n",
       "      <td>11.0</td>\n",
       "      <td>-11.0</td>\n",
       "      <td>xanh</td>\n",
       "    </tr>\n",
       "    <tr>\n",
       "      <th>2018-08-13 09:10:00</th>\n",
       "      <td>943.2</td>\n",
       "      <td>943.3</td>\n",
       "      <td>942.6</td>\n",
       "      <td>943.1</td>\n",
       "      <td>1207</td>\n",
       "      <td>0.5</td>\n",
       "      <td>0.1</td>\n",
       "      <td>0.1</td>\n",
       "      <td>NaN</td>\n",
       "      <td>NaN</td>\n",
       "      <td>943.1</td>\n",
       "      <td>2018-08-13</td>\n",
       "      <td>954.2</td>\n",
       "      <td>11.1</td>\n",
       "      <td>-11.1</td>\n",
       "      <td>do</td>\n",
       "    </tr>\n",
       "    <tr>\n",
       "      <th>2018-08-13 09:15:00</th>\n",
       "      <td>943.1</td>\n",
       "      <td>943.1</td>\n",
       "      <td>942.3</td>\n",
       "      <td>942.6</td>\n",
       "      <td>1196</td>\n",
       "      <td>0.3</td>\n",
       "      <td>0.0</td>\n",
       "      <td>0.5</td>\n",
       "      <td>NaN</td>\n",
       "      <td>NaN</td>\n",
       "      <td>942.6</td>\n",
       "      <td>2018-08-13</td>\n",
       "      <td>954.2</td>\n",
       "      <td>11.6</td>\n",
       "      <td>-11.6</td>\n",
       "      <td>do</td>\n",
       "    </tr>\n",
       "    <tr>\n",
       "      <th>2018-08-13 09:20:00</th>\n",
       "      <td>942.6</td>\n",
       "      <td>943.7</td>\n",
       "      <td>942.4</td>\n",
       "      <td>943.7</td>\n",
       "      <td>1765</td>\n",
       "      <td>0.2</td>\n",
       "      <td>0.0</td>\n",
       "      <td>1.1</td>\n",
       "      <td>943.160000</td>\n",
       "      <td>NaN</td>\n",
       "      <td>943.8</td>\n",
       "      <td>2018-08-13</td>\n",
       "      <td>954.2</td>\n",
       "      <td>10.4</td>\n",
       "      <td>-10.4</td>\n",
       "      <td>xanh</td>\n",
       "    </tr>\n",
       "    <tr>\n",
       "      <th>...</th>\n",
       "      <td>...</td>\n",
       "      <td>...</td>\n",
       "      <td>...</td>\n",
       "      <td>...</td>\n",
       "      <td>...</td>\n",
       "      <td>...</td>\n",
       "      <td>...</td>\n",
       "      <td>...</td>\n",
       "      <td>...</td>\n",
       "      <td>...</td>\n",
       "      <td>...</td>\n",
       "      <td>...</td>\n",
       "      <td>...</td>\n",
       "      <td>...</td>\n",
       "      <td>...</td>\n",
       "      <td>...</td>\n",
       "    </tr>\n",
       "    <tr>\n",
       "      <th>2024-07-09 14:15:00</th>\n",
       "      <td>1321.3</td>\n",
       "      <td>1321.9</td>\n",
       "      <td>1318.4</td>\n",
       "      <td>1319.1</td>\n",
       "      <td>11670</td>\n",
       "      <td>0.7</td>\n",
       "      <td>0.6</td>\n",
       "      <td>2.2</td>\n",
       "      <td>1318.355191</td>\n",
       "      <td>1315.478801</td>\n",
       "      <td>1319.0</td>\n",
       "      <td>2024-07-09</td>\n",
       "      <td>1320.5</td>\n",
       "      <td>1.5</td>\n",
       "      <td>-1.5</td>\n",
       "      <td>do</td>\n",
       "    </tr>\n",
       "    <tr>\n",
       "      <th>2024-07-09 14:20:00</th>\n",
       "      <td>1319.0</td>\n",
       "      <td>1319.0</td>\n",
       "      <td>1317.3</td>\n",
       "      <td>1317.5</td>\n",
       "      <td>6217</td>\n",
       "      <td>0.2</td>\n",
       "      <td>0.0</td>\n",
       "      <td>1.5</td>\n",
       "      <td>1318.070127</td>\n",
       "      <td>1315.628519</td>\n",
       "      <td>1317.5</td>\n",
       "      <td>2024-07-09</td>\n",
       "      <td>1320.5</td>\n",
       "      <td>3.0</td>\n",
       "      <td>-3.0</td>\n",
       "      <td>do</td>\n",
       "    </tr>\n",
       "    <tr>\n",
       "      <th>2024-07-09 14:25:00</th>\n",
       "      <td>1317.5</td>\n",
       "      <td>1319.9</td>\n",
       "      <td>1317.5</td>\n",
       "      <td>1319.5</td>\n",
       "      <td>6566</td>\n",
       "      <td>0.0</td>\n",
       "      <td>0.4</td>\n",
       "      <td>2.0</td>\n",
       "      <td>1318.546752</td>\n",
       "      <td>1315.915295</td>\n",
       "      <td>1319.4</td>\n",
       "      <td>2024-07-09</td>\n",
       "      <td>1320.5</td>\n",
       "      <td>1.1</td>\n",
       "      <td>-1.1</td>\n",
       "      <td>xanh</td>\n",
       "    </tr>\n",
       "    <tr>\n",
       "      <th>2024-07-09 14:30:00</th>\n",
       "      <td>1319.4</td>\n",
       "      <td>1319.4</td>\n",
       "      <td>1319.4</td>\n",
       "      <td>1319.4</td>\n",
       "      <td>20</td>\n",
       "      <td>0.0</td>\n",
       "      <td>0.0</td>\n",
       "      <td>0.0</td>\n",
       "      <td>1318.831168</td>\n",
       "      <td>1316.173422</td>\n",
       "      <td>1320.5</td>\n",
       "      <td>2024-07-09</td>\n",
       "      <td>1320.5</td>\n",
       "      <td>0.0</td>\n",
       "      <td>0.0</td>\n",
       "      <td>doji</td>\n",
       "    </tr>\n",
       "    <tr>\n",
       "      <th>2024-07-09 14:45:00</th>\n",
       "      <td>1320.5</td>\n",
       "      <td>1320.5</td>\n",
       "      <td>1320.5</td>\n",
       "      <td>1320.5</td>\n",
       "      <td>5689</td>\n",
       "      <td>0.0</td>\n",
       "      <td>0.0</td>\n",
       "      <td>0.0</td>\n",
       "      <td>1319.387445</td>\n",
       "      <td>1316.493909</td>\n",
       "      <td>NaN</td>\n",
       "      <td>2024-07-09</td>\n",
       "      <td>1320.5</td>\n",
       "      <td>NaN</td>\n",
       "      <td>NaN</td>\n",
       "      <td>doji</td>\n",
       "    </tr>\n",
       "  </tbody>\n",
       "</table>\n",
       "<p>74992 rows × 16 columns</p>\n",
       "</div>"
      ],
      "text/plain": [
       "                       Open    High     Low   Close  Volume  lower_shadow  \\\n",
       "Date                                                                        \n",
       "2018-08-13 09:00:00   943.5   943.6   942.9   943.1    1812           0.2   \n",
       "2018-08-13 09:05:00   943.1   943.5   942.9   943.3    1323           0.2   \n",
       "2018-08-13 09:10:00   943.2   943.3   942.6   943.1    1207           0.5   \n",
       "2018-08-13 09:15:00   943.1   943.1   942.3   942.6    1196           0.3   \n",
       "2018-08-13 09:20:00   942.6   943.7   942.4   943.7    1765           0.2   \n",
       "...                     ...     ...     ...     ...     ...           ...   \n",
       "2024-07-09 14:15:00  1321.3  1321.9  1318.4  1319.1   11670           0.7   \n",
       "2024-07-09 14:20:00  1319.0  1319.0  1317.3  1317.5    6217           0.2   \n",
       "2024-07-09 14:25:00  1317.5  1319.9  1317.5  1319.5    6566           0.0   \n",
       "2024-07-09 14:30:00  1319.4  1319.4  1319.4  1319.4      20           0.0   \n",
       "2024-07-09 14:45:00  1320.5  1320.5  1320.5  1320.5    5689           0.0   \n",
       "\n",
       "                     upper_shadow  body        ema_f        ema_l  \\\n",
       "Date                                                                \n",
       "2018-08-13 09:00:00           0.1   0.4          NaN          NaN   \n",
       "2018-08-13 09:05:00           0.2   0.2          NaN          NaN   \n",
       "2018-08-13 09:10:00           0.1   0.1          NaN          NaN   \n",
       "2018-08-13 09:15:00           0.0   0.5          NaN          NaN   \n",
       "2018-08-13 09:20:00           0.0   1.1   943.160000          NaN   \n",
       "...                           ...   ...          ...          ...   \n",
       "2024-07-09 14:15:00           0.6   2.2  1318.355191  1315.478801   \n",
       "2024-07-09 14:20:00           0.0   1.5  1318.070127  1315.628519   \n",
       "2024-07-09 14:25:00           0.4   2.0  1318.546752  1315.915295   \n",
       "2024-07-09 14:30:00           0.0   0.0  1318.831168  1316.173422   \n",
       "2024-07-09 14:45:00           0.0   0.0  1319.387445  1316.493909   \n",
       "\n",
       "                     entry_price     time_d  exit_price  long_return  \\\n",
       "Date                                                                   \n",
       "2018-08-13 09:00:00        943.1 2018-08-13       954.2         11.1   \n",
       "2018-08-13 09:05:00        943.2 2018-08-13       954.2         11.0   \n",
       "2018-08-13 09:10:00        943.1 2018-08-13       954.2         11.1   \n",
       "2018-08-13 09:15:00        942.6 2018-08-13       954.2         11.6   \n",
       "2018-08-13 09:20:00        943.8 2018-08-13       954.2         10.4   \n",
       "...                          ...        ...         ...          ...   \n",
       "2024-07-09 14:15:00       1319.0 2024-07-09      1320.5          1.5   \n",
       "2024-07-09 14:20:00       1317.5 2024-07-09      1320.5          3.0   \n",
       "2024-07-09 14:25:00       1319.4 2024-07-09      1320.5          1.1   \n",
       "2024-07-09 14:30:00       1320.5 2024-07-09      1320.5          0.0   \n",
       "2024-07-09 14:45:00          NaN 2024-07-09      1320.5          NaN   \n",
       "\n",
       "                     short_return color  \n",
       "Date                                     \n",
       "2018-08-13 09:00:00         -11.1    do  \n",
       "2018-08-13 09:05:00         -11.0  xanh  \n",
       "2018-08-13 09:10:00         -11.1    do  \n",
       "2018-08-13 09:15:00         -11.6    do  \n",
       "2018-08-13 09:20:00         -10.4  xanh  \n",
       "...                           ...   ...  \n",
       "2024-07-09 14:15:00          -1.5    do  \n",
       "2024-07-09 14:20:00          -3.0    do  \n",
       "2024-07-09 14:25:00          -1.1  xanh  \n",
       "2024-07-09 14:30:00           0.0  doji  \n",
       "2024-07-09 14:45:00           NaN  doji  \n",
       "\n",
       "[74992 rows x 16 columns]"
      ]
     },
     "execution_count": 4,
     "metadata": {},
     "output_type": "execute_result"
    }
   ],
   "source": [
    "data"
   ]
  },
  {
   "cell_type": "code",
   "execution_count": null,
   "id": "519ff9e2-e87e-43a4-a0a7-44d6e3d9a9a9",
   "metadata": {},
   "outputs": [],
   "source": [
    "# Only trade from 1:45PM to 2:25PM\n",
    "good_time_data = data[(100*data.index.hour + data.index.minute > 1340) & (100*data.index.hour + data.index.minute < 1430)]"
   ]
  },
  {
   "cell_type": "code",
   "execution_count": null,
   "id": "d6256588-9f91-4b5a-a932-b8beda726c1a",
   "metadata": {},
   "outputs": [],
   "source": [
    "good_time_data"
   ]
  },
  {
   "cell_type": "code",
   "execution_count": null,
   "id": "33c87b9e-7390-4b3c-85ba-433bbfa15e39",
   "metadata": {},
   "outputs": [],
   "source": [
    "long_lower_shadow = good_time_data[good_time_data.lower_shadow > 1.6]\n",
    "long_lower_shadow"
   ]
  },
  {
   "cell_type": "code",
   "execution_count": null,
   "id": "16352b09-2e90-41d9-8204-12337939a298",
   "metadata": {},
   "outputs": [],
   "source": [
    "long_lower_shadow['rate_1'] = long_lower_shadow.apply(\n",
    "        lambda r: r['upper_shadow'] / r['lower_shadow'], axis=1)\n",
    "long_lower_shadow['rate_2'] = long_lower_shadow.apply(\n",
    "        lambda r: r['body'] / r['lower_shadow'], axis=1)\n",
    "long_lower_shadow['rate_3'] = long_lower_shadow.apply(\n",
    "        lambda r: (r['body'] + r['upper_shadow']) / r['lower_shadow'], axis=1)\n",
    "long_lower_shadow['rate_3'] = long_lower_shadow['rate_3'].round(2)"
   ]
  },
  {
   "cell_type": "code",
   "execution_count": null,
   "id": "7a273104-534d-483c-afa7-f75dac5991dd",
   "metadata": {},
   "outputs": [],
   "source": [
    "y = long_lower_shadow[(long_lower_shadow.ema_f < long_lower_shadow.ema_l) & (long_lower_shadow.color == 'xanh') & (long_lower_shadow.rate_3 < 0.35)]\n",
    "total_profit = y['long_return'].sum()\n",
    "total_profit"
   ]
  },
  {
   "cell_type": "code",
   "execution_count": null,
   "id": "5e159686-cbc5-41df-8f78-0d0ee9b64346",
   "metadata": {},
   "outputs": [],
   "source": [
    "long_lower_shadow_should_buy = long_lower_shadow[long_lower_shadow['long_return'] > 0]\n",
    "long_lower_shadow_should_not_buy = long_lower_shadow[long_lower_shadow['long_return'] < 0]"
   ]
  },
  {
   "cell_type": "code",
   "execution_count": null,
   "id": "548e2e26-f880-42cb-9aba-e4f138397ddf",
   "metadata": {},
   "outputs": [],
   "source": []
  },
  {
   "cell_type": "code",
   "execution_count": null,
   "id": "68ffd35a-8d8c-4789-8878-cca68adf9a6f",
   "metadata": {},
   "outputs": [],
   "source": [
    "long_lower_shadow_should_buy[[\"lower_shadow\", \"upper_shadow\", \"body\", \"rate_1\", \"rate_2\", \"rate_3\", \"long_return\"]]"
   ]
  },
  {
   "cell_type": "code",
   "execution_count": null,
   "id": "67eb537d-e21b-43bc-ab50-d02528ab6ad5",
   "metadata": {},
   "outputs": [],
   "source": [
    "long_lower_shadow_should_buy[long_lower_shadow_should_buy.color == 'xanh'][\"rate_3\"].describe()"
   ]
  },
  {
   "cell_type": "code",
   "execution_count": null,
   "id": "1b35a64f-5486-489e-8c0c-cff112ecadf5",
   "metadata": {},
   "outputs": [],
   "source": [
    "long_lower_shadow_should_buy[long_lower_shadow_should_buy.color == 'do'][\"rate_3\"].describe()"
   ]
  },
  {
   "cell_type": "code",
   "execution_count": null,
   "id": "735ee7fb-3f2f-470d-a9a3-789bac701070",
   "metadata": {},
   "outputs": [],
   "source": [
    "long_lower_shadow_should_buy"
   ]
  },
  {
   "cell_type": "code",
   "execution_count": null,
   "id": "a542c668-5de0-4071-84b4-7a179c6af5c4",
   "metadata": {},
   "outputs": [],
   "source": [
    "long_lower_shadow_should_buy[[\"long_return\"]].describe()"
   ]
  },
  {
   "cell_type": "code",
   "execution_count": null,
   "id": "719b25f0-eb3a-42fb-af1d-8d26497f1727",
   "metadata": {},
   "outputs": [],
   "source": [
    "long_lower_shadow_should_buy2 = long_lower_shadow[(long_lower_shadow['long_return'] > 3) & (long_lower_shadow['long_return'] < 11)]\n",
    "# long_lower_shadow_should_buy2[[\"rate_3\"]].describe()\n",
    "long_lower_shadow_should_buy2[[\"rate_2\"]].describe()"
   ]
  },
  {
   "cell_type": "code",
   "execution_count": null,
   "id": "62243e86-b216-4b23-8874-47f57eba9ad6",
   "metadata": {},
   "outputs": [],
   "source": [
    "a = long_lower_shadow_should_buy[long_lower_shadow_should_buy.ema_f < long_lower_shadow_should_buy.ema_l]\n",
    "len(a)"
   ]
  },
  {
   "cell_type": "code",
   "execution_count": null,
   "id": "a0bf91f8-e679-49da-a9b1-d4ac12ff5e63",
   "metadata": {},
   "outputs": [],
   "source": [
    "a[[\"rate_2\"]].describe()"
   ]
  },
  {
   "cell_type": "code",
   "execution_count": null,
   "id": "8d8091ac-4f7d-4011-96e6-420c563f187b",
   "metadata": {},
   "outputs": [],
   "source": [
    "b = long_lower_shadow_should_buy[long_lower_shadow_should_buy.ema_f > long_lower_shadow_should_buy.ema_l]\n",
    "len(b)"
   ]
  },
  {
   "cell_type": "code",
   "execution_count": null,
   "id": "da663fa9-8cc0-4ad2-8343-dc20fc3517d8",
   "metadata": {},
   "outputs": [],
   "source": [
    "c = long_lower_shadow_should_not_buy[long_lower_shadow_should_not_buy.ema_f < long_lower_shadow_should_not_buy.ema_l]\n",
    "len(c)"
   ]
  },
  {
   "cell_type": "code",
   "execution_count": null,
   "id": "eb422ea2-6a14-4a5e-b4bd-9b8ebc85efdd",
   "metadata": {},
   "outputs": [],
   "source": [
    "plt.plot(long_lower_shadow_should_buy['rate_1'], long_lower_shadow_should_buy['rate_2'], 'o')"
   ]
  },
  {
   "cell_type": "code",
   "execution_count": null,
   "id": "c1e4ecd6-75e6-474a-b633-d643f89c779b",
   "metadata": {},
   "outputs": [],
   "source": [
    "plt.plot(long_lower_shadow_should_not_buy['rate_1'], long_lower_shadow_should_not_buy['rate_2'], 'o')"
   ]
  },
  {
   "cell_type": "code",
   "execution_count": null,
   "id": "b8a4281b-5525-48e2-9bb9-d97d61223a19",
   "metadata": {},
   "outputs": [],
   "source": [
    "data02 = dataset.copy()\n",
    "data02['h1'] = data02['High'] - data02['High'].shift(1)\n",
    "data02['h2'] = data02['High'] - data02['High'].shift(2)\n",
    "data02['c1'] = data02['Close'] - data02['Close'].shift(1)\n",
    "data02['c2'] = data02['Close'] - data02['Close'].shift(2)\n",
    "data02['o1'] = data02['Open'] - data02['Open'].shift(1)\n",
    "data02['o2'] = data02['Open'] - data02['Open'].shift(2)\n",
    "data02['l1'] = data02['Low'] - data02['Low'].shift(1)\n",
    "data02['l2'] = data02['Low'] - data02['Low'].shift(2)\n",
    "data02.dropna(inplace=True)\n",
    "k = data02[['h1', 'h2', 'c1', 'c2', 'o1', 'o2', 'l1', 'l2']]\n",
    "k"
   ]
  },
  {
   "cell_type": "code",
   "execution_count": null,
   "id": "28119052-30e6-4ec8-ac9f-fb744d566b45",
   "metadata": {},
   "outputs": [],
   "source": [
    "# import pickle\n",
    "# trainner_file = str(algo_dir) + '/VN30ps/kmean_clusters/kmeans.pickle'"
   ]
  },
  {
   "cell_type": "code",
   "execution_count": null,
   "id": "a3dd871d-8b7c-4c68-b542-b84b4b1f5cc0",
   "metadata": {},
   "outputs": [],
   "source": [
    "from sklearn.cluster import KMeans\n",
    "X = k.to_numpy()\n",
    "trainner_file_existed = os.path.isfile(trainner_file)\n",
    "# if trainner_file_existed:\n",
    "#     with open(trainner_file, 'rb') as f:\n",
    "#         kmeans = pickle.load(f)\n",
    "# else:\n",
    "#     kmeans = KMeans(n_clusters=39, random_state=0).fit(X)\n",
    "#     with open(trainner_file, 'wb') as fp:\n",
    "#         pickle.dump(kmeans, fp)\n",
    "kmeans = KMeans(n_clusters=39, random_state=0).fit(X)\n",
    "pred_label = kmeans.predict(X)\n",
    "pred_label"
   ]
  },
  {
   "cell_type": "code",
   "execution_count": null,
   "id": "2e5cf03a-c292-42eb-a423-600ee207eccb",
   "metadata": {},
   "outputs": [],
   "source": [
    "k = k.assign(Nhom=pred_label)"
   ]
  },
  {
   "cell_type": "code",
   "execution_count": null,
   "id": "30e7aa62-420c-4307-9720-ac20b0355fbb",
   "metadata": {},
   "outputs": [],
   "source": [
    "k"
   ]
  },
  {
   "cell_type": "code",
   "execution_count": null,
   "id": "f5e7436a-84af-4708-8eea-9e913167e592",
   "metadata": {},
   "outputs": [],
   "source": [
    "k[k.index == '2024-06-19 10:05:00']"
   ]
  },
  {
   "cell_type": "code",
   "execution_count": null,
   "id": "a6fac68c-c100-4410-a501-fb9e4790b780",
   "metadata": {},
   "outputs": [],
   "source": [
    "k[k.index == '2024-06-19 10:10:00']"
   ]
  },
  {
   "cell_type": "code",
   "execution_count": null,
   "id": "4675b793-ca91-4a44-9170-8f232ac7475b",
   "metadata": {},
   "outputs": [],
   "source": [
    "k[k.index == '2024-06-19 10:20:00']"
   ]
  },
  {
   "cell_type": "code",
   "execution_count": null,
   "id": "4bb7e93f-bc7e-482f-85f2-2ca15b94cbc4",
   "metadata": {},
   "outputs": [],
   "source": [
    "k[(k.index == '2024-06-19 10:05:00') | (k.index == '2024-06-19 13:45:00') | (k.index == '2024-06-19 13:50:00')]"
   ]
  },
  {
   "cell_type": "code",
   "execution_count": null,
   "id": "66c2f2b6-1ee2-4dc2-8fe1-deae28fd065f",
   "metadata": {},
   "outputs": [],
   "source": [
    "k[k.Nhom == 7]"
   ]
  },
  {
   "cell_type": "code",
   "execution_count": null,
   "id": "97e57a8e-57f4-4726-aa1b-04ebc7018c7a",
   "metadata": {},
   "outputs": [],
   "source": [
    "k[((k.index > '2024-06-18 09:15:00') & (k.index < '2024-06-18 14:15:00') & (k.Nhom == 0)) | (k.index == '2024-06-19 10:20:00')]"
   ]
  },
  {
   "cell_type": "code",
   "execution_count": null,
   "id": "ed242a9f-5482-4558-a115-b18f8d687c7d",
   "metadata": {},
   "outputs": [],
   "source": [
    "k[k.index == '2024-06-19 14:20:00']"
   ]
  },
  {
   "cell_type": "code",
   "execution_count": null,
   "id": "1eda5f3c-3d26-4b31-a6f4-e4112bd4c410",
   "metadata": {},
   "outputs": [],
   "source": [
    "k[((k.index > '2024-06-18 09:15:00') & (k.index < '2024-06-18 14:15:00') & (k.Nhom == 2)) | (k.index == '2024-06-19 14:20:00')]"
   ]
  },
  {
   "cell_type": "code",
   "execution_count": null,
   "id": "042659a1-0ff1-4325-9078-b79c01f4a4e0",
   "metadata": {},
   "outputs": [],
   "source": [
    "k[k.index == '2024-06-18 14:00:00']"
   ]
  },
  {
   "cell_type": "code",
   "execution_count": null,
   "id": "61fa350d-77f9-4e7e-b505-397aac7a8b3c",
   "metadata": {},
   "outputs": [],
   "source": [
    "data03 = dataset.copy()\n",
    "#upper shadow\n",
    "data03['us_1'] = data03.apply(\n",
    "    lambda r: r['High'] - max(r['Open'], r['Close']), axis=1\n",
    ")\n",
    "data03['bd_1'] = data03.apply(\n",
    "    lambda r: r['Close'] - r['Open'], axis=1\n",
    ")\n",
    "data03['ls_1'] = data03.apply(\n",
    "    lambda r: min(r['Open'], r['Close']) - r['Low'], axis=1\n",
    ")\n",
    "data03['us_2'] = data03['us_1'].shift(1)\n",
    "data03['bd_2'] = data03['bd_1'].shift(1)\n",
    "data03['ls_2'] = data03['ls_1'].shift(1)\n",
    "data03['us_3'] = data03['us_1'].shift(2)\n",
    "data03['bd_3'] = data03['bd_1'].shift(2)\n",
    "data03['ls_3'] = data03['ls_1'].shift(2)\n",
    "data03.dropna(inplace=True)\n",
    "k2 = data03[['us_1', 'bd_1', 'ls_1', 'us_2', 'bd_2', 'ls_2', 'us_3', 'bd_3', 'ls_3']]\n",
    "k2"
   ]
  },
  {
   "cell_type": "code",
   "execution_count": null,
   "id": "97be752f-83b5-4c56-9efa-4bfa909e8cf1",
   "metadata": {},
   "outputs": [],
   "source": [
    "X2 = k2.to_numpy()\n",
    "kmeans = KMeans(n_clusters=19, random_state=0).fit(X2)\n",
    "g2 = kmeans.predict(X2)\n",
    "g2"
   ]
  },
  {
   "cell_type": "code",
   "execution_count": null,
   "id": "01458b23-398e-40bc-be55-fcd0775ac621",
   "metadata": {},
   "outputs": [],
   "source": [
    "k2 = k2.assign(Nhom=g2)"
   ]
  },
  {
   "cell_type": "code",
   "execution_count": null,
   "id": "1c984a40-ffcf-4db8-9425-d9494d15a09a",
   "metadata": {},
   "outputs": [],
   "source": [
    "k2[(k2.index == '2024-06-18 14:00:00') | (k2.index == '2024-06-18 14:05:00')]"
   ]
  },
  {
   "cell_type": "code",
   "execution_count": null,
   "id": "ba7ff13e-0b40-42df-81f3-8a656523d6e7",
   "metadata": {},
   "outputs": [],
   "source": [
    "k2[((k2.index > '2024-06-19 09:15:00') & (k2.index < '2024-06-19 14:15:00') & (k2.Nhom == 10)) | (k2.index == '2024-06-18 14:00:00')]"
   ]
  },
  {
   "cell_type": "code",
   "execution_count": null,
   "id": "5c719a45-a05f-40ec-94e6-e41b44ef5e6e",
   "metadata": {},
   "outputs": [],
   "source": [
    "k2[k2.Nhom == 10]"
   ]
  },
  {
   "cell_type": "code",
   "execution_count": null,
   "id": "4b15ce8d-c2f9-43dc-894b-9a3f4128aa5a",
   "metadata": {},
   "outputs": [],
   "source": []
  }
 ],
 "metadata": {
  "kernelspec": {
   "display_name": "Python 3 (ipykernel)",
   "language": "python",
   "name": "python3"
  },
  "language_info": {
   "codemirror_mode": {
    "name": "ipython",
    "version": 3
   },
   "file_extension": ".py",
   "mimetype": "text/x-python",
   "name": "python",
   "nbconvert_exporter": "python",
   "pygments_lexer": "ipython3",
   "version": "3.11.4"
  }
 },
 "nbformat": 4,
 "nbformat_minor": 5
}
