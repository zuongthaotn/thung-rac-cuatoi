{
 "cells": [
  {
   "cell_type": "markdown",
   "id": "3115db54-3901-4550-a1bd-5a8a20d72b0d",
   "metadata": {},
   "source": [
    "# Template Live data"
   ]
  },
  {
   "cell_type": "markdown",
   "id": "e871760f-1e02-4afc-a7a7-61cc224168a9",
   "metadata": {},
   "source": [
    "### Import Library"
   ]
  },
  {
   "cell_type": "code",
   "execution_count": 2,
   "id": "c8b95dfa-c6c7-4ba3-91ae-c849ed0ff2eb",
   "metadata": {},
   "outputs": [],
   "source": [
    "import numpy as np\n",
    "import pandas as pd\n",
    "import seaborn as sns\n",
    "import time\n",
    "from datetime import date, datetime\n",
    "from dateutil.relativedelta import relativedelta\n",
    "import requests\n",
    "\n",
    "import matplotlib.pyplot as plt\n",
    "plt.rcParams['figure.figsize'] = [12, 6]\n",
    "plt.rcParams['figure.dpi'] = 120\n",
    "\n",
    "import warnings\n",
    "warnings.filterwarnings('ignore')"
   ]
  },
  {
   "cell_type": "code",
   "execution_count": 3,
   "id": "68404bad-5f97-457e-ac17-c2e9b7fd4564",
   "metadata": {},
   "outputs": [],
   "source": [
    "USER_AGENTS = [\n",
    "    \"Mozilla/5.0 (Macintosh; Intel Mac OS X 10_15_7) AppleWebKit/537.36 (KHTML, like Gecko) Chrome/100.0.4896.127 Safari/537.36\",\n",
    "    \"Mozilla/5.0 (Windows NT 10.0; Win64; x64) AppleWebKit/537.36 (KHTML, like Gecko) Chrome/99.0.4844.51 Safari/537.36\",\n",
    "    \"Mozilla/5.0 (Windows NT 10.0; Win64; x64) AppleWebKit/537.36 (KHTML, like Gecko) Chrome/101.0.4951.41 Safari/537.36\",\n",
    "    \"Mozilla/5.0 (Macintosh; Intel Mac OS X 12_3_1) AppleWebKit/537.36 (KHTML, like Gecko) Chrome/101.0.4951.41 Safari/537.36\",\n",
    "    \"Mozilla/5.0 (X11; Linux x86_64) AppleWebKit/537.36 (KHTML, like Gecko) Chrome/101.0.4951.41 Safari/537.36\"\n",
    "]\n",
    "\n",
    "HEADERS = {'User-Agent': 'Mozilla/5.0 (Macintosh; Intel Mac OS X 10_11_5) AppleWebKit/537.36 (KHTML, like Gecko) Chrome/50.0.2661.102 Safari/537.36'}\n",
    "VNDIRECT_DATA_HISTORY_URL = 'https://dchart-api.vndirect.com.vn/dchart/history'\n",
    "URL = VNDIRECT_DATA_HISTORY_URL"
   ]
  },
  {
   "cell_type": "code",
   "execution_count": 4,
   "id": "7b9af668-bcc2-4143-bc2f-f51ac06cd897",
   "metadata": {},
   "outputs": [],
   "source": [
    "def getStockHistoryData(ticker, timestamp_from=0, timestamp_to=0):\n",
    "    if timestamp_from == 0:\n",
    "        three_months = date.today() + relativedelta(months=-3)\n",
    "        timestamp_from = datetime.strptime(three_months.strftime(\"%m/%d/%Y\") + ', 00:00:0', \"%m/%d/%Y, %H:%M:%S\")\\\n",
    "            .timestamp()\n",
    "    if timestamp_to == 0:\n",
    "        timestamp_to = datetime.strptime(date.today().strftime(\"%m/%d/%Y\") + ', 23:59:00', \"%m/%d/%Y, %H:%M:%S\")\\\n",
    "            .timestamp()\n",
    "\n",
    "    params = {\n",
    "        \"resolution\": \"5\",\n",
    "        \"symbol\": str(ticker),\n",
    "        \"from\": int(timestamp_from),\n",
    "        \"to\": int(timestamp_to)\n",
    "    }\n",
    "\n",
    "    x = requests.get(URL, params=params, headers=HEADERS)\n",
    "    response = x.json()\n",
    "\n",
    "    import numpy as np\n",
    "    import pandas as pd\n",
    "\n",
    "    timestamp = np.array(response['t']).astype(int)\n",
    "    close = np.array(response['c']).astype(float)\n",
    "    open = np.array(response['o']).astype(float)\n",
    "    high = np.array(response['h']).astype(float)\n",
    "    low = np.array(response['l']).astype(float)\n",
    "    volume = np.array(response['v']).astype(int)\n",
    "\n",
    "    dataset = pd.DataFrame({'Time': timestamp, 'Open': list(open), 'High': list(high), 'Low': list(low),\n",
    "                            'Close': list(close), 'Volume': list(volume)},\n",
    "                           columns=['Time', 'Open', 'High', 'Low', 'Close', 'Volume'])\n",
    "    return dataset"
   ]
  },
  {
   "cell_type": "code",
   "execution_count": 5,
   "id": "19e88807-2e3e-4215-a47d-57631cd03fd2",
   "metadata": {},
   "outputs": [],
   "source": [
    "def prepareData(htd):\n",
    "    if 'Time' in htd.columns:\n",
    "        from datetime import datetime\n",
    "\n",
    "        htd['DateStr'] = htd.apply(\n",
    "            lambda x: datetime.fromtimestamp(x['Time']).strftime(\"%Y-%m-%d %H:%M:%S\"), axis=1)\n",
    "\n",
    "    htd['Date'] = pd.to_datetime(htd['DateStr'])\n",
    "    ticker_data = htd.set_index('Date')\n",
    "    ticker_data.drop(columns=['Time', 'DateStr'], inplace=True)\n",
    "    return ticker_data"
   ]
  },
  {
   "cell_type": "markdown",
   "id": "ff429d92-0be8-4e3d-83b4-1b61a7a0b163",
   "metadata": {},
   "source": [
    "### Load Price Data"
   ]
  },
  {
   "cell_type": "code",
   "execution_count": null,
   "id": "f52c64a4-2b72-434d-a162-1ecd8adf6cf2",
   "metadata": {},
   "outputs": [],
   "source": [
    "ticker = \"VN30F1M\"\n",
    "htd = getStockHistoryData(ticker, 0, 0)\n",
    "ticker_data = prepareData(htd)\n",
    "ticker_data = ticker_data.dropna()\n",
    "ticker_data"
   ]
  }
 ],
 "metadata": {
  "kernelspec": {
   "display_name": "Python 3 (ipykernel)",
   "language": "python",
   "name": "python3"
  },
  "language_info": {
   "codemirror_mode": {
    "name": "ipython",
    "version": 3
   },
   "file_extension": ".py",
   "mimetype": "text/x-python",
   "name": "python",
   "nbconvert_exporter": "python",
   "pygments_lexer": "ipython3",
   "version": "3.10.12"
  }
 },
 "nbformat": 4,
 "nbformat_minor": 5
}
