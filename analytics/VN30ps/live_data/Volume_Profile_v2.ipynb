{
 "cells": [
  {
   "cell_type": "markdown",
   "id": "d63d6d0d-23a5-442b-8e26-84378cefa4cd",
   "metadata": {},
   "source": [
    "## VN30F1M 5m timeframe - volume profile"
   ]
  },
  {
   "cell_type": "code",
   "execution_count": 22,
   "id": "1475ca4b-6320-40b0-86eb-b3c999bf68f7",
   "metadata": {},
   "outputs": [],
   "source": [
    "import numpy as np\n",
    "import pandas as pd\n",
    "import seaborn as sns\n",
    "import time\n",
    "from datetime import date, datetime\n",
    "from dateutil.relativedelta import relativedelta\n",
    "import requests\n",
    "\n",
    "import matplotlib.pyplot as plt\n",
    "plt.rcParams['figure.figsize'] = [12, 6]\n",
    "plt.rcParams['figure.dpi'] = 120\n",
    "\n",
    "import warnings\n",
    "warnings.filterwarnings('ignore')"
   ]
  },
  {
   "cell_type": "code",
   "execution_count": 23,
   "id": "2abe406a-a205-48e4-b4dc-4b33451b1ec9",
   "metadata": {},
   "outputs": [],
   "source": [
    "USER_AGENTS = [\n",
    "    \"Mozilla/5.0 (Macintosh; Intel Mac OS X 10_15_7) AppleWebKit/537.36 (KHTML, like Gecko) Chrome/100.0.4896.127 Safari/537.36\",\n",
    "    \"Mozilla/5.0 (Windows NT 10.0; Win64; x64) AppleWebKit/537.36 (KHTML, like Gecko) Chrome/99.0.4844.51 Safari/537.36\",\n",
    "    \"Mozilla/5.0 (Windows NT 10.0; Win64; x64) AppleWebKit/537.36 (KHTML, like Gecko) Chrome/101.0.4951.41 Safari/537.36\",\n",
    "    \"Mozilla/5.0 (Macintosh; Intel Mac OS X 12_3_1) AppleWebKit/537.36 (KHTML, like Gecko) Chrome/101.0.4951.41 Safari/537.36\",\n",
    "    \"Mozilla/5.0 (X11; Linux x86_64) AppleWebKit/537.36 (KHTML, like Gecko) Chrome/101.0.4951.41 Safari/537.36\"\n",
    "]\n",
    "\n",
    "HEADERS = {'User-Agent': 'Mozilla/5.0 (Macintosh; Intel Mac OS X 10_11_5) AppleWebKit/537.36 (KHTML, like Gecko) Chrome/50.0.2661.102 Safari/537.36'}\n",
    "VNDIRECT_DATA_HISTORY_URL = 'https://dchart-api.vndirect.com.vn/dchart/history'\n",
    "URL = VNDIRECT_DATA_HISTORY_URL"
   ]
  },
  {
   "cell_type": "code",
   "execution_count": 24,
   "id": "0e5abd72-7e40-42a4-8c7b-b61a332eccb5",
   "metadata": {},
   "outputs": [],
   "source": [
    "def getStockHistoryData(ticker, timestamp_from=0, timestamp_to=0):\n",
    "    if timestamp_from == 0:\n",
    "        three_months = date.today() + relativedelta(months=-3)\n",
    "        timestamp_from = datetime.strptime(three_months.strftime(\"%m/%d/%Y\") + ', 00:00:0', \"%m/%d/%Y, %H:%M:%S\")\\\n",
    "            .timestamp()\n",
    "    if timestamp_to == 0:\n",
    "        timestamp_to = datetime.strptime(date.today().strftime(\"%m/%d/%Y\") + ', 23:59:00', \"%m/%d/%Y, %H:%M:%S\")\\\n",
    "            .timestamp()\n",
    "\n",
    "    params = {\n",
    "        \"resolution\": \"5\",\n",
    "        \"symbol\": str(ticker),\n",
    "        \"from\": int(timestamp_from),\n",
    "        \"to\": int(timestamp_to)\n",
    "    }\n",
    "\n",
    "    x = requests.get(URL, params=params, headers=HEADERS)\n",
    "    response = x.json()\n",
    "\n",
    "    import numpy as np\n",
    "    import pandas as pd\n",
    "\n",
    "    timestamp = np.array(response['t']).astype(int)\n",
    "    close = np.array(response['c']).astype(float)\n",
    "    open = np.array(response['o']).astype(float)\n",
    "    high = np.array(response['h']).astype(float)\n",
    "    low = np.array(response['l']).astype(float)\n",
    "    volume = np.array(response['v']).astype(int)\n",
    "\n",
    "    dataset = pd.DataFrame({'Time': timestamp, 'Open': list(open), 'High': list(high), 'Low': list(low),\n",
    "                            'Close': list(close), 'Volume': list(volume)},\n",
    "                           columns=['Time', 'Open', 'High', 'Low', 'Close', 'Volume'])\n",
    "    return dataset"
   ]
  },
  {
   "cell_type": "code",
   "execution_count": 25,
   "id": "4291bb0d-5c77-4f94-a64d-84ef3ef70491",
   "metadata": {},
   "outputs": [],
   "source": [
    "def prepareData(htd):\n",
    "    if 'Time' in htd.columns:\n",
    "        from datetime import datetime\n",
    "\n",
    "        htd['DateStr'] = htd.apply(\n",
    "            lambda x: datetime.fromtimestamp(x['Time']).strftime(\"%Y-%m-%d %H:%M:%S\"), axis=1)\n",
    "\n",
    "    htd['Date'] = pd.to_datetime(htd['DateStr'])\n",
    "    # htd['Date'] = htd['Date'] + pd.DateOffset(hours=7)\n",
    "    ticker_data = htd.set_index('Date')\n",
    "    ticker_data.drop(columns=['Time', 'DateStr'], inplace=True)\n",
    "    return ticker_data"
   ]
  },
  {
   "cell_type": "code",
   "execution_count": 26,
   "id": "2a1e6aa6-0612-4066-8a29-0158fa6102ad",
   "metadata": {},
   "outputs": [
    {
     "data": {
      "text/html": [
       "<div>\n",
       "<style scoped>\n",
       "    .dataframe tbody tr th:only-of-type {\n",
       "        vertical-align: middle;\n",
       "    }\n",
       "\n",
       "    .dataframe tbody tr th {\n",
       "        vertical-align: top;\n",
       "    }\n",
       "\n",
       "    .dataframe thead th {\n",
       "        text-align: right;\n",
       "    }\n",
       "</style>\n",
       "<table border=\"1\" class=\"dataframe\">\n",
       "  <thead>\n",
       "    <tr style=\"text-align: right;\">\n",
       "      <th></th>\n",
       "      <th>Open</th>\n",
       "      <th>High</th>\n",
       "      <th>Low</th>\n",
       "      <th>Close</th>\n",
       "      <th>Volume</th>\n",
       "    </tr>\n",
       "    <tr>\n",
       "      <th>Date</th>\n",
       "      <th></th>\n",
       "      <th></th>\n",
       "      <th></th>\n",
       "      <th></th>\n",
       "      <th></th>\n",
       "    </tr>\n",
       "  </thead>\n",
       "  <tbody>\n",
       "    <tr>\n",
       "      <th>2024-07-01 09:00:00</th>\n",
       "      <td>1277.7</td>\n",
       "      <td>1279.4</td>\n",
       "      <td>1276.8</td>\n",
       "      <td>1277.5</td>\n",
       "      <td>7924</td>\n",
       "    </tr>\n",
       "    <tr>\n",
       "      <th>2024-07-01 09:05:00</th>\n",
       "      <td>1277.5</td>\n",
       "      <td>1277.6</td>\n",
       "      <td>1276.0</td>\n",
       "      <td>1276.7</td>\n",
       "      <td>2247</td>\n",
       "    </tr>\n",
       "    <tr>\n",
       "      <th>2024-07-01 09:10:00</th>\n",
       "      <td>1276.8</td>\n",
       "      <td>1277.2</td>\n",
       "      <td>1276.6</td>\n",
       "      <td>1276.8</td>\n",
       "      <td>1713</td>\n",
       "    </tr>\n",
       "    <tr>\n",
       "      <th>2024-07-01 09:15:00</th>\n",
       "      <td>1276.9</td>\n",
       "      <td>1277.7</td>\n",
       "      <td>1275.0</td>\n",
       "      <td>1275.4</td>\n",
       "      <td>4143</td>\n",
       "    </tr>\n",
       "    <tr>\n",
       "      <th>2024-07-01 09:20:00</th>\n",
       "      <td>1275.5</td>\n",
       "      <td>1275.6</td>\n",
       "      <td>1274.7</td>\n",
       "      <td>1275.0</td>\n",
       "      <td>4204</td>\n",
       "    </tr>\n",
       "    <tr>\n",
       "      <th>...</th>\n",
       "      <td>...</td>\n",
       "      <td>...</td>\n",
       "      <td>...</td>\n",
       "      <td>...</td>\n",
       "      <td>...</td>\n",
       "    </tr>\n",
       "    <tr>\n",
       "      <th>2024-09-27 14:15:00</th>\n",
       "      <td>1354.0</td>\n",
       "      <td>1354.0</td>\n",
       "      <td>1350.9</td>\n",
       "      <td>1352.5</td>\n",
       "      <td>12708</td>\n",
       "    </tr>\n",
       "    <tr>\n",
       "      <th>2024-09-27 14:20:00</th>\n",
       "      <td>1352.9</td>\n",
       "      <td>1354.4</td>\n",
       "      <td>1352.2</td>\n",
       "      <td>1354.0</td>\n",
       "      <td>8024</td>\n",
       "    </tr>\n",
       "    <tr>\n",
       "      <th>2024-09-27 14:25:00</th>\n",
       "      <td>1354.0</td>\n",
       "      <td>1356.6</td>\n",
       "      <td>1354.0</td>\n",
       "      <td>1355.6</td>\n",
       "      <td>8764</td>\n",
       "    </tr>\n",
       "    <tr>\n",
       "      <th>2024-09-27 14:30:00</th>\n",
       "      <td>1356.0</td>\n",
       "      <td>1356.0</td>\n",
       "      <td>1356.0</td>\n",
       "      <td>1356.0</td>\n",
       "      <td>88</td>\n",
       "    </tr>\n",
       "    <tr>\n",
       "      <th>2024-09-27 14:45:00</th>\n",
       "      <td>1355.5</td>\n",
       "      <td>1355.5</td>\n",
       "      <td>1355.5</td>\n",
       "      <td>1355.5</td>\n",
       "      <td>6060</td>\n",
       "    </tr>\n",
       "  </tbody>\n",
       "</table>\n",
       "<p>3213 rows × 5 columns</p>\n",
       "</div>"
      ],
      "text/plain": [
       "                       Open    High     Low   Close  Volume\n",
       "Date                                                       \n",
       "2024-07-01 09:00:00  1277.7  1279.4  1276.8  1277.5    7924\n",
       "2024-07-01 09:05:00  1277.5  1277.6  1276.0  1276.7    2247\n",
       "2024-07-01 09:10:00  1276.8  1277.2  1276.6  1276.8    1713\n",
       "2024-07-01 09:15:00  1276.9  1277.7  1275.0  1275.4    4143\n",
       "2024-07-01 09:20:00  1275.5  1275.6  1274.7  1275.0    4204\n",
       "...                     ...     ...     ...     ...     ...\n",
       "2024-09-27 14:15:00  1354.0  1354.0  1350.9  1352.5   12708\n",
       "2024-09-27 14:20:00  1352.9  1354.4  1352.2  1354.0    8024\n",
       "2024-09-27 14:25:00  1354.0  1356.6  1354.0  1355.6    8764\n",
       "2024-09-27 14:30:00  1356.0  1356.0  1356.0  1356.0      88\n",
       "2024-09-27 14:45:00  1355.5  1355.5  1355.5  1355.5    6060\n",
       "\n",
       "[3213 rows x 5 columns]"
      ]
     },
     "execution_count": 26,
     "metadata": {},
     "output_type": "execute_result"
    }
   ],
   "source": [
    "ticker = \"VN30F1M\"\n",
    "htd = getStockHistoryData(ticker, 0, 0)\n",
    "data = prepareData(htd)\n",
    "data = data.dropna()\n",
    "data"
   ]
  },
  {
   "cell_type": "code",
   "execution_count": 27,
   "id": "6618e577-7352-4c5d-98ef-38444927a1bc",
   "metadata": {},
   "outputs": [
    {
     "data": {
      "text/html": [
       "<div>\n",
       "<style scoped>\n",
       "    .dataframe tbody tr th:only-of-type {\n",
       "        vertical-align: middle;\n",
       "    }\n",
       "\n",
       "    .dataframe tbody tr th {\n",
       "        vertical-align: top;\n",
       "    }\n",
       "\n",
       "    .dataframe thead th {\n",
       "        text-align: right;\n",
       "    }\n",
       "</style>\n",
       "<table border=\"1\" class=\"dataframe\">\n",
       "  <thead>\n",
       "    <tr style=\"text-align: right;\">\n",
       "      <th></th>\n",
       "      <th>Open</th>\n",
       "      <th>High</th>\n",
       "      <th>Low</th>\n",
       "      <th>Close</th>\n",
       "      <th>Volume</th>\n",
       "    </tr>\n",
       "    <tr>\n",
       "      <th>Date</th>\n",
       "      <th></th>\n",
       "      <th></th>\n",
       "      <th></th>\n",
       "      <th></th>\n",
       "      <th></th>\n",
       "    </tr>\n",
       "  </thead>\n",
       "  <tbody>\n",
       "    <tr>\n",
       "      <th>2024-08-16 09:00:00</th>\n",
       "      <td>1271.5</td>\n",
       "      <td>1271.5</td>\n",
       "      <td>1269.8</td>\n",
       "      <td>1270.2</td>\n",
       "      <td>9092</td>\n",
       "    </tr>\n",
       "    <tr>\n",
       "      <th>2024-08-16 09:05:00</th>\n",
       "      <td>1270.4</td>\n",
       "      <td>1270.4</td>\n",
       "      <td>1269.1</td>\n",
       "      <td>1269.3</td>\n",
       "      <td>3940</td>\n",
       "    </tr>\n",
       "    <tr>\n",
       "      <th>2024-08-16 09:10:00</th>\n",
       "      <td>1269.4</td>\n",
       "      <td>1269.8</td>\n",
       "      <td>1269.2</td>\n",
       "      <td>1269.8</td>\n",
       "      <td>2178</td>\n",
       "    </tr>\n",
       "    <tr>\n",
       "      <th>2024-08-16 09:15:00</th>\n",
       "      <td>1269.8</td>\n",
       "      <td>1270.2</td>\n",
       "      <td>1269.5</td>\n",
       "      <td>1269.8</td>\n",
       "      <td>3836</td>\n",
       "    </tr>\n",
       "    <tr>\n",
       "      <th>2024-08-16 09:20:00</th>\n",
       "      <td>1269.7</td>\n",
       "      <td>1269.9</td>\n",
       "      <td>1269.0</td>\n",
       "      <td>1269.3</td>\n",
       "      <td>1843</td>\n",
       "    </tr>\n",
       "    <tr>\n",
       "      <th>...</th>\n",
       "      <td>...</td>\n",
       "      <td>...</td>\n",
       "      <td>...</td>\n",
       "      <td>...</td>\n",
       "      <td>...</td>\n",
       "    </tr>\n",
       "    <tr>\n",
       "      <th>2024-09-19 14:15:00</th>\n",
       "      <td>1317.5</td>\n",
       "      <td>1318.7</td>\n",
       "      <td>1316.4</td>\n",
       "      <td>1316.5</td>\n",
       "      <td>5738</td>\n",
       "    </tr>\n",
       "    <tr>\n",
       "      <th>2024-09-19 14:20:00</th>\n",
       "      <td>1316.6</td>\n",
       "      <td>1317.4</td>\n",
       "      <td>1316.5</td>\n",
       "      <td>1317.0</td>\n",
       "      <td>2494</td>\n",
       "    </tr>\n",
       "    <tr>\n",
       "      <th>2024-09-19 14:25:00</th>\n",
       "      <td>1317.0</td>\n",
       "      <td>1317.2</td>\n",
       "      <td>1316.7</td>\n",
       "      <td>1316.8</td>\n",
       "      <td>4434</td>\n",
       "    </tr>\n",
       "    <tr>\n",
       "      <th>2024-09-19 14:30:00</th>\n",
       "      <td>1316.9</td>\n",
       "      <td>1316.9</td>\n",
       "      <td>1316.9</td>\n",
       "      <td>1316.9</td>\n",
       "      <td>10</td>\n",
       "    </tr>\n",
       "    <tr>\n",
       "      <th>2024-09-19 14:45:00</th>\n",
       "      <td>1316.9</td>\n",
       "      <td>1316.9</td>\n",
       "      <td>1316.9</td>\n",
       "      <td>1316.9</td>\n",
       "      <td>4730</td>\n",
       "    </tr>\n",
       "  </tbody>\n",
       "</table>\n",
       "<p>1173 rows × 5 columns</p>\n",
       "</div>"
      ],
      "text/plain": [
       "                       Open    High     Low   Close  Volume\n",
       "Date                                                       \n",
       "2024-08-16 09:00:00  1271.5  1271.5  1269.8  1270.2    9092\n",
       "2024-08-16 09:05:00  1270.4  1270.4  1269.1  1269.3    3940\n",
       "2024-08-16 09:10:00  1269.4  1269.8  1269.2  1269.8    2178\n",
       "2024-08-16 09:15:00  1269.8  1270.2  1269.5  1269.8    3836\n",
       "2024-08-16 09:20:00  1269.7  1269.9  1269.0  1269.3    1843\n",
       "...                     ...     ...     ...     ...     ...\n",
       "2024-09-19 14:15:00  1317.5  1318.7  1316.4  1316.5    5738\n",
       "2024-09-19 14:20:00  1316.6  1317.4  1316.5  1317.0    2494\n",
       "2024-09-19 14:25:00  1317.0  1317.2  1316.7  1316.8    4434\n",
       "2024-09-19 14:30:00  1316.9  1316.9  1316.9  1316.9      10\n",
       "2024-09-19 14:45:00  1316.9  1316.9  1316.9  1316.9    4730\n",
       "\n",
       "[1173 rows x 5 columns]"
      ]
     },
     "execution_count": 27,
     "metadata": {},
     "output_type": "execute_result"
    }
   ],
   "source": [
    "# ngay dao han phai sinh\n",
    "data_total = data[(data.index > '2024-08-16 08:00:00') & (data.index < '2024-09-19 23:00:00')]\n",
    "data_total"
   ]
  },
  {
   "cell_type": "code",
   "execution_count": 28,
   "id": "08ab5f06-855a-419c-9055-3baeed8b5637",
   "metadata": {},
   "outputs": [],
   "source": [
    "data_total['value'] = data_total['Close'] * data_total['Volume']"
   ]
  },
  {
   "cell_type": "code",
   "execution_count": 29,
   "id": "5756a3a8-27a9-4f9b-aa8e-05af7c7dbaf6",
   "metadata": {},
   "outputs": [
    {
     "data": {
      "text/html": [
       "<div>\n",
       "<style scoped>\n",
       "    .dataframe tbody tr th:only-of-type {\n",
       "        vertical-align: middle;\n",
       "    }\n",
       "\n",
       "    .dataframe tbody tr th {\n",
       "        vertical-align: top;\n",
       "    }\n",
       "\n",
       "    .dataframe thead th {\n",
       "        text-align: right;\n",
       "    }\n",
       "</style>\n",
       "<table border=\"1\" class=\"dataframe\">\n",
       "  <thead>\n",
       "    <tr style=\"text-align: right;\">\n",
       "      <th></th>\n",
       "      <th>Close</th>\n",
       "      <th>Volume</th>\n",
       "    </tr>\n",
       "  </thead>\n",
       "  <tbody>\n",
       "    <tr>\n",
       "      <th>0</th>\n",
       "      <td>1268.4</td>\n",
       "      <td>3518</td>\n",
       "    </tr>\n",
       "    <tr>\n",
       "      <th>1</th>\n",
       "      <td>1269.0</td>\n",
       "      <td>2425</td>\n",
       "    </tr>\n",
       "    <tr>\n",
       "      <th>2</th>\n",
       "      <td>1269.3</td>\n",
       "      <td>5783</td>\n",
       "    </tr>\n",
       "    <tr>\n",
       "      <th>3</th>\n",
       "      <td>1269.4</td>\n",
       "      <td>4407</td>\n",
       "    </tr>\n",
       "    <tr>\n",
       "      <th>4</th>\n",
       "      <td>1269.8</td>\n",
       "      <td>6014</td>\n",
       "    </tr>\n",
       "    <tr>\n",
       "      <th>...</th>\n",
       "      <td>...</td>\n",
       "      <td>...</td>\n",
       "    </tr>\n",
       "    <tr>\n",
       "      <th>429</th>\n",
       "      <td>1333.4</td>\n",
       "      <td>4989</td>\n",
       "    </tr>\n",
       "    <tr>\n",
       "      <th>430</th>\n",
       "      <td>1333.5</td>\n",
       "      <td>9798</td>\n",
       "    </tr>\n",
       "    <tr>\n",
       "      <th>431</th>\n",
       "      <td>1333.8</td>\n",
       "      <td>6013</td>\n",
       "    </tr>\n",
       "    <tr>\n",
       "      <th>432</th>\n",
       "      <td>1333.9</td>\n",
       "      <td>1683</td>\n",
       "    </tr>\n",
       "    <tr>\n",
       "      <th>433</th>\n",
       "      <td>1334.3</td>\n",
       "      <td>5913</td>\n",
       "    </tr>\n",
       "  </tbody>\n",
       "</table>\n",
       "<p>434 rows × 2 columns</p>\n",
       "</div>"
      ],
      "text/plain": [
       "      Close  Volume\n",
       "0    1268.4    3518\n",
       "1    1269.0    2425\n",
       "2    1269.3    5783\n",
       "3    1269.4    4407\n",
       "4    1269.8    6014\n",
       "..      ...     ...\n",
       "429  1333.4    4989\n",
       "430  1333.5    9798\n",
       "431  1333.8    6013\n",
       "432  1333.9    1683\n",
       "433  1334.3    5913\n",
       "\n",
       "[434 rows x 2 columns]"
      ]
     },
     "execution_count": 29,
     "metadata": {},
     "output_type": "execute_result"
    }
   ],
   "source": [
    "grpd = data_total.groupby('Close')[['Volume']]\n",
    "irs = grpd.sum().reset_index()\n",
    "irs"
   ]
  },
  {
   "cell_type": "code",
   "execution_count": 30,
   "id": "2dfc8324-a7b3-4e32-add1-4181fe86691a",
   "metadata": {},
   "outputs": [
    {
     "data": {
      "text/plain": [
       "<BarContainer object of 434 artists>"
      ]
     },
     "execution_count": 30,
     "metadata": {},
     "output_type": "execute_result"
    },
    {
     "data": {
      "image/png": "[encoded data removed]",
      "text/plain": [
       "<Figure size 1440x720 with 1 Axes>"
      ]
     },
     "metadata": {},
     "output_type": "display_data"
    }
   ],
   "source": [
    "plt.barh(irs['Close'], irs['Volume'])"
   ]
  },
  {
   "cell_type": "code",
   "execution_count": 31,
   "id": "6d4ff4dd-16e6-4844-83c0-4609ba0e8059",
   "metadata": {},
   "outputs": [
    {
     "data": {
      "text/plain": [
       "<BarContainer object of 303 artists>"
      ]
     },
     "execution_count": 31,
     "metadata": {},
     "output_type": "execute_result"
    },
    {
     "data": {
      "image/png": "[encoded data removed]",
      "text/plain": [
       "<Figure size 1440x720 with 1 Axes>"
      ]
     },
     "metadata": {},
     "output_type": "display_data"
    }
   ],
   "source": [
    "### Ca map gom hang\n",
    "data_buying = data_total[(data_total.index > '2024-08-16 08:00:00') & (data_total.index < '2024-08-30 23:00:00')]\n",
    "grpd2 = data_buying.groupby('Close')[['Volume']]\n",
    "irs2 = grpd2.sum().reset_index()\n",
    "plt.barh(irs2['Close'], irs2['Volume'])"
   ]
  },
  {
   "cell_type": "code",
   "execution_count": 32,
   "id": "4f519ef9-6976-42c1-987f-a2a8c9a56cdd",
   "metadata": {},
   "outputs": [
    {
     "data": {
      "text/plain": [
       "1309.8673427001354"
      ]
     },
     "execution_count": 32,
     "metadata": {},
     "output_type": "execute_result"
    }
   ],
   "source": [
    "data_buying['value'].sum() / data_buying['Volume'].sum()"
   ]
  },
  {
   "cell_type": "code",
   "execution_count": 33,
   "id": "5cbd7802-4ee9-49c8-9d9d-3708f7a63a21",
   "metadata": {},
   "outputs": [
    {
     "data": {
      "text/plain": [
       "<BarContainer object of 281 artists>"
      ]
     },
     "execution_count": 33,
     "metadata": {},
     "output_type": "execute_result"
    },
    {
     "data": {
      "image/png": "[encoded data removed]",
      "text/plain": [
       "<Figure size 1440x720 with 1 Axes>"
      ]
     },
     "metadata": {},
     "output_type": "display_data"
    }
   ],
   "source": [
    "### Ca map xa hang\n",
    "data_selling = data_total[(data_total.index > '2024-09-01 08:00:00')]\n",
    "grpd3 = data_selling.groupby('Close')[['Volume']]\n",
    "irs3 = grpd3.sum().reset_index()\n",
    "plt.barh(irs3['Close'], irs3['Volume'])"
   ]
  },
  {
   "cell_type": "code",
   "execution_count": 34,
   "id": "96845605-f7e8-44be-b644-72f82cd3e01e",
   "metadata": {},
   "outputs": [
    {
     "data": {
      "text/plain": [
       "1302.4411077047405"
      ]
     },
     "execution_count": 34,
     "metadata": {},
     "output_type": "execute_result"
    }
   ],
   "source": [
    "data_selling['value'].sum() / data_selling['Volume'].sum()"
   ]
  },
  {
   "cell_type": "code",
   "execution_count": 35,
   "id": "61c3a243-efbc-460c-b0b7-d7d33b0a330f",
   "metadata": {},
   "outputs": [
    {
     "data": {
      "text/plain": [
       "1306.0406111257614"
      ]
     },
     "execution_count": 35,
     "metadata": {},
     "output_type": "execute_result"
    }
   ],
   "source": [
    "data_total['value'].sum() / data_total['Volume'].sum()"
   ]
  },
  {
   "cell_type": "code",
   "execution_count": null,
   "id": "95302206-2aed-46ff-8b5f-518b1d0cc94f",
   "metadata": {},
   "outputs": [],
   "source": []
  }
 ],
 "metadata": {
  "kernelspec": {
   "display_name": "Python 3 (ipykernel)",
   "language": "python",
   "name": "python3"
  },
  "language_info": {
   "codemirror_mode": {
    "name": "ipython",
    "version": 3
   },
   "file_extension": ".py",
   "mimetype": "text/x-python",
   "name": "python",
   "nbconvert_exporter": "python",
   "pygments_lexer": "ipython3",
   "version": "3.11.4"
  }
 },
 "nbformat": 4,
 "nbformat_minor": 5
}
