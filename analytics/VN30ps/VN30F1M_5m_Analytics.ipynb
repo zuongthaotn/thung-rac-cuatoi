{
 "cells": [
  {
   "cell_type": "code",
   "execution_count": 2,
   "metadata": {
    "id": "ewVi8RkIyFJ2"
   },
   "outputs": [],
   "source": [
    "import warnings\n",
    "warnings.filterwarnings('ignore')\n",
    "\n",
    "import time\n",
    "from datetime import date, datetime\n",
    "from datetime import timedelta\n",
    "from dateutil.relativedelta import relativedelta\n",
    "\n",
    "import matplotlib.pyplot as plt\n",
    "import pandas as pd\n",
    "import numpy as np"
   ]
  },
  {
   "cell_type": "code",
   "execution_count": 3,
   "metadata": {},
   "outputs": [],
   "source": [
    "import os\n",
    "from pathlib import Path\n",
    "notebook_path = os.getcwd()\n",
    "algo_dir = Path(notebook_path).parent.parent\n",
    "csv_file = str(algo_dir) + '/vn-stock-data/VN30ps/VN30F1M_5minutes_transform.csv'\n",
    "is_file = os.path.isfile(csv_file)\n",
    "if is_file:\n",
    "    dataset = pd.read_csv(csv_file, index_col='Date', parse_dates=True)\n",
    "else:\n",
    "    dataset = pd.read_csv(\"https://raw.githubusercontent.com/zuongthaotn/vn-stock-data/main/VN30ps/VN30F1M_5minutes_transform.csv\", index_col='Date', parse_dates=True)"
   ]
  },
  {
   "cell_type": "code",
   "execution_count": 4,
   "metadata": {
    "colab": {
     "base_uri": "https://localhost:8080/"
    },
    "id": "mfN5EL1fonIq",
    "outputId": "b401dc80-ba95-48ca-8600-d0107c3d35b8"
   },
   "outputs": [
    {
     "data": {
      "text/plain": [
       "Open                         1311.7\n",
       "High                         1313.1\n",
       "Low                          1311.7\n",
       "Close                        1312.4\n",
       "Volume                         4718\n",
       "time_d                   2024-06-10\n",
       "P                            1305.2\n",
       "R1                           1312.2\n",
       "R2                           1316.4\n",
       "R3                           1323.4\n",
       "R4                           1330.4\n",
       "R5                           1337.4\n",
       "R6                           1344.4\n",
       "S1                           1301.0\n",
       "S2                           1294.0\n",
       "S3                           1289.8\n",
       "S4                           1285.6\n",
       "S5                           1281.4\n",
       "S6                           1277.2\n",
       "First_Open                   1313.0\n",
       "First_Close                  1311.5\n",
       "Second_Open                  1311.6\n",
       "Second_Close                 1311.2\n",
       "Highest                      1314.0\n",
       "Lowest                       1305.2\n",
       "current         2024-06-10 09:35:00\n",
       "prev_Close                   1311.9\n",
       "ema_f                   1311.361725\n",
       "ema_f_shift             1310.842587\n",
       "ema_l                   1306.806004\n",
       "ema_l_shift             1306.358485\n",
       "ma_20                      1306.075\n",
       "price_std                  4.812142\n",
       "upper_bb                1315.699284\n",
       "lower_bb                1296.450716\n",
       "rsi                       67.047421\n",
       "cross_pivot                cross_up\n",
       "ema_cross                       NaN\n",
       "ibs                             0.5\n",
       "Name: 2024-06-10 09:30:00, dtype: object"
      ]
     },
     "execution_count": 4,
     "metadata": {},
     "output_type": "execute_result"
    }
   ],
   "source": [
    "dataset.loc['2024-06-10 9:30:00']"
   ]
  },
  {
   "cell_type": "code",
   "execution_count": 5,
   "metadata": {},
   "outputs": [
    {
     "data": {
      "text/plain": [
       "74012"
      ]
     },
     "execution_count": 5,
     "metadata": {},
     "output_type": "execute_result"
    }
   ],
   "source": [
    "len(dataset)"
   ]
  },
  {
   "cell_type": "code",
   "execution_count": 6,
   "metadata": {
    "colab": {
     "base_uri": "https://localhost:8080/",
     "height": 204
    },
    "id": "dFle88bpo3s1",
    "outputId": "1eed9cc3-8215-4643-9e06-979e1a71db8b"
   },
   "outputs": [
    {
     "data": {
      "text/html": [
       "<div>\n",
       "<style scoped>\n",
       "    .dataframe tbody tr th:only-of-type {\n",
       "        vertical-align: middle;\n",
       "    }\n",
       "\n",
       "    .dataframe tbody tr th {\n",
       "        vertical-align: top;\n",
       "    }\n",
       "\n",
       "    .dataframe thead th {\n",
       "        text-align: right;\n",
       "    }\n",
       "</style>\n",
       "<table border=\"1\" class=\"dataframe\">\n",
       "  <thead>\n",
       "    <tr style=\"text-align: right;\">\n",
       "      <th></th>\n",
       "      <th>Open</th>\n",
       "      <th>High</th>\n",
       "      <th>Low</th>\n",
       "      <th>Close</th>\n",
       "      <th>Volume</th>\n",
       "      <th>time_d</th>\n",
       "      <th>P</th>\n",
       "      <th>R1</th>\n",
       "      <th>R2</th>\n",
       "      <th>R3</th>\n",
       "      <th>...</th>\n",
       "      <th>ema_l</th>\n",
       "      <th>ema_l_shift</th>\n",
       "      <th>ma_20</th>\n",
       "      <th>price_std</th>\n",
       "      <th>upper_bb</th>\n",
       "      <th>lower_bb</th>\n",
       "      <th>rsi</th>\n",
       "      <th>cross_pivot</th>\n",
       "      <th>ema_cross</th>\n",
       "      <th>ibs</th>\n",
       "    </tr>\n",
       "    <tr>\n",
       "      <th>Date</th>\n",
       "      <th></th>\n",
       "      <th></th>\n",
       "      <th></th>\n",
       "      <th></th>\n",
       "      <th></th>\n",
       "      <th></th>\n",
       "      <th></th>\n",
       "      <th></th>\n",
       "      <th></th>\n",
       "      <th></th>\n",
       "      <th></th>\n",
       "      <th></th>\n",
       "      <th></th>\n",
       "      <th></th>\n",
       "      <th></th>\n",
       "      <th></th>\n",
       "      <th></th>\n",
       "      <th></th>\n",
       "      <th></th>\n",
       "      <th></th>\n",
       "      <th></th>\n",
       "    </tr>\n",
       "  </thead>\n",
       "  <tbody>\n",
       "    <tr>\n",
       "      <th>2024-06-19 14:25:00</th>\n",
       "      <td>1317.3</td>\n",
       "      <td>1318.0</td>\n",
       "      <td>1314.3</td>\n",
       "      <td>1314.5</td>\n",
       "      <td>11350</td>\n",
       "      <td>2024-06-19</td>\n",
       "      <td>1313.133333</td>\n",
       "      <td>1317.766667</td>\n",
       "      <td>1327.033333</td>\n",
       "      <td>1331.666667</td>\n",
       "      <td>...</td>\n",
       "      <td>1309.539612</td>\n",
       "      <td>1309.142781</td>\n",
       "      <td>1308.525</td>\n",
       "      <td>6.373950</td>\n",
       "      <td>1321.272900</td>\n",
       "      <td>1295.777100</td>\n",
       "      <td>59.953184</td>\n",
       "      <td>NaN</td>\n",
       "      <td>NaN</td>\n",
       "      <td>0.054054</td>\n",
       "    </tr>\n",
       "    <tr>\n",
       "      <th>2024-06-19 14:30:00</th>\n",
       "      <td>1315.1</td>\n",
       "      <td>1315.1</td>\n",
       "      <td>1315.1</td>\n",
       "      <td>1315.1</td>\n",
       "      <td>371</td>\n",
       "      <td>2024-06-19</td>\n",
       "      <td>1313.133333</td>\n",
       "      <td>1317.766667</td>\n",
       "      <td>1327.033333</td>\n",
       "      <td>1331.666667</td>\n",
       "      <td>...</td>\n",
       "      <td>1309.951493</td>\n",
       "      <td>1309.539612</td>\n",
       "      <td>1309.190</td>\n",
       "      <td>6.329039</td>\n",
       "      <td>1321.848078</td>\n",
       "      <td>1296.531922</td>\n",
       "      <td>60.873747</td>\n",
       "      <td>NaN</td>\n",
       "      <td>NaN</td>\n",
       "      <td>1.000000</td>\n",
       "    </tr>\n",
       "    <tr>\n",
       "      <th>2024-06-19 14:45:00</th>\n",
       "      <td>1317.0</td>\n",
       "      <td>1317.0</td>\n",
       "      <td>1317.0</td>\n",
       "      <td>1317.0</td>\n",
       "      <td>7116</td>\n",
       "      <td>2024-06-19</td>\n",
       "      <td>1313.133333</td>\n",
       "      <td>1317.766667</td>\n",
       "      <td>1327.033333</td>\n",
       "      <td>1331.666667</td>\n",
       "      <td>...</td>\n",
       "      <td>1310.473605</td>\n",
       "      <td>1309.951493</td>\n",
       "      <td>1309.960</td>\n",
       "      <td>6.293723</td>\n",
       "      <td>1322.547446</td>\n",
       "      <td>1297.372554</td>\n",
       "      <td>63.717975</td>\n",
       "      <td>NaN</td>\n",
       "      <td>NaN</td>\n",
       "      <td>1.000000</td>\n",
       "    </tr>\n",
       "  </tbody>\n",
       "</table>\n",
       "<p>3 rows × 39 columns</p>\n",
       "</div>"
      ],
      "text/plain": [
       "                       Open    High     Low   Close  Volume      time_d  \\\n",
       "Date                                                                      \n",
       "2024-06-19 14:25:00  1317.3  1318.0  1314.3  1314.5   11350  2024-06-19   \n",
       "2024-06-19 14:30:00  1315.1  1315.1  1315.1  1315.1     371  2024-06-19   \n",
       "2024-06-19 14:45:00  1317.0  1317.0  1317.0  1317.0    7116  2024-06-19   \n",
       "\n",
       "                               P           R1           R2           R3  ...  \\\n",
       "Date                                                                     ...   \n",
       "2024-06-19 14:25:00  1313.133333  1317.766667  1327.033333  1331.666667  ...   \n",
       "2024-06-19 14:30:00  1313.133333  1317.766667  1327.033333  1331.666667  ...   \n",
       "2024-06-19 14:45:00  1313.133333  1317.766667  1327.033333  1331.666667  ...   \n",
       "\n",
       "                           ema_l  ema_l_shift     ma_20  price_std  \\\n",
       "Date                                                                 \n",
       "2024-06-19 14:25:00  1309.539612  1309.142781  1308.525   6.373950   \n",
       "2024-06-19 14:30:00  1309.951493  1309.539612  1309.190   6.329039   \n",
       "2024-06-19 14:45:00  1310.473605  1309.951493  1309.960   6.293723   \n",
       "\n",
       "                        upper_bb     lower_bb        rsi  cross_pivot  \\\n",
       "Date                                                                    \n",
       "2024-06-19 14:25:00  1321.272900  1295.777100  59.953184          NaN   \n",
       "2024-06-19 14:30:00  1321.848078  1296.531922  60.873747          NaN   \n",
       "2024-06-19 14:45:00  1322.547446  1297.372554  63.717975          NaN   \n",
       "\n",
       "                     ema_cross       ibs  \n",
       "Date                                      \n",
       "2024-06-19 14:25:00        NaN  0.054054  \n",
       "2024-06-19 14:30:00        NaN  1.000000  \n",
       "2024-06-19 14:45:00        NaN  1.000000  \n",
       "\n",
       "[3 rows x 39 columns]"
      ]
     },
     "execution_count": 6,
     "metadata": {},
     "output_type": "execute_result"
    }
   ],
   "source": [
    "dataset.tail(3)"
   ]
  },
  {
   "cell_type": "markdown",
   "metadata": {},
   "source": [
    "## Volitility by hour"
   ]
  },
  {
   "cell_type": "code",
   "execution_count": 14,
   "metadata": {},
   "outputs": [
    {
     "data": {
      "text/html": [
       "<div>\n",
       "<style scoped>\n",
       "    .dataframe tbody tr th:only-of-type {\n",
       "        vertical-align: middle;\n",
       "    }\n",
       "\n",
       "    .dataframe tbody tr th {\n",
       "        vertical-align: top;\n",
       "    }\n",
       "\n",
       "    .dataframe thead th {\n",
       "        text-align: right;\n",
       "    }\n",
       "</style>\n",
       "<table border=\"1\" class=\"dataframe\">\n",
       "  <thead>\n",
       "    <tr style=\"text-align: right;\">\n",
       "      <th></th>\n",
       "      <th>body</th>\n",
       "      <th>height</th>\n",
       "    </tr>\n",
       "    <tr>\n",
       "      <th>Date</th>\n",
       "      <th></th>\n",
       "      <th></th>\n",
       "    </tr>\n",
       "  </thead>\n",
       "  <tbody>\n",
       "    <tr>\n",
       "      <th>9</th>\n",
       "      <td>3.200413</td>\n",
       "      <td>6.190496</td>\n",
       "    </tr>\n",
       "    <tr>\n",
       "      <th>10</th>\n",
       "      <td>3.145041</td>\n",
       "      <td>6.230441</td>\n",
       "    </tr>\n",
       "    <tr>\n",
       "      <th>11</th>\n",
       "      <td>2.416047</td>\n",
       "      <td>4.649311</td>\n",
       "    </tr>\n",
       "    <tr>\n",
       "      <th>13</th>\n",
       "      <td>4.272176</td>\n",
       "      <td>8.250895</td>\n",
       "    </tr>\n",
       "    <tr>\n",
       "      <th>14</th>\n",
       "      <td>5.221143</td>\n",
       "      <td>9.123898</td>\n",
       "    </tr>\n",
       "  </tbody>\n",
       "</table>\n",
       "</div>"
      ],
      "text/plain": [
       "          body    height\n",
       "Date                    \n",
       "9     3.200413  6.190496\n",
       "10    3.145041  6.230441\n",
       "11    2.416047  4.649311\n",
       "13    4.272176  8.250895\n",
       "14    5.221143  9.123898"
      ]
     },
     "execution_count": 14,
     "metadata": {},
     "output_type": "execute_result"
    }
   ],
   "source": [
    "data_y = dataset.copy()\n",
    "vol_by_hour = data_y.resample(\"H\").agg({\n",
    "        'Open': 'first',\n",
    "        'Close': 'last',\n",
    "        'High': 'max',\n",
    "        'Low': 'min'\n",
    "    })\n",
    "vol_by_hour.dropna(inplace=True)\n",
    "vol_by_hour['body'] = abs(vol_by_hour['Close'] - vol_by_hour['Open'])\n",
    "vol_by_hour['height'] = vol_by_hour['High'] - vol_by_hour['Low']\n",
    "grouped_y = vol_by_hour[['body', 'height']].groupby([vol_by_hour.index.hour]).mean()\n",
    "grouped_y = grouped_y[grouped_y.body != 0]\n",
    "grouped_y\n",
    "# grouped_y['step_range'].sort_values()"
   ]
  },
  {
   "cell_type": "markdown",
   "metadata": {},
   "source": [
    "## Try Fibonacci"
   ]
  },
  {
   "cell_type": "code",
   "execution_count": null,
   "metadata": {},
   "outputs": [],
   "source": [
    "data_z = dataset.copy()\n",
    "# data_z = data_z[100*data_z.index.hour + data_z.index.minute != 900]\n",
    "data_z['r_threshold'] = data_z['First_Close'] + 6.18\n",
    "data_z['s_threshold'] = data_z['First_Close'] - 6.18\n",
    "data_z['cross_threshold'] = ''\n",
    "data_z['return'] = 0\n",
    "\n",
    "for i, row in data_z.iterrows():\n",
    "    if row['prev_Close'] < row['r_threshold'] < row['Close']:\n",
    "        # Long signal\n",
    "        data_z.at[i, 'cross_threshold'] = 'cross_up'\n",
    "        current_time = row.name\n",
    "        current_date = current_time.strftime('%Y-%m-%d ').format()\n",
    "        data_to_end_day = data_z[(data_z.index > current_time) & (data_z.index < current_date + ' 14:30:00')]\n",
    "        if len(data_to_end_day):\n",
    "            max_price = data_to_end_day['High'].max()\n",
    "            last_item = data_to_end_day.iloc[-1]\n",
    "            close_price = last_item['Close']\n",
    "            if row['Close'] > max_price - 4:\n",
    "                # neu ko bi stop thi se close deal luc 14:30\n",
    "                data_z.at[i, 'return'] = row['Close'] - close_price\n",
    "            else:\n",
    "                data_z.at[i, 'return'] = max_price - 4 - row['Close']\n",
    "        # No force stoploss\n",
    "    elif row['prev_Close'] > row['s_threshold'] > row['Close']:\n",
    "        # Short signal\n",
    "        data_z.at[i, 'cross_threshold'] = 'cross_down'\n",
    "        current_time = row.name\n",
    "        current_date = current_time.strftime('%Y-%m-%d ').format()\n",
    "        data_to_end_day = data_z[(data_z.index > current_time) & (data_z.index < current_date + ' 14:30:00')]\n",
    "        if len(data_to_end_day):\n",
    "            min_price = data_to_end_day['Low'].min()\n",
    "            last_item = data_to_end_day.iloc[-1]\n",
    "            close_price = last_item['Close']\n",
    "            if row['Close'] > min_price + 6:\n",
    "                # neu ko bi stop thi se close deal luc 14:30\n",
    "                data_z.at[i, 'return'] = row['Close'] - close_price\n",
    "            else:\n",
    "                data_z.at[i, 'return'] = row['Close'] - min_price + 6\n",
    "        # No force stoploss"
   ]
  },
  {
   "cell_type": "code",
   "execution_count": null,
   "metadata": {},
   "outputs": [],
   "source": [
    "cross_data = data_z[data_z['cross_threshold'] != '']\n",
    "day_cross_data = cross_data.resample(\"D\").agg({\n",
    "        'cross_threshold': 'count'\n",
    "    })\n",
    "day_cross_data.dropna(inplace=True)\n",
    "day_cross_data.describe()"
   ]
  },
  {
   "cell_type": "code",
   "execution_count": null,
   "metadata": {},
   "outputs": [],
   "source": [
    "cross_data"
   ]
  },
  {
   "cell_type": "code",
   "execution_count": null,
   "metadata": {},
   "outputs": [],
   "source": [
    "len(cross_data[cross_data['return'] > 0]) / len(cross_data)"
   ]
  },
  {
   "cell_type": "code",
   "execution_count": null,
   "metadata": {},
   "outputs": [],
   "source": [
    "cross_data[cross_data['return'] < 0]"
   ]
  },
  {
   "attachments": {},
   "cell_type": "markdown",
   "metadata": {},
   "source": [
    "## Signals from 9:15AM to 2:25PM"
   ]
  },
  {
   "cell_type": "code",
   "execution_count": null,
   "metadata": {},
   "outputs": [],
   "source": [
    "# Muc tieu:\n",
    "# Phan tich thoi gian tu 2:00PM - 2:25PM \n",
    "def cal_highest_price(tick):\n",
    "    tick = tick[100*tick.index.hour+tick.index.minute > 1400]\n",
    "    tick = tick[100*tick.index.hour+tick.index.minute < 1430]\n",
    "    return tick.max()\n",
    "\n",
    "def cal_lowest_price(tick):\n",
    "    tick = tick[100*tick.index.hour+tick.index.minute > 1400]\n",
    "    tick = tick[100*tick.index.hour+tick.index.minute < 1430]\n",
    "    return tick.min()\n",
    "\n",
    "def get_entry_price(tick):\n",
    "    tick = tick[100*tick.index.hour+tick.index.minute == 1400]\n",
    "    return tick\n",
    "\n",
    "def get_exit_price(tick):\n",
    "    tick = tick[100*tick.index.hour+tick.index.minute == 1425]\n",
    "    return tick\n",
    "\n",
    "\n",
    "data3 = dataset.copy()\n",
    "data3['entry'] = data2['Open']\n",
    "data3['exit'] = data2['Close']\n",
    "data3['max_high'] = data2['High']\n",
    "data3['min_low'] = data2['Low']\n",
    "day_data = data3.resample(\"D\").agg({\n",
    "        'entry': get_entry_price,\n",
    "        'exit': get_exit_price,\n",
    "        'max_high': cal_highest_price,\n",
    "        'min_low': cal_lowest_price\n",
    "    })\n",
    "day_data.tail(10)"
   ]
  },
  {
   "cell_type": "code",
   "execution_count": null,
   "metadata": {},
   "outputs": [],
   "source": []
  },
  {
   "cell_type": "code",
   "execution_count": null,
   "metadata": {},
   "outputs": [],
   "source": [
    "stoploss_day = day_data[(day_data.max_high - day_data.entry > 3.5) & (day_data.entry - day_data.min_low > 3.5)]\n",
    "len(stoploss_day) / (len(day_data))\n",
    "# Ket luan: cho co 6.6% gia vua tang vua giam 3.5 diem tu 2::00PM den 2:25PM"
   ]
  },
  {
   "cell_type": "code",
   "execution_count": null,
   "metadata": {},
   "outputs": [],
   "source": [
    "long_day = day_data[day_data.exit > day_data.entry]\n",
    "long_day"
   ]
  },
  {
   "cell_type": "code",
   "execution_count": null,
   "metadata": {},
   "outputs": [],
   "source": [
    "short_day = day_data[day_data.exit < day_data.entry]\n",
    "short_day"
   ]
  },
  {
   "cell_type": "markdown",
   "metadata": {
    "id": "4RO4setSCEra",
    "jp-MarkdownHeadingCollapsed": true
   },
   "source": [
    "## Pivot points\n"
   ]
  },
  {
   "cell_type": "code",
   "execution_count": null,
   "metadata": {
    "colab": {
     "base_uri": "https://localhost:8080/",
     "height": 455
    },
    "id": "o2YT4IORCPLA",
    "outputId": "84f90f9c-4c35-40d1-e7e4-3b2786901329"
   },
   "outputs": [],
   "source": [
    "data = dataset.copy()\n",
    "_back_days = 7\n",
    "last_expire_date = date.today() - timedelta(days=_back_days)\n",
    "last_expire_date = last_expire_date.strftime(\"%Y-%m-%d 00:00:00\")\n",
    "sample_data = data[(data.index > last_expire_date) & (data.index < date.today().strftime(\"%Y-%m-%d 23:00:00\"))]\n",
    "cross_up_data = sample_data[(sample_data.cross_pivot == 'cross_up') & (sample_data.ema_f > sample_data.ema_l)]\n",
    "cross_up_data"
   ]
  },
  {
   "cell_type": "markdown",
   "metadata": {
    "id": "8cgqxqh9nqrv"
   },
   "source": [
    "##Momentum(01) Analytics"
   ]
  },
  {
   "cell_type": "code",
   "execution_count": null,
   "metadata": {
    "colab": {
     "base_uri": "https://localhost:8080/",
     "height": 430
    },
    "id": "fhXzN8WfnsFX",
    "outputId": "792a79c7-2afe-4162-902c-7fb503cbff67"
   },
   "outputs": [],
   "source": [
    "# data_4momentum = dataset.copy()\n",
    "# _back_days = 7\n",
    "# last_expire_date = date.today() - timedelta(days=_back_days)\n",
    "# last_expire_date = last_expire_date.strftime(\"%Y-%m-%d 00:00:00\")\n",
    "# data_4momentum = data_4momentum[(data_4momentum.index > last_expire_date) & (data_4momentum.index < date.today().strftime(\"%Y-%m-%d 23:00:00\"))]\n",
    "# data_4momentum['First_Close'] = data_4momentum['First_Close'].astype(float)\n",
    "# data_4momentum['momentum'] = data_4momentum['Close'] - data_4momentum['First_Close']\n",
    "# t = data_4momentum['momentum'].to_numpy()\n",
    "# plt.plot(t)\n",
    "# plt.show()"
   ]
  },
  {
   "cell_type": "markdown",
   "metadata": {
    "id": "0X9XsCTcyxqd"
   },
   "source": [
    "## Momentum(02) Analytics"
   ]
  },
  {
   "cell_type": "code",
   "execution_count": null,
   "metadata": {
    "id": "cY71iFAsy3fC"
   },
   "outputs": [],
   "source": [
    "# data_4momentum = dataset.copy()\n",
    "# _back_days = 2\n",
    "# last_expire_date = date.today() - timedelta(days=_back_days)\n",
    "# last_expire_date = last_expire_date.strftime(\"%Y-%m-%d 00:00:00\")\n",
    "# data_4momentum = data_4momentum[(data_4momentum.index > last_expire_date) & (data_4momentum.index < date.today().strftime(\"%Y-%m-%d 00:00:00\"))]\n",
    "# data_4momentum['baseline'] = data_4momentum.groupby(pd.Grouper(freq='1D'))['Open'].transform('first')\n",
    "#---------------------------------------------------------------------------------------------------------------------------------------------------------------------------------------------\n",
    "# data_4momentum['value'] = data_4momentum['Close'] * data_4momentum['Volume']\n",
    "# steps =  [*range(0, len(data_4momentum), 1)]\n",
    "# data_4momentum = data_4momentum.assign(steps=steps)\n",
    "# data_4momentum['sum_value'] = data_4momentum['value'].cumsum()\n",
    "# data_4momentum['momentum'] = data_4momentum.apply(\n",
    "# lambda row: (0 if row.steps == 0 else round(row.sum_value / (row.steps * 1000))), axis=1)\n",
    "# data_4momentum.tail(10)"
   ]
  },
  {
   "cell_type": "markdown",
   "metadata": {
    "id": "zMRLjiPKzkUc"
   },
   "source": [
    "## Relationship between First 5 min and whole day"
   ]
  },
  {
   "cell_type": "code",
   "execution_count": null,
   "metadata": {
    "id": "cLzSWs1zzySD"
   },
   "outputs": [],
   "source": [
    "# def cal_first_open(tick):\n",
    "#   tick = tick[100*tick.index.hour+tick.index.minute == 900]\n",
    "#   return tick\n",
    "\n",
    "# def cal_first_close(tick):\n",
    "#   tick = tick[100*tick.index.hour+tick.index.minute == 900]\n",
    "#   return tick\n",
    "\n",
    "# data2 = prepared_data.copy()\n",
    "# data2['First_Open'] = data2['Open']\n",
    "# data2['First_Close'] = data2['Close']\n",
    "# day_data = data2.resample(\"D\").agg({\n",
    "#         'Open': 'first',\n",
    "#         'Close': 'last',\n",
    "#         'High': 'max',\n",
    "#         'Low': 'min',\n",
    "#         'Volume': 'sum',\n",
    "#         'First_Open': cal_first_open,\n",
    "#         'First_Close': cal_first_close\n",
    "#     })\n",
    "# day_data['diff_up'] = day_data['High'] - day_data['First_Open']\n",
    "# day_data['diff_down'] = day_data['First_Open'] - day_data['Low']\n",
    "# day_data['first_green'] = day_data.apply(lambda row: 1 if row['First_Open'] < row['First_Close'] else 0, axis =1)\n",
    "# day_data['up_bigger_down'] = day_data.apply(lambda row: 1 if row['diff_up'] > row['diff_down'] else 0, axis =1)\n",
    "# day_data.dropna(inplace=True)\n",
    "# same = day_data[day_data.first_green == day_data.up_bigger_down]\n",
    "# diff = day_data[day_data.first_green != day_data.up_bigger_down]\n",
    "# same_count = len(same)\n",
    "# diff_count = len(diff)\n",
    "# same_p = same_count/(diff_count+same_count)\n",
    "# diff_p = diff_count/(diff_count+same_count)\n",
    "# y = np.array([same_p, diff_p])\n",
    "# labels = [\"Same({})\".format(same_p), \"Different({})\".format(diff_p)]\n",
    "\n",
    "# plt.pie(y, labels = labels)\n",
    "# plt.show()\n"
   ]
  },
  {
   "cell_type": "markdown",
   "metadata": {
    "id": "1NrekCUFva7h"
   },
   "source": [
    "##Relationship between 2 first candlesticks and whole day"
   ]
  },
  {
   "cell_type": "code",
   "execution_count": null,
   "metadata": {
    "id": "nk6_kcAfrszw"
   },
   "outputs": [],
   "source": [
    "# def cal_first_open(tick):\n",
    "#   tick = tick[100*tick.index.hour+tick.index.minute == 900]\n",
    "#   return tick\n",
    "\n",
    "# def cal_second_open(tick):\n",
    "#   tick = tick[100*tick.index.hour+tick.index.minute == 905]\n",
    "#   return tick\n",
    "\n",
    "# def cal_first_close(tick):\n",
    "#   tick = tick[100*tick.index.hour+tick.index.minute == 900]\n",
    "#   return tick\n",
    "# def cal_second_close(tick):\n",
    "#   tick = tick[100*tick.index.hour+tick.index.minute == 905]\n",
    "#   return tick\n",
    "\n",
    "# data2 = prepared_data.copy()\n",
    "# _back_days = 30\n",
    "# last_expire_date = date.today() - timedelta(days=_back_days)\n",
    "# last_expire_date = last_expire_date.strftime(\"%Y-%m-%d 00:00:00\")\n",
    "# data2 = data2[data2.index > last_expire_date]\n",
    "# data2['First_Open'] = data2['Open']\n",
    "# data2['First_Close'] = data2['Close']\n",
    "# data2['Second_Open'] = data2['Open']\n",
    "# data2['Second_Close'] = data2['Close']\n",
    "# day_data = data2.resample(\"D\").agg({\n",
    "#         'Open': 'first',\n",
    "#         'Close': 'last',\n",
    "#         'High': 'max',\n",
    "#         'Low': 'min',\n",
    "#         'Volume': 'sum',\n",
    "#         'First_Open': cal_first_open,\n",
    "#         'First_Close': cal_first_close,\n",
    "#         'Second_Open': cal_second_open,\n",
    "#         'Second_Close': cal_second_close\n",
    "#     })\n",
    "# # day_data['diff_up'] = day_data['High'] - day_data['First_Open']\n",
    "# # day_data['diff_down'] = day_data['First_Open'] - day_data['Low']\n",
    "# day_data['first_green'] = day_data.apply(lambda row: 1 if row['First_Open'] <= row['First_Close'] else 0, axis =1)\n",
    "# day_data['second_green'] = day_data.apply(lambda row: 1 if row['Second_Open'] <= row['Second_Close'] else 0, axis =1)\n",
    "# day_data[(day_data.first_green != day_data.second_green)]\n",
    "# # day_data['up_bigger_down'] = day_data.apply(lambda row: 1 if row['diff_up'] > row['diff_down'] else 0, axis =1)\n",
    "# # day_data.dropna(inplace=True)\n",
    "# # same = day_data[(day_data.first_green == day_data.second_green) & (day_data.first_green == day_data.up_bigger_down)]\n",
    "# # diff = day_data[(day_data.first_green == day_data.second_green) & (day_data.first_green) != day_data.up_bigger_down]\n",
    "# # same_count = len(same)\n",
    "# # diff_count = len(diff)\n",
    "# # same_p = same_count/(diff_count+same_count)\n",
    "# # diff_p = diff_count/(diff_count+same_count)\n",
    "# # y = np.array([same_p, diff_p])\n",
    "# # labels = [\"Same({})\".format(same_p), \"Different({})\".format(diff_p)]\n",
    "\n",
    "# # plt.pie(y, labels = labels)\n",
    "# # plt.show()"
   ]
  },
  {
   "cell_type": "markdown",
   "metadata": {
    "id": "-mBrcrIGyipG"
   },
   "source": [
    "## Find all long upper shadow & lower shadow\n"
   ]
  },
  {
   "cell_type": "code",
   "execution_count": null,
   "metadata": {
    "id": "MlOSIQtczIL3"
   },
   "outputs": [],
   "source": [
    "# candlestick_data = prepared_data.copy()\n",
    "# candlestick_data['has_long_upper_shadow'] = candlestick_data.apply(lambda row: True if (row['High'] - max(row['Close'], row['Open']) > 2) else False, axis=1)\n",
    "# candlestick_data['has_long_lower_shadow'] = candlestick_data.apply(lambda row: True if (min(row['Close'], row['Open']) - row['Low'] > 2) else False, axis=1)\n",
    "# candlestick_data[(candlestick_data.has_long_upper_shadow == True) | (candlestick_data.has_long_lower_shadow == True)]"
   ]
  },
  {
   "cell_type": "markdown",
   "metadata": {
    "id": "-J9eekzinF2W"
   },
   "source": [
    "## Phan tich gia Open cao nhat va thap nhat trong khoang thoi gian 9h15->14h15"
   ]
  },
  {
   "cell_type": "code",
   "execution_count": null,
   "metadata": {
    "id": "0ndA4SkfnSzC"
   },
   "outputs": [],
   "source": [
    "# def cal_is_max_open(col, df):\n",
    "#   return col.name.h\n",
    "# data3 = prepared_data.copy()\n",
    "# _back_days = 30\n",
    "# data3['is_max_open'] = data3['Open'].apply(lambda x: cal_is_max_open(x, data3), axis=0)\n",
    "# data3\n"
   ]
  }
 ],
 "metadata": {
  "colab": {
   "provenance": []
  },
  "kernelspec": {
   "display_name": "Python 3 (ipykernel)",
   "language": "python",
   "name": "python3"
  },
  "language_info": {
   "codemirror_mode": {
    "name": "ipython",
    "version": 3
   },
   "file_extension": ".py",
   "mimetype": "text/x-python",
   "name": "python",
   "nbconvert_exporter": "python",
   "pygments_lexer": "ipython3",
   "version": "3.11.4"
  }
 },
 "nbformat": 4,
 "nbformat_minor": 4
}
