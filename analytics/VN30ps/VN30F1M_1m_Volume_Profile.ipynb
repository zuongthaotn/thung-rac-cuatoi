{
 "cells": [
  {
   "cell_type": "markdown",
   "id": "d63d6d0d-23a5-442b-8e26-84378cefa4cd",
   "metadata": {},
   "source": [
    "## VN30F1M 1m timeframe - volume profile"
   ]
  },
  {
   "cell_type": "code",
   "execution_count": 1,
   "id": "1475ca4b-6320-40b0-86eb-b3c999bf68f7",
   "metadata": {},
   "outputs": [],
   "source": [
    "import warnings\n",
    "warnings.filterwarnings('ignore')\n",
    "\n",
    "import time\n",
    "from datetime import date, datetime\n",
    "from datetime import timedelta\n",
    "from dateutil.relativedelta import relativedelta\n",
    "\n",
    "import matplotlib.pyplot as plt\n",
    "import pandas as pd\n",
    "import pandas_ta as ta\n",
    "import numpy as np"
   ]
  },
  {
   "cell_type": "code",
   "execution_count": 2,
   "id": "2abe406a-a205-48e4-b4dc-4b33451b1ec9",
   "metadata": {},
   "outputs": [],
   "source": [
    "import os\n",
    "from pathlib import Path\n",
    "notebook_path = os.getcwd()\n",
    "algo_dir = Path(notebook_path).parent.parent\n",
    "csv_file = str(algo_dir) + '/vn-stock-data/VN30ps/VN30F1M_1minute.csv'\n",
    "is_file = os.path.isfile(csv_file)\n",
    "if is_file:\n",
    "    dataset = pd.read_csv(csv_file, index_col='Date', parse_dates=True)\n",
    "else:\n",
    "    dataset = pd.read_csv(\"https://raw.githubusercontent.com/zuongthaotn/vn-stock-data/main/VN30ps/VN30F1M_1minute.csv\", index_col='Date', parse_dates=True)"
   ]
  },
  {
   "cell_type": "code",
   "execution_count": 3,
   "id": "0599cb01-d318-4e68-bc81-280abb1ff1b3",
   "metadata": {},
   "outputs": [],
   "source": [
    "data = dataset.copy()"
   ]
  },
  {
   "cell_type": "code",
   "execution_count": 4,
   "id": "6618e577-7352-4c5d-98ef-38444927a1bc",
   "metadata": {},
   "outputs": [
    {
     "data": {
      "text/html": [
       "<div>\n",
       "<style scoped>\n",
       "    .dataframe tbody tr th:only-of-type {\n",
       "        vertical-align: middle;\n",
       "    }\n",
       "\n",
       "    .dataframe tbody tr th {\n",
       "        vertical-align: top;\n",
       "    }\n",
       "\n",
       "    .dataframe thead th {\n",
       "        text-align: right;\n",
       "    }\n",
       "</style>\n",
       "<table border=\"1\" class=\"dataframe\">\n",
       "  <thead>\n",
       "    <tr style=\"text-align: right;\">\n",
       "      <th></th>\n",
       "      <th>Open</th>\n",
       "      <th>High</th>\n",
       "      <th>Low</th>\n",
       "      <th>Close</th>\n",
       "      <th>Volume</th>\n",
       "    </tr>\n",
       "    <tr>\n",
       "      <th>Date</th>\n",
       "      <th></th>\n",
       "      <th></th>\n",
       "      <th></th>\n",
       "      <th></th>\n",
       "      <th></th>\n",
       "    </tr>\n",
       "  </thead>\n",
       "  <tbody>\n",
       "    <tr>\n",
       "      <th>2024-05-21 09:00:00</th>\n",
       "      <td>1307.7</td>\n",
       "      <td>1308.8</td>\n",
       "      <td>1307.0</td>\n",
       "      <td>1307.0</td>\n",
       "      <td>2701</td>\n",
       "    </tr>\n",
       "    <tr>\n",
       "      <th>2024-05-21 09:01:00</th>\n",
       "      <td>1306.7</td>\n",
       "      <td>1307.7</td>\n",
       "      <td>1306.7</td>\n",
       "      <td>1307.3</td>\n",
       "      <td>720</td>\n",
       "    </tr>\n",
       "    <tr>\n",
       "      <th>2024-05-21 09:02:00</th>\n",
       "      <td>1307.3</td>\n",
       "      <td>1308.1</td>\n",
       "      <td>1307.3</td>\n",
       "      <td>1308.0</td>\n",
       "      <td>994</td>\n",
       "    </tr>\n",
       "    <tr>\n",
       "      <th>2024-05-21 09:03:00</th>\n",
       "      <td>1308.1</td>\n",
       "      <td>1308.2</td>\n",
       "      <td>1308.0</td>\n",
       "      <td>1308.1</td>\n",
       "      <td>690</td>\n",
       "    </tr>\n",
       "    <tr>\n",
       "      <th>2024-05-21 09:04:00</th>\n",
       "      <td>1308.0</td>\n",
       "      <td>1309.2</td>\n",
       "      <td>1308.0</td>\n",
       "      <td>1309.1</td>\n",
       "      <td>1121</td>\n",
       "    </tr>\n",
       "    <tr>\n",
       "      <th>...</th>\n",
       "      <td>...</td>\n",
       "      <td>...</td>\n",
       "      <td>...</td>\n",
       "      <td>...</td>\n",
       "      <td>...</td>\n",
       "    </tr>\n",
       "    <tr>\n",
       "      <th>2024-06-24 14:27:00</th>\n",
       "      <td>1288.0</td>\n",
       "      <td>1288.0</td>\n",
       "      <td>1286.8</td>\n",
       "      <td>1286.8</td>\n",
       "      <td>1814</td>\n",
       "    </tr>\n",
       "    <tr>\n",
       "      <th>2024-06-24 14:28:00</th>\n",
       "      <td>1287.0</td>\n",
       "      <td>1287.7</td>\n",
       "      <td>1286.6</td>\n",
       "      <td>1287.5</td>\n",
       "      <td>1614</td>\n",
       "    </tr>\n",
       "    <tr>\n",
       "      <th>2024-06-24 14:29:00</th>\n",
       "      <td>1287.7</td>\n",
       "      <td>1288.5</td>\n",
       "      <td>1287.0</td>\n",
       "      <td>1287.1</td>\n",
       "      <td>2719</td>\n",
       "    </tr>\n",
       "    <tr>\n",
       "      <th>2024-06-24 14:30:00</th>\n",
       "      <td>1287.8</td>\n",
       "      <td>1287.8</td>\n",
       "      <td>1287.7</td>\n",
       "      <td>1287.7</td>\n",
       "      <td>124</td>\n",
       "    </tr>\n",
       "    <tr>\n",
       "      <th>2024-06-24 14:45:00</th>\n",
       "      <td>1290.7</td>\n",
       "      <td>1290.7</td>\n",
       "      <td>1290.7</td>\n",
       "      <td>1290.7</td>\n",
       "      <td>7478</td>\n",
       "    </tr>\n",
       "  </tbody>\n",
       "</table>\n",
       "<p>6075 rows × 5 columns</p>\n",
       "</div>"
      ],
      "text/plain": [
       "                       Open    High     Low   Close  Volume\n",
       "Date                                                       \n",
       "2024-05-21 09:00:00  1307.7  1308.8  1307.0  1307.0    2701\n",
       "2024-05-21 09:01:00  1306.7  1307.7  1306.7  1307.3     720\n",
       "2024-05-21 09:02:00  1307.3  1308.1  1307.3  1308.0     994\n",
       "2024-05-21 09:03:00  1308.1  1308.2  1308.0  1308.1     690\n",
       "2024-05-21 09:04:00  1308.0  1309.2  1308.0  1309.1    1121\n",
       "...                     ...     ...     ...     ...     ...\n",
       "2024-06-24 14:27:00  1288.0  1288.0  1286.8  1286.8    1814\n",
       "2024-06-24 14:28:00  1287.0  1287.7  1286.6  1287.5    1614\n",
       "2024-06-24 14:29:00  1287.7  1288.5  1287.0  1287.1    2719\n",
       "2024-06-24 14:30:00  1287.8  1287.8  1287.7  1287.7     124\n",
       "2024-06-24 14:45:00  1290.7  1290.7  1290.7  1290.7    7478\n",
       "\n",
       "[6075 rows x 5 columns]"
      ]
     },
     "execution_count": 4,
     "metadata": {},
     "output_type": "execute_result"
    }
   ],
   "source": [
    "# ngay dao han phai sinh thang truoc la 2024-05-17 \n",
    "data = data[data.index > '2024-05-20 23:00:00']\n",
    "data"
   ]
  },
  {
   "cell_type": "code",
   "execution_count": 5,
   "id": "5756a3a8-27a9-4f9b-aa8e-05af7c7dbaf6",
   "metadata": {},
   "outputs": [
    {
     "data": {
      "text/html": [
       "<div>\n",
       "<style scoped>\n",
       "    .dataframe tbody tr th:only-of-type {\n",
       "        vertical-align: middle;\n",
       "    }\n",
       "\n",
       "    .dataframe tbody tr th {\n",
       "        vertical-align: top;\n",
       "    }\n",
       "\n",
       "    .dataframe thead th {\n",
       "        text-align: right;\n",
       "    }\n",
       "</style>\n",
       "<table border=\"1\" class=\"dataframe\">\n",
       "  <thead>\n",
       "    <tr style=\"text-align: right;\">\n",
       "      <th></th>\n",
       "      <th>Close</th>\n",
       "      <th>Volume</th>\n",
       "    </tr>\n",
       "  </thead>\n",
       "  <tbody>\n",
       "    <tr>\n",
       "      <th>0</th>\n",
       "      <td>1257.2</td>\n",
       "      <td>3508</td>\n",
       "    </tr>\n",
       "    <tr>\n",
       "      <th>1</th>\n",
       "      <td>1257.4</td>\n",
       "      <td>2156</td>\n",
       "    </tr>\n",
       "    <tr>\n",
       "      <th>2</th>\n",
       "      <td>1258.0</td>\n",
       "      <td>964</td>\n",
       "    </tr>\n",
       "    <tr>\n",
       "      <th>3</th>\n",
       "      <td>1258.5</td>\n",
       "      <td>1819</td>\n",
       "    </tr>\n",
       "    <tr>\n",
       "      <th>4</th>\n",
       "      <td>1258.6</td>\n",
       "      <td>2613</td>\n",
       "    </tr>\n",
       "    <tr>\n",
       "      <th>...</th>\n",
       "      <td>...</td>\n",
       "      <td>...</td>\n",
       "    </tr>\n",
       "    <tr>\n",
       "      <th>743</th>\n",
       "      <td>1337.0</td>\n",
       "      <td>4363</td>\n",
       "    </tr>\n",
       "    <tr>\n",
       "      <th>744</th>\n",
       "      <td>1337.4</td>\n",
       "      <td>1840</td>\n",
       "    </tr>\n",
       "    <tr>\n",
       "      <th>745</th>\n",
       "      <td>1337.5</td>\n",
       "      <td>2831</td>\n",
       "    </tr>\n",
       "    <tr>\n",
       "      <th>746</th>\n",
       "      <td>1337.6</td>\n",
       "      <td>2801</td>\n",
       "    </tr>\n",
       "    <tr>\n",
       "      <th>747</th>\n",
       "      <td>1338.2</td>\n",
       "      <td>2992</td>\n",
       "    </tr>\n",
       "  </tbody>\n",
       "</table>\n",
       "<p>748 rows × 2 columns</p>\n",
       "</div>"
      ],
      "text/plain": [
       "      Close  Volume\n",
       "0    1257.2    3508\n",
       "1    1257.4    2156\n",
       "2    1258.0     964\n",
       "3    1258.5    1819\n",
       "4    1258.6    2613\n",
       "..      ...     ...\n",
       "743  1337.0    4363\n",
       "744  1337.4    1840\n",
       "745  1337.5    2831\n",
       "746  1337.6    2801\n",
       "747  1338.2    2992\n",
       "\n",
       "[748 rows x 2 columns]"
      ]
     },
     "execution_count": 5,
     "metadata": {},
     "output_type": "execute_result"
    }
   ],
   "source": [
    "grpd = data.groupby('Close')[['Volume']]\n",
    "irs = grpd.sum().reset_index()\n",
    "irs"
   ]
  },
  {
   "cell_type": "code",
   "execution_count": 6,
   "id": "dc8c5746-f897-4d36-8e56-7697e00e39e2",
   "metadata": {},
   "outputs": [
    {
     "data": {
      "text/plain": [
       "<BarContainer object of 748 artists>"
      ]
     },
     "execution_count": 6,
     "metadata": {},
     "output_type": "execute_result"
    },
    {
     "data": {
      "image/png": "[encoded data removed]",
      "text/plain": [
       "<Figure size 640x480 with 1 Axes>"
      ]
     },
     "metadata": {},
     "output_type": "display_data"
    }
   ],
   "source": [
    "plt.barh(irs['Close'], irs['Volume'])"
   ]
  },
  {
   "cell_type": "code",
   "execution_count": 7,
   "id": "6d4796ca-d6de-491e-8ec6-665ee71f9a2d",
   "metadata": {},
   "outputs": [],
   "source": [
    "irs_volume_sort = irs.sort_values('Volume').reset_index()\n",
    "irs_top30 = irs_volume_sort.tail(30)"
   ]
  },
  {
   "cell_type": "code",
   "execution_count": 8,
   "id": "17bce15d-7a01-4093-81a3-ae038131e0b1",
   "metadata": {},
   "outputs": [
    {
     "data": {
      "text/plain": [
       "<BarContainer object of 30 artists>"
      ]
     },
     "execution_count": 8,
     "metadata": {},
     "output_type": "execute_result"
    },
    {
     "data": {
      "image/png": "[encoded data removed]",
      "text/plain": [
       "<Figure size 640x480 with 1 Axes>"
      ]
     },
     "metadata": {},
     "output_type": "display_data"
    }
   ],
   "source": [
    "plt.barh(irs_top30['Close'], irs_top30['Volume'])"
   ]
  },
  {
   "cell_type": "code",
   "execution_count": 11,
   "id": "87642faf-e9ff-4296-88fd-a1b86adb345f",
   "metadata": {},
   "outputs": [],
   "source": [
    "import plotly.graph_objects as go\n",
    "df = data.tail(100)\n",
    "df['MA5'] = df.Close.rolling(5).mean()\n",
    "df['MA20'] = df.Close.rolling(20).mean()\n",
    "df.dropna(inplace=True)\n",
    "\n",
    "\n",
    "# plot the candlesticks\n",
    "fig = go.Figure(data=[go.Candlestick(x=df.index,\n",
    "                                     open=df.Open, \n",
    "                                     high=df.High,\n",
    "                                     low=df.Low,\n",
    "                                     close=df.Close), \n",
    "                      go.Scatter(x=df.index, y=df.MA5, line=dict(color='orange', width=1)),\n",
    "                      go.Scatter(x=df.index, y=df.MA20, line=dict(color='green', width=1))])"
   ]
  },
  {
   "cell_type": "code",
   "execution_count": 12,
   "id": "a556e079-b61e-4f22-b51d-b1dcd701a2dc",
   "metadata": {},
   "outputs": [
    {
     "data": {
      "application/vnd.plotly.v1+json": {
       "config": {
        "plotlyServerURL": "https://plot.ly"
       },
       "data": [
        {
         "close": [
          1297.2,
          1297,
          1297,
          1297.2,
          1294.9,
          1293.9,
          1294.4,
          1292.9,
          1292.8,
          1292.4,
          1292.9,
          1292.4,
          1293.1,
          1293.2,
          1293.5,
          1294,
          1293.9,
          1294,
          1294.4,
          1294.5,
          1294.7,
          1295.2,
          1295.1,
          1296.6,
          1296.1,
          1295.8,
          1294.8,
          1294.2,
          1293.9,
          1294.4,
          1295.2,
          1295.2,
          1294.4,
          1295.5,
          1295.1,
          1294.5,
          1294,
          1290.4,
          1292.4,
          1294,
          1296.2,
          1296.7,
          1296.5,
          1296.6,
          1295.3,
          1296.2,
          1296.5,
          1296.5,
          1296.8,
          1297.1,
          1296.3,
          1297.4,
          1297.4,
          1297.6,
          1297,
          1297.1,
          1297.9,
          1295,
          1294.7,
          1295.7,
          1295.2,
          1295.6,
          1294.8,
          1292.5,
          1294.9,
          1293.8,
          1290,
          1292,
          1291.3,
          1291.3,
          1291.3,
          1289.7,
          1290.5,
          1288.9,
          1286.9,
          1288.2,
          1286.8,
          1287.5,
          1287.1,
          1287.7,
          1290.7
         ],
         "high": [
          1297.4,
          1297.3,
          1297.1,
          1297.4,
          1297.2,
          1294.7,
          1294.4,
          1294.4,
          1293.5,
          1292.5,
          1293,
          1292.9,
          1293.1,
          1293.8,
          1294.3,
          1294.7,
          1294.2,
          1294.8,
          1294.4,
          1294.6,
          1295.4,
          1295.3,
          1295.2,
          1296.8,
          1296.8,
          1296,
          1295.9,
          1295,
          1294.2,
          1294.4,
          1295.7,
          1295.7,
          1295.1,
          1295.6,
          1295.5,
          1295.1,
          1294.5,
          1294,
          1293,
          1294.5,
          1296.4,
          1298.4,
          1297.5,
          1296.6,
          1296.3,
          1296.5,
          1296.6,
          1296.6,
          1297.2,
          1297.8,
          1297.1,
          1297.4,
          1297.8,
          1299,
          1298.1,
          1297.1,
          1298,
          1298,
          1295.7,
          1295.8,
          1295.7,
          1295.7,
          1295.7,
          1294.8,
          1294.9,
          1294.8,
          1292.2,
          1293,
          1292.4,
          1291.6,
          1292.1,
          1291.6,
          1291.5,
          1290.5,
          1288.5,
          1288.3,
          1288,
          1287.7,
          1288.5,
          1287.8,
          1290.7
         ],
         "low": [
          1296.6,
          1296.8,
          1296.8,
          1297,
          1294.9,
          1292.8,
          1293.8,
          1292.7,
          1292.6,
          1291.3,
          1292.3,
          1292,
          1292.3,
          1292.9,
          1292.6,
          1293.8,
          1293.7,
          1293.7,
          1293.9,
          1294.1,
          1294.6,
          1294.7,
          1294.6,
          1295.1,
          1296,
          1295.6,
          1294.8,
          1294,
          1293.8,
          1293.6,
          1294.6,
          1294.8,
          1294.2,
          1294.5,
          1294.9,
          1294,
          1294,
          1290.4,
          1291.1,
          1292,
          1293.7,
          1296,
          1296.5,
          1295.4,
          1294.1,
          1295,
          1295.9,
          1295.8,
          1296.7,
          1296.9,
          1295.9,
          1296.2,
          1296.9,
          1296.9,
          1297,
          1296.3,
          1296.5,
          1295,
          1294.2,
          1294.2,
          1295.1,
          1294.2,
          1294.7,
          1291.4,
          1292.7,
          1293.2,
          1288.2,
          1290,
          1290.5,
          1290.3,
          1290.5,
          1289.7,
          1289.7,
          1287.9,
          1285.5,
          1286.8,
          1286.8,
          1286.6,
          1287,
          1287.7,
          1290.7
         ],
         "open": [
          1296.8,
          1297.2,
          1296.8,
          1297,
          1297.1,
          1294.7,
          1294,
          1294.4,
          1293,
          1292.5,
          1292.3,
          1292.7,
          1292.6,
          1292.9,
          1292.6,
          1293.8,
          1294.2,
          1294,
          1294.1,
          1294.4,
          1294.7,
          1294.8,
          1295.2,
          1295.1,
          1296.7,
          1296,
          1295.8,
          1294.6,
          1294.1,
          1293.6,
          1294.6,
          1295.5,
          1295.1,
          1294.5,
          1295.4,
          1295.1,
          1294.5,
          1294,
          1291.2,
          1292.1,
          1293.7,
          1296.2,
          1297.2,
          1296.4,
          1296.3,
          1295,
          1296.5,
          1296.6,
          1297,
          1297,
          1297.1,
          1296.2,
          1297.5,
          1298,
          1297.5,
          1297,
          1296.7,
          1297.8,
          1294.5,
          1294.2,
          1295.5,
          1295.1,
          1295.3,
          1294.8,
          1293,
          1294.8,
          1292.2,
          1290.2,
          1292.4,
          1291.4,
          1291.3,
          1291.1,
          1290,
          1290.5,
          1288.1,
          1286.8,
          1288,
          1287,
          1287.7,
          1287.8,
          1290.7
         ],
         "type": "candlestick",
         "x": [
          "2024-06-24T13:11:00",
          "2024-06-24T13:12:00",
          "2024-06-24T13:13:00",
          "2024-06-24T13:14:00",
          "2024-06-24T13:15:00",
          "2024-06-24T13:16:00",
          "2024-06-24T13:17:00",
          "2024-06-24T13:18:00",
          "2024-06-24T13:19:00",
          "2024-06-24T13:20:00",
          "2024-06-24T13:21:00",
          "2024-06-24T13:22:00",
          "2024-06-24T13:23:00",
          "2024-06-24T13:24:00",
          "2024-06-24T13:25:00",
          "2024-06-24T13:26:00",
          "2024-06-24T13:27:00",
          "2024-06-24T13:28:00",
          "2024-06-24T13:29:00",
          "2024-06-24T13:30:00",
          "2024-06-24T13:31:00",
          "2024-06-24T13:32:00",
          "2024-06-24T13:33:00",
          "2024-06-24T13:34:00",
          "2024-06-24T13:35:00",
          "2024-06-24T13:36:00",
          "2024-06-24T13:37:00",
          "2024-06-24T13:38:00",
          "2024-06-24T13:39:00",
          "2024-06-24T13:40:00",
          "2024-06-24T13:41:00",
          "2024-06-24T13:42:00",
          "2024-06-24T13:43:00",
          "2024-06-24T13:44:00",
          "2024-06-24T13:45:00",
          "2024-06-24T13:46:00",
          "2024-06-24T13:47:00",
          "2024-06-24T13:48:00",
          "2024-06-24T13:49:00",
          "2024-06-24T13:50:00",
          "2024-06-24T13:51:00",
          "2024-06-24T13:52:00",
          "2024-06-24T13:53:00",
          "2024-06-24T13:54:00",
          "2024-06-24T13:55:00",
          "2024-06-24T13:56:00",
          "2024-06-24T13:57:00",
          "2024-06-24T13:58:00",
          "2024-06-24T13:59:00",
          "2024-06-24T14:00:00",
          "2024-06-24T14:01:00",
          "2024-06-24T14:02:00",
          "2024-06-24T14:03:00",
          "2024-06-24T14:04:00",
          "2024-06-24T14:05:00",
          "2024-06-24T14:06:00",
          "2024-06-24T14:07:00",
          "2024-06-24T14:08:00",
          "2024-06-24T14:09:00",
          "2024-06-24T14:10:00",
          "2024-06-24T14:11:00",
          "2024-06-24T14:12:00",
          "2024-06-24T14:13:00",
          "2024-06-24T14:14:00",
          "2024-06-24T14:15:00",
          "2024-06-24T14:16:00",
          "2024-06-24T14:17:00",
          "2024-06-24T14:18:00",
          "2024-06-24T14:19:00",
          "2024-06-24T14:20:00",
          "2024-06-24T14:21:00",
          "2024-06-24T14:22:00",
          "2024-06-24T14:23:00",
          "2024-06-24T14:24:00",
          "2024-06-24T14:25:00",
          "2024-06-24T14:26:00",
          "2024-06-24T14:27:00",
          "2024-06-24T14:28:00",
          "2024-06-24T14:29:00",
          "2024-06-24T14:30:00",
          "2024-06-24T14:45:00"
         ]
        },
        {
         "line": {
          "color": "orange",
          "width": 1
         },
         "type": "scatter",
         "x": [
          "2024-06-24T13:11:00",
          "2024-06-24T13:12:00",
          "2024-06-24T13:13:00",
          "2024-06-24T13:14:00",
          "2024-06-24T13:15:00",
          "2024-06-24T13:16:00",
          "2024-06-24T13:17:00",
          "2024-06-24T13:18:00",
          "2024-06-24T13:19:00",
          "2024-06-24T13:20:00",
          "2024-06-24T13:21:00",
          "2024-06-24T13:22:00",
          "2024-06-24T13:23:00",
          "2024-06-24T13:24:00",
          "2024-06-24T13:25:00",
          "2024-06-24T13:26:00",
          "2024-06-24T13:27:00",
          "2024-06-24T13:28:00",
          "2024-06-24T13:29:00",
          "2024-06-24T13:30:00",
          "2024-06-24T13:31:00",
          "2024-06-24T13:32:00",
          "2024-06-24T13:33:00",
          "2024-06-24T13:34:00",
          "2024-06-24T13:35:00",
          "2024-06-24T13:36:00",
          "2024-06-24T13:37:00",
          "2024-06-24T13:38:00",
          "2024-06-24T13:39:00",
          "2024-06-24T13:40:00",
          "2024-06-24T13:41:00",
          "2024-06-24T13:42:00",
          "2024-06-24T13:43:00",
          "2024-06-24T13:44:00",
          "2024-06-24T13:45:00",
          "2024-06-24T13:46:00",
          "2024-06-24T13:47:00",
          "2024-06-24T13:48:00",
          "2024-06-24T13:49:00",
          "2024-06-24T13:50:00",
          "2024-06-24T13:51:00",
          "2024-06-24T13:52:00",
          "2024-06-24T13:53:00",
          "2024-06-24T13:54:00",
          "2024-06-24T13:55:00",
          "2024-06-24T13:56:00",
          "2024-06-24T13:57:00",
          "2024-06-24T13:58:00",
          "2024-06-24T13:59:00",
          "2024-06-24T14:00:00",
          "2024-06-24T14:01:00",
          "2024-06-24T14:02:00",
          "2024-06-24T14:03:00",
          "2024-06-24T14:04:00",
          "2024-06-24T14:05:00",
          "2024-06-24T14:06:00",
          "2024-06-24T14:07:00",
          "2024-06-24T14:08:00",
          "2024-06-24T14:09:00",
          "2024-06-24T14:10:00",
          "2024-06-24T14:11:00",
          "2024-06-24T14:12:00",
          "2024-06-24T14:13:00",
          "2024-06-24T14:14:00",
          "2024-06-24T14:15:00",
          "2024-06-24T14:16:00",
          "2024-06-24T14:17:00",
          "2024-06-24T14:18:00",
          "2024-06-24T14:19:00",
          "2024-06-24T14:20:00",
          "2024-06-24T14:21:00",
          "2024-06-24T14:22:00",
          "2024-06-24T14:23:00",
          "2024-06-24T14:24:00",
          "2024-06-24T14:25:00",
          "2024-06-24T14:26:00",
          "2024-06-24T14:27:00",
          "2024-06-24T14:28:00",
          "2024-06-24T14:29:00",
          "2024-06-24T14:30:00",
          "2024-06-24T14:45:00"
         ],
         "y": [
          1297.22,
          1297.1,
          1296.98,
          1297,
          1296.66,
          1296.0000000000002,
          1295.48,
          1294.66,
          1293.78,
          1293.2800000000002,
          1293.08,
          1292.68,
          1292.72,
          1292.8000000000002,
          1293.02,
          1293.2400000000002,
          1293.54,
          1293.72,
          1293.96,
          1294.16,
          1294.3,
          1294.56,
          1294.7800000000002,
          1295.2199999999998,
          1295.54,
          1295.7599999999998,
          1295.6799999999998,
          1295.5,
          1294.96,
          1294.6200000000001,
          1294.5000000000002,
          1294.5800000000002,
          1294.6200000000001,
          1294.94,
          1295.0800000000002,
          1294.94,
          1294.7,
          1293.9,
          1293.2800000000002,
          1293.06,
          1293.4,
          1293.94,
          1295.1600000000003,
          1296,
          1296.26,
          1296.26,
          1296.22,
          1296.22,
          1296.26,
          1296.62,
          1296.6399999999999,
          1296.8200000000002,
          1297,
          1297.1599999999999,
          1297.14,
          1297.3,
          1297.4,
          1296.92,
          1296.34,
          1296.0800000000002,
          1295.7,
          1295.2400000000002,
          1295.2,
          1294.7599999999998,
          1294.6,
          1294.3200000000002,
          1293.2,
          1292.64,
          1292.4,
          1291.6799999999998,
          1291.1799999999998,
          1291.12,
          1290.82,
          1290.34,
          1289.46,
          1288.8400000000001,
          1288.26,
          1287.66,
          1287.3,
          1287.46,
          1287.96
         ]
        },
        {
         "line": {
          "color": "green",
          "width": 1
         },
         "type": "scatter",
         "x": [
          "2024-06-24T13:11:00",
          "2024-06-24T13:12:00",
          "2024-06-24T13:13:00",
          "2024-06-24T13:14:00",
          "2024-06-24T13:15:00",
          "2024-06-24T13:16:00",
          "2024-06-24T13:17:00",
          "2024-06-24T13:18:00",
          "2024-06-24T13:19:00",
          "2024-06-24T13:20:00",
          "2024-06-24T13:21:00",
          "2024-06-24T13:22:00",
          "2024-06-24T13:23:00",
          "2024-06-24T13:24:00",
          "2024-06-24T13:25:00",
          "2024-06-24T13:26:00",
          "2024-06-24T13:27:00",
          "2024-06-24T13:28:00",
          "2024-06-24T13:29:00",
          "2024-06-24T13:30:00",
          "2024-06-24T13:31:00",
          "2024-06-24T13:32:00",
          "2024-06-24T13:33:00",
          "2024-06-24T13:34:00",
          "2024-06-24T13:35:00",
          "2024-06-24T13:36:00",
          "2024-06-24T13:37:00",
          "2024-06-24T13:38:00",
          "2024-06-24T13:39:00",
          "2024-06-24T13:40:00",
          "2024-06-24T13:41:00",
          "2024-06-24T13:42:00",
          "2024-06-24T13:43:00",
          "2024-06-24T13:44:00",
          "2024-06-24T13:45:00",
          "2024-06-24T13:46:00",
          "2024-06-24T13:47:00",
          "2024-06-24T13:48:00",
          "2024-06-24T13:49:00",
          "2024-06-24T13:50:00",
          "2024-06-24T13:51:00",
          "2024-06-24T13:52:00",
          "2024-06-24T13:53:00",
          "2024-06-24T13:54:00",
          "2024-06-24T13:55:00",
          "2024-06-24T13:56:00",
          "2024-06-24T13:57:00",
          "2024-06-24T13:58:00",
          "2024-06-24T13:59:00",
          "2024-06-24T14:00:00",
          "2024-06-24T14:01:00",
          "2024-06-24T14:02:00",
          "2024-06-24T14:03:00",
          "2024-06-24T14:04:00",
          "2024-06-24T14:05:00",
          "2024-06-24T14:06:00",
          "2024-06-24T14:07:00",
          "2024-06-24T14:08:00",
          "2024-06-24T14:09:00",
          "2024-06-24T14:10:00",
          "2024-06-24T14:11:00",
          "2024-06-24T14:12:00",
          "2024-06-24T14:13:00",
          "2024-06-24T14:14:00",
          "2024-06-24T14:15:00",
          "2024-06-24T14:16:00",
          "2024-06-24T14:17:00",
          "2024-06-24T14:18:00",
          "2024-06-24T14:19:00",
          "2024-06-24T14:20:00",
          "2024-06-24T14:21:00",
          "2024-06-24T14:22:00",
          "2024-06-24T14:23:00",
          "2024-06-24T14:24:00",
          "2024-06-24T14:25:00",
          "2024-06-24T14:26:00",
          "2024-06-24T14:27:00",
          "2024-06-24T14:28:00",
          "2024-06-24T14:29:00",
          "2024-06-24T14:30:00",
          "2024-06-24T14:45:00"
         ],
         "y": [
          1297.075,
          1297.09,
          1297.09,
          1297.095,
          1297.0149999999999,
          1296.905,
          1296.785,
          1296.58,
          1296.3799999999999,
          1296.1399999999999,
          1295.94,
          1295.6699999999998,
          1295.46,
          1295.2599999999998,
          1295.06,
          1294.8849999999998,
          1294.7,
          1294.52,
          1294.385,
          1294.2800000000002,
          1294.155,
          1294.065,
          1293.97,
          1293.94,
          1294,
          1294.095,
          1294.115,
          1294.18,
          1294.2350000000001,
          1294.335,
          1294.45,
          1294.5900000000001,
          1294.655,
          1294.77,
          1294.85,
          1294.875,
          1294.8799999999999,
          1294.7,
          1294.6,
          1294.575,
          1294.65,
          1294.725,
          1294.7949999999998,
          1294.795,
          1294.755,
          1294.775,
          1294.8600000000001,
          1294.975,
          1295.1200000000001,
          1295.2549999999999,
          1295.31,
          1295.42,
          1295.5700000000002,
          1295.675,
          1295.77,
          1295.9,
          1296.095,
          1296.325,
          1296.44,
          1296.525,
          1296.475,
          1296.42,
          1296.335,
          1296.1299999999999,
          1296.1100000000001,
          1295.99,
          1295.665,
          1295.44,
          1295.165,
          1294.875,
          1294.625,
          1294.24,
          1293.895,
          1293.46,
          1292.9550000000002,
          1292.5099999999998,
          1291.9550000000002,
          1291.5800000000002,
          1291.2,
          1290.8,
          1290.575
         ]
        }
       ],
       "layout": {
        "autosize": true,
        "template": {
         "data": {
          "bar": [
           {
            "error_x": {
             "color": "#2a3f5f"
            },
            "error_y": {
             "color": "#2a3f5f"
            },
            "marker": {
             "line": {
              "color": "#E5ECF6",
              "width": 0.5
             },
             "pattern": {
              "fillmode": "overlay",
              "size": 10,
              "solidity": 0.2
             }
            },
            "type": "bar"
           }
          ],
          "barpolar": [
           {
            "marker": {
             "line": {
              "color": "#E5ECF6",
              "width": 0.5
             },
             "pattern": {
              "fillmode": "overlay",
              "size": 10,
              "solidity": 0.2
             }
            },
            "type": "barpolar"
           }
          ],
          "carpet": [
           {
            "aaxis": {
             "endlinecolor": "#2a3f5f",
             "gridcolor": "white",
             "linecolor": "white",
             "minorgridcolor": "white",
             "startlinecolor": "#2a3f5f"
            },
            "baxis": {
             "endlinecolor": "#2a3f5f",
             "gridcolor": "white",
             "linecolor": "white",
             "minorgridcolor": "white",
             "startlinecolor": "#2a3f5f"
            },
            "type": "carpet"
           }
          ],
          "choropleth": [
           {
            "colorbar": {
             "outlinewidth": 0,
             "ticks": ""
            },
            "type": "choropleth"
           }
          ],
          "contour": [
           {
            "colorbar": {
             "outlinewidth": 0,
             "ticks": ""
            },
            "colorscale": [
             [
              0,
              "#0d0887"
             ],
             [
              0.1111111111111111,
              "#46039f"
             ],
             [
              0.2222222222222222,
              "#7201a8"
             ],
             [
              0.3333333333333333,
              "#9c179e"
             ],
             [
              0.4444444444444444,
              "#bd3786"
             ],
             [
              0.5555555555555556,
              "#d8576b"
             ],
             [
              0.6666666666666666,
              "#ed7953"
             ],
             [
              0.7777777777777778,
              "#fb9f3a"
             ],
             [
              0.8888888888888888,
              "#fdca26"
             ],
             [
              1,
              "#f0f921"
             ]
            ],
            "type": "contour"
           }
          ],
          "contourcarpet": [
           {
            "colorbar": {
             "outlinewidth": 0,
             "ticks": ""
            },
            "type": "contourcarpet"
           }
          ],
          "heatmap": [
           {
            "colorbar": {
             "outlinewidth": 0,
             "ticks": ""
            },
            "colorscale": [
             [
              0,
              "#0d0887"
             ],
             [
              0.1111111111111111,
              "#46039f"
             ],
             [
              0.2222222222222222,
              "#7201a8"
             ],
             [
              0.3333333333333333,
              "#9c179e"
             ],
             [
              0.4444444444444444,
              "#bd3786"
             ],
             [
              0.5555555555555556,
              "#d8576b"
             ],
             [
              0.6666666666666666,
              "#ed7953"
             ],
             [
              0.7777777777777778,
              "#fb9f3a"
             ],
             [
              0.8888888888888888,
              "#fdca26"
             ],
             [
              1,
              "#f0f921"
             ]
            ],
            "type": "heatmap"
           }
          ],
          "heatmapgl": [
           {
            "colorbar": {
             "outlinewidth": 0,
             "ticks": ""
            },
            "colorscale": [
             [
              0,
              "#0d0887"
             ],
             [
              0.1111111111111111,
              "#46039f"
             ],
             [
              0.2222222222222222,
              "#7201a8"
             ],
             [
              0.3333333333333333,
              "#9c179e"
             ],
             [
              0.4444444444444444,
              "#bd3786"
             ],
             [
              0.5555555555555556,
              "#d8576b"
             ],
             [
              0.6666666666666666,
              "#ed7953"
             ],
             [
              0.7777777777777778,
              "#fb9f3a"
             ],
             [
              0.8888888888888888,
              "#fdca26"
             ],
             [
              1,
              "#f0f921"
             ]
            ],
            "type": "heatmapgl"
           }
          ],
          "histogram": [
           {
            "marker": {
             "pattern": {
              "fillmode": "overlay",
              "size": 10,
              "solidity": 0.2
             }
            },
            "type": "histogram"
           }
          ],
          "histogram2d": [
           {
            "colorbar": {
             "outlinewidth": 0,
             "ticks": ""
            },
            "colorscale": [
             [
              0,
              "#0d0887"
             ],
             [
              0.1111111111111111,
              "#46039f"
             ],
             [
              0.2222222222222222,
              "#7201a8"
             ],
             [
              0.3333333333333333,
              "#9c179e"
             ],
             [
              0.4444444444444444,
              "#bd3786"
             ],
             [
              0.5555555555555556,
              "#d8576b"
             ],
             [
              0.6666666666666666,
              "#ed7953"
             ],
             [
              0.7777777777777778,
              "#fb9f3a"
             ],
             [
              0.8888888888888888,
              "#fdca26"
             ],
             [
              1,
              "#f0f921"
             ]
            ],
            "type": "histogram2d"
           }
          ],
          "histogram2dcontour": [
           {
            "colorbar": {
             "outlinewidth": 0,
             "ticks": ""
            },
            "colorscale": [
             [
              0,
              "#0d0887"
             ],
             [
              0.1111111111111111,
              "#46039f"
             ],
             [
              0.2222222222222222,
              "#7201a8"
             ],
             [
              0.3333333333333333,
              "#9c179e"
             ],
             [
              0.4444444444444444,
              "#bd3786"
             ],
             [
              0.5555555555555556,
              "#d8576b"
             ],
             [
              0.6666666666666666,
              "#ed7953"
             ],
             [
              0.7777777777777778,
              "#fb9f3a"
             ],
             [
              0.8888888888888888,
              "#fdca26"
             ],
             [
              1,
              "#f0f921"
             ]
            ],
            "type": "histogram2dcontour"
           }
          ],
          "mesh3d": [
           {
            "colorbar": {
             "outlinewidth": 0,
             "ticks": ""
            },
            "type": "mesh3d"
           }
          ],
          "parcoords": [
           {
            "line": {
             "colorbar": {
              "outlinewidth": 0,
              "ticks": ""
             }
            },
            "type": "parcoords"
           }
          ],
          "pie": [
           {
            "automargin": true,
            "type": "pie"
           }
          ],
          "scatter": [
           {
            "fillpattern": {
             "fillmode": "overlay",
             "size": 10,
             "solidity": 0.2
            },
            "type": "scatter"
           }
          ],
          "scatter3d": [
           {
            "line": {
             "colorbar": {
              "outlinewidth": 0,
              "ticks": ""
             }
            },
            "marker": {
             "colorbar": {
              "outlinewidth": 0,
              "ticks": ""
             }
            },
            "type": "scatter3d"
           }
          ],
          "scattercarpet": [
           {
            "marker": {
             "colorbar": {
              "outlinewidth": 0,
              "ticks": ""
             }
            },
            "type": "scattercarpet"
           }
          ],
          "scattergeo": [
           {
            "marker": {
             "colorbar": {
              "outlinewidth": 0,
              "ticks": ""
             }
            },
            "type": "scattergeo"
           }
          ],
          "scattergl": [
           {
            "marker": {
             "colorbar": {
              "outlinewidth": 0,
              "ticks": ""
             }
            },
            "type": "scattergl"
           }
          ],
          "scattermapbox": [
           {
            "marker": {
             "colorbar": {
              "outlinewidth": 0,
              "ticks": ""
             }
            },
            "type": "scattermapbox"
           }
          ],
          "scatterpolar": [
           {
            "marker": {
             "colorbar": {
              "outlinewidth": 0,
              "ticks": ""
             }
            },
            "type": "scatterpolar"
           }
          ],
          "scatterpolargl": [
           {
            "marker": {
             "colorbar": {
              "outlinewidth": 0,
              "ticks": ""
             }
            },
            "type": "scatterpolargl"
           }
          ],
          "scatterternary": [
           {
            "marker": {
             "colorbar": {
              "outlinewidth": 0,
              "ticks": ""
             }
            },
            "type": "scatterternary"
           }
          ],
          "surface": [
           {
            "colorbar": {
             "outlinewidth": 0,
             "ticks": ""
            },
            "colorscale": [
             [
              0,
              "#0d0887"
             ],
             [
              0.1111111111111111,
              "#46039f"
             ],
             [
              0.2222222222222222,
              "#7201a8"
             ],
             [
              0.3333333333333333,
              "#9c179e"
             ],
             [
              0.4444444444444444,
              "#bd3786"
             ],
             [
              0.5555555555555556,
              "#d8576b"
             ],
             [
              0.6666666666666666,
              "#ed7953"
             ],
             [
              0.7777777777777778,
              "#fb9f3a"
             ],
             [
              0.8888888888888888,
              "#fdca26"
             ],
             [
              1,
              "#f0f921"
             ]
            ],
            "type": "surface"
           }
          ],
          "table": [
           {
            "cells": {
             "fill": {
              "color": "#EBF0F8"
             },
             "line": {
              "color": "white"
             }
            },
            "header": {
             "fill": {
              "color": "#C8D4E3"
             },
             "line": {
              "color": "white"
             }
            },
            "type": "table"
           }
          ]
         },
         "layout": {
          "annotationdefaults": {
           "arrowcolor": "#2a3f5f",
           "arrowhead": 0,
           "arrowwidth": 1
          },
          "autotypenumbers": "strict",
          "coloraxis": {
           "colorbar": {
            "outlinewidth": 0,
            "ticks": ""
           }
          },
          "colorscale": {
           "diverging": [
            [
             0,
             "#8e0152"
            ],
            [
             0.1,
             "#c51b7d"
            ],
            [
             0.2,
             "#de77ae"
            ],
            [
             0.3,
             "#f1b6da"
            ],
            [
             0.4,
             "#fde0ef"
            ],
            [
             0.5,
             "#f7f7f7"
            ],
            [
             0.6,
             "#e6f5d0"
            ],
            [
             0.7,
             "#b8e186"
            ],
            [
             0.8,
             "#7fbc41"
            ],
            [
             0.9,
             "#4d9221"
            ],
            [
             1,
             "#276419"
            ]
           ],
           "sequential": [
            [
             0,
             "#0d0887"
            ],
            [
             0.1111111111111111,
             "#46039f"
            ],
            [
             0.2222222222222222,
             "#7201a8"
            ],
            [
             0.3333333333333333,
             "#9c179e"
            ],
            [
             0.4444444444444444,
             "#bd3786"
            ],
            [
             0.5555555555555556,
             "#d8576b"
            ],
            [
             0.6666666666666666,
             "#ed7953"
            ],
            [
             0.7777777777777778,
             "#fb9f3a"
            ],
            [
             0.8888888888888888,
             "#fdca26"
            ],
            [
             1,
             "#f0f921"
            ]
           ],
           "sequentialminus": [
            [
             0,
             "#0d0887"
            ],
            [
             0.1111111111111111,
             "#46039f"
            ],
            [
             0.2222222222222222,
             "#7201a8"
            ],
            [
             0.3333333333333333,
             "#9c179e"
            ],
            [
             0.4444444444444444,
             "#bd3786"
            ],
            [
             0.5555555555555556,
             "#d8576b"
            ],
            [
             0.6666666666666666,
             "#ed7953"
            ],
            [
             0.7777777777777778,
             "#fb9f3a"
            ],
            [
             0.8888888888888888,
             "#fdca26"
            ],
            [
             1,
             "#f0f921"
            ]
           ]
          },
          "colorway": [
           "#636efa",
           "#EF553B",
           "#00cc96",
           "#ab63fa",
           "#FFA15A",
           "#19d3f3",
           "#FF6692",
           "#B6E880",
           "#FF97FF",
           "#FECB52"
          ],
          "font": {
           "color": "#2a3f5f"
          },
          "geo": {
           "bgcolor": "white",
           "lakecolor": "white",
           "landcolor": "#E5ECF6",
           "showlakes": true,
           "showland": true,
           "subunitcolor": "white"
          },
          "hoverlabel": {
           "align": "left"
          },
          "hovermode": "closest",
          "mapbox": {
           "style": "light"
          },
          "paper_bgcolor": "white",
          "plot_bgcolor": "#E5ECF6",
          "polar": {
           "angularaxis": {
            "gridcolor": "white",
            "linecolor": "white",
            "ticks": ""
           },
           "bgcolor": "#E5ECF6",
           "radialaxis": {
            "gridcolor": "white",
            "linecolor": "white",
            "ticks": ""
           }
          },
          "scene": {
           "xaxis": {
            "backgroundcolor": "#E5ECF6",
            "gridcolor": "white",
            "gridwidth": 2,
            "linecolor": "white",
            "showbackground": true,
            "ticks": "",
            "zerolinecolor": "white"
           },
           "yaxis": {
            "backgroundcolor": "#E5ECF6",
            "gridcolor": "white",
            "gridwidth": 2,
            "linecolor": "white",
            "showbackground": true,
            "ticks": "",
            "zerolinecolor": "white"
           },
           "zaxis": {
            "backgroundcolor": "#E5ECF6",
            "gridcolor": "white",
            "gridwidth": 2,
            "linecolor": "white",
            "showbackground": true,
            "ticks": "",
            "zerolinecolor": "white"
           }
          },
          "shapedefaults": {
           "line": {
            "color": "#2a3f5f"
           }
          },
          "ternary": {
           "aaxis": {
            "gridcolor": "white",
            "linecolor": "white",
            "ticks": ""
           },
           "baxis": {
            "gridcolor": "white",
            "linecolor": "white",
            "ticks": ""
           },
           "bgcolor": "#E5ECF6",
           "caxis": {
            "gridcolor": "white",
            "linecolor": "white",
            "ticks": ""
           }
          },
          "title": {
           "x": 0.05
          },
          "xaxis": {
           "automargin": true,
           "gridcolor": "white",
           "linecolor": "white",
           "ticks": "",
           "title": {
            "standoff": 15
           },
           "zerolinecolor": "white",
           "zerolinewidth": 2
          },
          "yaxis": {
           "automargin": true,
           "gridcolor": "white",
           "linecolor": "white",
           "ticks": "",
           "title": {
            "standoff": 15
           },
           "zerolinecolor": "white",
           "zerolinewidth": 2
          }
         }
        },
        "xaxis": {
         "autorange": false,
         "range": [
          "2024-06-24 13:10:35.1701",
          "2024-06-24 14:45:30"
         ],
         "rangeslider": {
          "autorange": true,
          "range": [
           "2024-06-24 13:10:30",
           "2024-06-24 14:45:30"
          ],
          "yaxis": {
           "_template": null,
           "rangemode": "match"
          }
         },
         "type": "date"
        },
        "yaxis": {
         "autorange": true,
         "range": [
          1284.75,
          1299.75
         ],
         "type": "linear"
        }
       }
      },
      "image/png": "[encoded data removed]",
      "text/html": [
       "<div>                            <div id=\"1dc634d0-026e-40fd-9053-1a58fb291b8d\" class=\"plotly-graph-div\" style=\"height:525px; width:100%;\"></div>            <script type=\"text/javascript\">                require([\"plotly\"], function(Plotly) {                    window.PLOTLYENV=window.PLOTLYENV || {};                                    if (document.getElementById(\"1dc634d0-026e-40fd-9053-1a58fb291b8d\")) {                    Plotly.newPlot(                        \"1dc634d0-026e-40fd-9053-1a58fb291b8d\",                        [{\"close\":[1297.2,1297.0,1297.0,1297.2,1294.9,1293.9,1294.4,1292.9,1292.8,1292.4,1292.9,1292.4,1293.1,1293.2,1293.5,1294.0,1293.9,1294.0,1294.4,1294.5,1294.7,1295.2,1295.1,1296.6,1296.1,1295.8,1294.8,1294.2,1293.9,1294.4,1295.2,1295.2,1294.4,1295.5,1295.1,1294.5,1294.0,1290.4,1292.4,1294.0,1296.2,1296.7,1296.5,1296.6,1295.3,1296.2,1296.5,1296.5,1296.8,1297.1,1296.3,1297.4,1297.4,1297.6,1297.0,1297.1,1297.9,1295.0,1294.7,1295.7,1295.2,1295.6,1294.8,1292.5,1294.9,1293.8,1290.0,1292.0,1291.3,1291.3,1291.3,1289.7,1290.5,1288.9,1286.9,1288.2,1286.8,1287.5,1287.1,1287.7,1290.7],\"high\":[1297.4,1297.3,1297.1,1297.4,1297.2,1294.7,1294.4,1294.4,1293.5,1292.5,1293.0,1292.9,1293.1,1293.8,1294.3,1294.7,1294.2,1294.8,1294.4,1294.6,1295.4,1295.3,1295.2,1296.8,1296.8,1296.0,1295.9,1295.0,1294.2,1294.4,1295.7,1295.7,1295.1,1295.6,1295.5,1295.1,1294.5,1294.0,1293.0,1294.5,1296.4,1298.4,1297.5,1296.6,1296.3,1296.5,1296.6,1296.6,1297.2,1297.8,1297.1,1297.4,1297.8,1299.0,1298.1,1297.1,1298.0,1298.0,1295.7,1295.8,1295.7,1295.7,1295.7,1294.8,1294.9,1294.8,1292.2,1293.0,1292.4,1291.6,1292.1,1291.6,1291.5,1290.5,1288.5,1288.3,1288.0,1287.7,1288.5,1287.8,1290.7],\"low\":[1296.6,1296.8,1296.8,1297.0,1294.9,1292.8,1293.8,1292.7,1292.6,1291.3,1292.3,1292.0,1292.3,1292.9,1292.6,1293.8,1293.7,1293.7,1293.9,1294.1,1294.6,1294.7,1294.6,1295.1,1296.0,1295.6,1294.8,1294.0,1293.8,1293.6,1294.6,1294.8,1294.2,1294.5,1294.9,1294.0,1294.0,1290.4,1291.1,1292.0,1293.7,1296.0,1296.5,1295.4,1294.1,1295.0,1295.9,1295.8,1296.7,1296.9,1295.9,1296.2,1296.9,1296.9,1297.0,1296.3,1296.5,1295.0,1294.2,1294.2,1295.1,1294.2,1294.7,1291.4,1292.7,1293.2,1288.2,1290.0,1290.5,1290.3,1290.5,1289.7,1289.7,1287.9,1285.5,1286.8,1286.8,1286.6,1287.0,1287.7,1290.7],\"open\":[1296.8,1297.2,1296.8,1297.0,1297.1,1294.7,1294.0,1294.4,1293.0,1292.5,1292.3,1292.7,1292.6,1292.9,1292.6,1293.8,1294.2,1294.0,1294.1,1294.4,1294.7,1294.8,1295.2,1295.1,1296.7,1296.0,1295.8,1294.6,1294.1,1293.6,1294.6,1295.5,1295.1,1294.5,1295.4,1295.1,1294.5,1294.0,1291.2,1292.1,1293.7,1296.2,1297.2,1296.4,1296.3,1295.0,1296.5,1296.6,1297.0,1297.0,1297.1,1296.2,1297.5,1298.0,1297.5,1297.0,1296.7,1297.8,1294.5,1294.2,1295.5,1295.1,1295.3,1294.8,1293.0,1294.8,1292.2,1290.2,1292.4,1291.4,1291.3,1291.1,1290.0,1290.5,1288.1,1286.8,1288.0,1287.0,1287.7,1287.8,1290.7],\"x\":[\"2024-06-24T13:11:00\",\"2024-06-24T13:12:00\",\"2024-06-24T13:13:00\",\"2024-06-24T13:14:00\",\"2024-06-24T13:15:00\",\"2024-06-24T13:16:00\",\"2024-06-24T13:17:00\",\"2024-06-24T13:18:00\",\"2024-06-24T13:19:00\",\"2024-06-24T13:20:00\",\"2024-06-24T13:21:00\",\"2024-06-24T13:22:00\",\"2024-06-24T13:23:00\",\"2024-06-24T13:24:00\",\"2024-06-24T13:25:00\",\"2024-06-24T13:26:00\",\"2024-06-24T13:27:00\",\"2024-06-24T13:28:00\",\"2024-06-24T13:29:00\",\"2024-06-24T13:30:00\",\"2024-06-24T13:31:00\",\"2024-06-24T13:32:00\",\"2024-06-24T13:33:00\",\"2024-06-24T13:34:00\",\"2024-06-24T13:35:00\",\"2024-06-24T13:36:00\",\"2024-06-24T13:37:00\",\"2024-06-24T13:38:00\",\"2024-06-24T13:39:00\",\"2024-06-24T13:40:00\",\"2024-06-24T13:41:00\",\"2024-06-24T13:42:00\",\"2024-06-24T13:43:00\",\"2024-06-24T13:44:00\",\"2024-06-24T13:45:00\",\"2024-06-24T13:46:00\",\"2024-06-24T13:47:00\",\"2024-06-24T13:48:00\",\"2024-06-24T13:49:00\",\"2024-06-24T13:50:00\",\"2024-06-24T13:51:00\",\"2024-06-24T13:52:00\",\"2024-06-24T13:53:00\",\"2024-06-24T13:54:00\",\"2024-06-24T13:55:00\",\"2024-06-24T13:56:00\",\"2024-06-24T13:57:00\",\"2024-06-24T13:58:00\",\"2024-06-24T13:59:00\",\"2024-06-24T14:00:00\",\"2024-06-24T14:01:00\",\"2024-06-24T14:02:00\",\"2024-06-24T14:03:00\",\"2024-06-24T14:04:00\",\"2024-06-24T14:05:00\",\"2024-06-24T14:06:00\",\"2024-06-24T14:07:00\",\"2024-06-24T14:08:00\",\"2024-06-24T14:09:00\",\"2024-06-24T14:10:00\",\"2024-06-24T14:11:00\",\"2024-06-24T14:12:00\",\"2024-06-24T14:13:00\",\"2024-06-24T14:14:00\",\"2024-06-24T14:15:00\",\"2024-06-24T14:16:00\",\"2024-06-24T14:17:00\",\"2024-06-24T14:18:00\",\"2024-06-24T14:19:00\",\"2024-06-24T14:20:00\",\"2024-06-24T14:21:00\",\"2024-06-24T14:22:00\",\"2024-06-24T14:23:00\",\"2024-06-24T14:24:00\",\"2024-06-24T14:25:00\",\"2024-06-24T14:26:00\",\"2024-06-24T14:27:00\",\"2024-06-24T14:28:00\",\"2024-06-24T14:29:00\",\"2024-06-24T14:30:00\",\"2024-06-24T14:45:00\"],\"type\":\"candlestick\"},{\"line\":{\"color\":\"orange\",\"width\":1},\"x\":[\"2024-06-24T13:11:00\",\"2024-06-24T13:12:00\",\"2024-06-24T13:13:00\",\"2024-06-24T13:14:00\",\"2024-06-24T13:15:00\",\"2024-06-24T13:16:00\",\"2024-06-24T13:17:00\",\"2024-06-24T13:18:00\",\"2024-06-24T13:19:00\",\"2024-06-24T13:20:00\",\"2024-06-24T13:21:00\",\"2024-06-24T13:22:00\",\"2024-06-24T13:23:00\",\"2024-06-24T13:24:00\",\"2024-06-24T13:25:00\",\"2024-06-24T13:26:00\",\"2024-06-24T13:27:00\",\"2024-06-24T13:28:00\",\"2024-06-24T13:29:00\",\"2024-06-24T13:30:00\",\"2024-06-24T13:31:00\",\"2024-06-24T13:32:00\",\"2024-06-24T13:33:00\",\"2024-06-24T13:34:00\",\"2024-06-24T13:35:00\",\"2024-06-24T13:36:00\",\"2024-06-24T13:37:00\",\"2024-06-24T13:38:00\",\"2024-06-24T13:39:00\",\"2024-06-24T13:40:00\",\"2024-06-24T13:41:00\",\"2024-06-24T13:42:00\",\"2024-06-24T13:43:00\",\"2024-06-24T13:44:00\",\"2024-06-24T13:45:00\",\"2024-06-24T13:46:00\",\"2024-06-24T13:47:00\",\"2024-06-24T13:48:00\",\"2024-06-24T13:49:00\",\"2024-06-24T13:50:00\",\"2024-06-24T13:51:00\",\"2024-06-24T13:52:00\",\"2024-06-24T13:53:00\",\"2024-06-24T13:54:00\",\"2024-06-24T13:55:00\",\"2024-06-24T13:56:00\",\"2024-06-24T13:57:00\",\"2024-06-24T13:58:00\",\"2024-06-24T13:59:00\",\"2024-06-24T14:00:00\",\"2024-06-24T14:01:00\",\"2024-06-24T14:02:00\",\"2024-06-24T14:03:00\",\"2024-06-24T14:04:00\",\"2024-06-24T14:05:00\",\"2024-06-24T14:06:00\",\"2024-06-24T14:07:00\",\"2024-06-24T14:08:00\",\"2024-06-24T14:09:00\",\"2024-06-24T14:10:00\",\"2024-06-24T14:11:00\",\"2024-06-24T14:12:00\",\"2024-06-24T14:13:00\",\"2024-06-24T14:14:00\",\"2024-06-24T14:15:00\",\"2024-06-24T14:16:00\",\"2024-06-24T14:17:00\",\"2024-06-24T14:18:00\",\"2024-06-24T14:19:00\",\"2024-06-24T14:20:00\",\"2024-06-24T14:21:00\",\"2024-06-24T14:22:00\",\"2024-06-24T14:23:00\",\"2024-06-24T14:24:00\",\"2024-06-24T14:25:00\",\"2024-06-24T14:26:00\",\"2024-06-24T14:27:00\",\"2024-06-24T14:28:00\",\"2024-06-24T14:29:00\",\"2024-06-24T14:30:00\",\"2024-06-24T14:45:00\"],\"y\":[1297.22,1297.1,1296.98,1297.0,1296.66,1296.0000000000002,1295.48,1294.66,1293.78,1293.2800000000002,1293.08,1292.68,1292.72,1292.8000000000002,1293.02,1293.2400000000002,1293.54,1293.72,1293.96,1294.16,1294.3,1294.56,1294.7800000000002,1295.2199999999998,1295.54,1295.7599999999998,1295.6799999999998,1295.5,1294.96,1294.6200000000001,1294.5000000000002,1294.5800000000002,1294.6200000000001,1294.94,1295.0800000000002,1294.94,1294.7,1293.9,1293.2800000000002,1293.06,1293.4,1293.94,1295.1600000000003,1296.0,1296.26,1296.26,1296.22,1296.22,1296.26,1296.62,1296.6399999999999,1296.8200000000002,1297.0,1297.1599999999999,1297.14,1297.3,1297.4,1296.92,1296.34,1296.0800000000002,1295.7,1295.2400000000002,1295.2,1294.7599999999998,1294.6,1294.3200000000002,1293.2,1292.64,1292.4,1291.6799999999998,1291.1799999999998,1291.12,1290.82,1290.34,1289.46,1288.8400000000001,1288.26,1287.66,1287.3,1287.46,1287.96],\"type\":\"scatter\"},{\"line\":{\"color\":\"green\",\"width\":1},\"x\":[\"2024-06-24T13:11:00\",\"2024-06-24T13:12:00\",\"2024-06-24T13:13:00\",\"2024-06-24T13:14:00\",\"2024-06-24T13:15:00\",\"2024-06-24T13:16:00\",\"2024-06-24T13:17:00\",\"2024-06-24T13:18:00\",\"2024-06-24T13:19:00\",\"2024-06-24T13:20:00\",\"2024-06-24T13:21:00\",\"2024-06-24T13:22:00\",\"2024-06-24T13:23:00\",\"2024-06-24T13:24:00\",\"2024-06-24T13:25:00\",\"2024-06-24T13:26:00\",\"2024-06-24T13:27:00\",\"2024-06-24T13:28:00\",\"2024-06-24T13:29:00\",\"2024-06-24T13:30:00\",\"2024-06-24T13:31:00\",\"2024-06-24T13:32:00\",\"2024-06-24T13:33:00\",\"2024-06-24T13:34:00\",\"2024-06-24T13:35:00\",\"2024-06-24T13:36:00\",\"2024-06-24T13:37:00\",\"2024-06-24T13:38:00\",\"2024-06-24T13:39:00\",\"2024-06-24T13:40:00\",\"2024-06-24T13:41:00\",\"2024-06-24T13:42:00\",\"2024-06-24T13:43:00\",\"2024-06-24T13:44:00\",\"2024-06-24T13:45:00\",\"2024-06-24T13:46:00\",\"2024-06-24T13:47:00\",\"2024-06-24T13:48:00\",\"2024-06-24T13:49:00\",\"2024-06-24T13:50:00\",\"2024-06-24T13:51:00\",\"2024-06-24T13:52:00\",\"2024-06-24T13:53:00\",\"2024-06-24T13:54:00\",\"2024-06-24T13:55:00\",\"2024-06-24T13:56:00\",\"2024-06-24T13:57:00\",\"2024-06-24T13:58:00\",\"2024-06-24T13:59:00\",\"2024-06-24T14:00:00\",\"2024-06-24T14:01:00\",\"2024-06-24T14:02:00\",\"2024-06-24T14:03:00\",\"2024-06-24T14:04:00\",\"2024-06-24T14:05:00\",\"2024-06-24T14:06:00\",\"2024-06-24T14:07:00\",\"2024-06-24T14:08:00\",\"2024-06-24T14:09:00\",\"2024-06-24T14:10:00\",\"2024-06-24T14:11:00\",\"2024-06-24T14:12:00\",\"2024-06-24T14:13:00\",\"2024-06-24T14:14:00\",\"2024-06-24T14:15:00\",\"2024-06-24T14:16:00\",\"2024-06-24T14:17:00\",\"2024-06-24T14:18:00\",\"2024-06-24T14:19:00\",\"2024-06-24T14:20:00\",\"2024-06-24T14:21:00\",\"2024-06-24T14:22:00\",\"2024-06-24T14:23:00\",\"2024-06-24T14:24:00\",\"2024-06-24T14:25:00\",\"2024-06-24T14:26:00\",\"2024-06-24T14:27:00\",\"2024-06-24T14:28:00\",\"2024-06-24T14:29:00\",\"2024-06-24T14:30:00\",\"2024-06-24T14:45:00\"],\"y\":[1297.075,1297.09,1297.09,1297.095,1297.0149999999999,1296.905,1296.785,1296.58,1296.3799999999999,1296.1399999999999,1295.94,1295.6699999999998,1295.46,1295.2599999999998,1295.06,1294.8849999999998,1294.7,1294.52,1294.385,1294.2800000000002,1294.155,1294.065,1293.97,1293.94,1294.0,1294.095,1294.115,1294.18,1294.2350000000001,1294.335,1294.45,1294.5900000000001,1294.655,1294.77,1294.85,1294.875,1294.8799999999999,1294.7,1294.6,1294.575,1294.65,1294.725,1294.7949999999998,1294.795,1294.755,1294.775,1294.8600000000001,1294.975,1295.1200000000001,1295.2549999999999,1295.31,1295.42,1295.5700000000002,1295.675,1295.77,1295.9,1296.095,1296.325,1296.44,1296.525,1296.475,1296.42,1296.335,1296.1299999999999,1296.1100000000001,1295.99,1295.665,1295.44,1295.165,1294.875,1294.625,1294.24,1293.895,1293.46,1292.9550000000002,1292.5099999999998,1291.9550000000002,1291.5800000000002,1291.2,1290.8,1290.575],\"type\":\"scatter\"}],                        {\"template\":{\"data\":{\"histogram2dcontour\":[{\"type\":\"histogram2dcontour\",\"colorbar\":{\"outlinewidth\":0,\"ticks\":\"\"},\"colorscale\":[[0.0,\"#0d0887\"],[0.1111111111111111,\"#46039f\"],[0.2222222222222222,\"#7201a8\"],[0.3333333333333333,\"#9c179e\"],[0.4444444444444444,\"#bd3786\"],[0.5555555555555556,\"#d8576b\"],[0.6666666666666666,\"#ed7953\"],[0.7777777777777778,\"#fb9f3a\"],[0.8888888888888888,\"#fdca26\"],[1.0,\"#f0f921\"]]}],\"choropleth\":[{\"type\":\"choropleth\",\"colorbar\":{\"outlinewidth\":0,\"ticks\":\"\"}}],\"histogram2d\":[{\"type\":\"histogram2d\",\"colorbar\":{\"outlinewidth\":0,\"ticks\":\"\"},\"colorscale\":[[0.0,\"#0d0887\"],[0.1111111111111111,\"#46039f\"],[0.2222222222222222,\"#7201a8\"],[0.3333333333333333,\"#9c179e\"],[0.4444444444444444,\"#bd3786\"],[0.5555555555555556,\"#d8576b\"],[0.6666666666666666,\"#ed7953\"],[0.7777777777777778,\"#fb9f3a\"],[0.8888888888888888,\"#fdca26\"],[1.0,\"#f0f921\"]]}],\"heatmap\":[{\"type\":\"heatmap\",\"colorbar\":{\"outlinewidth\":0,\"ticks\":\"\"},\"colorscale\":[[0.0,\"#0d0887\"],[0.1111111111111111,\"#46039f\"],[0.2222222222222222,\"#7201a8\"],[0.3333333333333333,\"#9c179e\"],[0.4444444444444444,\"#bd3786\"],[0.5555555555555556,\"#d8576b\"],[0.6666666666666666,\"#ed7953\"],[0.7777777777777778,\"#fb9f3a\"],[0.8888888888888888,\"#fdca26\"],[1.0,\"#f0f921\"]]}],\"heatmapgl\":[{\"type\":\"heatmapgl\",\"colorbar\":{\"outlinewidth\":0,\"ticks\":\"\"},\"colorscale\":[[0.0,\"#0d0887\"],[0.1111111111111111,\"#46039f\"],[0.2222222222222222,\"#7201a8\"],[0.3333333333333333,\"#9c179e\"],[0.4444444444444444,\"#bd3786\"],[0.5555555555555556,\"#d8576b\"],[0.6666666666666666,\"#ed7953\"],[0.7777777777777778,\"#fb9f3a\"],[0.8888888888888888,\"#fdca26\"],[1.0,\"#f0f921\"]]}],\"contourcarpet\":[{\"type\":\"contourcarpet\",\"colorbar\":{\"outlinewidth\":0,\"ticks\":\"\"}}],\"contour\":[{\"type\":\"contour\",\"colorbar\":{\"outlinewidth\":0,\"ticks\":\"\"},\"colorscale\":[[0.0,\"#0d0887\"],[0.1111111111111111,\"#46039f\"],[0.2222222222222222,\"#7201a8\"],[0.3333333333333333,\"#9c179e\"],[0.4444444444444444,\"#bd3786\"],[0.5555555555555556,\"#d8576b\"],[0.6666666666666666,\"#ed7953\"],[0.7777777777777778,\"#fb9f3a\"],[0.8888888888888888,\"#fdca26\"],[1.0,\"#f0f921\"]]}],\"surface\":[{\"type\":\"surface\",\"colorbar\":{\"outlinewidth\":0,\"ticks\":\"\"},\"colorscale\":[[0.0,\"#0d0887\"],[0.1111111111111111,\"#46039f\"],[0.2222222222222222,\"#7201a8\"],[0.3333333333333333,\"#9c179e\"],[0.4444444444444444,\"#bd3786\"],[0.5555555555555556,\"#d8576b\"],[0.6666666666666666,\"#ed7953\"],[0.7777777777777778,\"#fb9f3a\"],[0.8888888888888888,\"#fdca26\"],[1.0,\"#f0f921\"]]}],\"mesh3d\":[{\"type\":\"mesh3d\",\"colorbar\":{\"outlinewidth\":0,\"ticks\":\"\"}}],\"scatter\":[{\"fillpattern\":{\"fillmode\":\"overlay\",\"size\":10,\"solidity\":0.2},\"type\":\"scatter\"}],\"parcoords\":[{\"type\":\"parcoords\",\"line\":{\"colorbar\":{\"outlinewidth\":0,\"ticks\":\"\"}}}],\"scatterpolargl\":[{\"type\":\"scatterpolargl\",\"marker\":{\"colorbar\":{\"outlinewidth\":0,\"ticks\":\"\"}}}],\"bar\":[{\"error_x\":{\"color\":\"#2a3f5f\"},\"error_y\":{\"color\":\"#2a3f5f\"},\"marker\":{\"line\":{\"color\":\"#E5ECF6\",\"width\":0.5},\"pattern\":{\"fillmode\":\"overlay\",\"size\":10,\"solidity\":0.2}},\"type\":\"bar\"}],\"scattergeo\":[{\"type\":\"scattergeo\",\"marker\":{\"colorbar\":{\"outlinewidth\":0,\"ticks\":\"\"}}}],\"scatterpolar\":[{\"type\":\"scatterpolar\",\"marker\":{\"colorbar\":{\"outlinewidth\":0,\"ticks\":\"\"}}}],\"histogram\":[{\"marker\":{\"pattern\":{\"fillmode\":\"overlay\",\"size\":10,\"solidity\":0.2}},\"type\":\"histogram\"}],\"scattergl\":[{\"type\":\"scattergl\",\"marker\":{\"colorbar\":{\"outlinewidth\":0,\"ticks\":\"\"}}}],\"scatter3d\":[{\"type\":\"scatter3d\",\"line\":{\"colorbar\":{\"outlinewidth\":0,\"ticks\":\"\"}},\"marker\":{\"colorbar\":{\"outlinewidth\":0,\"ticks\":\"\"}}}],\"scattermapbox\":[{\"type\":\"scattermapbox\",\"marker\":{\"colorbar\":{\"outlinewidth\":0,\"ticks\":\"\"}}}],\"scatterternary\":[{\"type\":\"scatterternary\",\"marker\":{\"colorbar\":{\"outlinewidth\":0,\"ticks\":\"\"}}}],\"scattercarpet\":[{\"type\":\"scattercarpet\",\"marker\":{\"colorbar\":{\"outlinewidth\":0,\"ticks\":\"\"}}}],\"carpet\":[{\"aaxis\":{\"endlinecolor\":\"#2a3f5f\",\"gridcolor\":\"white\",\"linecolor\":\"white\",\"minorgridcolor\":\"white\",\"startlinecolor\":\"#2a3f5f\"},\"baxis\":{\"endlinecolor\":\"#2a3f5f\",\"gridcolor\":\"white\",\"linecolor\":\"white\",\"minorgridcolor\":\"white\",\"startlinecolor\":\"#2a3f5f\"},\"type\":\"carpet\"}],\"table\":[{\"cells\":{\"fill\":{\"color\":\"#EBF0F8\"},\"line\":{\"color\":\"white\"}},\"header\":{\"fill\":{\"color\":\"#C8D4E3\"},\"line\":{\"color\":\"white\"}},\"type\":\"table\"}],\"barpolar\":[{\"marker\":{\"line\":{\"color\":\"#E5ECF6\",\"width\":0.5},\"pattern\":{\"fillmode\":\"overlay\",\"size\":10,\"solidity\":0.2}},\"type\":\"barpolar\"}],\"pie\":[{\"automargin\":true,\"type\":\"pie\"}]},\"layout\":{\"autotypenumbers\":\"strict\",\"colorway\":[\"#636efa\",\"#EF553B\",\"#00cc96\",\"#ab63fa\",\"#FFA15A\",\"#19d3f3\",\"#FF6692\",\"#B6E880\",\"#FF97FF\",\"#FECB52\"],\"font\":{\"color\":\"#2a3f5f\"},\"hovermode\":\"closest\",\"hoverlabel\":{\"align\":\"left\"},\"paper_bgcolor\":\"white\",\"plot_bgcolor\":\"#E5ECF6\",\"polar\":{\"bgcolor\":\"#E5ECF6\",\"angularaxis\":{\"gridcolor\":\"white\",\"linecolor\":\"white\",\"ticks\":\"\"},\"radialaxis\":{\"gridcolor\":\"white\",\"linecolor\":\"white\",\"ticks\":\"\"}},\"ternary\":{\"bgcolor\":\"#E5ECF6\",\"aaxis\":{\"gridcolor\":\"white\",\"linecolor\":\"white\",\"ticks\":\"\"},\"baxis\":{\"gridcolor\":\"white\",\"linecolor\":\"white\",\"ticks\":\"\"},\"caxis\":{\"gridcolor\":\"white\",\"linecolor\":\"white\",\"ticks\":\"\"}},\"coloraxis\":{\"colorbar\":{\"outlinewidth\":0,\"ticks\":\"\"}},\"colorscale\":{\"sequential\":[[0.0,\"#0d0887\"],[0.1111111111111111,\"#46039f\"],[0.2222222222222222,\"#7201a8\"],[0.3333333333333333,\"#9c179e\"],[0.4444444444444444,\"#bd3786\"],[0.5555555555555556,\"#d8576b\"],[0.6666666666666666,\"#ed7953\"],[0.7777777777777778,\"#fb9f3a\"],[0.8888888888888888,\"#fdca26\"],[1.0,\"#f0f921\"]],\"sequentialminus\":[[0.0,\"#0d0887\"],[0.1111111111111111,\"#46039f\"],[0.2222222222222222,\"#7201a8\"],[0.3333333333333333,\"#9c179e\"],[0.4444444444444444,\"#bd3786\"],[0.5555555555555556,\"#d8576b\"],[0.6666666666666666,\"#ed7953\"],[0.7777777777777778,\"#fb9f3a\"],[0.8888888888888888,\"#fdca26\"],[1.0,\"#f0f921\"]],\"diverging\":[[0,\"#8e0152\"],[0.1,\"#c51b7d\"],[0.2,\"#de77ae\"],[0.3,\"#f1b6da\"],[0.4,\"#fde0ef\"],[0.5,\"#f7f7f7\"],[0.6,\"#e6f5d0\"],[0.7,\"#b8e186\"],[0.8,\"#7fbc41\"],[0.9,\"#4d9221\"],[1,\"#276419\"]]},\"xaxis\":{\"gridcolor\":\"white\",\"linecolor\":\"white\",\"ticks\":\"\",\"title\":{\"standoff\":15},\"zerolinecolor\":\"white\",\"automargin\":true,\"zerolinewidth\":2},\"yaxis\":{\"gridcolor\":\"white\",\"linecolor\":\"white\",\"ticks\":\"\",\"title\":{\"standoff\":15},\"zerolinecolor\":\"white\",\"automargin\":true,\"zerolinewidth\":2},\"scene\":{\"xaxis\":{\"backgroundcolor\":\"#E5ECF6\",\"gridcolor\":\"white\",\"linecolor\":\"white\",\"showbackground\":true,\"ticks\":\"\",\"zerolinecolor\":\"white\",\"gridwidth\":2},\"yaxis\":{\"backgroundcolor\":\"#E5ECF6\",\"gridcolor\":\"white\",\"linecolor\":\"white\",\"showbackground\":true,\"ticks\":\"\",\"zerolinecolor\":\"white\",\"gridwidth\":2},\"zaxis\":{\"backgroundcolor\":\"#E5ECF6\",\"gridcolor\":\"white\",\"linecolor\":\"white\",\"showbackground\":true,\"ticks\":\"\",\"zerolinecolor\":\"white\",\"gridwidth\":2}},\"shapedefaults\":{\"line\":{\"color\":\"#2a3f5f\"}},\"annotationdefaults\":{\"arrowcolor\":\"#2a3f5f\",\"arrowhead\":0,\"arrowwidth\":1},\"geo\":{\"bgcolor\":\"white\",\"landcolor\":\"#E5ECF6\",\"subunitcolor\":\"white\",\"showland\":true,\"showlakes\":true,\"lakecolor\":\"white\"},\"title\":{\"x\":0.05},\"mapbox\":{\"style\":\"light\"}}}},                        {\"responsive\": true}                    ).then(function(){\n",
       "                            \n",
       "var gd = document.getElementById('1dc634d0-026e-40fd-9053-1a58fb291b8d');\n",
       "var x = new MutationObserver(function (mutations, observer) {{\n",
       "        var display = window.getComputedStyle(gd).display;\n",
       "        if (!display || display === 'none') {{\n",
       "            console.log([gd, 'removed!']);\n",
       "            Plotly.purge(gd);\n",
       "            observer.disconnect();\n",
       "        }}\n",
       "}});\n",
       "\n",
       "// Listen for the removal of the full notebook cells\n",
       "var notebookContainer = gd.closest('#notebook-container');\n",
       "if (notebookContainer) {{\n",
       "    x.observe(notebookContainer, {childList: true});\n",
       "}}\n",
       "\n",
       "// Listen for the clearing of the current output cell\n",
       "var outputEl = gd.closest('.output');\n",
       "if (outputEl) {{\n",
       "    x.observe(outputEl, {childList: true});\n",
       "}}\n",
       "\n",
       "                        })                };                });            </script>        </div>"
      ]
     },
     "metadata": {},
     "output_type": "display_data"
    }
   ],
   "source": [
    "fig.show()"
   ]
  },
  {
   "cell_type": "code",
   "execution_count": null,
   "id": "2dfc8324-a7b3-4e32-add1-4181fe86691a",
   "metadata": {},
   "outputs": [],
   "source": []
  }
 ],
 "metadata": {
  "kernelspec": {
   "display_name": "Python 3 (ipykernel)",
   "language": "python",
   "name": "python3"
  },
  "language_info": {
   "codemirror_mode": {
    "name": "ipython",
    "version": 3
   },
   "file_extension": ".py",
   "mimetype": "text/x-python",
   "name": "python",
   "nbconvert_exporter": "python",
   "pygments_lexer": "ipython3",
   "version": "3.11.4"
  }
 },
 "nbformat": 4,
 "nbformat_minor": 5
}
