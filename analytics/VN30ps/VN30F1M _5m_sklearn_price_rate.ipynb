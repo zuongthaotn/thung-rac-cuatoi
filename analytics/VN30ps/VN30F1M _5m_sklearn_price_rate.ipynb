{
 "cells": [
  {
   "cell_type": "markdown",
   "metadata": {
    "id": "Njcjm3QWbnnY"
   },
   "source": [
    "## Import Library"
   ]
  },
  {
   "cell_type": "code",
   "execution_count": 1,
   "metadata": {
    "id": "yte7IRHhbpzT"
   },
   "outputs": [],
   "source": [
    "import numpy as np\n",
    "import pandas as pd\n",
    "import numpy as np\n",
    "import seaborn as sns\n",
    "\n",
    "import matplotlib.pyplot as plt\n",
    "plt.rcParams['figure.figsize'] = [12, 6]\n",
    "plt.rcParams['figure.dpi'] = 120\n",
    "\n",
    "import warnings\n",
    "warnings.filterwarnings('ignore')"
   ]
  },
  {
   "cell_type": "markdown",
   "metadata": {
    "id": "sPXCB164cSPi"
   },
   "source": [
    "## Load Price Data"
   ]
  },
  {
   "cell_type": "code",
   "execution_count": 2,
   "metadata": {
    "id": "797AwYtGiB-V"
   },
   "outputs": [
    {
     "data": {
      "text/html": [
       "<div>\n",
       "<style scoped>\n",
       "    .dataframe tbody tr th:only-of-type {\n",
       "        vertical-align: middle;\n",
       "    }\n",
       "\n",
       "    .dataframe tbody tr th {\n",
       "        vertical-align: top;\n",
       "    }\n",
       "\n",
       "    .dataframe thead th {\n",
       "        text-align: right;\n",
       "    }\n",
       "</style>\n",
       "<table border=\"1\" class=\"dataframe\">\n",
       "  <thead>\n",
       "    <tr style=\"text-align: right;\">\n",
       "      <th></th>\n",
       "      <th>Open</th>\n",
       "      <th>High</th>\n",
       "      <th>Low</th>\n",
       "      <th>Close</th>\n",
       "      <th>Volume</th>\n",
       "    </tr>\n",
       "    <tr>\n",
       "      <th>Date</th>\n",
       "      <th></th>\n",
       "      <th></th>\n",
       "      <th></th>\n",
       "      <th></th>\n",
       "      <th></th>\n",
       "    </tr>\n",
       "  </thead>\n",
       "  <tbody>\n",
       "    <tr>\n",
       "      <th>2024-07-10 13:50:00</th>\n",
       "      <td>1315.3</td>\n",
       "      <td>1316.8</td>\n",
       "      <td>1314.3</td>\n",
       "      <td>1316.2</td>\n",
       "      <td>5186</td>\n",
       "    </tr>\n",
       "    <tr>\n",
       "      <th>2024-07-10 13:55:00</th>\n",
       "      <td>1316.6</td>\n",
       "      <td>1317.4</td>\n",
       "      <td>1315.9</td>\n",
       "      <td>1316.3</td>\n",
       "      <td>5079</td>\n",
       "    </tr>\n",
       "    <tr>\n",
       "      <th>2024-07-10 14:00:00</th>\n",
       "      <td>1316.4</td>\n",
       "      <td>1317.0</td>\n",
       "      <td>1315.0</td>\n",
       "      <td>1315.0</td>\n",
       "      <td>3423</td>\n",
       "    </tr>\n",
       "    <tr>\n",
       "      <th>2024-07-10 14:05:00</th>\n",
       "      <td>1315.2</td>\n",
       "      <td>1317.0</td>\n",
       "      <td>1315.1</td>\n",
       "      <td>1316.0</td>\n",
       "      <td>4463</td>\n",
       "    </tr>\n",
       "    <tr>\n",
       "      <th>2024-07-10 14:10:00</th>\n",
       "      <td>1316.0</td>\n",
       "      <td>1316.2</td>\n",
       "      <td>1312.3</td>\n",
       "      <td>1314.6</td>\n",
       "      <td>10712</td>\n",
       "    </tr>\n",
       "    <tr>\n",
       "      <th>2024-07-10 14:15:00</th>\n",
       "      <td>1314.6</td>\n",
       "      <td>1315.9</td>\n",
       "      <td>1312.1</td>\n",
       "      <td>1314.3</td>\n",
       "      <td>9556</td>\n",
       "    </tr>\n",
       "    <tr>\n",
       "      <th>2024-07-10 14:20:00</th>\n",
       "      <td>1314.2</td>\n",
       "      <td>1314.4</td>\n",
       "      <td>1310.3</td>\n",
       "      <td>1310.7</td>\n",
       "      <td>10901</td>\n",
       "    </tr>\n",
       "    <tr>\n",
       "      <th>2024-07-10 14:25:00</th>\n",
       "      <td>1310.7</td>\n",
       "      <td>1312.9</td>\n",
       "      <td>1310.0</td>\n",
       "      <td>1310.3</td>\n",
       "      <td>8964</td>\n",
       "    </tr>\n",
       "    <tr>\n",
       "      <th>2024-07-10 14:30:00</th>\n",
       "      <td>1309.7</td>\n",
       "      <td>1309.7</td>\n",
       "      <td>1309.7</td>\n",
       "      <td>1309.7</td>\n",
       "      <td>280</td>\n",
       "    </tr>\n",
       "    <tr>\n",
       "      <th>2024-07-10 14:45:00</th>\n",
       "      <td>1310.0</td>\n",
       "      <td>1310.0</td>\n",
       "      <td>1310.0</td>\n",
       "      <td>1310.0</td>\n",
       "      <td>5651</td>\n",
       "    </tr>\n",
       "  </tbody>\n",
       "</table>\n",
       "</div>"
      ],
      "text/plain": [
       "                       Open    High     Low   Close  Volume\n",
       "Date                                                       \n",
       "2024-07-10 13:50:00  1315.3  1316.8  1314.3  1316.2    5186\n",
       "2024-07-10 13:55:00  1316.6  1317.4  1315.9  1316.3    5079\n",
       "2024-07-10 14:00:00  1316.4  1317.0  1315.0  1315.0    3423\n",
       "2024-07-10 14:05:00  1315.2  1317.0  1315.1  1316.0    4463\n",
       "2024-07-10 14:10:00  1316.0  1316.2  1312.3  1314.6   10712\n",
       "2024-07-10 14:15:00  1314.6  1315.9  1312.1  1314.3    9556\n",
       "2024-07-10 14:20:00  1314.2  1314.4  1310.3  1310.7   10901\n",
       "2024-07-10 14:25:00  1310.7  1312.9  1310.0  1310.3    8964\n",
       "2024-07-10 14:30:00  1309.7  1309.7  1309.7  1309.7     280\n",
       "2024-07-10 14:45:00  1310.0  1310.0  1310.0  1310.0    5651"
      ]
     },
     "execution_count": 2,
     "metadata": {},
     "output_type": "execute_result"
    }
   ],
   "source": [
    "import os\n",
    "from pathlib import Path\n",
    "notebook_path = os.getcwd()\n",
    "algo_dir = Path(notebook_path).parent.parent\n",
    "csv_file = str(algo_dir) + '/vn-stock-data/VN30ps/VN30F1M_5minutes.csv'\n",
    "is_file = os.path.isfile(csv_file)\n",
    "if is_file:\n",
    "    raw_data = pd.read_csv(csv_file, index_col='Date', parse_dates=True)\n",
    "else:\n",
    "    raw_data = pd.read_csv(\"https://raw.githubusercontent.com/zuongthaotn/vn-stock-data/main/VN30ps/VN30F1M_5minutes.csv\", index_col='Date', parse_dates=True)\n",
    "raw_data.tail(10)"
   ]
  },
  {
   "cell_type": "code",
   "execution_count": 3,
   "metadata": {
    "id": "cjMu1xiFcRai"
   },
   "outputs": [],
   "source": [
    "def cal_first_close(tick):\n",
    "  if not tick.empty:\n",
    "    return tick[0]\n",
    "\n",
    "\n",
    "def cal_high_before(tick):\n",
    "  tick = tick[100*tick.index.hour+tick.index.minute > 910]\n",
    "  tick = tick[100*tick.index.hour+tick.index.minute < 1355]\n",
    "  return tick.max()\n",
    "\n",
    "def cal_high_after(tick):\n",
    "  tick = tick[100*tick.index.hour+tick.index.minute > 1355]\n",
    "  tick = tick[100*tick.index.hour+tick.index.minute < 1430]\n",
    "  return tick.max()\n",
    "\n",
    "\n",
    "def cal_low_before(tick):\n",
    "  tick = tick[100*tick.index.hour+tick.index.minute > 910]\n",
    "  tick = tick[100*tick.index.hour+tick.index.minute < 1355]\n",
    "  return tick.min()\n",
    "\n",
    "\n",
    "def cal_low_after(tick):\n",
    "  tick = tick[100*tick.index.hour+tick.index.minute > 1355]\n",
    "  tick = tick[100*tick.index.hour+tick.index.minute < 1430]\n",
    "  return tick.min()\n",
    "\n",
    "\n",
    "def cal_price(tick):\n",
    "  tick = tick[100*tick.index.hour+tick.index.minute == 1355]\n",
    "  if not tick.empty:\n",
    "    return tick[0]\n",
    "\n",
    "def cal_close(tick):\n",
    "  tick = tick[100*tick.index.hour+tick.index.minute == 1425]\n",
    "  if not tick.empty:\n",
    "    return tick[0]"
   ]
  },
  {
   "cell_type": "code",
   "execution_count": 4,
   "metadata": {},
   "outputs": [],
   "source": [
    "data = raw_data.copy()\n",
    "data['first_close'] = data.Close\n",
    "data['price'] = data.Close\n",
    "data['prev_high'] = data.High\n",
    "data['prev_low'] = data.Low\n",
    "data['next_high'] = data.High\n",
    "data['next_low'] = data.Low\n",
    "price = data.resample(\"D\").agg({\n",
    "    'first_close': cal_first_close,\n",
    "    'prev_high':cal_high_before,\n",
    "    'prev_low': cal_low_before,\n",
    "    'next_high':cal_high_after,\n",
    "    'next_low': cal_low_after,\n",
    "    'price': cal_price,\n",
    "    'Close': cal_close\n",
    "    })\n",
    "price = price.dropna()"
   ]
  },
  {
   "cell_type": "code",
   "execution_count": 5,
   "metadata": {
    "colab": {
     "base_uri": "https://localhost:8080/",
     "height": 394
    },
    "executionInfo": {
     "elapsed": 16,
     "status": "ok",
     "timestamp": 1705332319347,
     "user": {
      "displayName": "Damda Thao",
      "userId": "14361998917494708026"
     },
     "user_tz": -420
    },
    "id": "7mqBIFb6ZlQt",
    "outputId": "e9bd1e09-26e6-4989-b31a-c490b130f974"
   },
   "outputs": [
    {
     "data": {
      "text/html": [
       "<div>\n",
       "<style scoped>\n",
       "    .dataframe tbody tr th:only-of-type {\n",
       "        vertical-align: middle;\n",
       "    }\n",
       "\n",
       "    .dataframe tbody tr th {\n",
       "        vertical-align: top;\n",
       "    }\n",
       "\n",
       "    .dataframe thead th {\n",
       "        text-align: right;\n",
       "    }\n",
       "</style>\n",
       "<table border=\"1\" class=\"dataframe\">\n",
       "  <thead>\n",
       "    <tr style=\"text-align: right;\">\n",
       "      <th></th>\n",
       "      <th>first_close</th>\n",
       "      <th>prev_high</th>\n",
       "      <th>prev_low</th>\n",
       "      <th>next_high</th>\n",
       "      <th>next_low</th>\n",
       "      <th>price</th>\n",
       "      <th>Close</th>\n",
       "      <th>percent</th>\n",
       "      <th>returns</th>\n",
       "      <th>return</th>\n",
       "    </tr>\n",
       "    <tr>\n",
       "      <th>Date</th>\n",
       "      <th></th>\n",
       "      <th></th>\n",
       "      <th></th>\n",
       "      <th></th>\n",
       "      <th></th>\n",
       "      <th></th>\n",
       "      <th></th>\n",
       "      <th></th>\n",
       "      <th></th>\n",
       "      <th></th>\n",
       "    </tr>\n",
       "  </thead>\n",
       "  <tbody>\n",
       "    <tr>\n",
       "      <th>2024-06-27</th>\n",
       "      <td>1285.0</td>\n",
       "      <td>1289.0</td>\n",
       "      <td>1280.8</td>\n",
       "      <td>1291.7</td>\n",
       "      <td>1286.5</td>\n",
       "      <td>1286.5</td>\n",
       "      <td>1289.8</td>\n",
       "      <td>-0.232648</td>\n",
       "      <td>0.182927</td>\n",
       "      <td>2.565099</td>\n",
       "    </tr>\n",
       "    <tr>\n",
       "      <th>2024-06-28</th>\n",
       "      <td>1292.0</td>\n",
       "      <td>1292.4</td>\n",
       "      <td>1281.2</td>\n",
       "      <td>1288.1</td>\n",
       "      <td>1272.5</td>\n",
       "      <td>1283.9</td>\n",
       "      <td>1277.9</td>\n",
       "      <td>-0.457435</td>\n",
       "      <td>-0.723214</td>\n",
       "      <td>-4.673261</td>\n",
       "    </tr>\n",
       "    <tr>\n",
       "      <th>2024-07-01</th>\n",
       "      <td>1277.5</td>\n",
       "      <td>1279.2</td>\n",
       "      <td>1271.7</td>\n",
       "      <td>1285.8</td>\n",
       "      <td>1276.7</td>\n",
       "      <td>1279.4</td>\n",
       "      <td>1284.8</td>\n",
       "      <td>0.117380</td>\n",
       "      <td>0.253333</td>\n",
       "      <td>4.220728</td>\n",
       "    </tr>\n",
       "    <tr>\n",
       "      <th>2024-07-02</th>\n",
       "      <td>1286.6</td>\n",
       "      <td>1299.0</td>\n",
       "      <td>1284.6</td>\n",
       "      <td>1298.8</td>\n",
       "      <td>1293.7</td>\n",
       "      <td>1297.1</td>\n",
       "      <td>1296.6</td>\n",
       "      <td>0.957347</td>\n",
       "      <td>0.729167</td>\n",
       "      <td>-0.385475</td>\n",
       "    </tr>\n",
       "    <tr>\n",
       "      <th>2024-07-03</th>\n",
       "      <td>1296.5</td>\n",
       "      <td>1306.5</td>\n",
       "      <td>1294.5</td>\n",
       "      <td>1309.5</td>\n",
       "      <td>1305.0</td>\n",
       "      <td>1305.1</td>\n",
       "      <td>1305.5</td>\n",
       "      <td>0.655561</td>\n",
       "      <td>0.716667</td>\n",
       "      <td>0.306490</td>\n",
       "    </tr>\n",
       "    <tr>\n",
       "      <th>2024-07-04</th>\n",
       "      <td>1306.7</td>\n",
       "      <td>1313.3</td>\n",
       "      <td>1306.1</td>\n",
       "      <td>1309.5</td>\n",
       "      <td>1303.5</td>\n",
       "      <td>1308.3</td>\n",
       "      <td>1308.0</td>\n",
       "      <td>0.214477</td>\n",
       "      <td>0.222222</td>\n",
       "      <td>-0.229305</td>\n",
       "    </tr>\n",
       "    <tr>\n",
       "      <th>2024-07-05</th>\n",
       "      <td>1309.7</td>\n",
       "      <td>1314.5</td>\n",
       "      <td>1307.2</td>\n",
       "      <td>1316.5</td>\n",
       "      <td>1307.6</td>\n",
       "      <td>1308.8</td>\n",
       "      <td>1316.2</td>\n",
       "      <td>0.061162</td>\n",
       "      <td>-0.123288</td>\n",
       "      <td>5.654034</td>\n",
       "    </tr>\n",
       "    <tr>\n",
       "      <th>2024-07-08</th>\n",
       "      <td>1316.1</td>\n",
       "      <td>1316.8</td>\n",
       "      <td>1305.6</td>\n",
       "      <td>1313.0</td>\n",
       "      <td>1307.0</td>\n",
       "      <td>1310.7</td>\n",
       "      <td>1312.0</td>\n",
       "      <td>-0.417870</td>\n",
       "      <td>-0.482143</td>\n",
       "      <td>0.991836</td>\n",
       "    </tr>\n",
       "    <tr>\n",
       "      <th>2024-07-09</th>\n",
       "      <td>1315.1</td>\n",
       "      <td>1320.3</td>\n",
       "      <td>1304.5</td>\n",
       "      <td>1321.9</td>\n",
       "      <td>1314.4</td>\n",
       "      <td>1318.2</td>\n",
       "      <td>1319.5</td>\n",
       "      <td>0.472561</td>\n",
       "      <td>0.196203</td>\n",
       "      <td>0.986193</td>\n",
       "    </tr>\n",
       "    <tr>\n",
       "      <th>2024-07-10</th>\n",
       "      <td>1319.6</td>\n",
       "      <td>1321.9</td>\n",
       "      <td>1313.6</td>\n",
       "      <td>1317.0</td>\n",
       "      <td>1310.0</td>\n",
       "      <td>1316.3</td>\n",
       "      <td>1310.3</td>\n",
       "      <td>-0.242516</td>\n",
       "      <td>-0.397590</td>\n",
       "      <td>-4.558231</td>\n",
       "    </tr>\n",
       "  </tbody>\n",
       "</table>\n",
       "</div>"
      ],
      "text/plain": [
       "            first_close  prev_high  prev_low  next_high  next_low   price  \\\n",
       "Date                                                                        \n",
       "2024-06-27       1285.0     1289.0    1280.8     1291.7    1286.5  1286.5   \n",
       "2024-06-28       1292.0     1292.4    1281.2     1288.1    1272.5  1283.9   \n",
       "2024-07-01       1277.5     1279.2    1271.7     1285.8    1276.7  1279.4   \n",
       "2024-07-02       1286.6     1299.0    1284.6     1298.8    1293.7  1297.1   \n",
       "2024-07-03       1296.5     1306.5    1294.5     1309.5    1305.0  1305.1   \n",
       "2024-07-04       1306.7     1313.3    1306.1     1309.5    1303.5  1308.3   \n",
       "2024-07-05       1309.7     1314.5    1307.2     1316.5    1307.6  1308.8   \n",
       "2024-07-08       1316.1     1316.8    1305.6     1313.0    1307.0  1310.7   \n",
       "2024-07-09       1315.1     1320.3    1304.5     1321.9    1314.4  1318.2   \n",
       "2024-07-10       1319.6     1321.9    1313.6     1317.0    1310.0  1316.3   \n",
       "\n",
       "             Close   percent   returns    return  \n",
       "Date                                              \n",
       "2024-06-27  1289.8 -0.232648  0.182927  2.565099  \n",
       "2024-06-28  1277.9 -0.457435 -0.723214 -4.673261  \n",
       "2024-07-01  1284.8  0.117380  0.253333  4.220728  \n",
       "2024-07-02  1296.6  0.957347  0.729167 -0.385475  \n",
       "2024-07-03  1305.5  0.655561  0.716667  0.306490  \n",
       "2024-07-04  1308.0  0.214477  0.222222 -0.229305  \n",
       "2024-07-05  1316.2  0.061162 -0.123288  5.654034  \n",
       "2024-07-08  1312.0 -0.417870 -0.482143  0.991836  \n",
       "2024-07-09  1319.5  0.472561  0.196203  0.986193  \n",
       "2024-07-10  1310.3 -0.242516 -0.397590 -4.558231  "
      ]
     },
     "execution_count": 5,
     "metadata": {},
     "output_type": "execute_result"
    }
   ],
   "source": [
    "price['percent'] = 100 * (price.price - price.Close.shift(1)) / price.Close.shift(1)\n",
    "price['returns'] = (price.price - price.first_close) / (price.prev_high - price.prev_low)\n",
    "price['return'] = 1000 * (price.Close - price.price) / price.price\n",
    "price.tail(10)"
   ]
  },
  {
   "cell_type": "code",
   "execution_count": 6,
   "metadata": {
    "id": "R3pYqKP0JCmE"
   },
   "outputs": [
    {
     "data": {
      "text/plain": [
       "1472"
      ]
     },
     "execution_count": 6,
     "metadata": {},
     "output_type": "execute_result"
    }
   ],
   "source": [
    "price = price[price['return'] > -30]\n",
    "price = price[price['return'] <  30]\n",
    "len(price)"
   ]
  },
  {
   "cell_type": "code",
   "execution_count": 7,
   "metadata": {},
   "outputs": [],
   "source": [
    "def group_data(r):\n",
    "    group = 4\n",
    "    if r['next_high'] - r['price'] > 3 and r['price'] - r['next_low'] > 3:\n",
    "        # Do nothing group\n",
    "        group = 0\n",
    "    elif r['return'] > 0:\n",
    "        # Long group\n",
    "        group = 1\n",
    "    else:\n",
    "        # Short group\n",
    "        group = 2\n",
    "    return group\n",
    "price['group'] = price.apply(lambda r: group_data(r), axis=1)"
   ]
  },
  {
   "cell_type": "code",
   "execution_count": 8,
   "metadata": {},
   "outputs": [
    {
     "data": {
      "text/html": [
       "<div>\n",
       "<style scoped>\n",
       "    .dataframe tbody tr th:only-of-type {\n",
       "        vertical-align: middle;\n",
       "    }\n",
       "\n",
       "    .dataframe tbody tr th {\n",
       "        vertical-align: top;\n",
       "    }\n",
       "\n",
       "    .dataframe thead th {\n",
       "        text-align: right;\n",
       "    }\n",
       "</style>\n",
       "<table border=\"1\" class=\"dataframe\">\n",
       "  <thead>\n",
       "    <tr style=\"text-align: right;\">\n",
       "      <th></th>\n",
       "      <th>first_close</th>\n",
       "      <th>prev_high</th>\n",
       "      <th>prev_low</th>\n",
       "      <th>next_high</th>\n",
       "      <th>next_low</th>\n",
       "      <th>price</th>\n",
       "      <th>Close</th>\n",
       "      <th>percent</th>\n",
       "      <th>returns</th>\n",
       "      <th>return</th>\n",
       "      <th>group</th>\n",
       "    </tr>\n",
       "    <tr>\n",
       "      <th>Date</th>\n",
       "      <th></th>\n",
       "      <th></th>\n",
       "      <th></th>\n",
       "      <th></th>\n",
       "      <th></th>\n",
       "      <th></th>\n",
       "      <th></th>\n",
       "      <th></th>\n",
       "      <th></th>\n",
       "      <th></th>\n",
       "      <th></th>\n",
       "    </tr>\n",
       "  </thead>\n",
       "  <tbody>\n",
       "    <tr>\n",
       "      <th>2018-08-14</th>\n",
       "      <td>954.9</td>\n",
       "      <td>958.6</td>\n",
       "      <td>952.1</td>\n",
       "      <td>961.8</td>\n",
       "      <td>959.0</td>\n",
       "      <td>959.5</td>\n",
       "      <td>960.1</td>\n",
       "      <td>0.565978</td>\n",
       "      <td>0.707692</td>\n",
       "      <td>0.625326</td>\n",
       "      <td>1</td>\n",
       "    </tr>\n",
       "    <tr>\n",
       "      <th>2018-08-15</th>\n",
       "      <td>958.7</td>\n",
       "      <td>962.3</td>\n",
       "      <td>954.7</td>\n",
       "      <td>959.3</td>\n",
       "      <td>949.9</td>\n",
       "      <td>959.2</td>\n",
       "      <td>951.2</td>\n",
       "      <td>-0.093740</td>\n",
       "      <td>0.065789</td>\n",
       "      <td>-8.340284</td>\n",
       "      <td>2</td>\n",
       "    </tr>\n",
       "    <tr>\n",
       "      <th>2018-08-16</th>\n",
       "      <td>942.0</td>\n",
       "      <td>943.5</td>\n",
       "      <td>935.5</td>\n",
       "      <td>947.3</td>\n",
       "      <td>942.6</td>\n",
       "      <td>943.0</td>\n",
       "      <td>944.5</td>\n",
       "      <td>-0.862069</td>\n",
       "      <td>0.125000</td>\n",
       "      <td>1.590668</td>\n",
       "      <td>1</td>\n",
       "    </tr>\n",
       "    <tr>\n",
       "      <th>2018-08-17</th>\n",
       "      <td>953.0</td>\n",
       "      <td>954.6</td>\n",
       "      <td>946.4</td>\n",
       "      <td>949.9</td>\n",
       "      <td>945.0</td>\n",
       "      <td>946.5</td>\n",
       "      <td>947.0</td>\n",
       "      <td>0.211752</td>\n",
       "      <td>-0.792683</td>\n",
       "      <td>0.528262</td>\n",
       "      <td>1</td>\n",
       "    </tr>\n",
       "    <tr>\n",
       "      <th>2018-08-20</th>\n",
       "      <td>945.8</td>\n",
       "      <td>951.5</td>\n",
       "      <td>944.1</td>\n",
       "      <td>946.5</td>\n",
       "      <td>942.6</td>\n",
       "      <td>946.5</td>\n",
       "      <td>944.7</td>\n",
       "      <td>-0.052798</td>\n",
       "      <td>0.094595</td>\n",
       "      <td>-1.901743</td>\n",
       "      <td>2</td>\n",
       "    </tr>\n",
       "    <tr>\n",
       "      <th>...</th>\n",
       "      <td>...</td>\n",
       "      <td>...</td>\n",
       "      <td>...</td>\n",
       "      <td>...</td>\n",
       "      <td>...</td>\n",
       "      <td>...</td>\n",
       "      <td>...</td>\n",
       "      <td>...</td>\n",
       "      <td>...</td>\n",
       "      <td>...</td>\n",
       "      <td>...</td>\n",
       "    </tr>\n",
       "    <tr>\n",
       "      <th>2024-07-04</th>\n",
       "      <td>1306.7</td>\n",
       "      <td>1313.3</td>\n",
       "      <td>1306.1</td>\n",
       "      <td>1309.5</td>\n",
       "      <td>1303.5</td>\n",
       "      <td>1308.3</td>\n",
       "      <td>1308.0</td>\n",
       "      <td>0.214477</td>\n",
       "      <td>0.222222</td>\n",
       "      <td>-0.229305</td>\n",
       "      <td>2</td>\n",
       "    </tr>\n",
       "    <tr>\n",
       "      <th>2024-07-05</th>\n",
       "      <td>1309.7</td>\n",
       "      <td>1314.5</td>\n",
       "      <td>1307.2</td>\n",
       "      <td>1316.5</td>\n",
       "      <td>1307.6</td>\n",
       "      <td>1308.8</td>\n",
       "      <td>1316.2</td>\n",
       "      <td>0.061162</td>\n",
       "      <td>-0.123288</td>\n",
       "      <td>5.654034</td>\n",
       "      <td>1</td>\n",
       "    </tr>\n",
       "    <tr>\n",
       "      <th>2024-07-08</th>\n",
       "      <td>1316.1</td>\n",
       "      <td>1316.8</td>\n",
       "      <td>1305.6</td>\n",
       "      <td>1313.0</td>\n",
       "      <td>1307.0</td>\n",
       "      <td>1310.7</td>\n",
       "      <td>1312.0</td>\n",
       "      <td>-0.417870</td>\n",
       "      <td>-0.482143</td>\n",
       "      <td>0.991836</td>\n",
       "      <td>1</td>\n",
       "    </tr>\n",
       "    <tr>\n",
       "      <th>2024-07-09</th>\n",
       "      <td>1315.1</td>\n",
       "      <td>1320.3</td>\n",
       "      <td>1304.5</td>\n",
       "      <td>1321.9</td>\n",
       "      <td>1314.4</td>\n",
       "      <td>1318.2</td>\n",
       "      <td>1319.5</td>\n",
       "      <td>0.472561</td>\n",
       "      <td>0.196203</td>\n",
       "      <td>0.986193</td>\n",
       "      <td>0</td>\n",
       "    </tr>\n",
       "    <tr>\n",
       "      <th>2024-07-10</th>\n",
       "      <td>1319.6</td>\n",
       "      <td>1321.9</td>\n",
       "      <td>1313.6</td>\n",
       "      <td>1317.0</td>\n",
       "      <td>1310.0</td>\n",
       "      <td>1316.3</td>\n",
       "      <td>1310.3</td>\n",
       "      <td>-0.242516</td>\n",
       "      <td>-0.397590</td>\n",
       "      <td>-4.558231</td>\n",
       "      <td>2</td>\n",
       "    </tr>\n",
       "  </tbody>\n",
       "</table>\n",
       "<p>1471 rows × 11 columns</p>\n",
       "</div>"
      ],
      "text/plain": [
       "            first_close  prev_high  prev_low  next_high  next_low   price  \\\n",
       "Date                                                                        \n",
       "2018-08-14        954.9      958.6     952.1      961.8     959.0   959.5   \n",
       "2018-08-15        958.7      962.3     954.7      959.3     949.9   959.2   \n",
       "2018-08-16        942.0      943.5     935.5      947.3     942.6   943.0   \n",
       "2018-08-17        953.0      954.6     946.4      949.9     945.0   946.5   \n",
       "2018-08-20        945.8      951.5     944.1      946.5     942.6   946.5   \n",
       "...                 ...        ...       ...        ...       ...     ...   \n",
       "2024-07-04       1306.7     1313.3    1306.1     1309.5    1303.5  1308.3   \n",
       "2024-07-05       1309.7     1314.5    1307.2     1316.5    1307.6  1308.8   \n",
       "2024-07-08       1316.1     1316.8    1305.6     1313.0    1307.0  1310.7   \n",
       "2024-07-09       1315.1     1320.3    1304.5     1321.9    1314.4  1318.2   \n",
       "2024-07-10       1319.6     1321.9    1313.6     1317.0    1310.0  1316.3   \n",
       "\n",
       "             Close   percent   returns    return  group  \n",
       "Date                                                     \n",
       "2018-08-14   960.1  0.565978  0.707692  0.625326      1  \n",
       "2018-08-15   951.2 -0.093740  0.065789 -8.340284      2  \n",
       "2018-08-16   944.5 -0.862069  0.125000  1.590668      1  \n",
       "2018-08-17   947.0  0.211752 -0.792683  0.528262      1  \n",
       "2018-08-20   944.7 -0.052798  0.094595 -1.901743      2  \n",
       "...            ...       ...       ...       ...    ...  \n",
       "2024-07-04  1308.0  0.214477  0.222222 -0.229305      2  \n",
       "2024-07-05  1316.2  0.061162 -0.123288  5.654034      1  \n",
       "2024-07-08  1312.0 -0.417870 -0.482143  0.991836      1  \n",
       "2024-07-09  1319.5  0.472561  0.196203  0.986193      0  \n",
       "2024-07-10  1310.3 -0.242516 -0.397590 -4.558231      2  \n",
       "\n",
       "[1471 rows x 11 columns]"
      ]
     },
     "execution_count": 8,
     "metadata": {},
     "output_type": "execute_result"
    }
   ],
   "source": [
    "price.dropna(inplace=True)\n",
    "price"
   ]
  },
  {
   "cell_type": "code",
   "execution_count": 28,
   "metadata": {},
   "outputs": [
    {
     "data": {
      "text/plain": [
       "220"
      ]
     },
     "execution_count": 28,
     "metadata": {},
     "output_type": "execute_result"
    }
   ],
   "source": [
    "# No trade\n",
    "len(price[price['group']==0])"
   ]
  },
  {
   "cell_type": "code",
   "execution_count": 29,
   "metadata": {},
   "outputs": [
    {
     "data": {
      "text/plain": [
       "655"
      ]
     },
     "execution_count": 29,
     "metadata": {},
     "output_type": "execute_result"
    }
   ],
   "source": [
    "# Long\n",
    "len(price[price['group']==1])"
   ]
  },
  {
   "cell_type": "code",
   "execution_count": 30,
   "metadata": {},
   "outputs": [
    {
     "data": {
      "text/plain": [
       "596"
      ]
     },
     "execution_count": 30,
     "metadata": {},
     "output_type": "execute_result"
    }
   ],
   "source": [
    "# Short\n",
    "len(price[price['group']==2])"
   ]
  },
  {
   "cell_type": "code",
   "execution_count": 9,
   "metadata": {},
   "outputs": [
    {
     "data": {
      "text/plain": [
       "count    1471.000000\n",
       "mean        0.046648\n",
       "std         1.258515\n",
       "min        -7.200119\n",
       "25%        -0.411080\n",
       "50%         0.091168\n",
       "75%         0.626759\n",
       "max         7.145188\n",
       "Name: percent, dtype: float64"
      ]
     },
     "execution_count": 9,
     "metadata": {},
     "output_type": "execute_result"
    }
   ],
   "source": [
    "price['percent'].describe()"
   ]
  },
  {
   "cell_type": "code",
   "execution_count": 10,
   "metadata": {},
   "outputs": [
    {
     "data": {
      "text/plain": [
       "1464"
      ]
     },
     "execution_count": 10,
     "metadata": {},
     "output_type": "execute_result"
    }
   ],
   "source": [
    "len(np.unique(price['percent']))"
   ]
  },
  {
   "cell_type": "markdown",
   "metadata": {
    "id": "0cAdXL9oa4C6"
   },
   "source": [
    "## Kmeans Clustering"
   ]
  },
  {
   "cell_type": "code",
   "execution_count": 11,
   "metadata": {},
   "outputs": [],
   "source": [
    "from sklearn.model_selection import train_test_split\n",
    "from sklearn import metrics"
   ]
  },
  {
   "cell_type": "code",
   "execution_count": 12,
   "metadata": {},
   "outputs": [],
   "source": [
    " # split dataset in features and target variable\n",
    "feature_cols = [\"percent\", \"returns\"]\n",
    "X = price[feature_cols]  # Features\n",
    "y = price['group'] # Target variable\n",
    "# Split dataset into training set and test set\n",
    "X_train, X_test, y_train, y_test = train_test_split(X, y, test_size=0.2, shuffle=False)  # 80% training and 20% test"
   ]
  },
  {
   "cell_type": "code",
   "execution_count": 13,
   "metadata": {},
   "outputs": [],
   "source": [
    "from sklearn.cluster import KMeans\n",
    "kmeans = KMeans(n_clusters=3, random_state=0).fit(X_train)"
   ]
  },
  {
   "cell_type": "code",
   "execution_count": 14,
   "metadata": {},
   "outputs": [
    {
     "name": "stdout",
     "output_type": "stream",
     "text": [
      "Accuracy: 0.30847457627118646\n",
      "R2_score: -2.0662447452302852\n"
     ]
    }
   ],
   "source": [
    "# Predict the response for test dataset\n",
    "y_pred = kmeans.predict(X_test)\n",
    "y_pred\n",
    "# Model Accuracy, how often is the classifier correct?\n",
    "print(\"Accuracy:\", metrics.accuracy_score(y_test, y_pred))\n",
    "print(\"R2_score:\", metrics.r2_score(y_test, y_pred))"
   ]
  },
  {
   "cell_type": "code",
   "execution_count": 15,
   "metadata": {},
   "outputs": [
    {
     "data": {
      "text/html": [
       "<div>\n",
       "<style scoped>\n",
       "    .dataframe tbody tr th:only-of-type {\n",
       "        vertical-align: middle;\n",
       "    }\n",
       "\n",
       "    .dataframe tbody tr th {\n",
       "        vertical-align: top;\n",
       "    }\n",
       "\n",
       "    .dataframe thead th {\n",
       "        text-align: right;\n",
       "    }\n",
       "</style>\n",
       "<table border=\"1\" class=\"dataframe\">\n",
       "  <thead>\n",
       "    <tr style=\"text-align: right;\">\n",
       "      <th></th>\n",
       "      <th>percent</th>\n",
       "      <th>returns</th>\n",
       "      <th>Group</th>\n",
       "      <th>Predicts</th>\n",
       "    </tr>\n",
       "    <tr>\n",
       "      <th>Date</th>\n",
       "      <th></th>\n",
       "      <th></th>\n",
       "      <th></th>\n",
       "      <th></th>\n",
       "    </tr>\n",
       "  </thead>\n",
       "  <tbody>\n",
       "    <tr>\n",
       "      <th>2021-04-06</th>\n",
       "      <td>-0.079777</td>\n",
       "      <td>-0.103175</td>\n",
       "      <td>2</td>\n",
       "      <td>0</td>\n",
       "    </tr>\n",
       "    <tr>\n",
       "      <th>2021-11-02</th>\n",
       "      <td>-0.059133</td>\n",
       "      <td>-0.037500</td>\n",
       "      <td>1</td>\n",
       "      <td>0</td>\n",
       "    </tr>\n",
       "    <tr>\n",
       "      <th>2020-05-04</th>\n",
       "      <td>-1.892969</td>\n",
       "      <td>0.294521</td>\n",
       "      <td>2</td>\n",
       "      <td>0</td>\n",
       "    </tr>\n",
       "    <tr>\n",
       "      <th>2019-04-10</th>\n",
       "      <td>-0.281690</td>\n",
       "      <td>0.550000</td>\n",
       "      <td>2</td>\n",
       "      <td>0</td>\n",
       "    </tr>\n",
       "    <tr>\n",
       "      <th>2019-05-20</th>\n",
       "      <td>1.658821</td>\n",
       "      <td>0.880000</td>\n",
       "      <td>1</td>\n",
       "      <td>1</td>\n",
       "    </tr>\n",
       "    <tr>\n",
       "      <th>...</th>\n",
       "      <td>...</td>\n",
       "      <td>...</td>\n",
       "      <td>...</td>\n",
       "      <td>...</td>\n",
       "    </tr>\n",
       "    <tr>\n",
       "      <th>2021-10-15</th>\n",
       "      <td>0.485566</td>\n",
       "      <td>-0.086538</td>\n",
       "      <td>2</td>\n",
       "      <td>1</td>\n",
       "    </tr>\n",
       "    <tr>\n",
       "      <th>2020-08-13</th>\n",
       "      <td>0.556539</td>\n",
       "      <td>0.052632</td>\n",
       "      <td>1</td>\n",
       "      <td>1</td>\n",
       "    </tr>\n",
       "    <tr>\n",
       "      <th>2024-06-17</th>\n",
       "      <td>-1.273933</td>\n",
       "      <td>-0.500000</td>\n",
       "      <td>1</td>\n",
       "      <td>0</td>\n",
       "    </tr>\n",
       "    <tr>\n",
       "      <th>2018-10-12</th>\n",
       "      <td>1.778549</td>\n",
       "      <td>0.966258</td>\n",
       "      <td>0</td>\n",
       "      <td>1</td>\n",
       "    </tr>\n",
       "    <tr>\n",
       "      <th>2019-06-07</th>\n",
       "      <td>1.137155</td>\n",
       "      <td>0.510204</td>\n",
       "      <td>1</td>\n",
       "      <td>1</td>\n",
       "    </tr>\n",
       "  </tbody>\n",
       "</table>\n",
       "<p>295 rows × 4 columns</p>\n",
       "</div>"
      ],
      "text/plain": [
       "             percent   returns  Group  Predicts\n",
       "Date                                           \n",
       "2021-04-06 -0.079777 -0.103175      2         0\n",
       "2021-11-02 -0.059133 -0.037500      1         0\n",
       "2020-05-04 -1.892969  0.294521      2         0\n",
       "2019-04-10 -0.281690  0.550000      2         0\n",
       "2019-05-20  1.658821  0.880000      1         1\n",
       "...              ...       ...    ...       ...\n",
       "2021-10-15  0.485566 -0.086538      2         1\n",
       "2020-08-13  0.556539  0.052632      1         1\n",
       "2024-06-17 -1.273933 -0.500000      1         0\n",
       "2018-10-12  1.778549  0.966258      0         1\n",
       "2019-06-07  1.137155  0.510204      1         1\n",
       "\n",
       "[295 rows x 4 columns]"
      ]
     },
     "execution_count": 15,
     "metadata": {},
     "output_type": "execute_result"
    }
   ],
   "source": [
    "X_result = X_test.copy()\n",
    "X_result = X_result.assign(Group=y_test)\n",
    "X_result = X_result.assign(Predicts=y_pred)\n",
    "X_result"
   ]
  },
  {
   "cell_type": "code",
   "execution_count": 16,
   "metadata": {},
   "outputs": [
    {
     "data": {
      "text/html": [
       "<div>\n",
       "<style scoped>\n",
       "    .dataframe tbody tr th:only-of-type {\n",
       "        vertical-align: middle;\n",
       "    }\n",
       "\n",
       "    .dataframe tbody tr th {\n",
       "        vertical-align: top;\n",
       "    }\n",
       "\n",
       "    .dataframe thead th {\n",
       "        text-align: right;\n",
       "    }\n",
       "</style>\n",
       "<table border=\"1\" class=\"dataframe\">\n",
       "  <thead>\n",
       "    <tr style=\"text-align: right;\">\n",
       "      <th></th>\n",
       "      <th>percent</th>\n",
       "      <th>returns</th>\n",
       "      <th>Group</th>\n",
       "      <th>Predicts</th>\n",
       "    </tr>\n",
       "    <tr>\n",
       "      <th>Date</th>\n",
       "      <th></th>\n",
       "      <th></th>\n",
       "      <th></th>\n",
       "      <th></th>\n",
       "    </tr>\n",
       "  </thead>\n",
       "  <tbody>\n",
       "    <tr>\n",
       "      <th>2018-09-07</th>\n",
       "      <td>0.630746</td>\n",
       "      <td>0.553719</td>\n",
       "      <td>1</td>\n",
       "      <td>1</td>\n",
       "    </tr>\n",
       "    <tr>\n",
       "      <th>2018-09-12</th>\n",
       "      <td>0.672128</td>\n",
       "      <td>0.434211</td>\n",
       "      <td>2</td>\n",
       "      <td>1</td>\n",
       "    </tr>\n",
       "    <tr>\n",
       "      <th>2018-09-21</th>\n",
       "      <td>0.597877</td>\n",
       "      <td>0.013514</td>\n",
       "      <td>1</td>\n",
       "      <td>1</td>\n",
       "    </tr>\n",
       "    <tr>\n",
       "      <th>2018-09-24</th>\n",
       "      <td>0.296342</td>\n",
       "      <td>0.408163</td>\n",
       "      <td>1</td>\n",
       "      <td>1</td>\n",
       "    </tr>\n",
       "    <tr>\n",
       "      <th>2018-09-27</th>\n",
       "      <td>0.335912</td>\n",
       "      <td>0.380952</td>\n",
       "      <td>2</td>\n",
       "      <td>1</td>\n",
       "    </tr>\n",
       "    <tr>\n",
       "      <th>...</th>\n",
       "      <td>...</td>\n",
       "      <td>...</td>\n",
       "      <td>...</td>\n",
       "      <td>...</td>\n",
       "    </tr>\n",
       "    <tr>\n",
       "      <th>2024-06-13</th>\n",
       "      <td>0.286058</td>\n",
       "      <td>0.151899</td>\n",
       "      <td>1</td>\n",
       "      <td>1</td>\n",
       "    </tr>\n",
       "    <tr>\n",
       "      <th>2024-06-17</th>\n",
       "      <td>-1.273933</td>\n",
       "      <td>-0.500000</td>\n",
       "      <td>1</td>\n",
       "      <td>0</td>\n",
       "    </tr>\n",
       "    <tr>\n",
       "      <th>2024-06-25</th>\n",
       "      <td>0.062155</td>\n",
       "      <td>-0.597403</td>\n",
       "      <td>0</td>\n",
       "      <td>0</td>\n",
       "    </tr>\n",
       "    <tr>\n",
       "      <th>2024-07-02</th>\n",
       "      <td>0.957347</td>\n",
       "      <td>0.729167</td>\n",
       "      <td>2</td>\n",
       "      <td>1</td>\n",
       "    </tr>\n",
       "    <tr>\n",
       "      <th>2024-07-04</th>\n",
       "      <td>0.214477</td>\n",
       "      <td>0.222222</td>\n",
       "      <td>2</td>\n",
       "      <td>0</td>\n",
       "    </tr>\n",
       "  </tbody>\n",
       "</table>\n",
       "<p>295 rows × 4 columns</p>\n",
       "</div>"
      ],
      "text/plain": [
       "             percent   returns  Group  Predicts\n",
       "Date                                           \n",
       "2018-09-07  0.630746  0.553719      1         1\n",
       "2018-09-12  0.672128  0.434211      2         1\n",
       "2018-09-21  0.597877  0.013514      1         1\n",
       "2018-09-24  0.296342  0.408163      1         1\n",
       "2018-09-27  0.335912  0.380952      2         1\n",
       "...              ...       ...    ...       ...\n",
       "2024-06-13  0.286058  0.151899      1         1\n",
       "2024-06-17 -1.273933 -0.500000      1         0\n",
       "2024-06-25  0.062155 -0.597403      0         0\n",
       "2024-07-02  0.957347  0.729167      2         1\n",
       "2024-07-04  0.214477  0.222222      2         0\n",
       "\n",
       "[295 rows x 4 columns]"
      ]
     },
     "execution_count": 16,
     "metadata": {},
     "output_type": "execute_result"
    }
   ],
   "source": [
    "X_result.sort_index(inplace=True)\n",
    "X_result"
   ]
  },
  {
   "cell_type": "code",
   "execution_count": 17,
   "metadata": {},
   "outputs": [],
   "source": [
    "import xgboost as xgb\n",
    "# Create XGBClassifier model\n",
    "model_xgb = xgb.XGBClassifier(n_estimators=100, random_state=42)\n",
    "\n",
    "# Train XGBClassifier\n",
    "model_xgb = model_xgb.fit(X_train, y_train)"
   ]
  },
  {
   "cell_type": "code",
   "execution_count": 18,
   "metadata": {},
   "outputs": [
    {
     "name": "stdout",
     "output_type": "stream",
     "text": [
      "Accuracy: 0.44745762711864406\n",
      "R2_score: -0.5194946181918969\n"
     ]
    }
   ],
   "source": [
    "# Predict the response for test dataset\n",
    "y_pred = model_xgb.predict(X_test)\n",
    "# Model Accuracy, how often is the classifier correct?\n",
    "print(\"Accuracy:\", metrics.accuracy_score(y_test, y_pred))\n",
    "print(\"R2_score:\", metrics.r2_score(y_test, y_pred))"
   ]
  },
  {
   "cell_type": "code",
   "execution_count": 19,
   "metadata": {},
   "outputs": [
    {
     "data": {
      "text/html": [
       "<div>\n",
       "<style scoped>\n",
       "    .dataframe tbody tr th:only-of-type {\n",
       "        vertical-align: middle;\n",
       "    }\n",
       "\n",
       "    .dataframe tbody tr th {\n",
       "        vertical-align: top;\n",
       "    }\n",
       "\n",
       "    .dataframe thead th {\n",
       "        text-align: right;\n",
       "    }\n",
       "</style>\n",
       "<table border=\"1\" class=\"dataframe\">\n",
       "  <thead>\n",
       "    <tr style=\"text-align: right;\">\n",
       "      <th></th>\n",
       "      <th>percent</th>\n",
       "      <th>returns</th>\n",
       "      <th>Group</th>\n",
       "      <th>Predicts</th>\n",
       "    </tr>\n",
       "    <tr>\n",
       "      <th>Date</th>\n",
       "      <th></th>\n",
       "      <th></th>\n",
       "      <th></th>\n",
       "      <th></th>\n",
       "    </tr>\n",
       "  </thead>\n",
       "  <tbody>\n",
       "    <tr>\n",
       "      <th>2021-04-06</th>\n",
       "      <td>-0.079777</td>\n",
       "      <td>-0.103175</td>\n",
       "      <td>2</td>\n",
       "      <td>1</td>\n",
       "    </tr>\n",
       "    <tr>\n",
       "      <th>2021-11-02</th>\n",
       "      <td>-0.059133</td>\n",
       "      <td>-0.037500</td>\n",
       "      <td>1</td>\n",
       "      <td>1</td>\n",
       "    </tr>\n",
       "    <tr>\n",
       "      <th>2020-05-04</th>\n",
       "      <td>-1.892969</td>\n",
       "      <td>0.294521</td>\n",
       "      <td>2</td>\n",
       "      <td>1</td>\n",
       "    </tr>\n",
       "    <tr>\n",
       "      <th>2019-04-10</th>\n",
       "      <td>-0.281690</td>\n",
       "      <td>0.550000</td>\n",
       "      <td>2</td>\n",
       "      <td>1</td>\n",
       "    </tr>\n",
       "    <tr>\n",
       "      <th>2019-05-20</th>\n",
       "      <td>1.658821</td>\n",
       "      <td>0.880000</td>\n",
       "      <td>1</td>\n",
       "      <td>2</td>\n",
       "    </tr>\n",
       "    <tr>\n",
       "      <th>...</th>\n",
       "      <td>...</td>\n",
       "      <td>...</td>\n",
       "      <td>...</td>\n",
       "      <td>...</td>\n",
       "    </tr>\n",
       "    <tr>\n",
       "      <th>2021-10-15</th>\n",
       "      <td>0.485566</td>\n",
       "      <td>-0.086538</td>\n",
       "      <td>2</td>\n",
       "      <td>1</td>\n",
       "    </tr>\n",
       "    <tr>\n",
       "      <th>2020-08-13</th>\n",
       "      <td>0.556539</td>\n",
       "      <td>0.052632</td>\n",
       "      <td>1</td>\n",
       "      <td>2</td>\n",
       "    </tr>\n",
       "    <tr>\n",
       "      <th>2024-06-17</th>\n",
       "      <td>-1.273933</td>\n",
       "      <td>-0.500000</td>\n",
       "      <td>1</td>\n",
       "      <td>1</td>\n",
       "    </tr>\n",
       "    <tr>\n",
       "      <th>2018-10-12</th>\n",
       "      <td>1.778549</td>\n",
       "      <td>0.966258</td>\n",
       "      <td>0</td>\n",
       "      <td>2</td>\n",
       "    </tr>\n",
       "    <tr>\n",
       "      <th>2019-06-07</th>\n",
       "      <td>1.137155</td>\n",
       "      <td>0.510204</td>\n",
       "      <td>1</td>\n",
       "      <td>1</td>\n",
       "    </tr>\n",
       "  </tbody>\n",
       "</table>\n",
       "<p>295 rows × 4 columns</p>\n",
       "</div>"
      ],
      "text/plain": [
       "             percent   returns  Group  Predicts\n",
       "Date                                           \n",
       "2021-04-06 -0.079777 -0.103175      2         1\n",
       "2021-11-02 -0.059133 -0.037500      1         1\n",
       "2020-05-04 -1.892969  0.294521      2         1\n",
       "2019-04-10 -0.281690  0.550000      2         1\n",
       "2019-05-20  1.658821  0.880000      1         2\n",
       "...              ...       ...    ...       ...\n",
       "2021-10-15  0.485566 -0.086538      2         1\n",
       "2020-08-13  0.556539  0.052632      1         2\n",
       "2024-06-17 -1.273933 -0.500000      1         1\n",
       "2018-10-12  1.778549  0.966258      0         2\n",
       "2019-06-07  1.137155  0.510204      1         1\n",
       "\n",
       "[295 rows x 4 columns]"
      ]
     },
     "execution_count": 19,
     "metadata": {},
     "output_type": "execute_result"
    }
   ],
   "source": [
    "X_result = X_test.copy()\n",
    "X_result = X_result.assign(Group=y_test)\n",
    "X_result = X_result.assign(Predicts=y_pred)\n",
    "X_result"
   ]
  },
  {
   "cell_type": "code",
   "execution_count": 20,
   "metadata": {},
   "outputs": [
    {
     "name": "stdout",
     "output_type": "stream",
     "text": [
      "Accuracy: 0.4745762711864407\n",
      "R2_score: -0.32189217905483414\n"
     ]
    }
   ],
   "source": [
    "from sklearn.ensemble import GradientBoostingClassifier\n",
    "# Create GradientBoostingClassifier model\n",
    "gbc = GradientBoostingClassifier(learning_rate=0.01, random_state=50, n_estimators=150)\n",
    "\n",
    "# Train\n",
    "gbc = gbc.fit(X_train, y_train)\n",
    "\n",
    "# Predict the response for test dataset\n",
    "y_pred = gbc.predict(X_test)\n",
    "# Model Accuracy, how often is the classifier correct?\n",
    "print(\"Accuracy:\", metrics.accuracy_score(y_test, y_pred))\n",
    "print(\"R2_score:\", metrics.r2_score(y_test, y_pred))"
   ]
  },
  {
   "cell_type": "code",
   "execution_count": 21,
   "metadata": {},
   "outputs": [
    {
     "name": "stdout",
     "output_type": "stream",
     "text": [
      "Accuracy: 0.4610169491525424\n",
      "R2_score: -0.7375386889638282\n"
     ]
    }
   ],
   "source": [
    "from sklearn.tree import DecisionTreeClassifier\n",
    "# Create Decision Tree classifier object\n",
    "clf = DecisionTreeClassifier(criterion=\"entropy\", max_depth=6, max_leaf_nodes=50)\n",
    "\n",
    "# Train Decision Tree Classifier\n",
    "clf = clf.fit(X_train, y_train)\n",
    "\n",
    "# Predict the response for test dataset\n",
    "y_pred = clf.predict(X_test)\n",
    "# Model Accuracy, how often is the classifier correct?\n",
    "print(\"Accuracy:\", metrics.accuracy_score(y_test, y_pred))\n",
    "print(\"R2_score:\", metrics.r2_score(y_test, y_pred))"
   ]
  },
  {
   "cell_type": "code",
   "execution_count": 22,
   "metadata": {},
   "outputs": [
    {
     "name": "stdout",
     "output_type": "stream",
     "text": [
      "Accuracy: 0.4711864406779661\n",
      "R2_score: -0.512680740980274\n"
     ]
    }
   ],
   "source": [
    "from sklearn.ensemble import RandomForestClassifier\n",
    "\n",
    "#Create a Gaussian Classifier\n",
    "clf=RandomForestClassifier(n_estimators=100)\n",
    "\n",
    "#Train the model using the training sets \ty_pred=clf.predict(X_test)\n",
    "clf.fit(X_train,y_train)\n",
    "\n",
    "y_pred=clf.predict(X_test)\n",
    "# Model Accuracy, how often is the classifier correct?\n",
    "print(\"Accuracy:\", metrics.accuracy_score(y_test, y_pred))\n",
    "print(\"R2_score:\", metrics.r2_score(y_test, y_pred))"
   ]
  },
  {
   "cell_type": "code",
   "execution_count": 23,
   "metadata": {},
   "outputs": [
    {
     "data": {
      "text/html": [
       "<div>\n",
       "<style scoped>\n",
       "    .dataframe tbody tr th:only-of-type {\n",
       "        vertical-align: middle;\n",
       "    }\n",
       "\n",
       "    .dataframe tbody tr th {\n",
       "        vertical-align: top;\n",
       "    }\n",
       "\n",
       "    .dataframe thead th {\n",
       "        text-align: right;\n",
       "    }\n",
       "</style>\n",
       "<table border=\"1\" class=\"dataframe\">\n",
       "  <thead>\n",
       "    <tr style=\"text-align: right;\">\n",
       "      <th></th>\n",
       "      <th>percent_group</th>\n",
       "      <th>returns_group</th>\n",
       "      <th>group</th>\n",
       "    </tr>\n",
       "    <tr>\n",
       "      <th>Date</th>\n",
       "      <th></th>\n",
       "      <th></th>\n",
       "      <th></th>\n",
       "    </tr>\n",
       "  </thead>\n",
       "  <tbody>\n",
       "    <tr>\n",
       "      <th>2018-08-14</th>\n",
       "      <td>22</td>\n",
       "      <td>26</td>\n",
       "      <td>1</td>\n",
       "    </tr>\n",
       "    <tr>\n",
       "      <th>2018-08-15</th>\n",
       "      <td>12</td>\n",
       "      <td>16</td>\n",
       "      <td>2</td>\n",
       "    </tr>\n",
       "    <tr>\n",
       "      <th>2018-08-16</th>\n",
       "      <td>5</td>\n",
       "      <td>17</td>\n",
       "      <td>1</td>\n",
       "    </tr>\n",
       "    <tr>\n",
       "      <th>2018-08-17</th>\n",
       "      <td>18</td>\n",
       "      <td>3</td>\n",
       "      <td>1</td>\n",
       "    </tr>\n",
       "    <tr>\n",
       "      <th>2018-08-20</th>\n",
       "      <td>13</td>\n",
       "      <td>16</td>\n",
       "      <td>2</td>\n",
       "    </tr>\n",
       "    <tr>\n",
       "      <th>...</th>\n",
       "      <td>...</td>\n",
       "      <td>...</td>\n",
       "      <td>...</td>\n",
       "    </tr>\n",
       "    <tr>\n",
       "      <th>2024-07-04</th>\n",
       "      <td>18</td>\n",
       "      <td>19</td>\n",
       "      <td>2</td>\n",
       "    </tr>\n",
       "    <tr>\n",
       "      <th>2024-07-05</th>\n",
       "      <td>15</td>\n",
       "      <td>13</td>\n",
       "      <td>1</td>\n",
       "    </tr>\n",
       "    <tr>\n",
       "      <th>2024-07-08</th>\n",
       "      <td>8</td>\n",
       "      <td>8</td>\n",
       "      <td>1</td>\n",
       "    </tr>\n",
       "    <tr>\n",
       "      <th>2024-07-09</th>\n",
       "      <td>22</td>\n",
       "      <td>18</td>\n",
       "      <td>0</td>\n",
       "    </tr>\n",
       "    <tr>\n",
       "      <th>2024-07-10</th>\n",
       "      <td>10</td>\n",
       "      <td>9</td>\n",
       "      <td>2</td>\n",
       "    </tr>\n",
       "  </tbody>\n",
       "</table>\n",
       "<p>1471 rows × 3 columns</p>\n",
       "</div>"
      ],
      "text/plain": [
       "           percent_group returns_group  group\n",
       "Date                                         \n",
       "2018-08-14            22            26      1\n",
       "2018-08-15            12            16      2\n",
       "2018-08-16             5            17      1\n",
       "2018-08-17            18             3      1\n",
       "2018-08-20            13            16      2\n",
       "...                  ...           ...    ...\n",
       "2024-07-04            18            19      2\n",
       "2024-07-05            15            13      1\n",
       "2024-07-08             8             8      1\n",
       "2024-07-09            22            18      0\n",
       "2024-07-10            10             9      2\n",
       "\n",
       "[1471 rows x 3 columns]"
      ]
     },
     "execution_count": 23,
     "metadata": {},
     "output_type": "execute_result"
    }
   ],
   "source": [
    "labels = list((range(1, 31)))\n",
    "price['percent_group'] = pd.qcut(price.percent, q=30, labels=labels)\n",
    "price['returns_group'] = pd.qcut(price.returns, q=30, labels=labels)\n",
    "price[['percent_group', 'returns_group', 'group']]"
   ]
  },
  {
   "cell_type": "code",
   "execution_count": 24,
   "metadata": {},
   "outputs": [
    {
     "data": {
      "text/plain": [
       "30"
      ]
     },
     "execution_count": 24,
     "metadata": {},
     "output_type": "execute_result"
    }
   ],
   "source": [
    "len(np.unique(price['percent_group']))"
   ]
  },
  {
   "cell_type": "code",
   "execution_count": 25,
   "metadata": {},
   "outputs": [
    {
     "data": {
      "text/plain": [
       "30"
      ]
     },
     "execution_count": 25,
     "metadata": {},
     "output_type": "execute_result"
    }
   ],
   "source": [
    "len(np.unique(price['returns_group']))"
   ]
  },
  {
   "cell_type": "code",
   "execution_count": 26,
   "metadata": {},
   "outputs": [
    {
     "name": "stdout",
     "output_type": "stream",
     "text": [
      "Accuracy: 0.3220338983050847\n",
      "R2_score: -1.3197310202829975\n"
     ]
    }
   ],
   "source": [
    " # split dataset in features and target variable\n",
    "feature_cols = [\"percent_group\", \"returns_group\"]\n",
    "X = price[feature_cols]  # Features\n",
    "y = price['group'] # Target variable\n",
    "# Split dataset into training set and test set\n",
    "X_train, X_test, y_train, y_test = train_test_split(X, y, test_size=0.2)  # 80% training and 20% test\n",
    "from sklearn.cluster import KMeans\n",
    "kmeans = KMeans(n_clusters=3, random_state=0).fit(X_train)\n",
    "# Predict the response for test dataset\n",
    "y_pred = kmeans.predict(X_test)\n",
    "y_pred\n",
    "# Model Accuracy, how often is the classifier correct?\n",
    "print(\"Accuracy:\", metrics.accuracy_score(y_test, y_pred))\n",
    "print(\"R2_score:\", metrics.r2_score(y_test, y_pred))"
   ]
  },
  {
   "cell_type": "code",
   "execution_count": 34,
   "metadata": {},
   "outputs": [
    {
     "data": {
      "text/plain": [
       "0.5459610027855153"
      ]
     },
     "execution_count": 34,
     "metadata": {},
     "output_type": "execute_result"
    }
   ],
   "source": [
    "Long = price[price.percent > .26]\n",
    "Long = Long[Long.returns > .39]\n",
    "len(Long[Long['group'] == 1]) / len(Long)"
   ]
  },
  {
   "cell_type": "code",
   "execution_count": 35,
   "metadata": {},
   "outputs": [
    {
     "data": {
      "text/plain": [
       "0.11420612813370473"
      ]
     },
     "execution_count": 35,
     "metadata": {},
     "output_type": "execute_result"
    }
   ],
   "source": [
    "len(Long[Long['group'] == 0]) / len(Long)"
   ]
  },
  {
   "cell_type": "code",
   "execution_count": 36,
   "metadata": {},
   "outputs": [
    {
     "data": {
      "text/plain": [
       "0.3398328690807799"
      ]
     },
     "execution_count": 36,
     "metadata": {},
     "output_type": "execute_result"
    }
   ],
   "source": [
    "len(Long[Long['group'] == 2]) / len(Long)"
   ]
  },
  {
   "cell_type": "code",
   "execution_count": null,
   "metadata": {},
   "outputs": [],
   "source": []
  }
 ],
 "metadata": {
  "colab": {
   "provenance": [
    {
     "file_id": "18pUnIuHY_OtOIianWy2sxcplyNdjKkI8",
     "timestamp": 1705312236172
    }
   ]
  },
  "kernelspec": {
   "display_name": "Python 3 (ipykernel)",
   "language": "python",
   "name": "python3"
  },
  "language_info": {
   "codemirror_mode": {
    "name": "ipython",
    "version": 3
   },
   "file_extension": ".py",
   "mimetype": "text/x-python",
   "name": "python",
   "nbconvert_exporter": "python",
   "pygments_lexer": "ipython3",
   "version": "3.10.12"
  }
 },
 "nbformat": 4,
 "nbformat_minor": 4
}
