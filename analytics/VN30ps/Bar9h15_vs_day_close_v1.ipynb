{
 "cells": [
  {
   "cell_type": "markdown",
   "id": "3bb3aa97-7914-4430-8beb-3faa67ba7dad",
   "metadata": {},
   "source": [
    "# Bar 9h15 & k-means cluster & Today Close vs Yesterday Close - Analytics"
   ]
  },
  {
   "cell_type": "markdown",
   "id": "b4a3e1b0-889f-40f5-bfe1-ca5391c2a7ba",
   "metadata": {},
   "source": [
    "### Import Library"
   ]
  },
  {
   "cell_type": "code",
   "execution_count": 1,
   "id": "8ed51685-7682-46ce-9ab2-df7a6f6937c5",
   "metadata": {},
   "outputs": [],
   "source": [
    "import numpy as np\n",
    "import pandas as pd\n",
    "import numpy as np\n",
    "import pandas_ta as ta\n",
    "import seaborn as sns\n",
    "import math\n",
    "\n",
    "import matplotlib.pyplot as plt\n",
    "plt.rcParams['figure.dpi'] = 120\n",
    "plt.rcParams['figure.constrained_layout.use'] = True\n",
    "import warnings\n",
    "warnings.filterwarnings('ignore')"
   ]
  },
  {
   "cell_type": "markdown",
   "id": "fe85b31e-7106-4979-aba2-03093ade02ca",
   "metadata": {},
   "source": [
    "### Load Price Data"
   ]
  },
  {
   "cell_type": "code",
   "execution_count": 2,
   "id": "0f3bf6f4-aeb4-404e-932a-9afef6ea370a",
   "metadata": {},
   "outputs": [],
   "source": [
    "import os\n",
    "from pathlib import Path\n",
    "notebook_path = os.getcwd()\n",
    "algo_dir = Path(notebook_path).parent.parent\n",
    "csv_file = str(algo_dir) + '/vn-stock-data/VN30ps/VN30F1M_5minutes.csv'\n",
    "is_file = os.path.isfile(csv_file)\n",
    "if is_file:\n",
    "    dataset = pd.read_csv(csv_file, index_col='Date', parse_dates=True)\n",
    "else:\n",
    "    print('remote')\n",
    "    dataset = pd.read_csv(\"https://raw.githubusercontent.com/zuongthaotn/vn-stock-data/main/VN30ps/VN30F1M_5minutes.csv\", index_col='Date', parse_dates=True)"
   ]
  },
  {
   "cell_type": "code",
   "execution_count": 3,
   "id": "eff99ef6-2921-4245-b40d-eb6ecee0bc12",
   "metadata": {},
   "outputs": [],
   "source": [
    "data = dataset.copy()"
   ]
  },
  {
   "cell_type": "code",
   "execution_count": 4,
   "id": "06bc9268-df06-473e-947d-949504ce46ee",
   "metadata": {},
   "outputs": [],
   "source": [
    "def bar9h15(tick):\n",
    "    tick=tick[(tick.index.hour == 9) & (tick.index.minute == 15)]\n",
    "    if len(tick):\n",
    "        return tick[0]"
   ]
  },
  {
   "cell_type": "code",
   "execution_count": 5,
   "id": "db7f3dbc-74bb-4c9b-a4b8-144d2171f953",
   "metadata": {},
   "outputs": [],
   "source": [
    "data['Close_9h15'] = data['Close']\n",
    "day_data = data.resample('D').agg({\n",
    "        'Open': 'first',\n",
    "        'Close': 'last',\n",
    "        'High': 'max',\n",
    "        'Low': 'min',\n",
    "        'Close_9h15': bar9h15\n",
    "    })\n",
    "day_data.dropna(subset=['Close'], inplace=True)"
   ]
  },
  {
   "cell_type": "code",
   "execution_count": 6,
   "id": "37a3d8eb-e934-4f2b-a7f3-3f8f6308f237",
   "metadata": {},
   "outputs": [],
   "source": [
    "day_data['rate_x'] = 100 * (day_data['Close_9h15'] - day_data['Close'].shift(1)) /  day_data['Close'].shift(1)\n",
    "day_data['rate_y'] = (day_data['Close_9h15'] - day_data['Open']) / (day_data['High'].shift(1) - day_data['Low'].shift(1))"
   ]
  },
  {
   "cell_type": "code",
   "execution_count": 7,
   "id": "ef119cf0-7edc-4619-93ae-5deee41bea98",
   "metadata": {},
   "outputs": [],
   "source": [
    "day_data['diff_close'] = day_data['Close'] - day_data['Close'].shift(1)\n",
    "day_data['close_is_lower']  = day_data.apply(lambda r: 'Yes' if r['diff_close'] < 0 else \"No\", axis=1)"
   ]
  },
  {
   "cell_type": "code",
   "execution_count": 8,
   "id": "9d70aade-d15c-4397-a954-2571316eb5f6",
   "metadata": {},
   "outputs": [
    {
     "data": {
      "text/html": [
       "<div>\n",
       "<style scoped>\n",
       "    .dataframe tbody tr th:only-of-type {\n",
       "        vertical-align: middle;\n",
       "    }\n",
       "\n",
       "    .dataframe tbody tr th {\n",
       "        vertical-align: top;\n",
       "    }\n",
       "\n",
       "    .dataframe thead th {\n",
       "        text-align: right;\n",
       "    }\n",
       "</style>\n",
       "<table border=\"1\" class=\"dataframe\">\n",
       "  <thead>\n",
       "    <tr style=\"text-align: right;\">\n",
       "      <th></th>\n",
       "      <th>Open</th>\n",
       "      <th>Close</th>\n",
       "      <th>High</th>\n",
       "      <th>Low</th>\n",
       "      <th>Close_9h15</th>\n",
       "      <th>rate_x</th>\n",
       "      <th>rate_y</th>\n",
       "      <th>diff_close</th>\n",
       "      <th>close_is_lower</th>\n",
       "    </tr>\n",
       "    <tr>\n",
       "      <th>Date</th>\n",
       "      <th></th>\n",
       "      <th></th>\n",
       "      <th></th>\n",
       "      <th></th>\n",
       "      <th></th>\n",
       "      <th></th>\n",
       "      <th></th>\n",
       "      <th></th>\n",
       "      <th></th>\n",
       "    </tr>\n",
       "  </thead>\n",
       "  <tbody>\n",
       "    <tr>\n",
       "      <th>2018-08-13</th>\n",
       "      <td>943.5</td>\n",
       "      <td>954.2</td>\n",
       "      <td>954.6</td>\n",
       "      <td>942.3</td>\n",
       "      <td>942.6</td>\n",
       "      <td>NaN</td>\n",
       "      <td>NaN</td>\n",
       "      <td>NaN</td>\n",
       "      <td>No</td>\n",
       "    </tr>\n",
       "    <tr>\n",
       "      <th>2018-08-14</th>\n",
       "      <td>955.5</td>\n",
       "      <td>959.3</td>\n",
       "      <td>961.8</td>\n",
       "      <td>952.1</td>\n",
       "      <td>956.9</td>\n",
       "      <td>0.282960</td>\n",
       "      <td>0.113821</td>\n",
       "      <td>5.1</td>\n",
       "      <td>No</td>\n",
       "    </tr>\n",
       "    <tr>\n",
       "      <th>2018-08-15</th>\n",
       "      <td>958.0</td>\n",
       "      <td>946.6</td>\n",
       "      <td>962.3</td>\n",
       "      <td>946.6</td>\n",
       "      <td>960.7</td>\n",
       "      <td>0.145940</td>\n",
       "      <td>0.278351</td>\n",
       "      <td>-12.7</td>\n",
       "      <td>Yes</td>\n",
       "    </tr>\n",
       "    <tr>\n",
       "      <th>2018-08-16</th>\n",
       "      <td>942.4</td>\n",
       "      <td>947.0</td>\n",
       "      <td>947.3</td>\n",
       "      <td>935.5</td>\n",
       "      <td>942.1</td>\n",
       "      <td>-0.475386</td>\n",
       "      <td>-0.019108</td>\n",
       "      <td>0.4</td>\n",
       "      <td>No</td>\n",
       "    </tr>\n",
       "    <tr>\n",
       "      <th>2018-08-17</th>\n",
       "      <td>952.2</td>\n",
       "      <td>947.0</td>\n",
       "      <td>954.6</td>\n",
       "      <td>945.0</td>\n",
       "      <td>953.2</td>\n",
       "      <td>0.654699</td>\n",
       "      <td>0.084746</td>\n",
       "      <td>0.0</td>\n",
       "      <td>No</td>\n",
       "    </tr>\n",
       "    <tr>\n",
       "      <th>...</th>\n",
       "      <td>...</td>\n",
       "      <td>...</td>\n",
       "      <td>...</td>\n",
       "      <td>...</td>\n",
       "      <td>...</td>\n",
       "      <td>...</td>\n",
       "      <td>...</td>\n",
       "      <td>...</td>\n",
       "      <td>...</td>\n",
       "    </tr>\n",
       "    <tr>\n",
       "      <th>2024-10-31</th>\n",
       "      <td>1339.0</td>\n",
       "      <td>1343.5</td>\n",
       "      <td>1347.8</td>\n",
       "      <td>1333.7</td>\n",
       "      <td>1338.9</td>\n",
       "      <td>-0.230999</td>\n",
       "      <td>-0.008929</td>\n",
       "      <td>1.5</td>\n",
       "      <td>No</td>\n",
       "    </tr>\n",
       "    <tr>\n",
       "      <th>2024-11-01</th>\n",
       "      <td>1340.4</td>\n",
       "      <td>1330.4</td>\n",
       "      <td>1340.4</td>\n",
       "      <td>1326.6</td>\n",
       "      <td>1337.7</td>\n",
       "      <td>-0.431708</td>\n",
       "      <td>-0.191489</td>\n",
       "      <td>-13.1</td>\n",
       "      <td>Yes</td>\n",
       "    </tr>\n",
       "    <tr>\n",
       "      <th>2024-11-04</th>\n",
       "      <td>1332.8</td>\n",
       "      <td>1318.5</td>\n",
       "      <td>1332.8</td>\n",
       "      <td>1317.1</td>\n",
       "      <td>1328.9</td>\n",
       "      <td>-0.112748</td>\n",
       "      <td>-0.282609</td>\n",
       "      <td>-11.9</td>\n",
       "      <td>Yes</td>\n",
       "    </tr>\n",
       "    <tr>\n",
       "      <th>2024-11-05</th>\n",
       "      <td>1319.3</td>\n",
       "      <td>1319.0</td>\n",
       "      <td>1324.0</td>\n",
       "      <td>1317.4</td>\n",
       "      <td>1319.5</td>\n",
       "      <td>0.075844</td>\n",
       "      <td>0.012739</td>\n",
       "      <td>0.5</td>\n",
       "      <td>No</td>\n",
       "    </tr>\n",
       "    <tr>\n",
       "      <th>2024-11-06</th>\n",
       "      <td>1325.0</td>\n",
       "      <td>1341.0</td>\n",
       "      <td>1341.0</td>\n",
       "      <td>1324.0</td>\n",
       "      <td>1326.6</td>\n",
       "      <td>0.576194</td>\n",
       "      <td>0.242424</td>\n",
       "      <td>22.0</td>\n",
       "      <td>No</td>\n",
       "    </tr>\n",
       "  </tbody>\n",
       "</table>\n",
       "<p>1556 rows × 9 columns</p>\n",
       "</div>"
      ],
      "text/plain": [
       "              Open   Close    High     Low  Close_9h15    rate_x    rate_y  \\\n",
       "Date                                                                         \n",
       "2018-08-13   943.5   954.2   954.6   942.3       942.6       NaN       NaN   \n",
       "2018-08-14   955.5   959.3   961.8   952.1       956.9  0.282960  0.113821   \n",
       "2018-08-15   958.0   946.6   962.3   946.6       960.7  0.145940  0.278351   \n",
       "2018-08-16   942.4   947.0   947.3   935.5       942.1 -0.475386 -0.019108   \n",
       "2018-08-17   952.2   947.0   954.6   945.0       953.2  0.654699  0.084746   \n",
       "...            ...     ...     ...     ...         ...       ...       ...   \n",
       "2024-10-31  1339.0  1343.5  1347.8  1333.7      1338.9 -0.230999 -0.008929   \n",
       "2024-11-01  1340.4  1330.4  1340.4  1326.6      1337.7 -0.431708 -0.191489   \n",
       "2024-11-04  1332.8  1318.5  1332.8  1317.1      1328.9 -0.112748 -0.282609   \n",
       "2024-11-05  1319.3  1319.0  1324.0  1317.4      1319.5  0.075844  0.012739   \n",
       "2024-11-06  1325.0  1341.0  1341.0  1324.0      1326.6  0.576194  0.242424   \n",
       "\n",
       "            diff_close close_is_lower  \n",
       "Date                                   \n",
       "2018-08-13         NaN             No  \n",
       "2018-08-14         5.1             No  \n",
       "2018-08-15       -12.7            Yes  \n",
       "2018-08-16         0.4             No  \n",
       "2018-08-17         0.0             No  \n",
       "...                ...            ...  \n",
       "2024-10-31         1.5             No  \n",
       "2024-11-01       -13.1            Yes  \n",
       "2024-11-04       -11.9            Yes  \n",
       "2024-11-05         0.5             No  \n",
       "2024-11-06        22.0             No  \n",
       "\n",
       "[1556 rows x 9 columns]"
      ]
     },
     "execution_count": 8,
     "metadata": {},
     "output_type": "execute_result"
    }
   ],
   "source": [
    "day_data"
   ]
  },
  {
   "cell_type": "code",
   "execution_count": 9,
   "id": "aa6bb475-56f2-4bb7-86b8-ce9c1798ba76",
   "metadata": {},
   "outputs": [
    {
     "data": {
      "text/plain": [
       "count    1553.000000\n",
       "mean        0.049750\n",
       "std         0.747471\n",
       "min        -8.680556\n",
       "25%        -0.172811\n",
       "50%         0.077571\n",
       "75%         0.362403\n",
       "max         4.561003\n",
       "Name: rate_x, dtype: float64"
      ]
     },
     "execution_count": 9,
     "metadata": {},
     "output_type": "execute_result"
    }
   ],
   "source": [
    "day_data['rate_x'].describe()"
   ]
  },
  {
   "cell_type": "code",
   "execution_count": 10,
   "id": "0ab189e7-c277-47cf-bf84-9155eded86c0",
   "metadata": {},
   "outputs": [
    {
     "data": {
      "text/plain": [
       "count    1553.000000\n",
       "mean        0.007705\n",
       "std         0.216909\n",
       "min        -4.216216\n",
       "25%        -0.090000\n",
       "50%         0.018519\n",
       "75%         0.110429\n",
       "max         1.343284\n",
       "Name: rate_y, dtype: float64"
      ]
     },
     "execution_count": 10,
     "metadata": {},
     "output_type": "execute_result"
    }
   ],
   "source": [
    "day_data['rate_y'].describe()"
   ]
  },
  {
   "cell_type": "code",
   "execution_count": 11,
   "id": "9a1a8271-4ca7-447a-ab25-ad6d5d69a031",
   "metadata": {},
   "outputs": [],
   "source": [
    "day_data.dropna(inplace=True)"
   ]
  },
  {
   "cell_type": "markdown",
   "id": "a8d72e62-572d-4ca0-b71a-5654d8bd0ae7",
   "metadata": {},
   "source": [
    "### Kmeans Clustering"
   ]
  },
  {
   "cell_type": "code",
   "execution_count": 12,
   "id": "188e99ee-6f5e-4f7e-8a9a-552cbb56fc71",
   "metadata": {},
   "outputs": [],
   "source": [
    "from sklearn.cluster import KMeans"
   ]
  },
  {
   "cell_type": "code",
   "execution_count": 13,
   "id": "ed19ceb1-0589-47fb-8166-2164412610f2",
   "metadata": {},
   "outputs": [],
   "source": [
    "cluster_cols = [\"rate_x\", \"rate_y\"]\n",
    "model = KMeans(n_clusters=24, init='k-means++', random_state=43)\n",
    "_result = model.fit_predict(day_data[cluster_cols])\n",
    "day_data = day_data.assign(cluster=_result)"
   ]
  },
  {
   "cell_type": "code",
   "execution_count": 15,
   "id": "0c9099e3-bba1-40ed-b2a6-c5d95416352a",
   "metadata": {},
   "outputs": [
    {
     "data": {
      "text/plain": [
       "<seaborn.axisgrid.FacetGrid at 0x79ec306b3250>"
      ]
     },
     "execution_count": 15,
     "metadata": {},
     "output_type": "execute_result"
    },
    {
     "data": {
      "image/png": "[encoded data removed]",
      "text/plain": [
       "<Figure size 731.833x600 with 1 Axes>"
      ]
     },
     "metadata": {},
     "output_type": "display_data"
    }
   ],
   "source": [
    "sns.displot(day_data, x=\"cluster\", hue=\"close_is_lower\", palette=dict(Yes=\"green\", No=\"yellow\"), bins=range(0, 24, 1))"
   ]
  },
  {
   "cell_type": "code",
   "execution_count": null,
   "id": "8fe794fb-9d71-4378-b623-b9114c4e0acb",
   "metadata": {},
   "outputs": [],
   "source": []
  }
 ],
 "metadata": {
  "kernelspec": {
   "display_name": "Python 3 (ipykernel)",
   "language": "python",
   "name": "python3"
  },
  "language_info": {
   "codemirror_mode": {
    "name": "ipython",
    "version": 3
   },
   "file_extension": ".py",
   "mimetype": "text/x-python",
   "name": "python",
   "nbconvert_exporter": "python",
   "pygments_lexer": "ipython3",
   "version": "3.11.4"
  }
 },
 "nbformat": 4,
 "nbformat_minor": 5
}
