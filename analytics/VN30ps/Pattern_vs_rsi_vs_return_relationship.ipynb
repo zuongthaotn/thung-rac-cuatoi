{
 "cells": [
  {
   "cell_type": "markdown",
   "id": "44f11a03-4f89-4857-a166-6baf18e06543",
   "metadata": {},
   "source": [
    "# Candlestick body & pattern & return relationship"
   ]
  },
  {
   "cell_type": "code",
   "execution_count": 19,
   "id": "77240309-2a53-460f-9bf3-af3877512349",
   "metadata": {},
   "outputs": [],
   "source": [
    "import numpy as np\n",
    "import pandas as pd\n",
    "import numpy as np\n",
    "import seaborn as sns\n",
    "import os\n",
    "from pathlib import Path\n",
    "import pandas_ta as ta\n",
    "import pspriceaction.price_action as pa\n",
    "import warnings\n",
    "warnings.filterwarnings('ignore')"
   ]
  },
  {
   "cell_type": "markdown",
   "id": "30c701a6-535a-455c-8708-6202a2b5f2d3",
   "metadata": {},
   "source": [
    "### Load Price Data"
   ]
  },
  {
   "cell_type": "code",
   "execution_count": 20,
   "id": "add81a74-da7d-4295-ad8f-ed57af78d989",
   "metadata": {},
   "outputs": [],
   "source": [
    "data = []\n",
    "notebook_path = os.getcwd()\n",
    "current_dir = Path(notebook_path)\n",
    "algo_dir = current_dir.parent.parent\n",
    "transform_csv_file = str(current_dir) + '/VN30F1M_5minutes_pattern.csv'\n",
    "if os.path.isfile(transform_csv_file):\n",
    "    data = pd.read_csv(transform_csv_file, index_col='Date', parse_dates=True)\n",
    "    data['model'] = data['model'].fillna(value='')\n",
    "else:\n",
    "    csv_file = str(algo_dir) + '/vn-stock-data/VN30ps/VN30F1M_5minutes.csv'\n",
    "    is_file = os.path.isfile(csv_file)\n",
    "    if is_file:\n",
    "        dataset = pd.read_csv(csv_file, index_col='Date', parse_dates=True)\n",
    "    else:\n",
    "        dataset = pd.read_csv(\"https://raw.githubusercontent.com/zuongthaotn/vn-stock-data/main/VN30ps/VN30F1M_5minutes.csv\", index_col='Date', parse_dates=True)\n",
    "    data = dataset.copy()\n",
    "    data = pa.pattern_modeling(data)\n",
    "    data.to_csv(transform_csv_file)"
   ]
  },
  {
   "cell_type": "code",
   "execution_count": 21,
   "id": "f4ec4e6e-c03a-42fe-94f2-7aefa2892149",
   "metadata": {},
   "outputs": [],
   "source": [
    "### Ignore this year data => tranh over fitting\n",
    "data = data[data.index < '2024-01-01 00:00:00']"
   ]
  },
  {
   "cell_type": "markdown",
   "id": "b4556eaf-24c6-48bb-b9e7-68600b0621ea",
   "metadata": {},
   "source": [
    "## Calculating RSI"
   ]
  },
  {
   "cell_type": "code",
   "execution_count": 22,
   "id": "f9418f73-f39f-4083-aef7-3992bf6e3b08",
   "metadata": {},
   "outputs": [],
   "source": [
    "data[\"RSI\"] = ta.rsi(data[\"Close\"], length=14)"
   ]
  },
  {
   "cell_type": "markdown",
   "id": "e263dc8e-a196-4edb-91ae-1dea6f09c723",
   "metadata": {},
   "source": [
    "### Calculating return"
   ]
  },
  {
   "cell_type": "code",
   "execution_count": 23,
   "id": "470c682e-6f4e-4211-996b-a0ed2c047c82",
   "metadata": {},
   "outputs": [],
   "source": [
    "from cal_return_4_patterns import cal_return"
   ]
  },
  {
   "cell_type": "code",
   "execution_count": 24,
   "id": "1a1244ac-c0b6-430c-9bf5-42f7712ad2f5",
   "metadata": {},
   "outputs": [
    {
     "name": "stdout",
     "output_type": "stream",
     "text": [
      "CPU times: user 17.3 s, sys: 11.4 ms, total: 17.3 s\n",
      "Wall time: 17.3 s\n"
     ]
    }
   ],
   "source": [
    "%%time\n",
    "data = cal_return(data)"
   ]
  },
  {
   "cell_type": "markdown",
   "id": "3e369422-dc4e-4ae5-a63a-4e16fa9835f3",
   "metadata": {},
   "source": [
    "### Return Analytics"
   ]
  },
  {
   "cell_type": "code",
   "execution_count": 25,
   "id": "0ac9972a-3013-498a-9b6e-20d4fcf93a2e",
   "metadata": {},
   "outputs": [],
   "source": [
    "has_return = data[data['return'] != '']\n",
    "#----\n",
    "long_return = has_return[has_return['signal'] == 'long']\n",
    "short_return = has_return[has_return['signal'] == 'short']\n",
    "#----\n",
    "negative_return = has_return[has_return['return'] < 0]\n",
    "positive_return = has_return[has_return['return'] > 0]\n",
    "#----\n",
    "short_negative_return = short_return[short_return['return'] < 0]\n",
    "short_positive_return = short_return[short_return['return'] > 0]\n",
    "long_negative_return = long_return[long_return['return'] < 0]\n",
    "long_positive_return = long_return[long_return['return'] > 0]"
   ]
  },
  {
   "cell_type": "markdown",
   "id": "5c743ad0-21ef-4035-a954-0706e75ce937",
   "metadata": {},
   "source": [
    "## Patterns model & RSI & return relationship"
   ]
  },
  {
   "cell_type": "markdown",
   "id": "29c666a0-b7d1-4247-a5c8-bdbb7701ed31",
   "metadata": {},
   "source": [
    "### LONG signal"
   ]
  },
  {
   "cell_type": "code",
   "execution_count": 26,
   "id": "4203ed1d-2558-4200-8cda-050e0b46bd4e",
   "metadata": {},
   "outputs": [
    {
     "data": {
      "text/plain": [
       "count    5755.000000\n",
       "mean       59.707912\n",
       "std        13.256837\n",
       "min        11.767797\n",
       "25%        51.080894\n",
       "50%        60.219411\n",
       "75%        69.014720\n",
       "max        95.489359\n",
       "Name: RSI, dtype: float64"
      ]
     },
     "execution_count": 26,
     "metadata": {},
     "output_type": "execute_result"
    }
   ],
   "source": [
    "long_return['RSI'].describe()"
   ]
  },
  {
   "cell_type": "code",
   "execution_count": 27,
   "id": "d642786c-aaa3-467e-9858-d2e2cf9faabe",
   "metadata": {},
   "outputs": [
    {
     "data": {
      "text/html": [
       "<div>\n",
       "<style scoped>\n",
       "    .dataframe tbody tr th:only-of-type {\n",
       "        vertical-align: middle;\n",
       "    }\n",
       "\n",
       "    .dataframe tbody tr th {\n",
       "        vertical-align: top;\n",
       "    }\n",
       "\n",
       "    .dataframe thead th {\n",
       "        text-align: right;\n",
       "    }\n",
       "</style>\n",
       "<table border=\"1\" class=\"dataframe\">\n",
       "  <thead>\n",
       "    <tr style=\"text-align: right;\">\n",
       "      <th></th>\n",
       "      <th>mean</th>\n",
       "      <th>count</th>\n",
       "    </tr>\n",
       "    <tr>\n",
       "      <th>RSI_group</th>\n",
       "      <th></th>\n",
       "      <th></th>\n",
       "    </tr>\n",
       "  </thead>\n",
       "  <tbody>\n",
       "    <tr>\n",
       "      <th>(11.767000000000001, 36.779]</th>\n",
       "      <td>-0.247917</td>\n",
       "      <td>288</td>\n",
       "    </tr>\n",
       "    <tr>\n",
       "      <th>(36.779, 42.333]</th>\n",
       "      <td>0.407986</td>\n",
       "      <td>288</td>\n",
       "    </tr>\n",
       "    <tr>\n",
       "      <th>(42.333, 46.003]</th>\n",
       "      <td>0.438194</td>\n",
       "      <td>288</td>\n",
       "    </tr>\n",
       "    <tr>\n",
       "      <th>(46.003, 48.785]</th>\n",
       "      <td>-0.012544</td>\n",
       "      <td>287</td>\n",
       "    </tr>\n",
       "    <tr>\n",
       "      <th>(48.785, 51.081]</th>\n",
       "      <td>0.403125</td>\n",
       "      <td>288</td>\n",
       "    </tr>\n",
       "    <tr>\n",
       "      <th>(51.081, 53.14]</th>\n",
       "      <td>0.490972</td>\n",
       "      <td>288</td>\n",
       "    </tr>\n",
       "    <tr>\n",
       "      <th>(53.14, 55.061]</th>\n",
       "      <td>0.147387</td>\n",
       "      <td>287</td>\n",
       "    </tr>\n",
       "    <tr>\n",
       "      <th>(55.061, 56.736]</th>\n",
       "      <td>-0.257986</td>\n",
       "      <td>288</td>\n",
       "    </tr>\n",
       "    <tr>\n",
       "      <th>(56.736, 58.458]</th>\n",
       "      <td>-0.105903</td>\n",
       "      <td>288</td>\n",
       "    </tr>\n",
       "    <tr>\n",
       "      <th>(58.458, 60.219]</th>\n",
       "      <td>0.362847</td>\n",
       "      <td>288</td>\n",
       "    </tr>\n",
       "    <tr>\n",
       "      <th>(60.219, 61.878]</th>\n",
       "      <td>0.579443</td>\n",
       "      <td>287</td>\n",
       "    </tr>\n",
       "    <tr>\n",
       "      <th>(61.878, 63.531]</th>\n",
       "      <td>-0.058681</td>\n",
       "      <td>288</td>\n",
       "    </tr>\n",
       "    <tr>\n",
       "      <th>(63.531, 65.271]</th>\n",
       "      <td>0.738542</td>\n",
       "      <td>288</td>\n",
       "    </tr>\n",
       "    <tr>\n",
       "      <th>(65.271, 67.031]</th>\n",
       "      <td>0.68676</td>\n",
       "      <td>287</td>\n",
       "    </tr>\n",
       "    <tr>\n",
       "      <th>(67.031, 69.015]</th>\n",
       "      <td>0.819792</td>\n",
       "      <td>288</td>\n",
       "    </tr>\n",
       "    <tr>\n",
       "      <th>(69.015, 70.861]</th>\n",
       "      <td>0.463889</td>\n",
       "      <td>288</td>\n",
       "    </tr>\n",
       "    <tr>\n",
       "      <th>(70.861, 73.504]</th>\n",
       "      <td>0.908014</td>\n",
       "      <td>287</td>\n",
       "    </tr>\n",
       "    <tr>\n",
       "      <th>(73.504, 76.534]</th>\n",
       "      <td>1.013194</td>\n",
       "      <td>288</td>\n",
       "    </tr>\n",
       "    <tr>\n",
       "      <th>(76.534, 80.905]</th>\n",
       "      <td>1.653819</td>\n",
       "      <td>288</td>\n",
       "    </tr>\n",
       "    <tr>\n",
       "      <th>(80.905, 95.489]</th>\n",
       "      <td>2.169792</td>\n",
       "      <td>288</td>\n",
       "    </tr>\n",
       "  </tbody>\n",
       "</table>\n",
       "</div>"
      ],
      "text/plain": [
       "                                  mean  count\n",
       "RSI_group                                    \n",
       "(11.767000000000001, 36.779] -0.247917    288\n",
       "(36.779, 42.333]              0.407986    288\n",
       "(42.333, 46.003]              0.438194    288\n",
       "(46.003, 48.785]             -0.012544    287\n",
       "(48.785, 51.081]              0.403125    288\n",
       "(51.081, 53.14]               0.490972    288\n",
       "(53.14, 55.061]               0.147387    287\n",
       "(55.061, 56.736]             -0.257986    288\n",
       "(56.736, 58.458]             -0.105903    288\n",
       "(58.458, 60.219]              0.362847    288\n",
       "(60.219, 61.878]              0.579443    287\n",
       "(61.878, 63.531]             -0.058681    288\n",
       "(63.531, 65.271]              0.738542    288\n",
       "(65.271, 67.031]               0.68676    287\n",
       "(67.031, 69.015]              0.819792    288\n",
       "(69.015, 70.861]              0.463889    288\n",
       "(70.861, 73.504]              0.908014    287\n",
       "(73.504, 76.534]              1.013194    288\n",
       "(76.534, 80.905]              1.653819    288\n",
       "(80.905, 95.489]              2.169792    288"
      ]
     },
     "execution_count": 27,
     "metadata": {},
     "output_type": "execute_result"
    }
   ],
   "source": [
    "long_return['RSI_group'] = pd.qcut(long_return['RSI'], 20)\n",
    "a = long_return.groupby(['RSI_group'])[['return']].mean()\n",
    "b = a[['return']].rename(columns={'return': 'mean'})\n",
    "c = long_return.groupby(['RSI_group'])[['return']].count()\n",
    "d = c[['return']].rename(columns={'return': 'count'})\n",
    "e = pd.merge(b, d, left_index=True, right_index=True, how=\"left\")\n",
    "e"
   ]
  },
  {
   "cell_type": "markdown",
   "id": "3d9ec78f-74f0-4664-b0f3-e7964c33c0ba",
   "metadata": {},
   "source": [
    "### SHORT signal"
   ]
  },
  {
   "cell_type": "code",
   "execution_count": 28,
   "id": "677aad62-a94d-4705-89d2-345cb63e345b",
   "metadata": {},
   "outputs": [
    {
     "data": {
      "text/html": [
       "<div>\n",
       "<style scoped>\n",
       "    .dataframe tbody tr th:only-of-type {\n",
       "        vertical-align: middle;\n",
       "    }\n",
       "\n",
       "    .dataframe tbody tr th {\n",
       "        vertical-align: top;\n",
       "    }\n",
       "\n",
       "    .dataframe thead th {\n",
       "        text-align: right;\n",
       "    }\n",
       "</style>\n",
       "<table border=\"1\" class=\"dataframe\">\n",
       "  <thead>\n",
       "    <tr style=\"text-align: right;\">\n",
       "      <th></th>\n",
       "      <th>mean</th>\n",
       "      <th>count</th>\n",
       "    </tr>\n",
       "    <tr>\n",
       "      <th>RSI_group</th>\n",
       "      <th></th>\n",
       "      <th></th>\n",
       "    </tr>\n",
       "  </thead>\n",
       "  <tbody>\n",
       "    <tr>\n",
       "      <th>(2.6510000000000002, 19.39]</th>\n",
       "      <td>1.883529</td>\n",
       "      <td>255</td>\n",
       "    </tr>\n",
       "    <tr>\n",
       "      <th>(19.39, 23.99]</th>\n",
       "      <td>0.966142</td>\n",
       "      <td>254</td>\n",
       "    </tr>\n",
       "    <tr>\n",
       "      <th>(23.99, 26.872]</th>\n",
       "      <td>1.14549</td>\n",
       "      <td>255</td>\n",
       "    </tr>\n",
       "    <tr>\n",
       "      <th>(26.872, 29.333]</th>\n",
       "      <td>0.83189</td>\n",
       "      <td>254</td>\n",
       "    </tr>\n",
       "    <tr>\n",
       "      <th>(29.333, 31.462]</th>\n",
       "      <td>0.63451</td>\n",
       "      <td>255</td>\n",
       "    </tr>\n",
       "    <tr>\n",
       "      <th>(31.462, 33.503]</th>\n",
       "      <td>0.504331</td>\n",
       "      <td>254</td>\n",
       "    </tr>\n",
       "    <tr>\n",
       "      <th>(33.503, 35.356]</th>\n",
       "      <td>0.103529</td>\n",
       "      <td>255</td>\n",
       "    </tr>\n",
       "    <tr>\n",
       "      <th>(35.356, 37.07]</th>\n",
       "      <td>0.288189</td>\n",
       "      <td>254</td>\n",
       "    </tr>\n",
       "    <tr>\n",
       "      <th>(37.07, 38.787]</th>\n",
       "      <td>0.721569</td>\n",
       "      <td>255</td>\n",
       "    </tr>\n",
       "    <tr>\n",
       "      <th>(38.787, 40.57]</th>\n",
       "      <td>0.587402</td>\n",
       "      <td>254</td>\n",
       "    </tr>\n",
       "    <tr>\n",
       "      <th>(40.57, 42.407]</th>\n",
       "      <td>0.579134</td>\n",
       "      <td>254</td>\n",
       "    </tr>\n",
       "    <tr>\n",
       "      <th>(42.407, 44.041]</th>\n",
       "      <td>0.213333</td>\n",
       "      <td>255</td>\n",
       "    </tr>\n",
       "    <tr>\n",
       "      <th>(44.041, 45.916]</th>\n",
       "      <td>0.516535</td>\n",
       "      <td>254</td>\n",
       "    </tr>\n",
       "    <tr>\n",
       "      <th>(45.916, 47.899]</th>\n",
       "      <td>0.174902</td>\n",
       "      <td>255</td>\n",
       "    </tr>\n",
       "    <tr>\n",
       "      <th>(47.899, 49.792]</th>\n",
       "      <td>0.070866</td>\n",
       "      <td>254</td>\n",
       "    </tr>\n",
       "    <tr>\n",
       "      <th>(49.792, 52.264]</th>\n",
       "      <td>0.747059</td>\n",
       "      <td>255</td>\n",
       "    </tr>\n",
       "    <tr>\n",
       "      <th>(52.264, 54.954]</th>\n",
       "      <td>0.746063</td>\n",
       "      <td>254</td>\n",
       "    </tr>\n",
       "    <tr>\n",
       "      <th>(54.954, 58.51]</th>\n",
       "      <td>0.58549</td>\n",
       "      <td>255</td>\n",
       "    </tr>\n",
       "    <tr>\n",
       "      <th>(58.51, 64.186]</th>\n",
       "      <td>0.2</td>\n",
       "      <td>254</td>\n",
       "    </tr>\n",
       "    <tr>\n",
       "      <th>(64.186, 87.976]</th>\n",
       "      <td>0.009412</td>\n",
       "      <td>255</td>\n",
       "    </tr>\n",
       "  </tbody>\n",
       "</table>\n",
       "</div>"
      ],
      "text/plain": [
       "                                 mean  count\n",
       "RSI_group                                   \n",
       "(2.6510000000000002, 19.39]  1.883529    255\n",
       "(19.39, 23.99]               0.966142    254\n",
       "(23.99, 26.872]               1.14549    255\n",
       "(26.872, 29.333]              0.83189    254\n",
       "(29.333, 31.462]              0.63451    255\n",
       "(31.462, 33.503]             0.504331    254\n",
       "(33.503, 35.356]             0.103529    255\n",
       "(35.356, 37.07]              0.288189    254\n",
       "(37.07, 38.787]              0.721569    255\n",
       "(38.787, 40.57]              0.587402    254\n",
       "(40.57, 42.407]              0.579134    254\n",
       "(42.407, 44.041]             0.213333    255\n",
       "(44.041, 45.916]             0.516535    254\n",
       "(45.916, 47.899]             0.174902    255\n",
       "(47.899, 49.792]             0.070866    254\n",
       "(49.792, 52.264]             0.747059    255\n",
       "(52.264, 54.954]             0.746063    254\n",
       "(54.954, 58.51]               0.58549    255\n",
       "(58.51, 64.186]                   0.2    254\n",
       "(64.186, 87.976]             0.009412    255"
      ]
     },
     "execution_count": 28,
     "metadata": {},
     "output_type": "execute_result"
    }
   ],
   "source": [
    "short_return['RSI_group'] = pd.qcut(short_return['RSI'], 20)\n",
    "f = short_return.groupby(['RSI_group'])[['return']].mean()\n",
    "g = f[['return']].rename(columns={'return': 'mean'})\n",
    "h = short_return.groupby(['RSI_group'])[['return']].count()\n",
    "i = h[['return']].rename(columns={'return': 'count'})\n",
    "j = pd.merge(g, i, left_index=True, right_index=True, how=\"left\")\n",
    "j"
   ]
  },
  {
   "cell_type": "code",
   "execution_count": null,
   "id": "23c9d2e7-8553-4087-92a3-ba069a60864a",
   "metadata": {},
   "outputs": [],
   "source": []
  }
 ],
 "metadata": {
  "kernelspec": {
   "display_name": "Python 3 (ipykernel)",
   "language": "python",
   "name": "python3"
  },
  "language_info": {
   "codemirror_mode": {
    "name": "ipython",
    "version": 3
   },
   "file_extension": ".py",
   "mimetype": "text/x-python",
   "name": "python",
   "nbconvert_exporter": "python",
   "pygments_lexer": "ipython3",
   "version": "3.11.4"
  }
 },
 "nbformat": 4,
 "nbformat_minor": 5
}
