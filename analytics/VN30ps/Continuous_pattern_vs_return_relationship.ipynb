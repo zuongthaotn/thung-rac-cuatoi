{
 "cells": [
  {
   "cell_type": "markdown",
   "id": "44f11a03-4f89-4857-a166-6baf18e06543",
   "metadata": {},
   "source": [
    "# Candlestick body & pattern & return relationship"
   ]
  },
  {
   "cell_type": "code",
   "execution_count": 1,
   "id": "77240309-2a53-460f-9bf3-af3877512349",
   "metadata": {},
   "outputs": [],
   "source": [
    "import numpy as np\n",
    "import pandas as pd\n",
    "import numpy as np\n",
    "import seaborn as sns\n",
    "import os\n",
    "from pathlib import Path\n",
    "import pandas_ta as ta\n",
    "import pspriceaction.price_action as pa\n",
    "import warnings\n",
    "warnings.filterwarnings('ignore')"
   ]
  },
  {
   "cell_type": "markdown",
   "id": "30c701a6-535a-455c-8708-6202a2b5f2d3",
   "metadata": {},
   "source": [
    "### Load Price Data"
   ]
  },
  {
   "cell_type": "code",
   "execution_count": 2,
   "id": "add81a74-da7d-4295-ad8f-ed57af78d989",
   "metadata": {},
   "outputs": [],
   "source": [
    "data = []\n",
    "notebook_path = os.getcwd()\n",
    "current_dir = Path(notebook_path)\n",
    "algo_dir = current_dir.parent.parent\n",
    "transform_csv_file = str(current_dir) + '/VN30F1M_5minutes_pattern.csv'\n",
    "if os.path.isfile(transform_csv_file):\n",
    "    data = pd.read_csv(transform_csv_file, index_col='Date', parse_dates=True)\n",
    "    data['model'] = data['model'].fillna(value='')\n",
    "else:\n",
    "    csv_file = str(algo_dir) + '/vn-stock-data/VN30ps/VN30F1M_5minutes.csv'\n",
    "    is_file = os.path.isfile(csv_file)\n",
    "    if is_file:\n",
    "        dataset = pd.read_csv(csv_file, index_col='Date', parse_dates=True)\n",
    "    else:\n",
    "        dataset = pd.read_csv(\"https://raw.githubusercontent.com/zuongthaotn/vn-stock-data/main/VN30ps/VN30F1M_5minutes.csv\", index_col='Date', parse_dates=True)\n",
    "    data = dataset.copy()\n",
    "    data = pa.pattern_modeling(data)\n",
    "    data.to_csv(transform_csv_file)"
   ]
  },
  {
   "cell_type": "markdown",
   "id": "e263dc8e-a196-4edb-91ae-1dea6f09c723",
   "metadata": {},
   "source": [
    "### Calculating return"
   ]
  },
  {
   "cell_type": "code",
   "execution_count": 3,
   "id": "470c682e-6f4e-4211-996b-a0ed2c047c82",
   "metadata": {},
   "outputs": [],
   "source": [
    "def has_bullish_pattern(model):\n",
    "    if \"bullish\" in model or \"rising\" in model:\n",
    "        return True\n",
    "    return False\n",
    "\n",
    "def has_bearish_pattern(model):\n",
    "    if \"bearish\" in model or \"falling\" in model:\n",
    "        return True\n",
    "    return False"
   ]
  },
  {
   "cell_type": "code",
   "execution_count": 4,
   "id": "1a1244ac-c0b6-430c-9bf5-42f7712ad2f5",
   "metadata": {},
   "outputs": [
    {
     "name": "stdout",
     "output_type": "stream",
     "text": [
      "CPU times: user 19.6 s, sys: 2.88 ms, total: 19.6 s\n",
      "Wall time: 19.6 s\n"
     ]
    }
   ],
   "source": [
    "%%time\n",
    "data['return'] = ''\n",
    "data['signal'] = ''\n",
    "data['exit_time'] = ''\n",
    "# Stoploss at x0 pips\n",
    "sl_step = 3\n",
    "# Takeprofit at y0 pips(R/R = 1/3)\n",
    "tp_step = 9\n",
    "for i, row in data.iterrows():\n",
    "    if has_bullish_pattern(row['model']):\n",
    "        # Long signal\n",
    "        data.at[i, 'signal'] = 'long'\n",
    "        current_date = row.name.strftime('%Y-%m-%d ').format()\n",
    "        current_time = row.name\n",
    "        entry_price = row['Close']\n",
    "        data_to_end_day = data[(data.index > current_time) & (data.index < current_date+' 14:30:00')]\n",
    "        max_price = 0\n",
    "        exit_time = ''\n",
    "        for k, wrow in data_to_end_day.iterrows():\n",
    "            if wrow['Low'] < entry_price and wrow['Low'] < entry_price - sl_step:\n",
    "                # Stop loss\n",
    "                momentum = -sl_step\n",
    "                exit_time = wrow.name\n",
    "                break\n",
    "            else:\n",
    "                if wrow['High'] > entry_price + tp_step:\n",
    "                    # Take profit\n",
    "                    momentum = tp_step\n",
    "                    exit_time = wrow.name\n",
    "                    break\n",
    "                else:\n",
    "                    # Close at 02:25PM\n",
    "                    momentum = wrow['Close'] - entry_price\n",
    "                    exit_time = wrow.name\n",
    "        data.at[i, 'return'] = momentum\n",
    "        data.at[i, 'exit_time'] = exit_time\n",
    "    elif has_bearish_pattern(row['model']):\n",
    "        # Short signal\n",
    "        data.at[i, 'signal'] = 'short'\n",
    "        current_date = row.name.strftime('%Y-%m-%d ').format()\n",
    "        current_time = row.name\n",
    "        entry_price = row['Close']\n",
    "        data_to_end_day = data[(data.index > current_time) & (data.index < current_date+' 14:30:00')]\n",
    "        min_price = 10000\n",
    "        exit_time = ''\n",
    "        for k, wrow in data_to_end_day.iterrows():\n",
    "            if wrow['High'] > entry_price and wrow['High'] > entry_price + sl_step:\n",
    "                # Stop loss\n",
    "                momentum = -sl_step\n",
    "                exit_time = wrow.name\n",
    "                break\n",
    "            else:\n",
    "                if wrow['Low'] < entry_price - tp_step:\n",
    "                    # Take profit\n",
    "                    momentum = tp_step\n",
    "                    exit_time = wrow.name\n",
    "                    break\n",
    "                else:\n",
    "                    # Close at 02:25PM\n",
    "                    momentum = entry_price - wrow['Close']\n",
    "                    exit_time = wrow.name\n",
    "        data.at[i, 'return'] = momentum\n",
    "        data.at[i, 'exit_time'] = exit_time"
   ]
  },
  {
   "cell_type": "markdown",
   "id": "3e369422-dc4e-4ae5-a63a-4e16fa9835f3",
   "metadata": {},
   "source": [
    "### Return Analytics"
   ]
  },
  {
   "cell_type": "code",
   "execution_count": 5,
   "id": "0ac9972a-3013-498a-9b6e-20d4fcf93a2e",
   "metadata": {},
   "outputs": [],
   "source": [
    "has_return = data[data['return'] != '']\n",
    "#----\n",
    "long_return = has_return[has_return['signal'] == 'long']\n",
    "short_return = has_return[has_return['signal'] == 'short']\n",
    "#----\n",
    "negative_return = has_return[has_return['return'] < 0]\n",
    "positive_return = has_return[has_return['return'] > 0]\n",
    "#----\n",
    "short_negative_return = short_return[short_return['return'] < 0]\n",
    "short_positive_return = short_return[short_return['return'] > 0]\n",
    "long_negative_return = long_return[long_return['return'] < 0]\n",
    "long_positive_return = long_return[long_return['return'] > 0]"
   ]
  },
  {
   "cell_type": "markdown",
   "id": "5c743ad0-21ef-4035-a954-0706e75ce937",
   "metadata": {},
   "source": [
    "## Pattern model & return relationship"
   ]
  },
  {
   "cell_type": "markdown",
   "id": "29c666a0-b7d1-4247-a5c8-bdbb7701ed31",
   "metadata": {},
   "source": [
    "### Group by model"
   ]
  },
  {
   "cell_type": "code",
   "execution_count": 6,
   "id": "4203ed1d-2558-4200-8cda-050e0b46bd4e",
   "metadata": {},
   "outputs": [],
   "source": [
    "has_return_group = has_return[['return']].groupby([has_return.model])"
   ]
  },
  {
   "cell_type": "markdown",
   "id": "3d9ec78f-74f0-4664-b0f3-e7964c33c0ba",
   "metadata": {},
   "source": [
    "### Sum return"
   ]
  },
  {
   "cell_type": "code",
   "execution_count": 7,
   "id": "456c15c0-808c-49d3-baca-ae751e56729d",
   "metadata": {},
   "outputs": [
    {
     "data": {
      "text/plain": [
       "model\n",
       "bullish_separating_line                 -53.5\n",
       "bullish_gap, rising_n                     3.1\n",
       "bearish_gap, falling_three                4.9\n",
       "bearish_gap, falling_n                      6\n",
       "bullish_gap, rising_three                 8.8\n",
       "rising_n                                 63.6\n",
       "falling_three                            83.2\n",
       "bullish_gap, fair_value_rising_gap       83.8\n",
       "bearish_gap                             104.6\n",
       "bearish_gap, fair_value_falling_gap     124.8\n",
       "falling_n                               125.8\n",
       "bullish_gap                             127.2\n",
       "rising_three                            158.1\n",
       "bullish_neck                            260.3\n",
       "bearish_neck                            580.8\n",
       "fair_value_falling_gap                 2188.0\n",
       "fair_value_rising_gap                  2639.7\n",
       "Name: return, dtype: object"
      ]
     },
     "execution_count": 7,
     "metadata": {},
     "output_type": "execute_result"
    }
   ],
   "source": [
    "sum_group = has_return_group.sum()\n",
    "sum_group['return'].sort_values()"
   ]
  },
  {
   "cell_type": "markdown",
   "id": "aed4be77-b345-47d2-8d6d-4543bbf99515",
   "metadata": {},
   "source": [
    "### Mean group"
   ]
  },
  {
   "cell_type": "code",
   "execution_count": 8,
   "id": "22a63889-87d8-4855-afae-00507f7b0c8a",
   "metadata": {},
   "outputs": [
    {
     "data": {
      "text/plain": [
       "model\n",
       "bullish_separating_line               -0.121315\n",
       "bullish_neck                           0.170689\n",
       "falling_three                           0.34958\n",
       "bearish_neck                           0.384127\n",
       "bullish_gap, fair_value_rising_gap     0.462983\n",
       "bearish_gap                            0.484259\n",
       "rising_n                               0.578182\n",
       "bullish_gap                            0.583486\n",
       "fair_value_falling_gap                 0.647721\n",
       "fair_value_rising_gap                  0.724396\n",
       "rising_three                           0.738785\n",
       "bearish_gap, fair_value_falling_gap    0.866667\n",
       "bearish_gap, falling_three                 0.98\n",
       "falling_n                              1.093913\n",
       "bullish_gap, rising_n                      1.55\n",
       "bullish_gap, rising_three              2.933333\n",
       "bearish_gap, falling_n                      3.0\n",
       "Name: return, dtype: object"
      ]
     },
     "execution_count": 8,
     "metadata": {},
     "output_type": "execute_result"
    }
   ],
   "source": [
    "mean_group = has_return_group.mean()\n",
    "mean_group['return'].sort_values()"
   ]
  },
  {
   "cell_type": "markdown",
   "id": "f21033bb-59bb-40c7-8191-ffb0b97b8363",
   "metadata": {},
   "source": [
    "### Count return"
   ]
  },
  {
   "cell_type": "code",
   "execution_count": 9,
   "id": "afe5184c-a707-4831-9781-adf296c57a02",
   "metadata": {},
   "outputs": [],
   "source": [
    "has_positive_return_group = positive_return[['return']].groupby([positive_return.model])"
   ]
  },
  {
   "cell_type": "code",
   "execution_count": 10,
   "id": "9a3e1e7a-aaf0-4206-a1e9-dfd4b821692e",
   "metadata": {},
   "outputs": [
    {
     "data": {
      "text/plain": [
       "model\n",
       "bearish_gap, falling_n                    1\n",
       "bullish_gap, rising_n                     1\n",
       "bearish_gap, falling_three                2\n",
       "bullish_gap, rising_three                 3\n",
       "rising_n                                 41\n",
       "falling_n                                52\n",
       "bearish_gap, fair_value_falling_gap      64\n",
       "bullish_gap, fair_value_rising_gap       73\n",
       "bullish_gap                              81\n",
       "bearish_gap                              83\n",
       "rising_three                             90\n",
       "falling_three                            91\n",
       "bullish_separating_line                 149\n",
       "bullish_neck                            548\n",
       "bearish_neck                            555\n",
       "fair_value_falling_gap                 1333\n",
       "fair_value_rising_gap                  1526\n",
       "Name: return, dtype: int64"
      ]
     },
     "execution_count": 10,
     "metadata": {},
     "output_type": "execute_result"
    }
   ],
   "source": [
    "count_group_positive = has_positive_return_group.count()\n",
    "count_group_positive['return'].sort_values()"
   ]
  },
  {
   "cell_type": "code",
   "execution_count": 11,
   "id": "ad2796e0-53e2-4b24-abc4-17d4815c8378",
   "metadata": {},
   "outputs": [],
   "source": [
    "has_negative_return_group = negative_return[['return']].groupby([negative_return.model])"
   ]
  },
  {
   "cell_type": "code",
   "execution_count": 12,
   "id": "462a9d53-1dba-4663-8df8-eee1146058e7",
   "metadata": {},
   "outputs": [
    {
     "data": {
      "text/plain": [
       "model\n",
       "bearish_gap, falling_n                    1\n",
       "bullish_gap, rising_n                     1\n",
       "bearish_gap, falling_three                3\n",
       "falling_n                                63\n",
       "rising_n                                 69\n",
       "bearish_gap, fair_value_falling_gap      80\n",
       "bullish_gap, fair_value_rising_gap      108\n",
       "rising_three                            123\n",
       "bearish_gap                             131\n",
       "bullish_gap                             137\n",
       "falling_three                           146\n",
       "bullish_separating_line                 290\n",
       "bearish_neck                            946\n",
       "bullish_neck                            972\n",
       "fair_value_falling_gap                 2028\n",
       "fair_value_rising_gap                  2102\n",
       "Name: return, dtype: int64"
      ]
     },
     "execution_count": 12,
     "metadata": {},
     "output_type": "execute_result"
    }
   ],
   "source": [
    "count_group_negative = has_negative_return_group.count()\n",
    "count_group_negative['return'].sort_values()"
   ]
  },
  {
   "cell_type": "code",
   "execution_count": null,
   "id": "4dbe5644-28ea-4a19-8c64-6d31c2755d05",
   "metadata": {},
   "outputs": [],
   "source": []
  }
 ],
 "metadata": {
  "kernelspec": {
   "display_name": "Python 3 (ipykernel)",
   "language": "python",
   "name": "python3"
  },
  "language_info": {
   "codemirror_mode": {
    "name": "ipython",
    "version": 3
   },
   "file_extension": ".py",
   "mimetype": "text/x-python",
   "name": "python",
   "nbconvert_exporter": "python",
   "pygments_lexer": "ipython3",
   "version": "3.11.4"
  }
 },
 "nbformat": 4,
 "nbformat_minor": 5
}
