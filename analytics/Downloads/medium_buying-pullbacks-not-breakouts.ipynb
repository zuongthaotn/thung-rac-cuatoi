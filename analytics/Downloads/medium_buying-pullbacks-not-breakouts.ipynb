{
 "cells": [
  {
   "cell_type": "markdown",
   "id": "3bb3aa97-7914-4430-8beb-3faa67ba7dad",
   "metadata": {},
   "source": [
    "# A Python Guide to Buying Pullbacks, Not Breakouts - Analytics"
   ]
  },
  {
   "cell_type": "markdown",
   "id": "b4a3e1b0-889f-40f5-bfe1-ca5391c2a7ba",
   "metadata": {},
   "source": [
    "### Import Library"
   ]
  },
  {
   "cell_type": "code",
   "execution_count": 1,
   "id": "8ed51685-7682-46ce-9ab2-df7a6f6937c5",
   "metadata": {},
   "outputs": [],
   "source": [
    "import numpy as np\n",
    "import pandas as pd\n",
    "import numpy as np\n",
    "import pandas_ta as ta\n",
    "import seaborn as sns\n",
    "\n",
    "import matplotlib.pyplot as plt\n",
    "plt.rcParams['figure.figsize'] = [12, 6]\n",
    "plt.rcParams['figure.dpi'] = 120\n",
    "import warnings\n",
    "warnings.filterwarnings('ignore')"
   ]
  },
  {
   "cell_type": "markdown",
   "id": "fe85b31e-7106-4979-aba2-03093ade02ca",
   "metadata": {},
   "source": [
    "### Load Price Data"
   ]
  },
  {
   "cell_type": "code",
   "execution_count": 2,
   "id": "0f3bf6f4-aeb4-404e-932a-9afef6ea370a",
   "metadata": {},
   "outputs": [],
   "source": [
    "import os\n",
    "from pathlib import Path\n",
    "notebook_path = os.getcwd()\n",
    "algo_dir = Path(notebook_path).parent.parent\n",
    "csv_file = str(algo_dir) + '/vn-stock-data/VN30ps/VN30F1M_5minutes.csv'\n",
    "is_file = os.path.isfile(csv_file)\n",
    "if is_file:\n",
    "    dataset = pd.read_csv(csv_file, index_col='Date', parse_dates=True)\n",
    "else:\n",
    "    print('remote')\n",
    "    dataset = pd.read_csv(\"https://raw.githubusercontent.com/zuongthaotn/vn-stock-data/main/VN30ps/VN30F1M_5minutes.csv\", index_col='Date', parse_dates=True)"
   ]
  },
  {
   "cell_type": "code",
   "execution_count": 3,
   "id": "eff99ef6-2921-4245-b40d-eb6ecee0bc12",
   "metadata": {},
   "outputs": [],
   "source": [
    "data = dataset.copy()"
   ]
  },
  {
   "cell_type": "code",
   "execution_count": 4,
   "id": "1fd3b0e4-aa77-43b7-b9c3-39a0fbf1e690",
   "metadata": {},
   "outputs": [
    {
     "data": {
      "text/html": [
       "<div>\n",
       "<style scoped>\n",
       "    .dataframe tbody tr th:only-of-type {\n",
       "        vertical-align: middle;\n",
       "    }\n",
       "\n",
       "    .dataframe tbody tr th {\n",
       "        vertical-align: top;\n",
       "    }\n",
       "\n",
       "    .dataframe thead th {\n",
       "        text-align: right;\n",
       "    }\n",
       "</style>\n",
       "<table border=\"1\" class=\"dataframe\">\n",
       "  <thead>\n",
       "    <tr style=\"text-align: right;\">\n",
       "      <th></th>\n",
       "      <th>Open</th>\n",
       "      <th>High</th>\n",
       "      <th>Low</th>\n",
       "      <th>Close</th>\n",
       "      <th>Volume</th>\n",
       "    </tr>\n",
       "    <tr>\n",
       "      <th>Date</th>\n",
       "      <th></th>\n",
       "      <th></th>\n",
       "      <th></th>\n",
       "      <th></th>\n",
       "      <th></th>\n",
       "    </tr>\n",
       "  </thead>\n",
       "  <tbody>\n",
       "    <tr>\n",
       "      <th>2018-08-13 09:00:00</th>\n",
       "      <td>943.5</td>\n",
       "      <td>943.6</td>\n",
       "      <td>942.9</td>\n",
       "      <td>943.1</td>\n",
       "      <td>1812</td>\n",
       "    </tr>\n",
       "    <tr>\n",
       "      <th>2018-08-13 09:05:00</th>\n",
       "      <td>943.1</td>\n",
       "      <td>943.5</td>\n",
       "      <td>942.9</td>\n",
       "      <td>943.3</td>\n",
       "      <td>1323</td>\n",
       "    </tr>\n",
       "    <tr>\n",
       "      <th>2018-08-13 09:10:00</th>\n",
       "      <td>943.2</td>\n",
       "      <td>943.3</td>\n",
       "      <td>942.6</td>\n",
       "      <td>943.1</td>\n",
       "      <td>1207</td>\n",
       "    </tr>\n",
       "    <tr>\n",
       "      <th>2018-08-13 09:15:00</th>\n",
       "      <td>943.1</td>\n",
       "      <td>943.1</td>\n",
       "      <td>942.3</td>\n",
       "      <td>942.6</td>\n",
       "      <td>1196</td>\n",
       "    </tr>\n",
       "    <tr>\n",
       "      <th>2018-08-13 09:20:00</th>\n",
       "      <td>942.6</td>\n",
       "      <td>943.7</td>\n",
       "      <td>942.4</td>\n",
       "      <td>943.7</td>\n",
       "      <td>1765</td>\n",
       "    </tr>\n",
       "    <tr>\n",
       "      <th>...</th>\n",
       "      <td>...</td>\n",
       "      <td>...</td>\n",
       "      <td>...</td>\n",
       "      <td>...</td>\n",
       "      <td>...</td>\n",
       "    </tr>\n",
       "    <tr>\n",
       "      <th>2024-10-25 09:20:00</th>\n",
       "      <td>1338.4</td>\n",
       "      <td>1338.6</td>\n",
       "      <td>1337.4</td>\n",
       "      <td>1337.7</td>\n",
       "      <td>4128</td>\n",
       "    </tr>\n",
       "    <tr>\n",
       "      <th>2024-10-25 09:25:00</th>\n",
       "      <td>1337.7</td>\n",
       "      <td>1338.0</td>\n",
       "      <td>1337.0</td>\n",
       "      <td>1337.7</td>\n",
       "      <td>2796</td>\n",
       "    </tr>\n",
       "    <tr>\n",
       "      <th>2024-10-25 09:30:00</th>\n",
       "      <td>1337.7</td>\n",
       "      <td>1338.0</td>\n",
       "      <td>1335.5</td>\n",
       "      <td>1336.2</td>\n",
       "      <td>4931</td>\n",
       "    </tr>\n",
       "    <tr>\n",
       "      <th>2024-10-25 09:35:00</th>\n",
       "      <td>1336.1</td>\n",
       "      <td>1337.0</td>\n",
       "      <td>1335.8</td>\n",
       "      <td>1336.5</td>\n",
       "      <td>2642</td>\n",
       "    </tr>\n",
       "    <tr>\n",
       "      <th>2024-10-25 09:40:00</th>\n",
       "      <td>1336.4</td>\n",
       "      <td>1336.5</td>\n",
       "      <td>1335.3</td>\n",
       "      <td>1335.8</td>\n",
       "      <td>3174</td>\n",
       "    </tr>\n",
       "  </tbody>\n",
       "</table>\n",
       "<p>78823 rows × 5 columns</p>\n",
       "</div>"
      ],
      "text/plain": [
       "                       Open    High     Low   Close  Volume\n",
       "Date                                                       \n",
       "2018-08-13 09:00:00   943.5   943.6   942.9   943.1    1812\n",
       "2018-08-13 09:05:00   943.1   943.5   942.9   943.3    1323\n",
       "2018-08-13 09:10:00   943.2   943.3   942.6   943.1    1207\n",
       "2018-08-13 09:15:00   943.1   943.1   942.3   942.6    1196\n",
       "2018-08-13 09:20:00   942.6   943.7   942.4   943.7    1765\n",
       "...                     ...     ...     ...     ...     ...\n",
       "2024-10-25 09:20:00  1338.4  1338.6  1337.4  1337.7    4128\n",
       "2024-10-25 09:25:00  1337.7  1338.0  1337.0  1337.7    2796\n",
       "2024-10-25 09:30:00  1337.7  1338.0  1335.5  1336.2    4931\n",
       "2024-10-25 09:35:00  1336.1  1337.0  1335.8  1336.5    2642\n",
       "2024-10-25 09:40:00  1336.4  1336.5  1335.3  1335.8    3174\n",
       "\n",
       "[78823 rows x 5 columns]"
      ]
     },
     "execution_count": 4,
     "metadata": {},
     "output_type": "execute_result"
    }
   ],
   "source": [
    "data"
   ]
  },
  {
   "cell_type": "code",
   "execution_count": 5,
   "id": "db7f3dbc-74bb-4c9b-a4b8-144d2171f953",
   "metadata": {},
   "outputs": [],
   "source": [
    "short_term_ma_periods = [10, 11, 12, 13, 14, 15]\n",
    "best_return = 0\n",
    "best_short_ma = None\n",
    "\n",
    "for short_ma_period in short_term_ma_periods:\n",
    "    # Calculate the short-term and long-term moving averages\n",
    "    data['short_ma'] = data['Close'].rolling(window=short_ma_period).mean()\n",
    "    data['long_ma'] = data['Close'].rolling(window=200).mean()\n",
    "\n",
    "    # Generate trading signals\n",
    "    data['signal'] = 0\n",
    "    data.loc[(data['Close'] < data['short_ma']) & (data['Close'] > data['long_ma']), 'signal'] = 1\n",
    "    data.loc[data['Close'] > data['short_ma'], 'signal'] = -1\n",
    "\n",
    "    # Backtest the strategy\n",
    "    data['position'] = data['signal'].shift()\n",
    "    data = data.dropna()\n",
    "\n",
    "    # Calculate returns\n",
    "    data['return'] = data['position'] * data['Close'].pct_change()\n",
    "\n",
    "    # Calculate strategy metrics\n",
    "    average_return_per_trade = data['return'].mean()\n",
    "    holding_period_days = data['position'].abs().sum()\n",
    "    sharpe_ratio = (data['return'].mean() / data['return'].std()) * (252 ** 0.5)  # Assuming 252 trading days in a year\n",
    "\n",
    "    # Update best short-term moving average if the return is higher\n",
    "    if average_return_per_trade > best_return:\n",
    "        best_return = average_return_per_trade\n",
    "        best_short_ma = short_ma_period"
   ]
  },
  {
   "cell_type": "code",
   "execution_count": 6,
   "id": "9b993a40-5666-4795-baf1-fdb83ab9c911",
   "metadata": {},
   "outputs": [
    {
     "name": "stdout",
     "output_type": "stream",
     "text": [
      "Optimal Short-Term Moving Average: None\n",
      "Average Return per Trade: 0\n",
      "Holding Period (in days): 56981.0\n",
      "Sharpe Ratio: -0.3107909410623742\n"
     ]
    }
   ],
   "source": [
    "# Print the optimal short-term moving average and its metrics\n",
    "print(\"Optimal Short-Term Moving Average:\", best_short_ma)\n",
    "print(\"Average Return per Trade:\", best_return)\n",
    "print(\"Holding Period (in days):\", holding_period_days)\n",
    "print(\"Sharpe Ratio:\", sharpe_ratio)"
   ]
  }
 ],
 "metadata": {
  "kernelspec": {
   "display_name": "Python 3 (ipykernel)",
   "language": "python",
   "name": "python3"
  },
  "language_info": {
   "codemirror_mode": {
    "name": "ipython",
    "version": 3
   },
   "file_extension": ".py",
   "mimetype": "text/x-python",
   "name": "python",
   "nbconvert_exporter": "python",
   "pygments_lexer": "ipython3",
   "version": "3.11.4"
  }
 },
 "nbformat": 4,
 "nbformat_minor": 5
}
