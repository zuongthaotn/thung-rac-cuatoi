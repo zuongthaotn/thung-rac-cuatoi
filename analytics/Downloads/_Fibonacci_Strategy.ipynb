{
 "cells": [
  {
   "cell_type": "markdown",
   "metadata": {
    "id": "MrYuJcUHShm8"
   },
   "source": [
    "# Fibonacci Retracement Strategy"
   ]
  },
  {
   "cell_type": "markdown",
   "metadata": {
    "id": "g5a0hGJRShm_"
   },
   "source": [
    "### Load the data"
   ]
  },
  {
   "cell_type": "code",
   "execution_count": 40,
   "metadata": {
    "id": "enqF75gOShm_"
   },
   "outputs": [],
   "source": [
    "import numpy as np\n",
    "import pandas as pd\n",
    "import numpy as np\n",
    "import pandas_ta as ta\n",
    "import seaborn as sns\n",
    "\n",
    "import matplotlib.pyplot as plt\n",
    "plt.rcParams['figure.figsize'] = [12, 6]\n",
    "plt.rcParams['figure.dpi'] = 120\n",
    "import warnings\n",
    "warnings.filterwarnings('ignore')"
   ]
  },
  {
   "cell_type": "code",
   "execution_count": 41,
   "metadata": {},
   "outputs": [],
   "source": [
    "import os\n",
    "from pathlib import Path\n",
    "notebook_path = os.getcwd()\n",
    "algo_dir = Path(notebook_path).parent.parent\n",
    "csv_file = str(algo_dir) + '/vn-stock-data/VN30ps/VN30F1M_5minutes.csv'\n",
    "is_file = os.path.isfile(csv_file)\n",
    "if is_file:\n",
    "    dataset = pd.read_csv(csv_file, index_col='Date', parse_dates=True)\n",
    "else:\n",
    "    print('remote')\n",
    "    dataset = pd.read_csv(\"https://raw.githubusercontent.com/zuongthaotn/vn-stock-data/main/VN30ps/VN30F1M_5minutes.csv\", index_col='Date', parse_dates=True)"
   ]
  },
  {
   "cell_type": "code",
   "execution_count": 42,
   "metadata": {},
   "outputs": [],
   "source": [
    "df = dataset.copy()"
   ]
  },
  {
   "cell_type": "code",
   "execution_count": 43,
   "metadata": {},
   "outputs": [
    {
     "data": {
      "text/html": [
       "<div>\n",
       "<style scoped>\n",
       "    .dataframe tbody tr th:only-of-type {\n",
       "        vertical-align: middle;\n",
       "    }\n",
       "\n",
       "    .dataframe tbody tr th {\n",
       "        vertical-align: top;\n",
       "    }\n",
       "\n",
       "    .dataframe thead th {\n",
       "        text-align: right;\n",
       "    }\n",
       "</style>\n",
       "<table border=\"1\" class=\"dataframe\">\n",
       "  <thead>\n",
       "    <tr style=\"text-align: right;\">\n",
       "      <th></th>\n",
       "      <th>Open</th>\n",
       "      <th>High</th>\n",
       "      <th>Low</th>\n",
       "      <th>Close</th>\n",
       "      <th>Volume</th>\n",
       "    </tr>\n",
       "    <tr>\n",
       "      <th>Date</th>\n",
       "      <th></th>\n",
       "      <th></th>\n",
       "      <th></th>\n",
       "      <th></th>\n",
       "      <th></th>\n",
       "    </tr>\n",
       "  </thead>\n",
       "  <tbody>\n",
       "    <tr>\n",
       "      <th>2018-08-13 09:00:00</th>\n",
       "      <td>943.5</td>\n",
       "      <td>943.6</td>\n",
       "      <td>942.9</td>\n",
       "      <td>943.1</td>\n",
       "      <td>1812</td>\n",
       "    </tr>\n",
       "    <tr>\n",
       "      <th>2018-08-13 09:05:00</th>\n",
       "      <td>943.1</td>\n",
       "      <td>943.5</td>\n",
       "      <td>942.9</td>\n",
       "      <td>943.3</td>\n",
       "      <td>1323</td>\n",
       "    </tr>\n",
       "    <tr>\n",
       "      <th>2018-08-13 09:10:00</th>\n",
       "      <td>943.2</td>\n",
       "      <td>943.3</td>\n",
       "      <td>942.6</td>\n",
       "      <td>943.1</td>\n",
       "      <td>1207</td>\n",
       "    </tr>\n",
       "    <tr>\n",
       "      <th>2018-08-13 09:15:00</th>\n",
       "      <td>943.1</td>\n",
       "      <td>943.1</td>\n",
       "      <td>942.3</td>\n",
       "      <td>942.6</td>\n",
       "      <td>1196</td>\n",
       "    </tr>\n",
       "    <tr>\n",
       "      <th>2018-08-13 09:20:00</th>\n",
       "      <td>942.6</td>\n",
       "      <td>943.7</td>\n",
       "      <td>942.4</td>\n",
       "      <td>943.7</td>\n",
       "      <td>1765</td>\n",
       "    </tr>\n",
       "    <tr>\n",
       "      <th>...</th>\n",
       "      <td>...</td>\n",
       "      <td>...</td>\n",
       "      <td>...</td>\n",
       "      <td>...</td>\n",
       "      <td>...</td>\n",
       "    </tr>\n",
       "    <tr>\n",
       "      <th>2024-10-25 09:20:00</th>\n",
       "      <td>1338.4</td>\n",
       "      <td>1338.6</td>\n",
       "      <td>1337.4</td>\n",
       "      <td>1337.7</td>\n",
       "      <td>4128</td>\n",
       "    </tr>\n",
       "    <tr>\n",
       "      <th>2024-10-25 09:25:00</th>\n",
       "      <td>1337.7</td>\n",
       "      <td>1338.0</td>\n",
       "      <td>1337.0</td>\n",
       "      <td>1337.7</td>\n",
       "      <td>2796</td>\n",
       "    </tr>\n",
       "    <tr>\n",
       "      <th>2024-10-25 09:30:00</th>\n",
       "      <td>1337.7</td>\n",
       "      <td>1338.0</td>\n",
       "      <td>1335.5</td>\n",
       "      <td>1336.2</td>\n",
       "      <td>4931</td>\n",
       "    </tr>\n",
       "    <tr>\n",
       "      <th>2024-10-25 09:35:00</th>\n",
       "      <td>1336.1</td>\n",
       "      <td>1337.0</td>\n",
       "      <td>1335.8</td>\n",
       "      <td>1336.5</td>\n",
       "      <td>2642</td>\n",
       "    </tr>\n",
       "    <tr>\n",
       "      <th>2024-10-25 09:40:00</th>\n",
       "      <td>1336.4</td>\n",
       "      <td>1336.5</td>\n",
       "      <td>1335.3</td>\n",
       "      <td>1335.8</td>\n",
       "      <td>3174</td>\n",
       "    </tr>\n",
       "  </tbody>\n",
       "</table>\n",
       "<p>78823 rows × 5 columns</p>\n",
       "</div>"
      ],
      "text/plain": [
       "                       Open    High     Low   Close  Volume\n",
       "Date                                                       \n",
       "2018-08-13 09:00:00   943.5   943.6   942.9   943.1    1812\n",
       "2018-08-13 09:05:00   943.1   943.5   942.9   943.3    1323\n",
       "2018-08-13 09:10:00   943.2   943.3   942.6   943.1    1207\n",
       "2018-08-13 09:15:00   943.1   943.1   942.3   942.6    1196\n",
       "2018-08-13 09:20:00   942.6   943.7   942.4   943.7    1765\n",
       "...                     ...     ...     ...     ...     ...\n",
       "2024-10-25 09:20:00  1338.4  1338.6  1337.4  1337.7    4128\n",
       "2024-10-25 09:25:00  1337.7  1338.0  1337.0  1337.7    2796\n",
       "2024-10-25 09:30:00  1337.7  1338.0  1335.5  1336.2    4931\n",
       "2024-10-25 09:35:00  1336.1  1337.0  1335.8  1336.5    2642\n",
       "2024-10-25 09:40:00  1336.4  1336.5  1335.3  1335.8    3174\n",
       "\n",
       "[78823 rows x 5 columns]"
      ]
     },
     "execution_count": 43,
     "metadata": {},
     "output_type": "execute_result"
    }
   ],
   "source": [
    "df"
   ]
  },
  {
   "cell_type": "code",
   "execution_count": 44,
   "metadata": {},
   "outputs": [],
   "source": [
    "df.columns = [\"open\", \"high\", \"low\", \"close\", \"volume\"]"
   ]
  },
  {
   "cell_type": "code",
   "execution_count": 45,
   "metadata": {},
   "outputs": [],
   "source": [
    "df = df.resample('H').agg({\n",
    "        'open': 'first',\n",
    "        'close': 'last',\n",
    "        'high': 'max',\n",
    "        'low': 'min',\n",
    "        'volume': 'sum'\n",
    "    })\n",
    "df.dropna(subset=['close'], inplace=True)"
   ]
  },
  {
   "cell_type": "code",
   "execution_count": 46,
   "metadata": {},
   "outputs": [],
   "source": [
    "#Check if NA values are in data\n",
    "df=df[df['volume']!=0]\n",
    "df.reset_index(drop=True, inplace=True)\n",
    "df.isna().sum()\n",
    "df['RSI'] = ta.rsi(df.close, length=12)\n",
    "df['EMA'] = ta.ema(df.close, length=150)\n",
    "df.tail()\n",
    "\n",
    "df=df[0:2000]"
   ]
  },
  {
   "cell_type": "markdown",
   "metadata": {
    "id": "fcH_037iShnB"
   },
   "source": [
    "### Trend detection"
   ]
  },
  {
   "cell_type": "code",
   "execution_count": 47,
   "metadata": {
    "id": "eNRYWj0bShnB"
   },
   "outputs": [],
   "source": [
    "EMAsignal = [0]*len(df)\n",
    "backcandles = 15\n",
    "\n",
    "for row in range(backcandles, len(df)):\n",
    "    upt = 1\n",
    "    dnt = 1\n",
    "    for i in range(row-backcandles, row+1):\n",
    "        if max(df.open[i], df.close[i])>=df.EMA[i]:\n",
    "            dnt=0\n",
    "        if min(df.open[i], df.close[i])<=df.EMA[i]:\n",
    "            upt=0\n",
    "    if upt==1 and dnt==1:\n",
    "        EMAsignal[row]=3\n",
    "    elif upt==1:\n",
    "        EMAsignal[row]=2\n",
    "    elif dnt==1:\n",
    "        EMAsignal[row]=1\n",
    "\n",
    "df['EMASignal'] = EMAsignal"
   ]
  },
  {
   "cell_type": "code",
   "execution_count": 48,
   "metadata": {
    "id": "-N2Y3hgdShnC"
   },
   "outputs": [],
   "source": [
    "def generate_signal(df,l,backcandles, gap, zone_threshold, price_diff_threshold):\n",
    "    max_price = df.high[l-backcandles:l-gap].max()\n",
    "    min_price = df.low[l-backcandles:l-gap].min()\n",
    "    index_max = df.high[l-backcandles:l-gap].idxmax()\n",
    "    index_min = df.low[l-backcandles:l-gap].idxmin()\n",
    "    price_diff = max_price - min_price\n",
    "\n",
    "    if (df.EMASignal[l] == 2\n",
    "        and (index_min < index_max)\n",
    "        and price_diff>price_diff_threshold):\n",
    "        l1 = max_price - 0.62 * price_diff # position entry 0.62\n",
    "        l2 = max_price - 0.78 * price_diff # SL 0.78\n",
    "        l3 = max_price - 0. * price_diff # TP\n",
    "        if abs(df.close[l]-l1) < zone_threshold and df.high[l-gap:l].min()>l1:\n",
    "            return (2, l2, l3, index_min, index_max)\n",
    "        else:\n",
    "            return (0,0,0,0,0)\n",
    "\n",
    "    elif (df.EMASignal[l] == 1\n",
    "          and (index_min > index_max)\n",
    "          and price_diff>price_diff_threshold):\n",
    "        l1 = min_price + 0.62 * price_diff # position entry 0.62\n",
    "        l2 = min_price + 0.78 * price_diff # SL 0.78\n",
    "        l3 = min_price + 0. * price_diff # TP\n",
    "        if abs(df.close[l]-l1) < zone_threshold and df.low[l-gap:l].max()<l1:\n",
    "            return (1, l2, l3, index_min, index_max)\n",
    "        else:\n",
    "            return (0,0,0,0,0)\n",
    "\n",
    "    else:\n",
    "        return (0,0,0,0,0)\n",
    "\n",
    "\n",
    "gap_candles = 5\n",
    "backcandles = 40\n",
    "signal = [0 for i in range(len(df))]\n",
    "TP = [0 for i in range(len(df))]\n",
    "SL = [0 for i in range(len(df))]\n",
    "MinSwing = [0 for i in range(len(df))]\n",
    "MaxSwing = [0 for i in range(len(df))]\n",
    "\n",
    "for row in range(backcandles, len(df)):\n",
    "    gen_sig = generate_signal(df, row, backcandles=backcandles, gap=gap_candles, zone_threshold=0.001, price_diff_threshold=0.01)\n",
    "    signal[row] = gen_sig[0]\n",
    "    SL[row] = gen_sig[1]\n",
    "    TP[row] = gen_sig[2]\n",
    "    MinSwing[row] = gen_sig[3]\n",
    "    MaxSwing[row] = gen_sig[4]\n",
    "\n",
    "df['signal'] = signal\n",
    "df['SL'] = SL\n",
    "df['TP'] = TP\n",
    "df['MinSwing'] = MinSwing\n",
    "df['MaxSwing'] = MaxSwing\n"
   ]
  },
  {
   "cell_type": "code",
   "execution_count": 49,
   "metadata": {
    "id": "xAZhTu6GShnC",
    "outputId": "378b8689-5316-439f-ab38-2884cc3100b7"
   },
   "outputs": [
    {
     "data": {
      "text/html": [
       "<div>\n",
       "<style scoped>\n",
       "    .dataframe tbody tr th:only-of-type {\n",
       "        vertical-align: middle;\n",
       "    }\n",
       "\n",
       "    .dataframe tbody tr th {\n",
       "        vertical-align: top;\n",
       "    }\n",
       "\n",
       "    .dataframe thead th {\n",
       "        text-align: right;\n",
       "    }\n",
       "</style>\n",
       "<table border=\"1\" class=\"dataframe\">\n",
       "  <thead>\n",
       "    <tr style=\"text-align: right;\">\n",
       "      <th></th>\n",
       "      <th>open</th>\n",
       "      <th>close</th>\n",
       "      <th>high</th>\n",
       "      <th>low</th>\n",
       "      <th>volume</th>\n",
       "      <th>RSI</th>\n",
       "      <th>EMA</th>\n",
       "      <th>EMASignal</th>\n",
       "      <th>signal</th>\n",
       "      <th>SL</th>\n",
       "      <th>TP</th>\n",
       "      <th>MinSwing</th>\n",
       "      <th>MaxSwing</th>\n",
       "    </tr>\n",
       "  </thead>\n",
       "  <tbody>\n",
       "  </tbody>\n",
       "</table>\n",
       "</div>"
      ],
      "text/plain": [
       "Empty DataFrame\n",
       "Columns: [open, close, high, low, volume, RSI, EMA, EMASignal, signal, SL, TP, MinSwing, MaxSwing]\n",
       "Index: []"
      ]
     },
     "execution_count": 49,
     "metadata": {},
     "output_type": "execute_result"
    }
   ],
   "source": [
    "df[df.signal !=0][:10]\n",
    "#df.head(50)"
   ]
  },
  {
   "cell_type": "code",
   "execution_count": 50,
   "metadata": {
    "id": "kasLpIofShnD"
   },
   "outputs": [],
   "source": [
    "import numpy as np\n",
    "def pointpos(x):\n",
    "    if x['signal']==1:\n",
    "        return x['high']+1e-4\n",
    "    elif x['signal']==2:\n",
    "        return x['low']-1e-4\n",
    "    else:\n",
    "        return np.nan\n",
    "\n",
    "df['pointpos'] = df.apply(lambda row: pointpos(row), axis=1)"
   ]
  },
  {
   "cell_type": "code",
   "execution_count": 51,
   "metadata": {
    "id": "t5UH9EePShnE",
    "outputId": "221ba7b6-512d-4061-b606-f8046715cdbf"
   },
   "outputs": [
    {
     "data": {
      "application/vnd.plotly.v1+json": {
       "config": {
        "plotlyServerURL": "https://plot.ly"
       },
       "data": [
        {
         "close": [
          981.2,
          982.5,
          982.8,
          982.2,
          980.6,
          981.5,
          983.7,
          984.1,
          988,
          981,
          984.5,
          981.8,
          982.9,
          985.7,
          985.8,
          988.2,
          987.4,
          989.7,
          987,
          987.4,
          989.8,
          989.7,
          989.7,
          989.5,
          984.9,
          985.3,
          986.1,
          987.1,
          985.5,
          984,
          985.7,
          985.1,
          985,
          983.6,
          986.5,
          987.7,
          987.8,
          988.5,
          987.1,
          992,
          990.2,
          990.3,
          988.2,
          987.1,
          982.6,
          977.4,
          977,
          978.7,
          973.6,
          973.2,
          974.7,
          973.4,
          973.4,
          972.3,
          973.5,
          973.2,
          973,
          972.7,
          970.9,
          971.6,
          938.9,
          928.4,
          928.8,
          926.3,
          920.2,
          916.7,
          921.2,
          921.7,
          938.5,
          944,
          934,
          928.3,
          929,
          926,
          919,
          929.3,
          927,
          929.9,
          935.1,
          935.1,
          950,
          948.3,
          947.3,
          945,
          945.5,
          939.3,
          939,
          938.5,
          938.5,
          938.2,
          936.1,
          935.1,
          935.5,
          926.7,
          921.5,
          912.8,
          905.9,
          906.5,
          894,
          901,
          905.5,
          907.9,
          901,
          897.4,
          885,
          866.5,
          871.6,
          876.5,
          879.9,
          887.1,
          884.9,
          882.7,
          873,
          883.5,
          870,
          875.7,
          872.7,
          877.5,
          875.9,
          878,
          879.6,
          879.9,
          878.1,
          877,
          876,
          883.3,
          883.4,
          888,
          893.5,
          904,
          899.9,
          895,
          892.9,
          891.3,
          884,
          893.5,
          898,
          892.3,
          905.5,
          906.5,
          894.9,
          892.8,
          891.5,
          895.5,
          899,
          901.9,
          899.6,
          903.9,
          903.1,
          894,
          894.4,
          897.5,
          898.5,
          889.9,
          894.8,
          904.5,
          902.9,
          904.3,
          897.5,
          895.5,
          892,
          887.5,
          887.1,
          884,
          880,
          877.6,
          881,
          880.7,
          879.9,
          885,
          870.9,
          874.2,
          873.5,
          870.3,
          872.8,
          873.8,
          874.8,
          871.5,
          868.2,
          871,
          870.5,
          869.7,
          870.6,
          867.6,
          864.4,
          869.5,
          869.3,
          872.1,
          870,
          870,
          873.2,
          873.7,
          874.6,
          875.7,
          881,
          881,
          878.2,
          879,
          882,
          881.3
         ],
         "high": [
          982.2,
          982.9,
          983.9,
          983.4,
          982.8,
          981.6,
          983.8,
          985.4,
          988.3,
          988.2,
          984.9,
          985.1,
          983.6,
          987.3,
          986.5,
          989.3,
          989.5,
          990.4,
          990.2,
          988.4,
          989.8,
          990.3,
          989.8,
          991.2,
          989.5,
          985.7,
          986.5,
          988.4,
          988.2,
          985.5,
          986.2,
          986.5,
          985.7,
          987.2,
          986.5,
          988.1,
          988.8,
          988.5,
          988.3,
          992,
          990.6,
          990.8,
          990.4,
          988.7,
          987.3,
          979.5,
          977.6,
          979.1,
          979.4,
          974.4,
          975.4,
          976.3,
          974.2,
          974.9,
          974,
          973.9,
          973.5,
          973.4,
          973.6,
          972.3,
          959,
          939.5,
          930.4,
          935.3,
          929.3,
          918.7,
          922,
          923.7,
          939.4,
          944,
          942,
          935.4,
          932.5,
          928.7,
          931,
          930,
          931.3,
          929.9,
          935.3,
          937.5,
          953,
          950.8,
          948.6,
          947.4,
          948.6,
          941.4,
          941.8,
          939.4,
          940.2,
          939.2,
          937.1,
          936.3,
          937,
          936.9,
          928.2,
          914.3,
          914.5,
          908.5,
          905.9,
          904.4,
          910.6,
          910.3,
          908,
          899.4,
          899,
          867,
          871.6,
          877,
          885.4,
          887.1,
          894,
          884.8,
          882.4,
          888.6,
          887.9,
          880,
          880.5,
          878.9,
          876,
          878.4,
          880,
          881.4,
          880,
          881.2,
          878.4,
          884.6,
          884.2,
          888.3,
          894,
          904,
          904.9,
          900.5,
          895.3,
          897.6,
          892.4,
          896.4,
          899.4,
          899.4,
          909.9,
          910,
          898.2,
          895.3,
          893.1,
          895.5,
          903.8,
          906.3,
          903.8,
          905.1,
          905.6,
          902.9,
          897.8,
          897.6,
          899.3,
          894.8,
          894.8,
          906.6,
          905.2,
          904.3,
          904.6,
          899,
          893.8,
          892.3,
          889.6,
          889.6,
          884.5,
          879.2,
          881.5,
          881.3,
          880.6,
          887.3,
          871.3,
          874.6,
          874.5,
          878,
          874.5,
          874.4,
          875.7,
          875,
          871.7,
          871,
          871.8,
          871.4,
          871.4,
          873.2,
          868.3,
          870.9,
          870.1,
          872.8,
          874,
          871.5,
          874.2,
          874.1,
          875.4,
          876.9,
          881,
          881,
          880.9,
          879.7,
          882.9,
          883.6
         ],
         "low": [
          980.3,
          981,
          982.5,
          979.6,
          979.5,
          980.1,
          981,
          983.6,
          983.9,
          981,
          982.6,
          981.4,
          981.7,
          981,
          982.7,
          987.2,
          987,
          987.4,
          986.3,
          986.7,
          988.3,
          988.8,
          989,
          988.2,
          984.9,
          984.1,
          984.2,
          985.7,
          984.7,
          981.2,
          984.5,
          984.6,
          984.6,
          983.6,
          982.8,
          986.9,
          987.3,
          987.5,
          986.5,
          986.9,
          989.6,
          989.8,
          988.1,
          985.3,
          982.5,
          976.4,
          975.4,
          977,
          973.3,
          972.2,
          974.2,
          973.2,
          972.2,
          972.3,
          970.2,
          972.8,
          971.8,
          972.4,
          970.3,
          970.2,
          937.3,
          923.3,
          926,
          923.5,
          920.2,
          903,
          913,
          919.4,
          921.7,
          932.4,
          933.6,
          927.3,
          926.9,
          924.1,
          919,
          924.7,
          927,
          926.8,
          928.7,
          932.9,
          948.8,
          947.8,
          946.2,
          942.3,
          944.7,
          938.5,
          938.8,
          936.8,
          936.6,
          936.5,
          935.3,
          933,
          935.1,
          925.5,
          920.6,
          911.8,
          905.9,
          905.3,
          891.1,
          893.8,
          904.5,
          905.5,
          899,
          889,
          885,
          856.3,
          862.4,
          868,
          870.6,
          878,
          884,
          876.2,
          872.3,
          873.5,
          870,
          870.8,
          872.6,
          873,
          869,
          870.5,
          873.6,
          878.6,
          876.8,
          876.1,
          873,
          883.3,
          882.7,
          883.2,
          889.6,
          892.6,
          898.6,
          893.5,
          891.7,
          889.1,
          877.5,
          891.5,
          892.8,
          891.5,
          899.8,
          903.2,
          894,
          891.5,
          889.8,
          889.7,
          895.8,
          901.5,
          899.2,
          900.2,
          899.1,
          894,
          893.5,
          893.9,
          897.4,
          888.5,
          886.7,
          903.9,
          902.2,
          902.4,
          897.5,
          894.6,
          890.6,
          886.5,
          886.7,
          883.3,
          880,
          876.3,
          876.7,
          878.1,
          875.3,
          880,
          867,
          869.9,
          872.8,
          869.8,
          870.7,
          870.3,
          873,
          871.3,
          867.5,
          864.9,
          869.4,
          868,
          869.6,
          867,
          862.5,
          868.1,
          867.6,
          869.3,
          870,
          868.8,
          872.6,
          872.5,
          873.7,
          874.1,
          874.4,
          877.3,
          877.8,
          877.8,
          876.5,
          881
         ],
         "open": [
          982.2,
          981.5,
          982.5,
          982.9,
          981.9,
          981.4,
          981.5,
          983.7,
          984.5,
          987.6,
          983,
          984.7,
          981.7,
          982.5,
          985.6,
          987.5,
          988.2,
          987.6,
          989.7,
          987.2,
          989,
          989.8,
          989.7,
          989.6,
          989.5,
          984.6,
          985.3,
          986.1,
          987.2,
          985.4,
          984.5,
          985.7,
          985,
          984.9,
          983.8,
          987.2,
          987.7,
          987.9,
          988,
          987.3,
          990.1,
          990.1,
          990.4,
          988.1,
          987.2,
          979,
          977.4,
          977.1,
          979,
          973.8,
          974.3,
          974.8,
          973.3,
          973.4,
          972.3,
          973.1,
          973.3,
          973.1,
          972.7,
          970.9,
          959,
          938.9,
          928.4,
          928.9,
          926.5,
          910,
          917.1,
          921.7,
          921.7,
          938.5,
          939.5,
          934.1,
          928.3,
          927.8,
          926.5,
          925,
          929.4,
          927,
          930.5,
          935.3,
          952,
          949.9,
          948.3,
          947.4,
          945,
          941,
          939.5,
          939.1,
          938.2,
          938.5,
          935.3,
          936.3,
          935.1,
          935.6,
          927,
          912.5,
          912.8,
          905.7,
          905.9,
          894,
          908.9,
          905.5,
          908,
          899.4,
          897.4,
          861,
          866.3,
          871.6,
          875.3,
          880.1,
          892.5,
          884.8,
          882.4,
          873.5,
          883.9,
          875,
          875.7,
          873.6,
          876,
          875.4,
          875.6,
          879.5,
          879.9,
          878.7,
          877,
          884,
          883.5,
          883.4,
          889.9,
          893.5,
          904.5,
          899.9,
          895.1,
          892.9,
          891,
          893,
          893,
          898,
          899.8,
          905.5,
          896.4,
          894.5,
          892.9,
          890.5,
          896.9,
          905.5,
          902.2,
          900.2,
          905,
          902.9,
          896.9,
          894.7,
          897.5,
          891.6,
          889.5,
          905.6,
          904.5,
          903,
          904.1,
          896.1,
          893.2,
          892.1,
          887.4,
          887,
          884.3,
          878.1,
          877.5,
          880.8,
          880.5,
          880,
          867.7,
          870.9,
          874.1,
          875.4,
          870.7,
          870.3,
          873.8,
          874.9,
          870.2,
          868,
          870,
          870.4,
          869.7,
          871.3,
          867.6,
          868.1,
          869.4,
          869.3,
          873,
          869.9,
          873.1,
          873.3,
          873.8,
          874.7,
          875.7,
          878.8,
          880.9,
          878.2,
          879,
          882.2
         ],
         "type": "candlestick",
         "x": [
          150,
          151,
          152,
          153,
          154,
          155,
          156,
          157,
          158,
          159,
          160,
          161,
          162,
          163,
          164,
          165,
          166,
          167,
          168,
          169,
          170,
          171,
          172,
          173,
          174,
          175,
          176,
          177,
          178,
          179,
          180,
          181,
          182,
          183,
          184,
          185,
          186,
          187,
          188,
          189,
          190,
          191,
          192,
          193,
          194,
          195,
          196,
          197,
          198,
          199,
          200,
          201,
          202,
          203,
          204,
          205,
          206,
          207,
          208,
          209,
          210,
          211,
          212,
          213,
          214,
          215,
          216,
          217,
          218,
          219,
          220,
          221,
          222,
          223,
          224,
          225,
          226,
          227,
          228,
          229,
          230,
          231,
          232,
          233,
          234,
          235,
          236,
          237,
          238,
          239,
          240,
          241,
          242,
          243,
          244,
          245,
          246,
          247,
          248,
          249,
          250,
          251,
          252,
          253,
          254,
          255,
          256,
          257,
          258,
          259,
          260,
          261,
          262,
          263,
          264,
          265,
          266,
          267,
          268,
          269,
          270,
          271,
          272,
          273,
          274,
          275,
          276,
          277,
          278,
          279,
          280,
          281,
          282,
          283,
          284,
          285,
          286,
          287,
          288,
          289,
          290,
          291,
          292,
          293,
          294,
          295,
          296,
          297,
          298,
          299,
          300,
          301,
          302,
          303,
          304,
          305,
          306,
          307,
          308,
          309,
          310,
          311,
          312,
          313,
          314,
          315,
          316,
          317,
          318,
          319,
          320,
          321,
          322,
          323,
          324,
          325,
          326,
          327,
          328,
          329,
          330,
          331,
          332,
          333,
          334,
          335,
          336,
          337,
          338,
          339,
          340,
          341,
          342,
          343,
          344,
          345,
          346,
          347,
          348,
          349
         ]
        },
        {
         "marker": {
          "color": "MediumPurple",
          "size": 8
         },
         "mode": "markers",
         "name": "Signal",
         "type": "scatter",
         "x": [
          150,
          151,
          152,
          153,
          154,
          155,
          156,
          157,
          158,
          159,
          160,
          161,
          162,
          163,
          164,
          165,
          166,
          167,
          168,
          169,
          170,
          171,
          172,
          173,
          174,
          175,
          176,
          177,
          178,
          179,
          180,
          181,
          182,
          183,
          184,
          185,
          186,
          187,
          188,
          189,
          190,
          191,
          192,
          193,
          194,
          195,
          196,
          197,
          198,
          199,
          200,
          201,
          202,
          203,
          204,
          205,
          206,
          207,
          208,
          209,
          210,
          211,
          212,
          213,
          214,
          215,
          216,
          217,
          218,
          219,
          220,
          221,
          222,
          223,
          224,
          225,
          226,
          227,
          228,
          229,
          230,
          231,
          232,
          233,
          234,
          235,
          236,
          237,
          238,
          239,
          240,
          241,
          242,
          243,
          244,
          245,
          246,
          247,
          248,
          249,
          250,
          251,
          252,
          253,
          254,
          255,
          256,
          257,
          258,
          259,
          260,
          261,
          262,
          263,
          264,
          265,
          266,
          267,
          268,
          269,
          270,
          271,
          272,
          273,
          274,
          275,
          276,
          277,
          278,
          279,
          280,
          281,
          282,
          283,
          284,
          285,
          286,
          287,
          288,
          289,
          290,
          291,
          292,
          293,
          294,
          295,
          296,
          297,
          298,
          299,
          300,
          301,
          302,
          303,
          304,
          305,
          306,
          307,
          308,
          309,
          310,
          311,
          312,
          313,
          314,
          315,
          316,
          317,
          318,
          319,
          320,
          321,
          322,
          323,
          324,
          325,
          326,
          327,
          328,
          329,
          330,
          331,
          332,
          333,
          334,
          335,
          336,
          337,
          338,
          339,
          340,
          341,
          342,
          343,
          344,
          345,
          346,
          347,
          348,
          349
         ],
         "y": [
          null,
          null,
          null,
          null,
          null,
          null,
          null,
          null,
          null,
          null,
          null,
          null,
          null,
          null,
          null,
          null,
          null,
          null,
          null,
          null,
          null,
          null,
          null,
          null,
          null,
          null,
          null,
          null,
          null,
          null,
          null,
          null,
          null,
          null,
          null,
          null,
          null,
          null,
          null,
          null,
          null,
          null,
          null,
          null,
          null,
          null,
          null,
          null,
          null,
          null,
          null,
          null,
          null,
          null,
          null,
          null,
          null,
          null,
          null,
          null,
          null,
          null,
          null,
          null,
          null,
          null,
          null,
          null,
          null,
          null,
          null,
          null,
          null,
          null,
          null,
          null,
          null,
          null,
          null,
          null,
          null,
          null,
          null,
          null,
          null,
          null,
          null,
          null,
          null,
          null,
          null,
          null,
          null,
          null,
          null,
          null,
          null,
          null,
          null,
          null,
          null,
          null,
          null,
          null,
          null,
          null,
          null,
          null,
          null,
          null,
          null,
          null,
          null,
          null,
          null,
          null,
          null,
          null,
          null,
          null,
          null,
          null,
          null,
          null,
          null,
          null,
          null,
          null,
          null,
          null,
          null,
          null,
          null,
          null,
          null,
          null,
          null,
          null,
          null,
          null,
          null,
          null,
          null,
          null,
          null,
          null,
          null,
          null,
          null,
          null,
          null,
          null,
          null,
          null,
          null,
          null,
          null,
          null,
          null,
          null,
          null,
          null,
          null,
          null,
          null,
          null,
          null,
          null,
          null,
          null,
          null,
          null,
          null,
          null,
          null,
          null,
          null,
          null,
          null,
          null,
          null,
          null,
          null,
          null,
          null,
          null,
          null,
          null,
          null,
          null,
          null,
          null,
          null,
          null,
          null,
          null,
          null,
          null,
          null,
          null
         ]
        }
       ],
       "layout": {
        "autosize": false,
        "height": 800,
        "paper_bgcolor": "black",
        "plot_bgcolor": "black",
        "template": {
         "data": {
          "bar": [
           {
            "error_x": {
             "color": "#2a3f5f"
            },
            "error_y": {
             "color": "#2a3f5f"
            },
            "marker": {
             "line": {
              "color": "#E5ECF6",
              "width": 0.5
             },
             "pattern": {
              "fillmode": "overlay",
              "size": 10,
              "solidity": 0.2
             }
            },
            "type": "bar"
           }
          ],
          "barpolar": [
           {
            "marker": {
             "line": {
              "color": "#E5ECF6",
              "width": 0.5
             },
             "pattern": {
              "fillmode": "overlay",
              "size": 10,
              "solidity": 0.2
             }
            },
            "type": "barpolar"
           }
          ],
          "carpet": [
           {
            "aaxis": {
             "endlinecolor": "#2a3f5f",
             "gridcolor": "white",
             "linecolor": "white",
             "minorgridcolor": "white",
             "startlinecolor": "#2a3f5f"
            },
            "baxis": {
             "endlinecolor": "#2a3f5f",
             "gridcolor": "white",
             "linecolor": "white",
             "minorgridcolor": "white",
             "startlinecolor": "#2a3f5f"
            },
            "type": "carpet"
           }
          ],
          "choropleth": [
           {
            "colorbar": {
             "outlinewidth": 0,
             "ticks": ""
            },
            "type": "choropleth"
           }
          ],
          "contour": [
           {
            "colorbar": {
             "outlinewidth": 0,
             "ticks": ""
            },
            "colorscale": [
             [
              0,
              "#0d0887"
             ],
             [
              0.1111111111111111,
              "#46039f"
             ],
             [
              0.2222222222222222,
              "#7201a8"
             ],
             [
              0.3333333333333333,
              "#9c179e"
             ],
             [
              0.4444444444444444,
              "#bd3786"
             ],
             [
              0.5555555555555556,
              "#d8576b"
             ],
             [
              0.6666666666666666,
              "#ed7953"
             ],
             [
              0.7777777777777778,
              "#fb9f3a"
             ],
             [
              0.8888888888888888,
              "#fdca26"
             ],
             [
              1,
              "#f0f921"
             ]
            ],
            "type": "contour"
           }
          ],
          "contourcarpet": [
           {
            "colorbar": {
             "outlinewidth": 0,
             "ticks": ""
            },
            "type": "contourcarpet"
           }
          ],
          "heatmap": [
           {
            "colorbar": {
             "outlinewidth": 0,
             "ticks": ""
            },
            "colorscale": [
             [
              0,
              "#0d0887"
             ],
             [
              0.1111111111111111,
              "#46039f"
             ],
             [
              0.2222222222222222,
              "#7201a8"
             ],
             [
              0.3333333333333333,
              "#9c179e"
             ],
             [
              0.4444444444444444,
              "#bd3786"
             ],
             [
              0.5555555555555556,
              "#d8576b"
             ],
             [
              0.6666666666666666,
              "#ed7953"
             ],
             [
              0.7777777777777778,
              "#fb9f3a"
             ],
             [
              0.8888888888888888,
              "#fdca26"
             ],
             [
              1,
              "#f0f921"
             ]
            ],
            "type": "heatmap"
           }
          ],
          "heatmapgl": [
           {
            "colorbar": {
             "outlinewidth": 0,
             "ticks": ""
            },
            "colorscale": [
             [
              0,
              "#0d0887"
             ],
             [
              0.1111111111111111,
              "#46039f"
             ],
             [
              0.2222222222222222,
              "#7201a8"
             ],
             [
              0.3333333333333333,
              "#9c179e"
             ],
             [
              0.4444444444444444,
              "#bd3786"
             ],
             [
              0.5555555555555556,
              "#d8576b"
             ],
             [
              0.6666666666666666,
              "#ed7953"
             ],
             [
              0.7777777777777778,
              "#fb9f3a"
             ],
             [
              0.8888888888888888,
              "#fdca26"
             ],
             [
              1,
              "#f0f921"
             ]
            ],
            "type": "heatmapgl"
           }
          ],
          "histogram": [
           {
            "marker": {
             "pattern": {
              "fillmode": "overlay",
              "size": 10,
              "solidity": 0.2
             }
            },
            "type": "histogram"
           }
          ],
          "histogram2d": [
           {
            "colorbar": {
             "outlinewidth": 0,
             "ticks": ""
            },
            "colorscale": [
             [
              0,
              "#0d0887"
             ],
             [
              0.1111111111111111,
              "#46039f"
             ],
             [
              0.2222222222222222,
              "#7201a8"
             ],
             [
              0.3333333333333333,
              "#9c179e"
             ],
             [
              0.4444444444444444,
              "#bd3786"
             ],
             [
              0.5555555555555556,
              "#d8576b"
             ],
             [
              0.6666666666666666,
              "#ed7953"
             ],
             [
              0.7777777777777778,
              "#fb9f3a"
             ],
             [
              0.8888888888888888,
              "#fdca26"
             ],
             [
              1,
              "#f0f921"
             ]
            ],
            "type": "histogram2d"
           }
          ],
          "histogram2dcontour": [
           {
            "colorbar": {
             "outlinewidth": 0,
             "ticks": ""
            },
            "colorscale": [
             [
              0,
              "#0d0887"
             ],
             [
              0.1111111111111111,
              "#46039f"
             ],
             [
              0.2222222222222222,
              "#7201a8"
             ],
             [
              0.3333333333333333,
              "#9c179e"
             ],
             [
              0.4444444444444444,
              "#bd3786"
             ],
             [
              0.5555555555555556,
              "#d8576b"
             ],
             [
              0.6666666666666666,
              "#ed7953"
             ],
             [
              0.7777777777777778,
              "#fb9f3a"
             ],
             [
              0.8888888888888888,
              "#fdca26"
             ],
             [
              1,
              "#f0f921"
             ]
            ],
            "type": "histogram2dcontour"
           }
          ],
          "mesh3d": [
           {
            "colorbar": {
             "outlinewidth": 0,
             "ticks": ""
            },
            "type": "mesh3d"
           }
          ],
          "parcoords": [
           {
            "line": {
             "colorbar": {
              "outlinewidth": 0,
              "ticks": ""
             }
            },
            "type": "parcoords"
           }
          ],
          "pie": [
           {
            "automargin": true,
            "type": "pie"
           }
          ],
          "scatter": [
           {
            "fillpattern": {
             "fillmode": "overlay",
             "size": 10,
             "solidity": 0.2
            },
            "type": "scatter"
           }
          ],
          "scatter3d": [
           {
            "line": {
             "colorbar": {
              "outlinewidth": 0,
              "ticks": ""
             }
            },
            "marker": {
             "colorbar": {
              "outlinewidth": 0,
              "ticks": ""
             }
            },
            "type": "scatter3d"
           }
          ],
          "scattercarpet": [
           {
            "marker": {
             "colorbar": {
              "outlinewidth": 0,
              "ticks": ""
             }
            },
            "type": "scattercarpet"
           }
          ],
          "scattergeo": [
           {
            "marker": {
             "colorbar": {
              "outlinewidth": 0,
              "ticks": ""
             }
            },
            "type": "scattergeo"
           }
          ],
          "scattergl": [
           {
            "marker": {
             "colorbar": {
              "outlinewidth": 0,
              "ticks": ""
             }
            },
            "type": "scattergl"
           }
          ],
          "scattermapbox": [
           {
            "marker": {
             "colorbar": {
              "outlinewidth": 0,
              "ticks": ""
             }
            },
            "type": "scattermapbox"
           }
          ],
          "scatterpolar": [
           {
            "marker": {
             "colorbar": {
              "outlinewidth": 0,
              "ticks": ""
             }
            },
            "type": "scatterpolar"
           }
          ],
          "scatterpolargl": [
           {
            "marker": {
             "colorbar": {
              "outlinewidth": 0,
              "ticks": ""
             }
            },
            "type": "scatterpolargl"
           }
          ],
          "scatterternary": [
           {
            "marker": {
             "colorbar": {
              "outlinewidth": 0,
              "ticks": ""
             }
            },
            "type": "scatterternary"
           }
          ],
          "surface": [
           {
            "colorbar": {
             "outlinewidth": 0,
             "ticks": ""
            },
            "colorscale": [
             [
              0,
              "#0d0887"
             ],
             [
              0.1111111111111111,
              "#46039f"
             ],
             [
              0.2222222222222222,
              "#7201a8"
             ],
             [
              0.3333333333333333,
              "#9c179e"
             ],
             [
              0.4444444444444444,
              "#bd3786"
             ],
             [
              0.5555555555555556,
              "#d8576b"
             ],
             [
              0.6666666666666666,
              "#ed7953"
             ],
             [
              0.7777777777777778,
              "#fb9f3a"
             ],
             [
              0.8888888888888888,
              "#fdca26"
             ],
             [
              1,
              "#f0f921"
             ]
            ],
            "type": "surface"
           }
          ],
          "table": [
           {
            "cells": {
             "fill": {
              "color": "#EBF0F8"
             },
             "line": {
              "color": "white"
             }
            },
            "header": {
             "fill": {
              "color": "#C8D4E3"
             },
             "line": {
              "color": "white"
             }
            },
            "type": "table"
           }
          ]
         },
         "layout": {
          "annotationdefaults": {
           "arrowcolor": "#2a3f5f",
           "arrowhead": 0,
           "arrowwidth": 1
          },
          "autotypenumbers": "strict",
          "coloraxis": {
           "colorbar": {
            "outlinewidth": 0,
            "ticks": ""
           }
          },
          "colorscale": {
           "diverging": [
            [
             0,
             "#8e0152"
            ],
            [
             0.1,
             "#c51b7d"
            ],
            [
             0.2,
             "#de77ae"
            ],
            [
             0.3,
             "#f1b6da"
            ],
            [
             0.4,
             "#fde0ef"
            ],
            [
             0.5,
             "#f7f7f7"
            ],
            [
             0.6,
             "#e6f5d0"
            ],
            [
             0.7,
             "#b8e186"
            ],
            [
             0.8,
             "#7fbc41"
            ],
            [
             0.9,
             "#4d9221"
            ],
            [
             1,
             "#276419"
            ]
           ],
           "sequential": [
            [
             0,
             "#0d0887"
            ],
            [
             0.1111111111111111,
             "#46039f"
            ],
            [
             0.2222222222222222,
             "#7201a8"
            ],
            [
             0.3333333333333333,
             "#9c179e"
            ],
            [
             0.4444444444444444,
             "#bd3786"
            ],
            [
             0.5555555555555556,
             "#d8576b"
            ],
            [
             0.6666666666666666,
             "#ed7953"
            ],
            [
             0.7777777777777778,
             "#fb9f3a"
            ],
            [
             0.8888888888888888,
             "#fdca26"
            ],
            [
             1,
             "#f0f921"
            ]
           ],
           "sequentialminus": [
            [
             0,
             "#0d0887"
            ],
            [
             0.1111111111111111,
             "#46039f"
            ],
            [
             0.2222222222222222,
             "#7201a8"
            ],
            [
             0.3333333333333333,
             "#9c179e"
            ],
            [
             0.4444444444444444,
             "#bd3786"
            ],
            [
             0.5555555555555556,
             "#d8576b"
            ],
            [
             0.6666666666666666,
             "#ed7953"
            ],
            [
             0.7777777777777778,
             "#fb9f3a"
            ],
            [
             0.8888888888888888,
             "#fdca26"
            ],
            [
             1,
             "#f0f921"
            ]
           ]
          },
          "colorway": [
           "#636efa",
           "#EF553B",
           "#00cc96",
           "#ab63fa",
           "#FFA15A",
           "#19d3f3",
           "#FF6692",
           "#B6E880",
           "#FF97FF",
           "#FECB52"
          ],
          "font": {
           "color": "#2a3f5f"
          },
          "geo": {
           "bgcolor": "white",
           "lakecolor": "white",
           "landcolor": "#E5ECF6",
           "showlakes": true,
           "showland": true,
           "subunitcolor": "white"
          },
          "hoverlabel": {
           "align": "left"
          },
          "hovermode": "closest",
          "mapbox": {
           "style": "light"
          },
          "paper_bgcolor": "white",
          "plot_bgcolor": "#E5ECF6",
          "polar": {
           "angularaxis": {
            "gridcolor": "white",
            "linecolor": "white",
            "ticks": ""
           },
           "bgcolor": "#E5ECF6",
           "radialaxis": {
            "gridcolor": "white",
            "linecolor": "white",
            "ticks": ""
           }
          },
          "scene": {
           "xaxis": {
            "backgroundcolor": "#E5ECF6",
            "gridcolor": "white",
            "gridwidth": 2,
            "linecolor": "white",
            "showbackground": true,
            "ticks": "",
            "zerolinecolor": "white"
           },
           "yaxis": {
            "backgroundcolor": "#E5ECF6",
            "gridcolor": "white",
            "gridwidth": 2,
            "linecolor": "white",
            "showbackground": true,
            "ticks": "",
            "zerolinecolor": "white"
           },
           "zaxis": {
            "backgroundcolor": "#E5ECF6",
            "gridcolor": "white",
            "gridwidth": 2,
            "linecolor": "white",
            "showbackground": true,
            "ticks": "",
            "zerolinecolor": "white"
           }
          },
          "shapedefaults": {
           "line": {
            "color": "#2a3f5f"
           }
          },
          "ternary": {
           "aaxis": {
            "gridcolor": "white",
            "linecolor": "white",
            "ticks": ""
           },
           "baxis": {
            "gridcolor": "white",
            "linecolor": "white",
            "ticks": ""
           },
           "bgcolor": "#E5ECF6",
           "caxis": {
            "gridcolor": "white",
            "linecolor": "white",
            "ticks": ""
           }
          },
          "title": {
           "x": 0.05
          },
          "xaxis": {
           "automargin": true,
           "gridcolor": "white",
           "linecolor": "white",
           "ticks": "",
           "title": {
            "standoff": 15
           },
           "zerolinecolor": "white",
           "zerolinewidth": 2
          },
          "yaxis": {
           "automargin": true,
           "gridcolor": "white",
           "linecolor": "white",
           "ticks": "",
           "title": {
            "standoff": 15
           },
           "zerolinecolor": "white",
           "zerolinewidth": 2
          }
         }
        },
        "width": 1000,
        "xaxis": {
         "autorange": true,
         "gridcolor": "black",
         "range": [
          137.4068150208623,
          361.5931849791377
         ],
         "rangeslider": {
          "autorange": true,
          "range": [
           137.4068150208623,
           361.5931849791377
          ],
          "yaxis": {
           "_template": null,
           "rangemode": "match"
          }
         },
         "type": "linear"
        },
        "yaxis": {
         "autorange": true,
         "gridcolor": "black",
         "range": [
          848.7611111111111,
          999.5388888888889
         ]
        }
       }
      },
      "image/png": "[encoded data removed]",
      "text/html": [
       "<div>                            <div id=\"f8fc961e-a5c2-43cc-90f7-193fcc5151cc\" class=\"plotly-graph-div\" style=\"height:800px; width:1000px;\"></div>            <script type=\"text/javascript\">                require([\"plotly\"], function(Plotly) {                    window.PLOTLYENV=window.PLOTLYENV || {};                                    if (document.getElementById(\"f8fc961e-a5c2-43cc-90f7-193fcc5151cc\")) {                    Plotly.newPlot(                        \"f8fc961e-a5c2-43cc-90f7-193fcc5151cc\",                        [{\"close\":[981.2,982.5,982.8,982.2,980.6,981.5,983.7,984.1,988.0,981.0,984.5,981.8,982.9,985.7,985.8,988.2,987.4,989.7,987.0,987.4,989.8,989.7,989.7,989.5,984.9,985.3,986.1,987.1,985.5,984.0,985.7,985.1,985.0,983.6,986.5,987.7,987.8,988.5,987.1,992.0,990.2,990.3,988.2,987.1,982.6,977.4,977.0,978.7,973.6,973.2,974.7,973.4,973.4,972.3,973.5,973.2,973.0,972.7,970.9,971.6,938.9,928.4,928.8,926.3,920.2,916.7,921.2,921.7,938.5,944.0,934.0,928.3,929.0,926.0,919.0,929.3,927.0,929.9,935.1,935.1,950.0,948.3,947.3,945.0,945.5,939.3,939.0,938.5,938.5,938.2,936.1,935.1,935.5,926.7,921.5,912.8,905.9,906.5,894.0,901.0,905.5,907.9,901.0,897.4,885.0,866.5,871.6,876.5,879.9,887.1,884.9,882.7,873.0,883.5,870.0,875.7,872.7,877.5,875.9,878.0,879.6,879.9,878.1,877.0,876.0,883.3,883.4,888.0,893.5,904.0,899.9,895.0,892.9,891.3,884.0,893.5,898.0,892.3,905.5,906.5,894.9,892.8,891.5,895.5,899.0,901.9,899.6,903.9,903.1,894.0,894.4,897.5,898.5,889.9,894.8,904.5,902.9,904.3,897.5,895.5,892.0,887.5,887.1,884.0,880.0,877.6,881.0,880.7,879.9,885.0,870.9,874.2,873.5,870.3,872.8,873.8,874.8,871.5,868.2,871.0,870.5,869.7,870.6,867.6,864.4,869.5,869.3,872.1,870.0,870.0,873.2,873.7,874.6,875.7,881.0,881.0,878.2,879.0,882.0,881.3],\"high\":[982.2,982.9,983.9,983.4,982.8,981.6,983.8,985.4,988.3,988.2,984.9,985.1,983.6,987.3,986.5,989.3,989.5,990.4,990.2,988.4,989.8,990.3,989.8,991.2,989.5,985.7,986.5,988.4,988.2,985.5,986.2,986.5,985.7,987.2,986.5,988.1,988.8,988.5,988.3,992.0,990.6,990.8,990.4,988.7,987.3,979.5,977.6,979.1,979.4,974.4,975.4,976.3,974.2,974.9,974.0,973.9,973.5,973.4,973.6,972.3,959.0,939.5,930.4,935.3,929.3,918.7,922.0,923.7,939.4,944.0,942.0,935.4,932.5,928.7,931.0,930.0,931.3,929.9,935.3,937.5,953.0,950.8,948.6,947.4,948.6,941.4,941.8,939.4,940.2,939.2,937.1,936.3,937.0,936.9,928.2,914.3,914.5,908.5,905.9,904.4,910.6,910.3,908.0,899.4,899.0,867.0,871.6,877.0,885.4,887.1,894.0,884.8,882.4,888.6,887.9,880.0,880.5,878.9,876.0,878.4,880.0,881.4,880.0,881.2,878.4,884.6,884.2,888.3,894.0,904.0,904.9,900.5,895.3,897.6,892.4,896.4,899.4,899.4,909.9,910.0,898.2,895.3,893.1,895.5,903.8,906.3,903.8,905.1,905.6,902.9,897.8,897.6,899.3,894.8,894.8,906.6,905.2,904.3,904.6,899.0,893.8,892.3,889.6,889.6,884.5,879.2,881.5,881.3,880.6,887.3,871.3,874.6,874.5,878.0,874.5,874.4,875.7,875.0,871.7,871.0,871.8,871.4,871.4,873.2,868.3,870.9,870.1,872.8,874.0,871.5,874.2,874.1,875.4,876.9,881.0,881.0,880.9,879.7,882.9,883.6],\"low\":[980.3,981.0,982.5,979.6,979.5,980.1,981.0,983.6,983.9,981.0,982.6,981.4,981.7,981.0,982.7,987.2,987.0,987.4,986.3,986.7,988.3,988.8,989.0,988.2,984.9,984.1,984.2,985.7,984.7,981.2,984.5,984.6,984.6,983.6,982.8,986.9,987.3,987.5,986.5,986.9,989.6,989.8,988.1,985.3,982.5,976.4,975.4,977.0,973.3,972.2,974.2,973.2,972.2,972.3,970.2,972.8,971.8,972.4,970.3,970.2,937.3,923.3,926.0,923.5,920.2,903.0,913.0,919.4,921.7,932.4,933.6,927.3,926.9,924.1,919.0,924.7,927.0,926.8,928.7,932.9,948.8,947.8,946.2,942.3,944.7,938.5,938.8,936.8,936.6,936.5,935.3,933.0,935.1,925.5,920.6,911.8,905.9,905.3,891.1,893.8,904.5,905.5,899.0,889.0,885.0,856.3,862.4,868.0,870.6,878.0,884.0,876.2,872.3,873.5,870.0,870.8,872.6,873.0,869.0,870.5,873.6,878.6,876.8,876.1,873.0,883.3,882.7,883.2,889.6,892.6,898.6,893.5,891.7,889.1,877.5,891.5,892.8,891.5,899.8,903.2,894.0,891.5,889.8,889.7,895.8,901.5,899.2,900.2,899.1,894.0,893.5,893.9,897.4,888.5,886.7,903.9,902.2,902.4,897.5,894.6,890.6,886.5,886.7,883.3,880.0,876.3,876.7,878.1,875.3,880.0,867.0,869.9,872.8,869.8,870.7,870.3,873.0,871.3,867.5,864.9,869.4,868.0,869.6,867.0,862.5,868.1,867.6,869.3,870.0,868.8,872.6,872.5,873.7,874.1,874.4,877.3,877.8,877.8,876.5,881.0],\"open\":[982.2,981.5,982.5,982.9,981.9,981.4,981.5,983.7,984.5,987.6,983.0,984.7,981.7,982.5,985.6,987.5,988.2,987.6,989.7,987.2,989.0,989.8,989.7,989.6,989.5,984.6,985.3,986.1,987.2,985.4,984.5,985.7,985.0,984.9,983.8,987.2,987.7,987.9,988.0,987.3,990.1,990.1,990.4,988.1,987.2,979.0,977.4,977.1,979.0,973.8,974.3,974.8,973.3,973.4,972.3,973.1,973.3,973.1,972.7,970.9,959.0,938.9,928.4,928.9,926.5,910.0,917.1,921.7,921.7,938.5,939.5,934.1,928.3,927.8,926.5,925.0,929.4,927.0,930.5,935.3,952.0,949.9,948.3,947.4,945.0,941.0,939.5,939.1,938.2,938.5,935.3,936.3,935.1,935.6,927.0,912.5,912.8,905.7,905.9,894.0,908.9,905.5,908.0,899.4,897.4,861.0,866.3,871.6,875.3,880.1,892.5,884.8,882.4,873.5,883.9,875.0,875.7,873.6,876.0,875.4,875.6,879.5,879.9,878.7,877.0,884.0,883.5,883.4,889.9,893.5,904.5,899.9,895.1,892.9,891.0,893.0,893.0,898.0,899.8,905.5,896.4,894.5,892.9,890.5,896.9,905.5,902.2,900.2,905.0,902.9,896.9,894.7,897.5,891.6,889.5,905.6,904.5,903.0,904.1,896.1,893.2,892.1,887.4,887.0,884.3,878.1,877.5,880.8,880.5,880.0,867.7,870.9,874.1,875.4,870.7,870.3,873.8,874.9,870.2,868.0,870.0,870.4,869.7,871.3,867.6,868.1,869.4,869.3,873.0,869.9,873.1,873.3,873.8,874.7,875.7,878.8,880.9,878.2,879.0,882.2],\"x\":[150,151,152,153,154,155,156,157,158,159,160,161,162,163,164,165,166,167,168,169,170,171,172,173,174,175,176,177,178,179,180,181,182,183,184,185,186,187,188,189,190,191,192,193,194,195,196,197,198,199,200,201,202,203,204,205,206,207,208,209,210,211,212,213,214,215,216,217,218,219,220,221,222,223,224,225,226,227,228,229,230,231,232,233,234,235,236,237,238,239,240,241,242,243,244,245,246,247,248,249,250,251,252,253,254,255,256,257,258,259,260,261,262,263,264,265,266,267,268,269,270,271,272,273,274,275,276,277,278,279,280,281,282,283,284,285,286,287,288,289,290,291,292,293,294,295,296,297,298,299,300,301,302,303,304,305,306,307,308,309,310,311,312,313,314,315,316,317,318,319,320,321,322,323,324,325,326,327,328,329,330,331,332,333,334,335,336,337,338,339,340,341,342,343,344,345,346,347,348,349],\"type\":\"candlestick\"},{\"marker\":{\"color\":\"MediumPurple\",\"size\":8},\"mode\":\"markers\",\"name\":\"Signal\",\"x\":[150,151,152,153,154,155,156,157,158,159,160,161,162,163,164,165,166,167,168,169,170,171,172,173,174,175,176,177,178,179,180,181,182,183,184,185,186,187,188,189,190,191,192,193,194,195,196,197,198,199,200,201,202,203,204,205,206,207,208,209,210,211,212,213,214,215,216,217,218,219,220,221,222,223,224,225,226,227,228,229,230,231,232,233,234,235,236,237,238,239,240,241,242,243,244,245,246,247,248,249,250,251,252,253,254,255,256,257,258,259,260,261,262,263,264,265,266,267,268,269,270,271,272,273,274,275,276,277,278,279,280,281,282,283,284,285,286,287,288,289,290,291,292,293,294,295,296,297,298,299,300,301,302,303,304,305,306,307,308,309,310,311,312,313,314,315,316,317,318,319,320,321,322,323,324,325,326,327,328,329,330,331,332,333,334,335,336,337,338,339,340,341,342,343,344,345,346,347,348,349],\"y\":[null,null,null,null,null,null,null,null,null,null,null,null,null,null,null,null,null,null,null,null,null,null,null,null,null,null,null,null,null,null,null,null,null,null,null,null,null,null,null,null,null,null,null,null,null,null,null,null,null,null,null,null,null,null,null,null,null,null,null,null,null,null,null,null,null,null,null,null,null,null,null,null,null,null,null,null,null,null,null,null,null,null,null,null,null,null,null,null,null,null,null,null,null,null,null,null,null,null,null,null,null,null,null,null,null,null,null,null,null,null,null,null,null,null,null,null,null,null,null,null,null,null,null,null,null,null,null,null,null,null,null,null,null,null,null,null,null,null,null,null,null,null,null,null,null,null,null,null,null,null,null,null,null,null,null,null,null,null,null,null,null,null,null,null,null,null,null,null,null,null,null,null,null,null,null,null,null,null,null,null,null,null,null,null,null,null,null,null,null,null,null,null,null,null,null,null,null,null,null,null],\"type\":\"scatter\"}],                        {\"template\":{\"data\":{\"histogram2dcontour\":[{\"type\":\"histogram2dcontour\",\"colorbar\":{\"outlinewidth\":0,\"ticks\":\"\"},\"colorscale\":[[0.0,\"#0d0887\"],[0.1111111111111111,\"#46039f\"],[0.2222222222222222,\"#7201a8\"],[0.3333333333333333,\"#9c179e\"],[0.4444444444444444,\"#bd3786\"],[0.5555555555555556,\"#d8576b\"],[0.6666666666666666,\"#ed7953\"],[0.7777777777777778,\"#fb9f3a\"],[0.8888888888888888,\"#fdca26\"],[1.0,\"#f0f921\"]]}],\"choropleth\":[{\"type\":\"choropleth\",\"colorbar\":{\"outlinewidth\":0,\"ticks\":\"\"}}],\"histogram2d\":[{\"type\":\"histogram2d\",\"colorbar\":{\"outlinewidth\":0,\"ticks\":\"\"},\"colorscale\":[[0.0,\"#0d0887\"],[0.1111111111111111,\"#46039f\"],[0.2222222222222222,\"#7201a8\"],[0.3333333333333333,\"#9c179e\"],[0.4444444444444444,\"#bd3786\"],[0.5555555555555556,\"#d8576b\"],[0.6666666666666666,\"#ed7953\"],[0.7777777777777778,\"#fb9f3a\"],[0.8888888888888888,\"#fdca26\"],[1.0,\"#f0f921\"]]}],\"heatmap\":[{\"type\":\"heatmap\",\"colorbar\":{\"outlinewidth\":0,\"ticks\":\"\"},\"colorscale\":[[0.0,\"#0d0887\"],[0.1111111111111111,\"#46039f\"],[0.2222222222222222,\"#7201a8\"],[0.3333333333333333,\"#9c179e\"],[0.4444444444444444,\"#bd3786\"],[0.5555555555555556,\"#d8576b\"],[0.6666666666666666,\"#ed7953\"],[0.7777777777777778,\"#fb9f3a\"],[0.8888888888888888,\"#fdca26\"],[1.0,\"#f0f921\"]]}],\"heatmapgl\":[{\"type\":\"heatmapgl\",\"colorbar\":{\"outlinewidth\":0,\"ticks\":\"\"},\"colorscale\":[[0.0,\"#0d0887\"],[0.1111111111111111,\"#46039f\"],[0.2222222222222222,\"#7201a8\"],[0.3333333333333333,\"#9c179e\"],[0.4444444444444444,\"#bd3786\"],[0.5555555555555556,\"#d8576b\"],[0.6666666666666666,\"#ed7953\"],[0.7777777777777778,\"#fb9f3a\"],[0.8888888888888888,\"#fdca26\"],[1.0,\"#f0f921\"]]}],\"contourcarpet\":[{\"type\":\"contourcarpet\",\"colorbar\":{\"outlinewidth\":0,\"ticks\":\"\"}}],\"contour\":[{\"type\":\"contour\",\"colorbar\":{\"outlinewidth\":0,\"ticks\":\"\"},\"colorscale\":[[0.0,\"#0d0887\"],[0.1111111111111111,\"#46039f\"],[0.2222222222222222,\"#7201a8\"],[0.3333333333333333,\"#9c179e\"],[0.4444444444444444,\"#bd3786\"],[0.5555555555555556,\"#d8576b\"],[0.6666666666666666,\"#ed7953\"],[0.7777777777777778,\"#fb9f3a\"],[0.8888888888888888,\"#fdca26\"],[1.0,\"#f0f921\"]]}],\"surface\":[{\"type\":\"surface\",\"colorbar\":{\"outlinewidth\":0,\"ticks\":\"\"},\"colorscale\":[[0.0,\"#0d0887\"],[0.1111111111111111,\"#46039f\"],[0.2222222222222222,\"#7201a8\"],[0.3333333333333333,\"#9c179e\"],[0.4444444444444444,\"#bd3786\"],[0.5555555555555556,\"#d8576b\"],[0.6666666666666666,\"#ed7953\"],[0.7777777777777778,\"#fb9f3a\"],[0.8888888888888888,\"#fdca26\"],[1.0,\"#f0f921\"]]}],\"mesh3d\":[{\"type\":\"mesh3d\",\"colorbar\":{\"outlinewidth\":0,\"ticks\":\"\"}}],\"scatter\":[{\"fillpattern\":{\"fillmode\":\"overlay\",\"size\":10,\"solidity\":0.2},\"type\":\"scatter\"}],\"parcoords\":[{\"type\":\"parcoords\",\"line\":{\"colorbar\":{\"outlinewidth\":0,\"ticks\":\"\"}}}],\"scatterpolargl\":[{\"type\":\"scatterpolargl\",\"marker\":{\"colorbar\":{\"outlinewidth\":0,\"ticks\":\"\"}}}],\"bar\":[{\"error_x\":{\"color\":\"#2a3f5f\"},\"error_y\":{\"color\":\"#2a3f5f\"},\"marker\":{\"line\":{\"color\":\"#E5ECF6\",\"width\":0.5},\"pattern\":{\"fillmode\":\"overlay\",\"size\":10,\"solidity\":0.2}},\"type\":\"bar\"}],\"scattergeo\":[{\"type\":\"scattergeo\",\"marker\":{\"colorbar\":{\"outlinewidth\":0,\"ticks\":\"\"}}}],\"scatterpolar\":[{\"type\":\"scatterpolar\",\"marker\":{\"colorbar\":{\"outlinewidth\":0,\"ticks\":\"\"}}}],\"histogram\":[{\"marker\":{\"pattern\":{\"fillmode\":\"overlay\",\"size\":10,\"solidity\":0.2}},\"type\":\"histogram\"}],\"scattergl\":[{\"type\":\"scattergl\",\"marker\":{\"colorbar\":{\"outlinewidth\":0,\"ticks\":\"\"}}}],\"scatter3d\":[{\"type\":\"scatter3d\",\"line\":{\"colorbar\":{\"outlinewidth\":0,\"ticks\":\"\"}},\"marker\":{\"colorbar\":{\"outlinewidth\":0,\"ticks\":\"\"}}}],\"scattermapbox\":[{\"type\":\"scattermapbox\",\"marker\":{\"colorbar\":{\"outlinewidth\":0,\"ticks\":\"\"}}}],\"scatterternary\":[{\"type\":\"scatterternary\",\"marker\":{\"colorbar\":{\"outlinewidth\":0,\"ticks\":\"\"}}}],\"scattercarpet\":[{\"type\":\"scattercarpet\",\"marker\":{\"colorbar\":{\"outlinewidth\":0,\"ticks\":\"\"}}}],\"carpet\":[{\"aaxis\":{\"endlinecolor\":\"#2a3f5f\",\"gridcolor\":\"white\",\"linecolor\":\"white\",\"minorgridcolor\":\"white\",\"startlinecolor\":\"#2a3f5f\"},\"baxis\":{\"endlinecolor\":\"#2a3f5f\",\"gridcolor\":\"white\",\"linecolor\":\"white\",\"minorgridcolor\":\"white\",\"startlinecolor\":\"#2a3f5f\"},\"type\":\"carpet\"}],\"table\":[{\"cells\":{\"fill\":{\"color\":\"#EBF0F8\"},\"line\":{\"color\":\"white\"}},\"header\":{\"fill\":{\"color\":\"#C8D4E3\"},\"line\":{\"color\":\"white\"}},\"type\":\"table\"}],\"barpolar\":[{\"marker\":{\"line\":{\"color\":\"#E5ECF6\",\"width\":0.5},\"pattern\":{\"fillmode\":\"overlay\",\"size\":10,\"solidity\":0.2}},\"type\":\"barpolar\"}],\"pie\":[{\"automargin\":true,\"type\":\"pie\"}]},\"layout\":{\"autotypenumbers\":\"strict\",\"colorway\":[\"#636efa\",\"#EF553B\",\"#00cc96\",\"#ab63fa\",\"#FFA15A\",\"#19d3f3\",\"#FF6692\",\"#B6E880\",\"#FF97FF\",\"#FECB52\"],\"font\":{\"color\":\"#2a3f5f\"},\"hovermode\":\"closest\",\"hoverlabel\":{\"align\":\"left\"},\"paper_bgcolor\":\"white\",\"plot_bgcolor\":\"#E5ECF6\",\"polar\":{\"bgcolor\":\"#E5ECF6\",\"angularaxis\":{\"gridcolor\":\"white\",\"linecolor\":\"white\",\"ticks\":\"\"},\"radialaxis\":{\"gridcolor\":\"white\",\"linecolor\":\"white\",\"ticks\":\"\"}},\"ternary\":{\"bgcolor\":\"#E5ECF6\",\"aaxis\":{\"gridcolor\":\"white\",\"linecolor\":\"white\",\"ticks\":\"\"},\"baxis\":{\"gridcolor\":\"white\",\"linecolor\":\"white\",\"ticks\":\"\"},\"caxis\":{\"gridcolor\":\"white\",\"linecolor\":\"white\",\"ticks\":\"\"}},\"coloraxis\":{\"colorbar\":{\"outlinewidth\":0,\"ticks\":\"\"}},\"colorscale\":{\"sequential\":[[0.0,\"#0d0887\"],[0.1111111111111111,\"#46039f\"],[0.2222222222222222,\"#7201a8\"],[0.3333333333333333,\"#9c179e\"],[0.4444444444444444,\"#bd3786\"],[0.5555555555555556,\"#d8576b\"],[0.6666666666666666,\"#ed7953\"],[0.7777777777777778,\"#fb9f3a\"],[0.8888888888888888,\"#fdca26\"],[1.0,\"#f0f921\"]],\"sequentialminus\":[[0.0,\"#0d0887\"],[0.1111111111111111,\"#46039f\"],[0.2222222222222222,\"#7201a8\"],[0.3333333333333333,\"#9c179e\"],[0.4444444444444444,\"#bd3786\"],[0.5555555555555556,\"#d8576b\"],[0.6666666666666666,\"#ed7953\"],[0.7777777777777778,\"#fb9f3a\"],[0.8888888888888888,\"#fdca26\"],[1.0,\"#f0f921\"]],\"diverging\":[[0,\"#8e0152\"],[0.1,\"#c51b7d\"],[0.2,\"#de77ae\"],[0.3,\"#f1b6da\"],[0.4,\"#fde0ef\"],[0.5,\"#f7f7f7\"],[0.6,\"#e6f5d0\"],[0.7,\"#b8e186\"],[0.8,\"#7fbc41\"],[0.9,\"#4d9221\"],[1,\"#276419\"]]},\"xaxis\":{\"gridcolor\":\"white\",\"linecolor\":\"white\",\"ticks\":\"\",\"title\":{\"standoff\":15},\"zerolinecolor\":\"white\",\"automargin\":true,\"zerolinewidth\":2},\"yaxis\":{\"gridcolor\":\"white\",\"linecolor\":\"white\",\"ticks\":\"\",\"title\":{\"standoff\":15},\"zerolinecolor\":\"white\",\"automargin\":true,\"zerolinewidth\":2},\"scene\":{\"xaxis\":{\"backgroundcolor\":\"#E5ECF6\",\"gridcolor\":\"white\",\"linecolor\":\"white\",\"showbackground\":true,\"ticks\":\"\",\"zerolinecolor\":\"white\",\"gridwidth\":2},\"yaxis\":{\"backgroundcolor\":\"#E5ECF6\",\"gridcolor\":\"white\",\"linecolor\":\"white\",\"showbackground\":true,\"ticks\":\"\",\"zerolinecolor\":\"white\",\"gridwidth\":2},\"zaxis\":{\"backgroundcolor\":\"#E5ECF6\",\"gridcolor\":\"white\",\"linecolor\":\"white\",\"showbackground\":true,\"ticks\":\"\",\"zerolinecolor\":\"white\",\"gridwidth\":2}},\"shapedefaults\":{\"line\":{\"color\":\"#2a3f5f\"}},\"annotationdefaults\":{\"arrowcolor\":\"#2a3f5f\",\"arrowhead\":0,\"arrowwidth\":1},\"geo\":{\"bgcolor\":\"white\",\"landcolor\":\"#E5ECF6\",\"subunitcolor\":\"white\",\"showland\":true,\"showlakes\":true,\"lakecolor\":\"white\"},\"title\":{\"x\":0.05},\"mapbox\":{\"style\":\"light\"}}},\"autosize\":false,\"width\":1000,\"height\":800,\"paper_bgcolor\":\"black\",\"plot_bgcolor\":\"black\",\"xaxis\":{\"gridcolor\":\"black\"},\"yaxis\":{\"gridcolor\":\"black\"}},                        {\"responsive\": true}                    ).then(function(){\n",
       "                            \n",
       "var gd = document.getElementById('f8fc961e-a5c2-43cc-90f7-193fcc5151cc');\n",
       "var x = new MutationObserver(function (mutations, observer) {{\n",
       "        var display = window.getComputedStyle(gd).display;\n",
       "        if (!display || display === 'none') {{\n",
       "            console.log([gd, 'removed!']);\n",
       "            Plotly.purge(gd);\n",
       "            observer.disconnect();\n",
       "        }}\n",
       "}});\n",
       "\n",
       "// Listen for the removal of the full notebook cells\n",
       "var notebookContainer = gd.closest('#notebook-container');\n",
       "if (notebookContainer) {{\n",
       "    x.observe(notebookContainer, {childList: true});\n",
       "}}\n",
       "\n",
       "// Listen for the clearing of the current output cell\n",
       "var outputEl = gd.closest('.output');\n",
       "if (outputEl) {{\n",
       "    x.observe(outputEl, {childList: true});\n",
       "}}\n",
       "\n",
       "                        })                };                });            </script>        </div>"
      ]
     },
     "metadata": {},
     "output_type": "display_data"
    }
   ],
   "source": [
    "dfpl = df[150:350]\n",
    "import plotly.graph_objects as go\n",
    "\n",
    "fig = go.Figure(data=[go.Candlestick(x=dfpl.index,\n",
    "                open=dfpl['open'],\n",
    "                high=dfpl['high'],\n",
    "                low=dfpl['low'],\n",
    "                close=dfpl['close'])])\n",
    "\n",
    "fig.update_layout(\n",
    "    autosize=False,\n",
    "    width=1000,\n",
    "    height=800,\n",
    "    paper_bgcolor='black',\n",
    "    plot_bgcolor='black')\n",
    "fig.update_xaxes(gridcolor='black')\n",
    "fig.update_yaxes(gridcolor='black')\n",
    "fig.add_scatter(x=dfpl.index, y=dfpl['pointpos'], mode=\"markers\",\n",
    "                marker=dict(size=8, color=\"MediumPurple\"),\n",
    "                name=\"Signal\")\n",
    "fig.show()"
   ]
  },
  {
   "cell_type": "code",
   "execution_count": 52,
   "metadata": {
    "id": "rdxqygFrShnE"
   },
   "outputs": [],
   "source": [
    "df = df.rename(columns={\"open\": \"Open\", \"high\":\"High\", \"low\":\"Low\", \"close\": \"Close\", \"volume\":\"Volume\"})\n",
    "def SIGNAL():\n",
    "    return df.signal"
   ]
  },
  {
   "cell_type": "code",
   "execution_count": 53,
   "metadata": {
    "id": "iGh3_FlvShnE",
    "outputId": "cd5b7ad0-5ccb-4631-d631-5ffbad0e7ea3"
   },
   "outputs": [
    {
     "data": {
      "text/plain": [
       "Start                                     0.0\n",
       "End                                    1999.0\n",
       "Duration                               1999.0\n",
       "Exposure Time [%]                         0.0\n",
       "Equity Final [$]                        100.0\n",
       "Equity Peak [$]                         100.0\n",
       "Return [%]                                0.0\n",
       "Buy & Hold Return [%]              -33.171247\n",
       "Return (Ann.) [%]                         0.0\n",
       "Volatility (Ann.) [%]                     NaN\n",
       "Sharpe Ratio                              NaN\n",
       "Sortino Ratio                             NaN\n",
       "Calmar Ratio                              NaN\n",
       "Max. Drawdown [%]                        -0.0\n",
       "Avg. Drawdown [%]                         NaN\n",
       "Max. Drawdown Duration                    NaN\n",
       "Avg. Drawdown Duration                    NaN\n",
       "# Trades                                  0.0\n",
       "Win Rate [%]                              NaN\n",
       "Best Trade [%]                            NaN\n",
       "Worst Trade [%]                           NaN\n",
       "Avg. Trade [%]                            NaN\n",
       "Max. Trade Duration                       NaN\n",
       "Avg. Trade Duration                       NaN\n",
       "Profit Factor                             NaN\n",
       "Expectancy [%]                            NaN\n",
       "SQN                                       NaN\n",
       "Kelly Criterion                           NaN\n",
       "_strategy                             MyStrat\n",
       "_equity_curve                   Equity  Dr...\n",
       "_trades                   Empty DataFrame\n",
       "...\n",
       "dtype: object"
      ]
     },
     "execution_count": 53,
     "metadata": {},
     "output_type": "execute_result"
    }
   ],
   "source": [
    "from backtesting import Strategy\n",
    "from backtesting import Backtest\n",
    "\n",
    "class MyStrat(Strategy):\n",
    "    mysize = 0.99 #1000\n",
    "    def init(self):\n",
    "        super().init()\n",
    "        self.signal1 = self.I(SIGNAL)\n",
    "\n",
    "    def next(self):\n",
    "        super().next()\n",
    "\n",
    "        if self.signal1==2 and len(self.trades)==0:\n",
    "            sl1 = self.data.SL[-1]\n",
    "            tp1 = self.data.TP[-1]\n",
    "            tp2 = tp1-(tp1-self.data.Close[-1])/2\n",
    "            self.buy(sl=sl1, tp=tp1, size=self.mysize)\n",
    "            self.buy(sl=sl1, tp=tp2, size=self.mysize)\n",
    "\n",
    "        elif self.signal1==1 and len(self.trades)==0:\n",
    "            sl1 = self.data.SL[-1]\n",
    "            tp1 = self.data.TP[-1]\n",
    "            tp2 = tp1+(self.data.Close[-1]-tp1)/2\n",
    "            self.sell(sl=sl1, tp=tp1, size=self.mysize)\n",
    "            self.sell(sl=sl1, tp=tp1, size=self.mysize)\n",
    "\n",
    "bt = Backtest(df, MyStrat, cash=100, margin=1/100, commission=0.0000)\n",
    "stat = bt.run()\n",
    "stat"
   ]
  },
  {
   "cell_type": "code",
   "execution_count": 54,
   "metadata": {
    "id": "S059Z_LGShnF",
    "outputId": "12cc3800-dcbf-46d9-e4af-72e833ce1947"
   },
   "outputs": [
    {
     "data": {
      "text/html": [
       "\n",
       "  <div id=\"f1fa6451-4af4-433b-8a2d-b96a6b0a8186\" data-root-id=\"p1586\" style=\"display: contents;\"></div>\n"
      ]
     },
     "metadata": {},
     "output_type": "display_data"
    },
    {
     "data": {
      "application/javascript": [
       "(function(root) {\n",
       "  function embed_document(root) {\n",
       "  const docs_json = {\"536d935c-02bf-4b87-a104-e24207af68e2\":{\"version\":\"3.5.2\",\"title\":\"Bokeh Application\",\"roots\":[{\"type\":\"object\",\"name\":\"GridPlot\",\"id\":\"p1586\",\"attributes\":{\"rows\":null,\"cols\":null,\"sizing_mode\":\"stretch_width\",\"toolbar\":{\"type\":\"object\",\"name\":\"Toolbar\",\"id\":\"p1585\",\"attributes\":{\"logo\":null,\"tools\":[{\"type\":\"object\",\"name\":\"ToolProxy\",\"id\":\"p1574\",\"attributes\":{\"tools\":[{\"type\":\"object\",\"name\":\"PanTool\",\"id\":\"p1425\",\"attributes\":{\"dimensions\":\"width\"}},{\"type\":\"object\",\"name\":\"PanTool\",\"id\":\"p1469\",\"attributes\":{\"dimensions\":\"width\"}},{\"type\":\"object\",\"name\":\"PanTool\",\"id\":\"p1544\",\"attributes\":{\"dimensions\":\"width\"}}]}},{\"type\":\"object\",\"name\":\"ToolProxy\",\"id\":\"p1575\",\"attributes\":{\"tools\":[{\"type\":\"object\",\"name\":\"WheelZoomTool\",\"id\":\"p1426\",\"attributes\":{\"dimensions\":\"width\",\"renderers\":\"auto\",\"maintain_focus\":false}},{\"type\":\"object\",\"name\":\"WheelZoomTool\",\"id\":\"p1470\",\"attributes\":{\"dimensions\":\"width\",\"renderers\":\"auto\",\"maintain_focus\":false}},{\"type\":\"object\",\"name\":\"WheelZoomTool\",\"id\":\"p1545\",\"attributes\":{\"dimensions\":\"width\",\"renderers\":\"auto\",\"maintain_focus\":false}}]}},{\"type\":\"object\",\"name\":\"ToolProxy\",\"id\":\"p1576\",\"attributes\":{\"tools\":[{\"type\":\"object\",\"name\":\"BoxZoomTool\",\"id\":\"p1427\",\"attributes\":{\"overlay\":{\"type\":\"object\",\"name\":\"BoxAnnotation\",\"id\":\"p1428\",\"attributes\":{\"syncable\":false,\"line_color\":\"black\",\"line_alpha\":1.0,\"line_width\":2,\"line_dash\":[4,4],\"fill_color\":\"lightgrey\",\"fill_alpha\":0.5,\"level\":\"overlay\",\"visible\":false,\"left\":{\"type\":\"number\",\"value\":\"nan\"},\"right\":{\"type\":\"number\",\"value\":\"nan\"},\"top\":{\"type\":\"number\",\"value\":\"nan\"},\"bottom\":{\"type\":\"number\",\"value\":\"nan\"},\"left_units\":\"canvas\",\"right_units\":\"canvas\",\"top_units\":\"canvas\",\"bottom_units\":\"canvas\",\"handles\":{\"type\":\"object\",\"name\":\"BoxInteractionHandles\",\"id\":\"p1434\",\"attributes\":{\"all\":{\"type\":\"object\",\"name\":\"AreaVisuals\",\"id\":\"p1433\",\"attributes\":{\"fill_color\":\"white\",\"hover_fill_color\":\"lightgray\"}}}}}}}},{\"type\":\"object\",\"name\":\"BoxZoomTool\",\"id\":\"p1471\",\"attributes\":{\"overlay\":{\"type\":\"object\",\"name\":\"BoxAnnotation\",\"id\":\"p1472\",\"attributes\":{\"syncable\":false,\"line_color\":\"black\",\"line_alpha\":1.0,\"line_width\":2,\"line_dash\":[4,4],\"fill_color\":\"lightgrey\",\"fill_alpha\":0.5,\"level\":\"overlay\",\"visible\":false,\"left\":{\"type\":\"number\",\"value\":\"nan\"},\"right\":{\"type\":\"number\",\"value\":\"nan\"},\"top\":{\"type\":\"number\",\"value\":\"nan\"},\"bottom\":{\"type\":\"number\",\"value\":\"nan\"},\"left_units\":\"canvas\",\"right_units\":\"canvas\",\"top_units\":\"canvas\",\"bottom_units\":\"canvas\",\"handles\":{\"type\":\"object\",\"name\":\"BoxInteractionHandles\",\"id\":\"p1478\",\"attributes\":{\"all\":{\"type\":\"object\",\"name\":\"AreaVisuals\",\"id\":\"p1477\",\"attributes\":{\"fill_color\":\"white\",\"hover_fill_color\":\"lightgray\"}}}}}}}},{\"type\":\"object\",\"name\":\"BoxZoomTool\",\"id\":\"p1546\",\"attributes\":{\"overlay\":{\"type\":\"object\",\"name\":\"BoxAnnotation\",\"id\":\"p1547\",\"attributes\":{\"syncable\":false,\"line_color\":\"black\",\"line_alpha\":1.0,\"line_width\":2,\"line_dash\":[4,4],\"fill_color\":\"lightgrey\",\"fill_alpha\":0.5,\"level\":\"overlay\",\"visible\":false,\"left\":{\"type\":\"number\",\"value\":\"nan\"},\"right\":{\"type\":\"number\",\"value\":\"nan\"},\"top\":{\"type\":\"number\",\"value\":\"nan\"},\"bottom\":{\"type\":\"number\",\"value\":\"nan\"},\"left_units\":\"canvas\",\"right_units\":\"canvas\",\"top_units\":\"canvas\",\"bottom_units\":\"canvas\",\"handles\":{\"type\":\"object\",\"name\":\"BoxInteractionHandles\",\"id\":\"p1553\",\"attributes\":{\"all\":{\"type\":\"object\",\"name\":\"AreaVisuals\",\"id\":\"p1552\",\"attributes\":{\"fill_color\":\"white\",\"hover_fill_color\":\"lightgray\"}}}}}}}}]}},{\"type\":\"object\",\"name\":\"ToolProxy\",\"id\":\"p1577\",\"attributes\":{\"tools\":[{\"type\":\"object\",\"name\":\"UndoTool\",\"id\":\"p1435\"},{\"type\":\"object\",\"name\":\"UndoTool\",\"id\":\"p1479\"},{\"type\":\"object\",\"name\":\"UndoTool\",\"id\":\"p1554\"}]}},{\"type\":\"object\",\"name\":\"ToolProxy\",\"id\":\"p1578\",\"attributes\":{\"tools\":[{\"type\":\"object\",\"name\":\"RedoTool\",\"id\":\"p1436\"},{\"type\":\"object\",\"name\":\"RedoTool\",\"id\":\"p1480\"},{\"type\":\"object\",\"name\":\"RedoTool\",\"id\":\"p1555\"}]}},{\"type\":\"object\",\"name\":\"ToolProxy\",\"id\":\"p1579\",\"attributes\":{\"tools\":[{\"type\":\"object\",\"name\":\"ResetTool\",\"id\":\"p1437\"},{\"type\":\"object\",\"name\":\"ResetTool\",\"id\":\"p1481\"},{\"type\":\"object\",\"name\":\"ResetTool\",\"id\":\"p1556\"}]}},{\"type\":\"object\",\"name\":\"SaveTool\",\"id\":\"p1580\"},{\"type\":\"object\",\"name\":\"ToolProxy\",\"id\":\"p1581\",\"attributes\":{\"tools\":[{\"type\":\"object\",\"name\":\"HoverTool\",\"id\":\"p1571\",\"attributes\":{\"renderers\":[{\"type\":\"object\",\"name\":\"GlyphRenderer\",\"id\":\"p1509\",\"attributes\":{\"data_source\":{\"type\":\"object\",\"name\":\"ColumnDataSource\",\"id\":\"p1439\",\"attributes\":{\"selected\":{\"type\":\"object\",\"name\":\"Selection\",\"id\":\"p1440\",\"attributes\":{\"indices\":[],\"line_indices\":[]}},\"selection_policy\":{\"type\":\"object\",\"name\":\"UnionRenderers\",\"id\":\"p1441\"},\"data\":{\"type\":\"map\",\"entries\":[[\"index\",{\"type\":\"ndarray\",\"array\":{\"type\":\"bytes\",\"data\":\"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\"},\"shape\":[2000],\"dtype\":\"int32\",\"order\":\"little\"}],[\"Open\",{\"type\":\"ndarray\",\"array\":{\"type\":\"bytes\",\"data\":\"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\"},\"shape\":[2000],\"dtype\":\"float64\",\"order\":\"little\"}],[\"High\",{\"type\":\"ndarray\",\"array\":{\"type\":\"bytes\",\"data\":\"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\"},\"shape\":[2000],\"dtype\":\"float64\",\"order\":\"little\"}],[\"Low\",{\"type\":\"ndarray\",\"array\":{\"type\":\"bytes\",\"data\":\"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\"},\"shape\":[2000],\"dtype\":\"float64\",\"order\":\"little\"}],[\"Close\",{\"type\":\"ndarray\",\"array\":{\"type\":\"bytes\",\"data\":\"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\"},\"shape\":[2000],\"dtype\":\"float64\",\"order\":\"little\"}],[\"Volume\",{\"type\":\"ndarray\",\"array\":{\"type\":\"bytes\",\"data\":\"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\"},\"shape\":[2000],\"dtype\":\"int32\",\"order\":\"little\"}],[\"datetime\",{\"type\":\"ndarray\",\"array\":{\"type\":\"bytes\",\"data\":\"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\"},\"shape\":[2000],\"dtype\":\"int32\",\"order\":\"little\"}],[\"inc\",{\"type\":\"ndarray\",\"array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shape\":[2000],\"dtype\":\"object\",\"order\":\"little\"}],[\"SIGNAL_0_1\",{\"type\":\"ndarray\",\"array\":{\"type\":\"bytes\",\"data\":\"AAAAAAAAAAAAAAAAAAAAAAAAAAAAAAAAAAAAAAAAAAAAAAAAAAAAAAAAAAAAAAAAAAAAAAAAAAAAAAAAAAAAAAAAAAAAAAAAAAAAAAAAAAAAAAAAAAAAAAAAAAAAAAAAAAAAAAAAAAAAAAAAAAAAAAAAAAAAAAAAAAAAAAAAAAAAAAAAAAAAAAAAAAAAAAAAAAAAAAAAAAAAAAAAAAAAAAAAAAAAAAAAAAAAAAAAAAAAAAAAAAAAAAAAAAAAAAAAAAAAAAAAAAAAAAAAAAAAAAAAAAAAAAAAAAAAAAAAAAAAAAAAAAAAAAAAAAAAAAAAAAAAAAAAAAAAAAAAAAAAAAAAAAAAAAAAAAAAAAAAAAAAAAAAAAAAAAAAAAAAAAAAAAAAAAAAAAAAAAAAAAAAAAAAAAAAAAAAAAAAAAAAAAAAAAAAAAAAAAAAAAAAAAAAAAAAAAAAAAAAAAAAAAAAAAAAAAAAAAAAAAAAAAAAAAAAAAAAAAAAAAAAAAAAAAAAAAAAAAAAAAAAAAAAAAAAAAAAAAAAAAAAAAAAAAAAAAAAAAAAAAAAAAAAAAAAAAAAAAAAAAAAAAAAAAAAAAAAAAAAAAAAAAAAAAAAAAAAAAAAAAAAAAAAAAAAAAAAAAAAAAAAAAAAAAAAAAAAAAAAAAAAAAAAAAAAAAAAAAAAAAAAAAAAAAAAAAAAAAAAAAAAAAAAAAAAAAAAAAAAAAAAAAAAAAAAAAAAAAAAAAAAAAAAAAAAAAAAAAAAAAAAAAAAAAAAAAAAAAAAAAAAAAAAAAAAAAAAAAAAAAAAAAAAAAAAAAAAAAAAAAAAAAAAAAAAAAAAAAAAAAAAAAAAAAAAAAAAAAAAAAAAAAAAAAAAAAAAAAAAAAAAAAAAAAAAAAAAAAAAAAAAAAAAAAAAAAAAAAAAAAAAAAAAAAAAAAAAAAAAAAAAAAAAAAAAAAAAAAAAAAAAAAAAAAAAAAAAAAAAAAAAAAAAAAAAAAAAAAAAAAAAAAAAAAAAAAAAAAAAAAAAAAAAAAAAAAAAAAAAAAAAAAAAAAAAAAAAAAAAAAAAAAAAAAAAAAAAAAAAAAAAAAAAAAAAAAAAAAAAAAAAAAAAAAAAAAAAAAAAAAAAAAAAAAAAAAAAAAAAAAAAAAAAAAAAAAAAAAAAAAAAAAAAAAAAAAAAAAAAAAAAAAAAAAAAAAAAAAAAAAAAAAAAAAAAAAAAAAAAAAAAAAAAAAAAAAAAAAAAAAAAAAAAAAAAAAAAAAAAAAAAAAAAAAAAAAAAAAAAAAAAAAAAAAAAAAAAAAAAAAAAAAAAAAAAAAAAAAAAAAAAAAAAAAAAAAAAAAAAAAAAAAAAAAAAAAAAAAAAAAAAAAAAAAAAAAAAAAAAAAAAAAAAAAAAAAAAAAAAAAAAAAAAAAAAAAAAAAAAAAAAAAAAAAAAAAAAAAAAAAAAAAAAAAAAAAAAAAAAAAAAAAAAAAAAAAAAAAAAAAAAAAAAAAAAAAAAAAAAAAAAAAAAAAAAAAAAAAAAAAAAAAAAAAAAAAAAAAAAAAAAAAAAAAAAAAAAAAAAAAAAAAAAAAAAAAAAAAAAAAAAAAAAAAAAAAAAAAAAAAAAAAAAAAAAAAAAAAAAAAAAAAAAAAAAAAAAAAAAAAAAAAAAAAAAAAAAAAAAAAAAAAAAAAAAAAAAAAAAAAAAAAAAAAAAAAAAAAAAAAAAAAAAAAAAAAAAAAAAAAAAAAAAAAAAAAAAAAAAAAAAAAAAAAAAAAAAAAAAAAAAAAAAAAAAAAAAAAAAAAAAAAAAAAAAAAAAAAAAAAAAAAAAAAAAAAAAAAAAAAAAAAAAAAAAAAAAAAAAAAAAAAAAAAAAAAAAAAAAAAAAAAAAAAAAAAAAAAAAAAAAAAAAAAAAAAAAAAAAAAAAAAAAAAAAAAAAAAAAAAAAAAAAAAAAAAAAAAAAAAAAAAAAAAAAAAAAAAAAAAAAAAAAAAAAAAAAAAAAAAAAAAAAAAAAAAAAAAAAAAAAAAAAAAAAAAAAAAAAAAAAAAAAAAAAAAAAAAAAAAAAAAAAAAAAAAAAAAAAAAAAAAAAAAAAAAAAAAAAAAAAAAAAAAAAAAAAAAAAAAAAAAAAAAAAAAAAAAAAAAAAAAAAAAAAAAAAAAAAAAAAAAAAAAAAAAAAAAAAAAAAAAAAAAAAAAAAAAAAAAAAAAAAAAAAAAAAAAAAAAAAAAAAAAAAAAAAAAAAAAAAAAAAAAAAAAAAAAAAAAAAAAAAAAAAAAAAAAAAAAAAAAAAAAAAAAAAAAAAAAAAAAAAAAAAAAAAAAAAAAAAAAAAAAAAAAAAAAAAAAAAAAAAAAAAAAAAAAAAAAAAAAAAAAAAAAAAAAAAAAAAAAAAAAAAAAAAAAAAAAAAAAAAAAAAAAAAAAAAAAAAAAAAAAAAAAAAAAAAAAAAAAAAAAAAAAAAAAAAAAAAAAAAAAAAAAAAAAAAAAAAAAAAAAAAAAAAAAAAAAAAAAAAAAAAAAAAAAAAAAAAAAAAAAAAAAAAAAAAAAAAAAAAAAAAAAAAAAAAAAAAAAAAAAAAAAAAAAAAAAAAAAAAAAAAAAAAAAAAAAAAAAAAAAAAAAAAAAAAAAAAAAAAAAAAAAAAAAAAAAAAAAAAAAAAAAAAAAAAAAAAAAAAAAAAAAAAAAAAAAAAAAAAAAAAAAAAAAAAAAAAAAAAAAAAAAAAAAAAAAAAAAAAAAAAAAAAAAAAAAAAAAAAAAAAAAAAAAAAAAAAAAAAAAAAAAAAAAAAAAAAAAAAAAAAAAAAAAAAAAAAAAAAAAAAAAAAAAAAAAAAAAAAAAAAAAAAAAAAAAAAAAAAAAAAAAAAAAAAAAAAAAAAAAAAAAAAAAAAAAAAAAAAAAAAAAAAAAAAAAAAAAAAAAAAAAAAAAAAAAAAAAAAAAAAAAAAAAAAAAAAAAAAAAAAAAAAAAAAAAAAAAAAAAAAAAAAAAAAAAAAAAAAAAAAAAAAAAAAAAAAAAAAAAAAAAAAAAAAAAAAAAAAAAAAAAAAAAAAAAAAAAAAAAAAAAAAAAAAAAAAAAAAAAAAAAAAAAAAAAAAAAAAAAAAAAAAAAAAAAAAAAAAAAAAAAAAAAAAAAAAAAAAAAAAAAAAAAAAAAAAAAAAAAAAAAAAAAAAAAAAAAAAAAAAAAAAAAAAAAAAAAAAAAAAAAAAAAAAAAAAAAAAAAAAAAAAAAAAAAAAAAAAAAAAAAAAAAAAAAAAAAAAAAAAAAAAAAAAAAAAAAAAAAAAAAAAAAAAAAAAAAAAAAAAAAAAAAAAAAAAAAAAAAAAAAAAAAAAAAAAAAAAAAAAAAAAAAAAAAAAAAAAAAAAAAAAAAAAAAAAAAAAAAAAAAAAAAAAAAAAAAAAAAAAAAAAAAAAAAAAAAAAAAAAAAAAAAAAAAAAAAAAAAAAAAAAAAAAAAAAAAAAAAAAAAAAAAAAAAAAAAAAAAAAAAAAAAAAAAAAAAAAAAAAAAAAAAAAAAAAAAAAAAAAAAAAAAAAAAAAAAAAAAAAAAAAAAAAAAAAAAAAAAAAAAAAAAAAAAAAAAAAAAAAAAAAAAAAAAAAAAAAAAAAAAAAAAAAAAAAAAAAAAAAAAAAAAAAAAAAAAAAAAAAAAAAAAAAAAAAAAAAAAAAAAAAAAAAAAAAAAAAAAAAAAAAAAAAAAAAAAAAAAAAAAAAAAAAAAAAAAAAAAAAAAAAAAAAAAAAAAAAAAAAAAAAAAAAAAAAAAAAAAAAAAAAAAAAAAAAAAAAAAAAAAAAAAAAAAAAAAAAAAAAAAAAAAAAAAAAAAAAAAAAAAAAAAAAAAAAAAAAAAAAAAAAAAAAAAAAAAAAAAAAAAAAAAAAAAAAAAAAAAAAAAAAAAAAAAAAAAAAAAAAAAAAAAAAAAAAAAAAAAAAAAAAAAAAAAAAAAAAAAAAAAAAAAAAAAAAAAAAAAAAAAAAAAAAAAAAAAAAAAAAAAAAAAAAAAAAAAAAAAAAAAAAAAAAAAAAAAAAAAAAAAAAAAAAAAAAAAAAAAAAAAAAAAAAAAAAAAAAAAAAAAAAAAAAAAAAAAAAAAAAAAAAAAAAAAAAAAAAAAAAAAAAAAAAAAAAAAAAAAAAAAAAAAAAAAAAAAAAAAAAAAAAAAAAAAAAAAAAAAAAAAAAAAAAAAAAAAAAAAAAAAAAAAAAAAAAAAAAAAAAAAAAAAAAAAAAAAAAAAAAAAAAAAAAAAAAAAAAAAAAAAAAAAAAAAAAAAAAAAAAAAAAAAAAAAAAAAAAAAAAAAAAAAAAAAAAAAAAAAAAAAAAAAAAAAAAAAAAAAAAAAAAAAAAAAAAAAAAAAAAAAAAAAAAAAAAAAAAAAAAAAAAAAAAAAAAAAAAAAAAAAAAAAAAAAAAAAAAAAAAAAAAAAAAAAAAAAAAAAAAAAAAAAAAAAAAAAAAAAAAAAAAAAAAAAAAAAAAAAAAAAAAAAAAAAAAAAAAAAAAAAAAAAAAAAAAAAAAAAAAAAAAAAAAAAAAAAAAAAAAAAAAAAAAAAAAAAAAAAAAAAAAAAAAAAAAAAAAAAAAAAAAAAAAAAAAAAAAAAAAAAAAAAAAAAAAAAAAAAAAAAAAAAAAAAAAAAAAAAAAAAAAAAAAAAAAAAAAAAAAAAAAAAAAAAAAAAAAAAAAAAAAAAAAAAAAAAAAAAAAAAAAAAAAAAAAAAAAAAAAAAAAAAAAAAAAAAAAAAAAAAAAAAAAAAAAAAAAAAAAAAAAAAAAAAAAAAAAAAAAAAAAAAAAAAAAAAAAAAAAAAAAAAAAAAAAAAAAAAAAAAAAAAAAAAAAAAAAAAAAAAAAAAAAAAAAAAAAAAAAAAAAAAAAAAAAAAAAAAAAAAAAAAAAAAAAAAAAAAAAAAAAAAAAAAAAAAAAAAAAAAAAAAAAAAAAAAAAAAAAAAAAAAAAAAAAAAAAAAAAAAAAAAAAAAAAAAAAAAAAAAAAAAAAAAAAAAAAAAAAAAAAAAAAAAAAAAAAAAAAAAAAAAAAAAAAAAAAAAAAAAAAAAAAAAAAAAAAAAAAAAAAAAAAAAAAAAAAAAAAAAAAAAAAAAAAAAAAAAAAAAAAAAAAAAAAAAAAAAAAAAAAAAAAAAAAAAAAAAAAAAAAAAAAAAAAAAAAAAAAAAAAAAAAAAAAAAAAAAAAAAAAAAAAAAAAAAAAAAAAAAAAAAAAAAAAAAAAAAAAAAAAAAAAAAAAAAAAAAAAAAAAAAAAAAAAAAAAAAAAAAAAAAAAAAAAAAAAAAAAAAAAAAAAAAAAAAAAAAAAAAAAAAAAAAAAAAAAAAAAAAAAAAAAAAAAAAAAAAAAAAAAAAAAAAAAAAAAAAAAAAAAAAAAAAAAAAAAAAAAAAAAAAAAAAAAAAAAAAAAAAAAAAAAAAAAAAAAAAAAAAAAAAAAAAAAAAAAAAAAAAAAAAAAAAAAAAAAAAAAAAAAAAAAAAAAAAAAAAAAAAAAAAAAAAAAAAAAAAAAAAAAAAAAAAAAAAAAAAAAAAAAAAAAAAAAAAAAAAAAAAAAAAAAAAAAAAAAAAAAAAAAAAAAAAAAAAAAAAAAAAAAAAAAAAAAAAAAAAAAAAAAAAAAAAAAAAAAAAAAAAAAAAAAAAAAAAAAAAAAAAAAAAAAAAAAAAAAAAAAAAAAAAAAAAAAAAAAAAAAAAAAAAAAAAAAAAAAAAAAAAAAAAAAAAAAAAAAAAAAAAAAAAAAAAAAAAAAAAAAAAAAAAAAAAAAAAAAAAAAAAAAAAAAAAAAAAAAAAAAAAAAAAAAAAAAAAAAAAAAAAAAAAAAAAAAAAAAAAAAAAAAAAAAAAAAAAAAAAAAAAAAAAAAAAAAAAAAAAAAAAAAAAAAAAAAAAAAAAAAAAAAAAAAAAAAAAAAAAAAAAAAAAAAAAAAAAAAAAAAAAAAAAAAAAAAAAAAAAAAAAAAAAAAAAAAAAAAAAAAAAAAAAAAAAAAAAAAAAAAAAAAAAAAAAAAAAAAAAAAAAAAAAAAAAAAAAAAAAAAAAAAAAAAAAAAAAAAAAAAAAAAAAAAAAAAAAAAAAAAAAAAAAAAAAAAAAAAAAAAAAAAAAAAAAAAAAAAAAAAAAAAAAAAAAAAAAAAAAAAAAAAAAAAAAAAAAAAAAAAAAAAAAAAAAAAAAAAAAAAAAAAAAAAAAAAAAAAAAAAAAAAAAAAAAAAAAAAAAAAAAAAAAAAAAAAAAAAAAAAAAAAAAAAAAAAAAAAAAAAAAAAAAAAAAAAAAAAAAAAAAAAAAAAAAAAAAAAAAAAAAAAAAAAAAAAAAAAAAAAAAAAAAAAAAAAAAAAAAAAAAAAAAAAAAAAAAAAAAAAAAAAAAAAAAAAAAAAAAAAAAAAAAAAAAAAAAAAAAAAAAAAAAAAAAAAAAAAAAAAAAAAAAAAAAAAAAAAAAAAAAAAAAAAAAAAAAAAAAAAAAAAAAAAAAAAAAAAAAAAAAAAAAAAAAAAAAAAAAAAAAAAAAAAAAAAAAAAAAAAAAAAAAAAAAAAAAAAAAAAAAAAAAAAAAAAAAAAAAAAAAAAAAAAAAAAAAAAAAAAAAAAAAAAAAAAAAAAAAAAAAAAAAAAAAAAAAAAAAAAAAAAAAAAAAAAAAAAAAAAAAAAAAAAAAAAAAAAAAAAAAAAAAAAAAAAAAAAAAAAAAAAAAAAAAAAAAAAAAAAAAAAAAAAAAAAAAAAAAAAAAAAAAAAAAAAAAAAAAAAAAAAAAAAAAAAAAAAAAAAAAAAAAAAAAAAAAAAAAAAAAAAAAAAAAAAAAAAAAAAAAAAAAAAAAAAAAAAAAAAAAAAAAAAAAAAAAAAAAAAAAAAAAAAAAAAAAAAAAAAAAAAAAAAAAAAAAAAAAAAAAAAAAAAAAAAAAAAAAAAAAAAAAAAAAAAAAAAAAAAAAAAAAAAAAAAAAAAAAAAAAAAAAAAAAAAAAAAAAAAAAAAAAAAAAAAAAAAAAAAAAAAAAAAAAAAAAAAAAAAAAAAAAAAAAAAAAAAAAAAAAAAAAAAAAAAAAAAAAAAAAAAAAAAAAAAAAAAAAAAAAAAAAAAAAAAAAAAAAAAAAAAAAAAAAAAAAAAAAAAAAAAAAAAAAAAAAAAAAAAAAAAAAAAAAAAAAAAAAAAAAAAAAAAAAAAAAAAAAAAAAAAAAAAAAAAAAAAAAAAAAAAAAAAAAAAAAAAAAAAAAAAAAAAAAAAAAAAAAAAAAAAAAAAAAAAAAAAAAAAAAAAAAAAAAAAAAAAAAAAAAAAAAAAAAAAAAAAAAAAAAAAAAAAAAAAAAAAAAAAAAAAAAAAAAAAAAAAAAAAAAAAAAAAAAAAAAAAAAAAAAAAAAAAAAAAAAAAAAAAAAAAAAAAAAAAAAAAAAAAAAAAAAAAAAAAAAAAAAAAAAAAAAAAAAAAAAAAAAAAAAAAAAAAAAAAAAAAAAAAAAAAAAAAAAAAAAAAAAAAAAAAAAAAAAAAAAAAAAAAAAAAAAAAAAAAAAAAAAAAAAAAAAAAAAAAAAAAAAAAAAAAAAAAAAAAAAAAAAAAAAAAAAAAAAAAAAAAAAAAAAAAAAAAAAAAAAAAAAAAAAAAAAAAAAAAAAAAAAAAAAAAAAAAAAAAAAAAAAAAAAAAAAAAAAAAAAAAAAAAAAAAAAAAAAAAAAAAAAAAAAAAAAAAAAAAAAAAAAAAAAAAAAAAAAAAAAAAAAAAAAAAAAAAAAAAAAAAAAAAAAAAAAAAAAAAAAAAAAAAAAAAAAAAAAAAAAAAAAAAAAAAAAAAAAAAAAAAAAAAAAAAAAAAAAAAAAAAAAAAAAAAAAAAAAAAAAAAAAAAAAAAAAAAAAAAAAAAAAAAAAAAAAAAAAAAAAAAAAAAAAAAAAAAAAAAAAAAAAAAAAAAAAAAAAAAAAAAAAAAAAAAAAAAAAAAAAAAAAAAAAAAAAAAAAAAAAAAAAAAAAAAAAAAAAAAAAAAAAAAAAAAAAAAAAAAAAAAAAAAAAAAAAAAAAAAAAAAAAAAAAAAAAAAAAAAAAAAAAAAAAAAAAAAAAAAAAAAAAAAAAAAAAAAAAAAAAAAAAAAAAAAAAAAAAAAAAAAAAAAAAAAAAAAAAAAAAAAAAAAAAAAAAAAAAAAAAAAAAAAAAAAAAAAAAAAAAAAAAAAAAAAAAAAAAAAAAAAAAAAAAAAAAAAAAAAAAAAAAAAAAAAAAAAAAAAAAAAAAAAAAAAAAAAAAAAAAAAAAAAAAAAAAAAAAAAAAAAAAAAAAAAAAAAAAAAAAAAAAAAAAAAAAAAAAAAAAAAAAAAAAAAAAAAAAAAAAAAAAAAAAAAAAAAAAAAAAAAAAAAAAAAAAAAAAAAAAAAAAAAAAAAAAAAAAAAAAAAAAAAAAAAAAAAAAAAAAAAAAAAAAAAAAAAAAAAAAAAAAAAAAAAAAAAAAAAAAAAAAAAAAAAAAAAAAAAAAAAAAAAAAAAAAAAAAAAAAAAAAAAAAAAAAAAAAAAAAAAAAAAAAAAAAAAAAAAAAAAAAAAAAAAAAAAAAAAAAAAAAAAAAAAAAAAAAAAAAAAAAAAAAAAAAAAAAAAAAAAAAAAAAAAAAAAAAAAAAAAAAAAAAAAAAAAAAAAAAAAAAAAAAAAAAAAAAAAAAAAAAAAAAAAAAAAAAAAAAAAAAAAAAAAAAAAAAAAAAAAAAAAAAAAAAAAAAAAAAAAAAAAAAAAAAAAAAAAAAAAAAAAAAAAAAAAAAAAAAAAAAAAAAAAAAAAAAAAAAAAAAAAAAAAAAAAAAAAAAAAAAAAAAAAAAAAAAAAAAAAAAAAAAAAAAAAAAAAAAAAAAAAAAAAAAAAAAAAAAAAAAAAAAAAAAAAAAAAAAAAAAAAAAAAAAAAAAAAAAAAAAAAAAAAAAAAAAAAAAAAAAAAAAAAAAAAAAAAAAAAAAAAAAAAAAAAAAAAAAAAAAAAAAAAAAAAAAAAAAAAAAAAAAAAAAAAAAAAAAAAAAAAAAAAAAAAAAAAAAAAAAAAAAAAAAAAAAAAAAAAAAAAAAAAAAAAAAAAAAAAAAAAAAAAAAAAAAAAAAAAAAAAAAAAAAAAAAAAAAAAAAAAAAAAAAAAAAAAAAAAAAAAAAAAAAAAAAAAAAAAAAAAAAAAAAAAAAAAAAAAAAAAAAAAAAAAAAAAAAAAAAAAAAAAAAAAAAAAAAAAAAAAAAAAAAAAAAAAAAAAAAAAAAAAAAAAAAAAAAAAAAAAAAAAAAAAAAAAAAAAAAAAAAAAAAAAAAAAAAAAAAAAAAAAAAAAAAAAAAAAAAAAAAAAAAAAAAAAAAAAAAAAAAAAAAAAAAAAAAAAAAAAAAAAAAAAAAAAAAAAAAAAAAAAAAAAAAAAAAAAAAAAAAAAAAAAAAAAAAAAAAAAAAAAAAAAAAAAAAAAAAAAAAAAAAAAAAAAAAAAAAAAAAAAAAAAAAAAAAAAAAAAAAAAAAAAAAAAAAAAAAAAAAAAAAAAAAAAAAAAAAAAAAAAAAAAAAAAAAAAAAAAAAAAAAAAAAAAAAAAAAAAAAAAAAAAAAAAAAAAAAAAAAAAAAAAAAAAAAAAAAAAAAAAAAAAAAAAAAAAAAAAAAAAAAAAAAAAAAAAAAAAAAAAAAAAAAAAAAAAAAAAAAAAAAAAAAAAAAAAAAAAAAAAAAAAAAAAAAAAAAAAAAAAAAAAAAAAAAAAAAAAAAAAAAAAAAAAAAAAAAAAAAAAAAAAAAAAAAAAAAAAAAAAAAAAAAAAAAAAAAAAAAAAAAAAAAAAAAAAAAAAAAAAAAAAAAAAAAAAAAAAAAAAAAAAAAAAAAAAAAAAAAAAAAAAAAAAAAAAAAAAAAAAAAAAAAAAAAAAAAAAAAAAAAAAAAAAAAAAAAAAAAAAAAAAAAAAAAAAAAAAAAAAAAAAAAAAAAAAAAAAAAAAAAAAAAAAAAAAAAAAAAAAAAAAAAAAAAAAAAAAAAAAAAAAAAAAAAAAAAAAAAAAAAAAAAAAAAAAAAAAAAAAAAAAAAAAAAAAAAAAAAAAAAAAAAAAAAAAAAAAAAAAAAAAAAAAAAAAAAAAAAAAAAAAAAAAAAAAAAAAAAAAAAAAAAAAAAAAAAAAAAAAAAAAAAAAAAAAAAAAAAAAAAAAAAAAAAAAAAAAAAAAAAAAAAAAAAAAAAAAAAAAAAAAAAAAAAAAAAAAAAAAAAAAAAAAAAAAAAAAAAAAAAAAAAAAAAAAAAAAAAAAAAAAAAAAAAAAAAAAAAAAAAAAAAAAAAAAAAAAAAAAAAAAAAAAAAAAAAAAAAAAAAAAAAAAAAAAAAAAAAAAAAAAAAAAAAAAAAAAAAAAAAAAAAAAAAAAAAAAAAAAAAAAAAAAAAAAAAAAAAAAAAAAAAAAAAAAAAAAAAAAAAAAAAAAAAAAAAAAAAAAAAAAAAAAAAAAAAAAAAAAAAAAAAAAAAAAAAAAAAAAAAAAAAAAAAAAAAAAAAAAAAAAAAAAAAAAAAAAAAAAAAAAAAAAAAAAAAAAAAAAAAAAAAAAAAAAAAAAAAAAAAAAAAAAAAAAAAAAAAAAAAAAAAAAAAAAAAAAAAAAAAAAAAAAAAAAAAAAAAAAAAAAAAAAAAAAAAAAAAAAAAAAAAAAAAAAAAAAAAAAAAAAAAAAAAAAAAAAAAAAAAAAAAAAAAAAAAAAAAAAAAAAAAAAAAAAAAAAAAAAAAAAAAAAAAAAAAAAAAAAAAAAAAAAAAAAAAAAAAAAAAAAAAAAAAAAAAAAAAAAAAAAAAAAAAAAAAAAAAAAAAAAAAAAAAA=\"},\"shape\":[2000],\"dtype\":\"int32\",\"order\":\"little\"}],[\"ohlc_low\",{\"type\":\"ndarray\",\"array\":{\"type\":\"bytes\",\"data\":\"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\"},\"shape\":[2000],\"dtype\":\"float64\",\"order\":\"little\"}],[\"ohlc_high\",{\"type\":\"ndarray\",\"array\":{\"type\":\"bytes\",\"data\":\"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\"},\"shape\":[2000],\"dtype\":\"float64\",\"order\":\"little\"}]]}}},\"view\":{\"type\":\"object\",\"name\":\"CDSView\",\"id\":\"p1510\",\"attributes\":{\"filter\":{\"type\":\"object\",\"name\":\"AllIndices\",\"id\":\"p1511\"}}},\"glyph\":{\"type\":\"object\",\"name\":\"VBar\",\"id\":\"p1506\",\"attributes\":{\"x\":{\"type\":\"field\",\"field\":\"index\"},\"width\":{\"type\":\"value\",\"value\":0.8},\"bottom\":{\"type\":\"field\",\"field\":\"Close\"},\"top\":{\"type\":\"field\",\"field\":\"Open\"},\"fill_color\":{\"type\":\"field\",\"field\":\"inc\",\"transform\":{\"type\":\"object\",\"name\":\"CategoricalColorMapper\",\"id\":\"p1445\",\"attributes\":{\"palette\":[\"tomato\",\"lime\"],\"factors\":[\"0\",\"1\"]}}}}},\"nonselection_glyph\":{\"type\":\"object\",\"name\":\"VBar\",\"id\":\"p1507\",\"attributes\":{\"x\":{\"type\":\"field\",\"field\":\"index\"},\"width\":{\"type\":\"value\",\"value\":0.8},\"bottom\":{\"type\":\"field\",\"field\":\"Close\"},\"top\":{\"type\":\"field\",\"field\":\"Open\"},\"line_alpha\":{\"type\":\"value\",\"value\":0.1},\"fill_color\":{\"type\":\"field\",\"field\":\"inc\",\"transform\":{\"id\":\"p1445\"}},\"fill_alpha\":{\"type\":\"value\",\"value\":0.1},\"hatch_alpha\":{\"type\":\"value\",\"value\":0.1}}},\"muted_glyph\":{\"type\":\"object\",\"name\":\"VBar\",\"id\":\"p1508\",\"attributes\":{\"x\":{\"type\":\"field\",\"field\":\"index\"},\"width\":{\"type\":\"value\",\"value\":0.8},\"bottom\":{\"type\":\"field\",\"field\":\"Close\"},\"top\":{\"type\":\"field\",\"field\":\"Open\"},\"line_alpha\":{\"type\":\"value\",\"value\":0.2},\"fill_color\":{\"type\":\"field\",\"field\":\"inc\",\"transform\":{\"id\":\"p1445\"}},\"fill_alpha\":{\"type\":\"value\",\"value\":0.2},\"hatch_alpha\":{\"type\":\"value\",\"value\":0.2}}}}}],\"tooltips\":[[\"#\",\"@index\"],[\"x, y\",\"$index\\u00a0\\u00a0\\u00a0\\u00a0$y{0,0.0[0000]}\"],[\"OHLC\",\"@Open{0,0.0[0000]}\\u00a0\\u00a0\\u00a0\\u00a0@High{0,0.0[0000]}\\u00a0\\u00a0\\u00a0\\u00a0@Low{0,0.0[0000]}\\u00a0\\u00a0\\u00a0\\u00a0@Close{0,0.0[0000]}\"],[\"Volume\",\"@Volume{0,0}\"]],\"mode\":\"vline\",\"point_policy\":\"follow_mouse\"}}]}},{\"type\":\"object\",\"name\":\"ToolProxy\",\"id\":\"p1582\",\"attributes\":{\"tools\":[{\"type\":\"object\",\"name\":\"HoverTool\",\"id\":\"p1492\",\"attributes\":{\"renderers\":[{\"type\":\"object\",\"name\":\"GlyphRenderer\",\"id\":\"p1489\",\"attributes\":{\"data_source\":{\"id\":\"p1439\"},\"view\":{\"type\":\"object\",\"name\":\"CDSView\",\"id\":\"p1490\",\"attributes\":{\"filter\":{\"type\":\"object\",\"name\":\"AllIndices\",\"id\":\"p1491\"}}},\"glyph\":{\"type\":\"object\",\"name\":\"VBar\",\"id\":\"p1486\",\"attributes\":{\"x\":{\"type\":\"field\",\"field\":\"index\"},\"width\":{\"type\":\"value\",\"value\":0.8},\"top\":{\"type\":\"field\",\"field\":\"Volume\"},\"line_color\":{\"type\":\"field\",\"field\":\"inc\",\"transform\":{\"id\":\"p1445\"}},\"fill_color\":{\"type\":\"field\",\"field\":\"inc\",\"transform\":{\"id\":\"p1445\"}},\"hatch_color\":{\"type\":\"field\",\"field\":\"inc\",\"transform\":{\"id\":\"p1445\"}}}},\"nonselection_glyph\":{\"type\":\"object\",\"name\":\"VBar\",\"id\":\"p1487\",\"attributes\":{\"x\":{\"type\":\"field\",\"field\":\"index\"},\"width\":{\"type\":\"value\",\"value\":0.8},\"top\":{\"type\":\"field\",\"field\":\"Volume\"},\"line_color\":{\"type\":\"field\",\"field\":\"inc\",\"transform\":{\"id\":\"p1445\"}},\"line_alpha\":{\"type\":\"value\",\"value\":0.1},\"fill_color\":{\"type\":\"field\",\"field\":\"inc\",\"transform\":{\"id\":\"p1445\"}},\"fill_alpha\":{\"type\":\"value\",\"value\":0.1},\"hatch_color\":{\"type\":\"field\",\"field\":\"inc\",\"transform\":{\"id\":\"p1445\"}},\"hatch_alpha\":{\"type\":\"value\",\"value\":0.1}}},\"muted_glyph\":{\"type\":\"object\",\"name\":\"VBar\",\"id\":\"p1488\",\"attributes\":{\"x\":{\"type\":\"field\",\"field\":\"index\"},\"width\":{\"type\":\"value\",\"value\":0.8},\"top\":{\"type\":\"field\",\"field\":\"Volume\"},\"line_color\":{\"type\":\"field\",\"field\":\"inc\",\"transform\":{\"id\":\"p1445\"}},\"line_alpha\":{\"type\":\"value\",\"value\":0.2},\"fill_color\":{\"type\":\"field\",\"field\":\"inc\",\"transform\":{\"id\":\"p1445\"}},\"fill_alpha\":{\"type\":\"value\",\"value\":0.2},\"hatch_color\":{\"type\":\"field\",\"field\":\"inc\",\"transform\":{\"id\":\"p1445\"}},\"hatch_alpha\":{\"type\":\"value\",\"value\":0.2}}}}}],\"tooltips\":[[\"#\",\"@index\"],[\"Volume\",\"@Volume{0.00 a}\"]],\"mode\":\"vline\",\"point_policy\":\"follow_mouse\"}}]}},{\"type\":\"object\",\"name\":\"ToolProxy\",\"id\":\"p1583\",\"attributes\":{\"tools\":[{\"type\":\"object\",\"name\":\"HoverTool\",\"id\":\"p1570\",\"attributes\":{\"renderers\":[{\"type\":\"object\",\"name\":\"GlyphRenderer\",\"id\":\"p1564\",\"attributes\":{\"data_source\":{\"id\":\"p1439\"},\"view\":{\"type\":\"object\",\"name\":\"CDSView\",\"id\":\"p1565\",\"attributes\":{\"filter\":{\"type\":\"object\",\"name\":\"AllIndices\",\"id\":\"p1566\"}}},\"glyph\":{\"type\":\"object\",\"name\":\"Line\",\"id\":\"p1561\",\"attributes\":{\"x\":{\"type\":\"field\",\"field\":\"index\"},\"y\":{\"type\":\"field\",\"field\":\"SIGNAL_0_1\"},\"line_color\":\"#1f77b4\",\"line_width\":1.3}},\"nonselection_glyph\":{\"type\":\"object\",\"name\":\"Line\",\"id\":\"p1562\",\"attributes\":{\"x\":{\"type\":\"field\",\"field\":\"index\"},\"y\":{\"type\":\"field\",\"field\":\"SIGNAL_0_1\"},\"line_color\":\"#1f77b4\",\"line_alpha\":0.1,\"line_width\":1.3}},\"muted_glyph\":{\"type\":\"object\",\"name\":\"Line\",\"id\":\"p1563\",\"attributes\":{\"x\":{\"type\":\"field\",\"field\":\"index\"},\"y\":{\"type\":\"field\",\"field\":\"SIGNAL_0_1\"},\"line_color\":\"#1f77b4\",\"line_alpha\":0.2,\"line_width\":1.3}}}}],\"tooltips\":[[\"#\",\"@index\"],[\"SIGNAL\",\"@{SIGNAL_0_1}{0,0.0[0000]}\"]],\"mode\":\"vline\",\"point_policy\":\"follow_mouse\"}}]}},{\"type\":\"object\",\"name\":\"ToolProxy\",\"id\":\"p1584\",\"attributes\":{\"tools\":[{\"type\":\"object\",\"name\":\"CrosshairTool\",\"id\":\"p1573\"},{\"id\":\"p1573\"},{\"id\":\"p1573\"}]}}],\"active_drag\":{\"id\":\"p1574\"},\"active_scroll\":{\"id\":\"p1575\"}}},\"toolbar_location\":\"right\",\"children\":[[{\"type\":\"object\",\"name\":\"Figure\",\"id\":\"p1404\",\"attributes\":{\"width\":null,\"height\":400,\"sizing_mode\":\"stretch_width\",\"x_range\":{\"type\":\"object\",\"name\":\"Range1d\",\"id\":\"p1403\",\"attributes\":{\"js_property_callbacks\":{\"type\":\"map\",\"entries\":[[\"change:end\",[{\"type\":\"object\",\"name\":\"CustomJS\",\"id\":\"p1572\",\"attributes\":{\"args\":{\"type\":\"map\",\"entries\":[[\"ohlc_range\",{\"type\":\"object\",\"name\":\"DataRange1d\",\"id\":\"p1406\"}],[\"source\",{\"id\":\"p1439\"}],[\"volume_range\",{\"type\":\"object\",\"name\":\"DataRange1d\",\"id\":\"p1450\"}]]},\"code\":\"if (!window._bt_scale_range) {\\n    window._bt_scale_range = function (range, min, max, pad) {\\n        \\\"use strict\\\";\\n        if (min !== Infinity && max !== -Infinity) {\\n            pad = pad ? (max - min) * .03 : 0;\\n            range.start = min - pad;\\n            range.end = max + pad;\\n        } else console.error('backtesting: scale range error:', min, max, range);\\n    };\\n}\\n\\nclearTimeout(window._bt_autoscale_timeout);\\n\\nwindow._bt_autoscale_timeout = setTimeout(function () {\\n    /**\\n     * @variable cb_obj `fig_ohlc.x_range`.\\n     * @variable source `ColumnDataSource`\\n     * @variable ohlc_range `fig_ohlc.y_range`.\\n     * @variable volume_range `fig_volume.y_range`.\\n     */\\n    \\\"use strict\\\";\\n\\n    let i = Math.max(Math.floor(cb_obj.start), 0),\\n        j = Math.min(Math.ceil(cb_obj.end), source.data['ohlc_high'].length);\\n\\n    let max = Math.max.apply(null, source.data['ohlc_high'].slice(i, j)),\\n        min = Math.min.apply(null, source.data['ohlc_low'].slice(i, j));\\n    _bt_scale_range(ohlc_range, min, max, true);\\n\\n    if (volume_range) {\\n        max = Math.max.apply(null, source.data['Volume'].slice(i, j));\\n        _bt_scale_range(volume_range, 0, max * 1.03, false);\\n    }\\n\\n}, 50);\\n\"}}]]]},\"end\":1999,\"bounds\":[-99.95,2098.95],\"min_interval\":10}},\"y_range\":{\"id\":\"p1406\"},\"x_scale\":{\"type\":\"object\",\"name\":\"LinearScale\",\"id\":\"p1413\"},\"y_scale\":{\"type\":\"object\",\"name\":\"LinearScale\",\"id\":\"p1414\"},\"title\":{\"type\":\"object\",\"name\":\"Title\",\"id\":\"p1411\"},\"outline_line_color\":\"#666666\",\"renderers\":[{\"type\":\"object\",\"name\":\"GlyphRenderer\",\"id\":\"p1500\",\"attributes\":{\"data_source\":{\"id\":\"p1439\"},\"view\":{\"type\":\"object\",\"name\":\"CDSView\",\"id\":\"p1501\",\"attributes\":{\"filter\":{\"type\":\"object\",\"name\":\"AllIndices\",\"id\":\"p1502\"}}},\"glyph\":{\"type\":\"object\",\"name\":\"Segment\",\"id\":\"p1497\",\"attributes\":{\"x0\":{\"type\":\"field\",\"field\":\"index\"},\"y0\":{\"type\":\"field\",\"field\":\"High\"},\"x1\":{\"type\":\"field\",\"field\":\"index\"},\"y1\":{\"type\":\"field\",\"field\":\"Low\"}}},\"nonselection_glyph\":{\"type\":\"object\",\"name\":\"Segment\",\"id\":\"p1498\",\"attributes\":{\"x0\":{\"type\":\"field\",\"field\":\"index\"},\"y0\":{\"type\":\"field\",\"field\":\"High\"},\"x1\":{\"type\":\"field\",\"field\":\"index\"},\"y1\":{\"type\":\"field\",\"field\":\"Low\"},\"line_alpha\":{\"type\":\"value\",\"value\":0.1}}},\"muted_glyph\":{\"type\":\"object\",\"name\":\"Segment\",\"id\":\"p1499\",\"attributes\":{\"x0\":{\"type\":\"field\",\"field\":\"index\"},\"y0\":{\"type\":\"field\",\"field\":\"High\"},\"x1\":{\"type\":\"field\",\"field\":\"index\"},\"y1\":{\"type\":\"field\",\"field\":\"Low\"},\"line_alpha\":{\"type\":\"value\",\"value\":0.2}}}}},{\"id\":\"p1509\"},{\"type\":\"object\",\"name\":\"GlyphRenderer\",\"id\":\"p1518\",\"attributes\":{\"data_source\":{\"type\":\"object\",\"name\":\"ColumnDataSource\",\"id\":\"p1442\",\"attributes\":{\"selected\":{\"type\":\"object\",\"name\":\"Selection\",\"id\":\"p1443\",\"attributes\":{\"indices\":[],\"line_indices\":[]}},\"selection_policy\":{\"type\":\"object\",\"name\":\"UnionRenderers\",\"id\":\"p1444\"},\"data\":{\"type\":\"map\",\"entries\":[[\"index\",{\"type\":\"ndarray\",\"array\":{\"type\":\"bytes\",\"data\":\"\"},\"shape\":[0],\"dtype\":\"float64\",\"order\":\"little\"}],[\"datetime\",{\"type\":\"ndarray\",\"array\":{\"type\":\"bytes\",\"data\":\"\"},\"shape\":[0],\"dtype\":\"float64\",\"order\":\"little\"}],[\"exit_price\",{\"type\":\"ndarray\",\"array\":{\"type\":\"bytes\",\"data\":\"\"},\"shape\":[0],\"dtype\":\"float64\",\"order\":\"little\"}],[\"size\",{\"type\":\"ndarray\",\"array\":{\"type\":\"bytes\",\"data\":\"\"},\"shape\":[0],\"dtype\":\"float64\",\"order\":\"little\"}],[\"returns_positive\",{\"type\":\"ndarray\",\"array\":[],\"shape\":[0],\"dtype\":\"object\",\"order\":\"little\"}],[\"position_lines_xs\",[]],[\"position_lines_ys\",[]]]}}},\"view\":{\"type\":\"object\",\"name\":\"CDSView\",\"id\":\"p1519\",\"attributes\":{\"filter\":{\"type\":\"object\",\"name\":\"AllIndices\",\"id\":\"p1520\"}}},\"glyph\":{\"type\":\"object\",\"name\":\"MultiLine\",\"id\":\"p1515\",\"attributes\":{\"xs\":{\"type\":\"field\",\"field\":\"position_lines_xs\"},\"ys\":{\"type\":\"field\",\"field\":\"position_lines_ys\"},\"line_color\":{\"type\":\"field\",\"field\":\"returns_positive\",\"transform\":{\"type\":\"object\",\"name\":\"CategoricalColorMapper\",\"id\":\"p1447\",\"attributes\":{\"palette\":[\"rgb(178.5, 27.163043478260846, 0.0)\",\"rgb(0.0, 178.5, 0.0)\"],\"factors\":[\"0\",\"1\"]}}},\"line_width\":{\"type\":\"value\",\"value\":8},\"line_dash\":{\"type\":\"value\",\"value\":\"dotted\"}}},\"nonselection_glyph\":{\"type\":\"object\",\"name\":\"MultiLine\",\"id\":\"p1516\",\"attributes\":{\"xs\":{\"type\":\"field\",\"field\":\"position_lines_xs\"},\"ys\":{\"type\":\"field\",\"field\":\"position_lines_ys\"},\"line_color\":{\"type\":\"field\",\"field\":\"returns_positive\",\"transform\":{\"id\":\"p1447\"}},\"line_alpha\":{\"type\":\"value\",\"value\":0.1},\"line_width\":{\"type\":\"value\",\"value\":8},\"line_dash\":{\"type\":\"value\",\"value\":\"dotted\"}}},\"muted_glyph\":{\"type\":\"object\",\"name\":\"MultiLine\",\"id\":\"p1517\",\"attributes\":{\"xs\":{\"type\":\"field\",\"field\":\"position_lines_xs\"},\"ys\":{\"type\":\"field\",\"field\":\"position_lines_ys\"},\"line_color\":{\"type\":\"field\",\"field\":\"returns_positive\",\"transform\":{\"id\":\"p1447\"}},\"line_alpha\":{\"type\":\"value\",\"value\":0.2},\"line_width\":{\"type\":\"value\",\"value\":8},\"line_dash\":{\"type\":\"value\",\"value\":\"dotted\"}}}}}],\"toolbar\":{\"type\":\"object\",\"name\":\"Toolbar\",\"id\":\"p1412\",\"attributes\":{\"tools\":[{\"id\":\"p1425\"},{\"id\":\"p1426\"},{\"id\":\"p1427\"},{\"id\":\"p1435\"},{\"id\":\"p1436\"},{\"id\":\"p1437\"},{\"type\":\"object\",\"name\":\"SaveTool\",\"id\":\"p1438\"},{\"id\":\"p1571\"},{\"id\":\"p1573\"}],\"active_drag\":{\"id\":\"p1425\"},\"active_scroll\":{\"id\":\"p1426\"}}},\"toolbar_location\":null,\"left\":[{\"type\":\"object\",\"name\":\"LinearAxis\",\"id\":\"p1420\",\"attributes\":{\"ticker\":{\"type\":\"object\",\"name\":\"BasicTicker\",\"id\":\"p1421\",\"attributes\":{\"mantissas\":[1,2,5]}},\"formatter\":{\"type\":\"object\",\"name\":\"BasicTickFormatter\",\"id\":\"p1422\"},\"major_label_policy\":{\"type\":\"object\",\"name\":\"AllLabels\",\"id\":\"p1423\"}}}],\"below\":[{\"type\":\"object\",\"name\":\"LinearAxis\",\"id\":\"p1415\",\"attributes\":{\"visible\":false,\"ticker\":{\"type\":\"object\",\"name\":\"BasicTicker\",\"id\":\"p1416\",\"attributes\":{\"mantissas\":[1,2,5]}},\"formatter\":{\"type\":\"object\",\"name\":\"BasicTickFormatter\",\"id\":\"p1417\"},\"major_label_policy\":{\"type\":\"object\",\"name\":\"AllLabels\",\"id\":\"p1418\"}}}],\"center\":[{\"type\":\"object\",\"name\":\"Grid\",\"id\":\"p1419\",\"attributes\":{\"axis\":{\"id\":\"p1415\"}}},{\"type\":\"object\",\"name\":\"Grid\",\"id\":\"p1424\",\"attributes\":{\"dimension\":1,\"axis\":{\"id\":\"p1420\"}}},{\"type\":\"object\",\"name\":\"Legend\",\"id\":\"p1521\",\"attributes\":{\"location\":\"top_left\",\"border_line_color\":\"#333333\",\"click_policy\":\"hide\",\"label_text_font_size\":\"8pt\",\"margin\":0,\"padding\":5,\"spacing\":0,\"items\":[{\"type\":\"object\",\"name\":\"LegendItem\",\"id\":\"p1522\",\"attributes\":{\"label\":{\"type\":\"value\",\"value\":\"Trades (0)\"},\"renderers\":[{\"id\":\"p1518\"}]}}]}}],\"min_border_top\":3,\"min_border_bottom\":6,\"min_border_left\":0,\"min_border_right\":10}},0,0],[{\"type\":\"object\",\"name\":\"Figure\",\"id\":\"p1448\",\"attributes\":{\"width\":null,\"height\":90,\"sizing_mode\":\"stretch_width\",\"x_range\":{\"id\":\"p1403\"},\"y_range\":{\"id\":\"p1450\"},\"x_scale\":{\"type\":\"object\",\"name\":\"LinearScale\",\"id\":\"p1457\"},\"y_scale\":{\"type\":\"object\",\"name\":\"LinearScale\",\"id\":\"p1458\"},\"title\":{\"type\":\"object\",\"name\":\"Title\",\"id\":\"p1455\"},\"outline_line_color\":\"#666666\",\"renderers\":[{\"id\":\"p1489\"}],\"toolbar\":{\"type\":\"object\",\"name\":\"Toolbar\",\"id\":\"p1456\",\"attributes\":{\"tools\":[{\"id\":\"p1469\"},{\"id\":\"p1470\"},{\"id\":\"p1471\"},{\"id\":\"p1479\"},{\"id\":\"p1480\"},{\"id\":\"p1481\"},{\"type\":\"object\",\"name\":\"SaveTool\",\"id\":\"p1482\"},{\"id\":\"p1492\"},{\"id\":\"p1573\"}],\"active_drag\":{\"id\":\"p1469\"},\"active_scroll\":{\"id\":\"p1470\"}}},\"toolbar_location\":null,\"left\":[{\"type\":\"object\",\"name\":\"LinearAxis\",\"id\":\"p1464\",\"attributes\":{\"ticker\":{\"type\":\"object\",\"name\":\"BasicTicker\",\"id\":\"p1465\",\"attributes\":{\"mantissas\":[1,2,5]}},\"formatter\":{\"type\":\"object\",\"name\":\"NumeralTickFormatter\",\"id\":\"p1493\",\"attributes\":{\"format\":\"0 a\"}},\"axis_label\":\"Volume\",\"major_label_policy\":{\"type\":\"object\",\"name\":\"AllLabels\",\"id\":\"p1467\"},\"minor_tick_line_color\":null}}],\"below\":[{\"type\":\"object\",\"name\":\"LinearAxis\",\"id\":\"p1459\",\"attributes\":{\"visible\":true,\"ticker\":{\"type\":\"object\",\"name\":\"BasicTicker\",\"id\":\"p1460\",\"attributes\":{\"mantissas\":[1,2,5]}},\"formatter\":{\"id\":\"p1417\"},\"major_label_policy\":{\"type\":\"object\",\"name\":\"AllLabels\",\"id\":\"p1462\"}}}],\"center\":[{\"type\":\"object\",\"name\":\"Grid\",\"id\":\"p1463\",\"attributes\":{\"axis\":{\"id\":\"p1459\"}}},{\"type\":\"object\",\"name\":\"Grid\",\"id\":\"p1468\",\"attributes\":{\"dimension\":1,\"axis\":{\"id\":\"p1464\"}}}],\"min_border_top\":3,\"min_border_bottom\":6,\"min_border_left\":0,\"min_border_right\":10}},1,0],[{\"type\":\"object\",\"name\":\"Figure\",\"id\":\"p1523\",\"attributes\":{\"width\":null,\"height\":90,\"sizing_mode\":\"stretch_width\",\"x_range\":{\"id\":\"p1403\"},\"y_range\":{\"type\":\"object\",\"name\":\"DataRange1d\",\"id\":\"p1525\"},\"x_scale\":{\"type\":\"object\",\"name\":\"LinearScale\",\"id\":\"p1532\"},\"y_scale\":{\"type\":\"object\",\"name\":\"LinearScale\",\"id\":\"p1533\"},\"title\":{\"type\":\"object\",\"name\":\"Title\",\"id\":\"p1530\"},\"outline_line_color\":\"#666666\",\"renderers\":[{\"id\":\"p1564\"}],\"toolbar\":{\"type\":\"object\",\"name\":\"Toolbar\",\"id\":\"p1531\",\"attributes\":{\"tools\":[{\"id\":\"p1544\"},{\"id\":\"p1545\"},{\"id\":\"p1546\"},{\"id\":\"p1554\"},{\"id\":\"p1555\"},{\"id\":\"p1556\"},{\"type\":\"object\",\"name\":\"SaveTool\",\"id\":\"p1557\"},{\"id\":\"p1570\"},{\"id\":\"p1573\"}],\"active_drag\":{\"id\":\"p1544\"},\"active_scroll\":{\"id\":\"p1545\"}}},\"toolbar_location\":null,\"left\":[{\"type\":\"object\",\"name\":\"LinearAxis\",\"id\":\"p1539\",\"attributes\":{\"ticker\":{\"type\":\"object\",\"name\":\"BasicTicker\",\"id\":\"p1540\",\"attributes\":{\"mantissas\":[1,2,5]}},\"formatter\":{\"type\":\"object\",\"name\":\"BasicTickFormatter\",\"id\":\"p1541\"},\"major_label_policy\":{\"type\":\"object\",\"name\":\"AllLabels\",\"id\":\"p1542\"},\"minor_tick_line_color\":null}}],\"below\":[{\"type\":\"object\",\"name\":\"LinearAxis\",\"id\":\"p1534\",\"attributes\":{\"visible\":false,\"ticker\":{\"type\":\"object\",\"name\":\"BasicTicker\",\"id\":\"p1535\",\"attributes\":{\"mantissas\":[1,2,5]}},\"formatter\":{\"type\":\"object\",\"name\":\"BasicTickFormatter\",\"id\":\"p1536\"},\"major_label_policy\":{\"type\":\"object\",\"name\":\"AllLabels\",\"id\":\"p1537\"}}}],\"center\":[{\"type\":\"object\",\"name\":\"Grid\",\"id\":\"p1538\",\"attributes\":{\"axis\":{\"id\":\"p1534\"}}},{\"type\":\"object\",\"name\":\"Grid\",\"id\":\"p1543\",\"attributes\":{\"dimension\":1,\"axis\":{\"id\":\"p1539\"}}},{\"type\":\"object\",\"name\":\"Legend\",\"id\":\"p1567\",\"attributes\":{\"location\":\"top_left\",\"border_line_color\":\"#333333\",\"click_policy\":\"hide\",\"label_text_font_size\":\"8pt\",\"glyph_width\":0,\"margin\":0,\"padding\":5,\"spacing\":0,\"items\":[{\"type\":\"object\",\"name\":\"LegendItem\",\"id\":\"p1568\",\"attributes\":{\"label\":{\"type\":\"value\",\"value\":\"SIGNAL\"},\"renderers\":[{\"id\":\"p1564\"}]}}]}},{\"type\":\"object\",\"name\":\"Span\",\"id\":\"p1569\",\"attributes\":{\"location\":0.0,\"line_color\":\"#666666\",\"line_width\":0.5,\"line_dash\":[6]}}],\"min_border_top\":3,\"min_border_bottom\":6,\"min_border_left\":0,\"min_border_right\":10}},2,0]]}}]}};\n",
       "  const render_items = [{\"docid\":\"536d935c-02bf-4b87-a104-e24207af68e2\",\"roots\":{\"p1586\":\"f1fa6451-4af4-433b-8a2d-b96a6b0a8186\"},\"root_ids\":[\"p1586\"]}];\n",
       "  void root.Bokeh.embed.embed_items_notebook(docs_json, render_items);\n",
       "  }\n",
       "  if (root.Bokeh !== undefined) {\n",
       "    embed_document(root);\n",
       "  } else {\n",
       "    let attempts = 0;\n",
       "    const timer = setInterval(function(root) {\n",
       "      if (root.Bokeh !== undefined) {\n",
       "        clearInterval(timer);\n",
       "        embed_document(root);\n",
       "      } else {\n",
       "        attempts++;\n",
       "        if (attempts > 100) {\n",
       "          clearInterval(timer);\n",
       "          console.log(\"Bokeh: ERROR: Unable to run BokehJS code because BokehJS library is missing\");\n",
       "        }\n",
       "      }\n",
       "    }, 10, root)\n",
       "  }\n",
       "})(window);"
      ],
      "application/vnd.bokehjs_exec.v0+json": ""
     },
     "metadata": {
      "application/vnd.bokehjs_exec.v0+json": {
       "id": "p1586"
      }
     },
     "output_type": "display_data"
    },
    {
     "data": {
      "text/html": [
       "<div style=\"display: table;\"><div style=\"display: table-row;\"><div style=\"display: table-cell;\"><b title=\"bokeh.models.plots.GridPlot\">GridPlot</b>(</div><div style=\"display: table-cell;\">id&nbsp;=&nbsp;'p1586', <span id=\"p1603\" style=\"cursor: pointer;\">&hellip;)</span></div></div><div class=\"p1602\" style=\"display: none;\"><div style=\"display: table-cell;\"></div><div style=\"display: table-cell;\">align&nbsp;=&nbsp;'auto',</div></div><div class=\"p1602\" style=\"display: none;\"><div style=\"display: table-cell;\"></div><div style=\"display: table-cell;\">aspect_ratio&nbsp;=&nbsp;None,</div></div><div class=\"p1602\" style=\"display: none;\"><div style=\"display: table-cell;\"></div><div style=\"display: table-cell;\">children&nbsp;=&nbsp;[(figure(id='p1404', ...), 0, 0), (figure(id='p1448', ...), 1, 0), (figure(id='p1523', ...), 2, 0)],</div></div><div class=\"p1602\" style=\"display: none;\"><div style=\"display: table-cell;\"></div><div style=\"display: table-cell;\">cols&nbsp;=&nbsp;None,</div></div><div class=\"p1602\" style=\"display: none;\"><div style=\"display: table-cell;\"></div><div style=\"display: table-cell;\">context_menu&nbsp;=&nbsp;None,</div></div><div class=\"p1602\" style=\"display: none;\"><div style=\"display: table-cell;\"></div><div style=\"display: table-cell;\">css_classes&nbsp;=&nbsp;[],</div></div><div class=\"p1602\" style=\"display: none;\"><div style=\"display: table-cell;\"></div><div style=\"display: table-cell;\">css_variables&nbsp;=&nbsp;{},</div></div><div class=\"p1602\" style=\"display: none;\"><div style=\"display: table-cell;\"></div><div style=\"display: table-cell;\">disabled&nbsp;=&nbsp;False,</div></div><div class=\"p1602\" style=\"display: none;\"><div style=\"display: table-cell;\"></div><div style=\"display: table-cell;\">elements&nbsp;=&nbsp;[],</div></div><div class=\"p1602\" style=\"display: none;\"><div style=\"display: table-cell;\"></div><div style=\"display: table-cell;\">flow_mode&nbsp;=&nbsp;'block',</div></div><div class=\"p1602\" style=\"display: none;\"><div style=\"display: table-cell;\"></div><div style=\"display: table-cell;\">height&nbsp;=&nbsp;None,</div></div><div class=\"p1602\" style=\"display: none;\"><div style=\"display: table-cell;\"></div><div style=\"display: table-cell;\">height_policy&nbsp;=&nbsp;'auto',</div></div><div class=\"p1602\" style=\"display: none;\"><div style=\"display: table-cell;\"></div><div style=\"display: table-cell;\">js_event_callbacks&nbsp;=&nbsp;{},</div></div><div class=\"p1602\" style=\"display: none;\"><div style=\"display: table-cell;\"></div><div style=\"display: table-cell;\">js_property_callbacks&nbsp;=&nbsp;{},</div></div><div class=\"p1602\" style=\"display: none;\"><div style=\"display: table-cell;\"></div><div style=\"display: table-cell;\">margin&nbsp;=&nbsp;None,</div></div><div class=\"p1602\" style=\"display: none;\"><div style=\"display: table-cell;\"></div><div style=\"display: table-cell;\">max_height&nbsp;=&nbsp;None,</div></div><div class=\"p1602\" style=\"display: none;\"><div style=\"display: table-cell;\"></div><div style=\"display: table-cell;\">max_width&nbsp;=&nbsp;None,</div></div><div class=\"p1602\" style=\"display: none;\"><div style=\"display: table-cell;\"></div><div style=\"display: table-cell;\">min_height&nbsp;=&nbsp;None,</div></div><div class=\"p1602\" style=\"display: none;\"><div style=\"display: table-cell;\"></div><div style=\"display: table-cell;\">min_width&nbsp;=&nbsp;None,</div></div><div class=\"p1602\" style=\"display: none;\"><div style=\"display: table-cell;\"></div><div style=\"display: table-cell;\">name&nbsp;=&nbsp;None,</div></div><div class=\"p1602\" style=\"display: none;\"><div style=\"display: table-cell;\"></div><div style=\"display: table-cell;\">resizable&nbsp;=&nbsp;False,</div></div><div class=\"p1602\" style=\"display: none;\"><div style=\"display: table-cell;\"></div><div style=\"display: table-cell;\">rows&nbsp;=&nbsp;None,</div></div><div class=\"p1602\" style=\"display: none;\"><div style=\"display: table-cell;\"></div><div style=\"display: table-cell;\">sizing_mode&nbsp;=&nbsp;'stretch_width',</div></div><div class=\"p1602\" style=\"display: none;\"><div style=\"display: table-cell;\"></div><div style=\"display: table-cell;\">spacing&nbsp;=&nbsp;0,</div></div><div class=\"p1602\" style=\"display: none;\"><div style=\"display: table-cell;\"></div><div style=\"display: table-cell;\">styles&nbsp;=&nbsp;{},</div></div><div class=\"p1602\" style=\"display: none;\"><div style=\"display: table-cell;\"></div><div style=\"display: table-cell;\">stylesheets&nbsp;=&nbsp;[],</div></div><div class=\"p1602\" style=\"display: none;\"><div style=\"display: table-cell;\"></div><div style=\"display: table-cell;\">subscribed_events&nbsp;=&nbsp;PropertyValueSet(),</div></div><div class=\"p1602\" style=\"display: none;\"><div style=\"display: table-cell;\"></div><div style=\"display: table-cell;\">syncable&nbsp;=&nbsp;True,</div></div><div class=\"p1602\" style=\"display: none;\"><div style=\"display: table-cell;\"></div><div style=\"display: table-cell;\">tags&nbsp;=&nbsp;[],</div></div><div class=\"p1602\" style=\"display: none;\"><div style=\"display: table-cell;\"></div><div style=\"display: table-cell;\">toolbar&nbsp;=&nbsp;Toolbar(id='p1585', ...),</div></div><div class=\"p1602\" style=\"display: none;\"><div style=\"display: table-cell;\"></div><div style=\"display: table-cell;\">toolbar_location&nbsp;=&nbsp;'right',</div></div><div class=\"p1602\" style=\"display: none;\"><div style=\"display: table-cell;\"></div><div style=\"display: table-cell;\">visible&nbsp;=&nbsp;True,</div></div><div class=\"p1602\" style=\"display: none;\"><div style=\"display: table-cell;\"></div><div style=\"display: table-cell;\">width&nbsp;=&nbsp;None,</div></div><div class=\"p1602\" style=\"display: none;\"><div style=\"display: table-cell;\"></div><div style=\"display: table-cell;\">width_policy&nbsp;=&nbsp;'auto')</div></div></div>\n",
       "<script>\n",
       "(function() {\n",
       "  let expanded = false;\n",
       "  const ellipsis = document.getElementById(\"p1603\");\n",
       "  ellipsis.addEventListener(\"click\", function() {\n",
       "    const rows = document.getElementsByClassName(\"p1602\");\n",
       "    for (let i = 0; i < rows.length; i++) {\n",
       "      const el = rows[i];\n",
       "      el.style.display = expanded ? \"none\" : \"table-row\";\n",
       "    }\n",
       "    ellipsis.innerHTML = expanded ? \"&hellip;)\" : \"&lsaquo;&lsaquo;&lsaquo;\";\n",
       "    expanded = !expanded;\n",
       "  });\n",
       "})();\n",
       "</script>\n"
      ],
      "text/plain": [
       "GridPlot(id='p1586', ...)"
      ]
     },
     "execution_count": 54,
     "metadata": {},
     "output_type": "execute_result"
    }
   ],
   "source": [
    "bt.plot()"
   ]
  },
  {
   "cell_type": "code",
   "execution_count": null,
   "metadata": {
    "id": "CYMvkHLgShnF"
   },
   "outputs": [],
   "source": []
  }
 ],
 "metadata": {
  "colab": {
   "provenance": []
  },
  "kernelspec": {
   "display_name": "Python 3 (ipykernel)",
   "language": "python",
   "name": "python3"
  },
  "language_info": {
   "codemirror_mode": {
    "name": "ipython",
    "version": 3
   },
   "file_extension": ".py",
   "mimetype": "text/x-python",
   "name": "python",
   "nbconvert_exporter": "python",
   "pygments_lexer": "ipython3",
   "version": "3.11.4"
  }
 },
 "nbformat": 4,
 "nbformat_minor": 4
}
