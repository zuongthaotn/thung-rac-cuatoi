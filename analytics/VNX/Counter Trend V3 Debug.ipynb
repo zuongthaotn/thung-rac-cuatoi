{
 "cells": [
  {
   "cell_type": "code",
   "execution_count": 1,
   "metadata": {},
   "outputs": [],
   "source": [
    "import warnings\n",
    "warnings.filterwarnings('ignore')\n",
    "\n",
    "import os\n",
    "import sys\n",
    "import numpy as np\n",
    "import platform\n",
    "METHOD_MODULE_PATH = os.path.abspath('..')\n",
    "sys.path.insert(1, METHOD_MODULE_PATH)\n",
    "import method.algofuncs as _af\n",
    "\n",
    "path = os.getcwd()"
   ]
  },
  {
   "cell_type": "code",
   "execution_count": 2,
   "metadata": {},
   "outputs": [],
   "source": [
    "ticker_id = 'VND'\n",
    "DATA_PATH = os.path.abspath('../vn-stock-data/VNX/')\n",
    "ticker_data = _af.get_pricing_by_path(DATA_PATH + '/' + ticker_id + '.csv', '2020-01-01')"
   ]
  },
  {
   "cell_type": "code",
   "execution_count": 5,
   "metadata": {},
   "outputs": [
    {
     "name": "stdout",
     "output_type": "stream",
     "text": [
      "Ticker: VND\n",
      "Max 66 days: 31.4\n",
      "Min 66 days: 14.5\n",
      "Volitility 66 days: 1.1655\n",
      "Filter volitility 66 days(20%-40%): False\n",
      "------------------------------------------------------------------------\n",
      "Max 22 days: 31.4\n",
      "Min 22 days: 19.2\n",
      "Volitility 22 days: 0.6354\n",
      "Filter volitility 22 days(10%-20%): False\n",
      "------------------------------------------------------------------------\n",
      "Filter average volume 5 days: Pass\n",
      "Max 5 days: 31.4\n",
      "Min 5 days: 29.4\n",
      "Volitility 5 days: 0.068\n",
      "Filter volitility 5 days(7%-15%): False\n",
      "Last low price: 29.4\n",
      "Max 5 high price: 31.4\n",
      "------------------------------------------------------------------------\n",
      "Validate last low price: Pass\n",
      "Expected Price = 30.282\n"
     ]
    }
   ],
   "source": [
    "last66 = ticker_data.tail(66)\n",
    "ticker_data66 = last66.copy()\n",
    "min66ByLow = ticker_data66[ticker_data66.Low == ticker_data66.Low.min()]\n",
    "minLow66 = min66ByLow.Low.values[0]\n",
    "max66ByHigh = ticker_data66[ticker_data66.High == ticker_data66.High.max()]\n",
    "maxHigh66 = max66ByHigh.High.values[0]\n",
    "diffHL66 = (maxHigh66 - minLow66)\n",
    "diffHL66_p = round((diffHL66 / minLow66), 4)\n",
    "print(\"Ticker: \"+ticker_id)\n",
    "print(\"Max 66 days: \"+str(maxHigh66))\n",
    "print(\"Min 66 days: \"+str(minLow66))\n",
    "print(\"Volitility 66 days: \"+str(diffHL66_p))\n",
    "if diffHL66_p > 0.41 or diffHL66_p < 0.2:\n",
    "    print(\"Filter volitility 66 days(20%-40%): False\")\n",
    "else:\n",
    "    print(\"Filter volitility 66 days(20%-40%): Pass\")\n",
    "print(\"------------------------------------------------------------------------\")\n",
    "last22 = ticker_data66.tail(22)\n",
    "ticker_data22 = last22.copy()\n",
    "min22ByLow = ticker_data22[ticker_data22.Low == ticker_data22.Low.min()]\n",
    "minLow22 = min22ByLow.Low.values[0]\n",
    "max22ByHigh = ticker_data22[ticker_data22.High == ticker_data22.High.max()]\n",
    "maxHigh22 = max22ByHigh.High.values[0]\n",
    "diffHL22 = maxHigh22 - minLow22\n",
    "diffHL22_p = round((diffHL22 / minLow22), 4)\n",
    "print(\"Max 22 days: \"+str(maxHigh22))\n",
    "print(\"Min 22 days: \"+str(minLow22))\n",
    "print(\"Volitility 22 days: \"+str(diffHL22_p))\n",
    "if diffHL22_p > 0.21 or diffHL22_p < 0.1:\n",
    "    print(\"Filter volitility 22 days(10%-20%): False\")\n",
    "else:\n",
    "    print(\"Filter volitility 2 days(10%-20%): Pass\")\n",
    "print(\"------------------------------------------------------------------------\")\n",
    "last5 = ticker_data22.tail(5)\n",
    "ticker_data5 = last5.copy()\n",
    "if ticker_data5.Volume.rolling(window=5).mean().iloc[-1] < 500000:\n",
    "    print(\"Filter average volume 5 days: False\")\n",
    "else:\n",
    "    print(\"Filter average volume 5 days: Pass\")\n",
    "min5ByLow = ticker_data5[ticker_data5.Low == ticker_data5.Low.min()]\n",
    "minLow5 = min5ByLow.Low.values[0]\n",
    "max5ByHigh = ticker_data5[ticker_data5.High == ticker_data5.High.max()]\n",
    "maxHigh5 = max5ByHigh.High.values[0]\n",
    "diffHL5 = maxHigh5 - minLow5\n",
    "diffHL5_p = round((diffHL5 / minLow5), 4)\n",
    "print(\"Max 5 days: \"+str(maxHigh5))\n",
    "print(\"Min 5 days: \"+str(minLow5))\n",
    "print(\"Volitility 5 days: \"+str(diffHL5_p))\n",
    "if diffHL5_p > 0.15 or diffHL5_p < 0.07:\n",
    "    print(\"Filter volitility 5 days(7%-15%): False\")\n",
    "else:\n",
    "    print(\"Filter volitility 5 days(7%-15%): Pass\")\n",
    "print(\"Last low price: \" + str(ticker_data5.Low.values[-1]))\n",
    "print(\"Max 5 high price: \" + str(maxHigh5))\n",
    "print(\"------------------------------------------------------------------------\")\n",
    "if maxHigh5 < ticker_data5.Low.values[-1] * 1.05 or ticker_data5.Low.values[-1] < 5:\n",
    "    print(\"Validate last low price: False\")\n",
    "else:\n",
    "    print(\"Validate last low price: Pass\")\n",
    "expected_prices = np.array([minLow5, minLow5 * 1.03, minLow22, minLow22 * 1.03, minLow66, minLow66 * 1.03])\n",
    "print(\"Expected Price = \" + str(expected_prices.max()))"
   ]
  },
  {
   "cell_type": "code",
   "execution_count": null,
   "metadata": {},
   "outputs": [],
   "source": []
  },
  {
   "cell_type": "code",
   "execution_count": null,
   "metadata": {},
   "outputs": [],
   "source": []
  }
 ],
 "metadata": {
  "kernelspec": {
   "display_name": "Python 3",
   "language": "python",
   "name": "python3"
  },
  "language_info": {
   "codemirror_mode": {
    "name": "ipython",
    "version": 3
   },
   "file_extension": ".py",
   "mimetype": "text/x-python",
   "name": "python",
   "nbconvert_exporter": "python",
   "pygments_lexer": "ipython3",
   "version": "3.8.3"
  }
 },
 "nbformat": 4,
 "nbformat_minor": 4
}
