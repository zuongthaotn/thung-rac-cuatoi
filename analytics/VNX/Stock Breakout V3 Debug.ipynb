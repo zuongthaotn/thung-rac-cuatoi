{
 "cells": [
  {
   "cell_type": "code",
   "execution_count": 1,
   "metadata": {},
   "outputs": [],
   "source": [
    "import warnings\n",
    "warnings.filterwarnings('ignore')\n",
    "\n",
    "import os\n",
    "import sys\n",
    "import numpy as np\n",
    "import platform\n",
    "METHOD_MODULE_PATH = os.path.abspath('..')\n",
    "sys.path.insert(1, METHOD_MODULE_PATH)\n",
    "import method.algofuncs as _af\n",
    "\n",
    "path = os.getcwd()\n"
   ]
  },
  {
   "cell_type": "code",
   "execution_count": 14,
   "metadata": {},
   "outputs": [],
   "source": [
    "ticker_id = 'DAG'\n",
    "DATA_PATH = os.path.abspath('../vn-stock-data/VNX/')\n",
    "ticker_data = _af.get_pricing_by_path(DATA_PATH + '/' + ticker_id + '.csv', '2020-09-01', '2020-11-18')"
   ]
  },
  {
   "cell_type": "code",
   "execution_count": 17,
   "metadata": {},
   "outputs": [
    {
     "data": {
      "text/plain": [
       "Date\n",
       "2020-09-01         NaN\n",
       "2020-09-03         NaN\n",
       "2020-09-04         NaN\n",
       "2020-09-07         NaN\n",
       "2020-09-08         NaN\n",
       "2020-09-09         NaN\n",
       "2020-09-10         NaN\n",
       "2020-09-11         NaN\n",
       "2020-09-14         NaN\n",
       "2020-09-15         NaN\n",
       "2020-09-16         NaN\n",
       "2020-09-17         NaN\n",
       "2020-09-18         NaN\n",
       "2020-09-21         NaN\n",
       "2020-09-22         NaN\n",
       "2020-09-23         NaN\n",
       "2020-09-24         NaN\n",
       "2020-09-25         NaN\n",
       "2020-09-28         NaN\n",
       "2020-09-29         NaN\n",
       "2020-09-30         NaN\n",
       "2020-10-01   -0.027260\n",
       "2020-10-02   -0.046809\n",
       "2020-10-05   -0.049226\n",
       "2020-10-06   -0.016949\n",
       "2020-10-07   -0.018362\n",
       "2020-10-08   -0.021277\n",
       "2020-10-09   -0.050279\n",
       "2020-10-12   -0.047955\n",
       "2020-10-13   -0.055944\n",
       "2020-10-14   -0.059889\n",
       "2020-10-15   -0.064246\n",
       "2020-10-16   -0.058989\n",
       "2020-10-19   -0.055085\n",
       "2020-10-20   -0.038516\n",
       "2020-10-21   -0.039829\n",
       "2020-10-22   -0.038571\n",
       "2020-10-23   -0.030347\n",
       "2020-10-26   -0.026201\n",
       "2020-10-27   -0.017778\n",
       "2020-10-28   -0.026866\n",
       "2020-10-29   -0.025373\n",
       "2020-10-30   -0.035398\n",
       "2020-11-02   -0.019345\n",
       "2020-11-03   -0.032544\n",
       "2020-11-04   -0.051724\n",
       "2020-11-05   -0.056115\n",
       "2020-11-06   -0.044928\n",
       "2020-11-09   -0.032353\n",
       "2020-11-10   -0.025185\n",
       "2020-11-11   -0.029630\n",
       "2020-11-12   -0.032593\n",
       "2020-11-13   -0.029851\n",
       "2020-11-16   -0.034328\n",
       "2020-11-17   -0.032885\n",
       "2020-11-18   -0.032641\n",
       "Name: Close, dtype: float64"
      ]
     },
     "execution_count": 17,
     "metadata": {},
     "output_type": "execute_result"
    }
   ],
   "source": [
    "price = ticker_data.Close\n",
    "price_1w = price.shift(5)\n",
    "price_2w = price.shift(10)\n",
    "price_3w = price.shift(15)\n",
    "price_1m = price.shift(21)\n",
    "\n",
    "momen_1w = (price-price_1w)/price_1w\n",
    "momen_2w = (price-price_2w)/price_2w\n",
    "momen_3w = (price-price_3w)/price_3w\n",
    "momen_1m = (price-price_1m)/price_1m\n",
    "price_1w\n",
    "momen_1w"
   ]
  },
  {
   "cell_type": "code",
   "execution_count": null,
   "metadata": {},
   "outputs": [],
   "source": []
  }
 ],
 "metadata": {
  "kernelspec": {
   "display_name": "Python 3",
   "language": "python",
   "name": "python3"
  },
  "language_info": {
   "codemirror_mode": {
    "name": "ipython",
    "version": 3
   },
   "file_extension": ".py",
   "mimetype": "text/x-python",
   "name": "python",
   "nbconvert_exporter": "python",
   "pygments_lexer": "ipython3",
   "version": "3.8.3"
  }
 },
 "nbformat": 4,
 "nbformat_minor": 4
}
